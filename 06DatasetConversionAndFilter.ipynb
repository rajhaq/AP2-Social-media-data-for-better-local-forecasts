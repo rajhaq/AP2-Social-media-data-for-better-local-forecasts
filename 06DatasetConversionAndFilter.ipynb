{
 "cells": [
  {
   "cell_type": "markdown",
   "metadata": {},
   "source": [
    "# ERA5 Dataset Conversion and Filtering\n",
    "## Overview\n",
    "This Jupyter Notebook is dedicated to processing the ERA5 dataset, specifically converting it from its native xarray format into a more universally accessible CSV format. ERA5 provides a wealth of climate data, and this notebook aims to streamline the handling of this information for various analytical purposes.\n",
    "\n"
   ]
  },
  {
   "cell_type": "code",
   "execution_count": null,
   "metadata": {},
   "outputs": [],
   "source": [
    "# checking if data set exist or not\n",
    "!ls /p/project/deepacf/maelstrom/haque1/dataset/tweets_2017_era5_normed_filtered.nc"
   ]
  },
  {
   "cell_type": "code",
   "execution_count": null,
   "metadata": {},
   "outputs": [],
   "source": [
    "import xarray\n",
    "import pandas as pd"
   ]
  },
  {
   "cell_type": "code",
   "execution_count": null,
   "metadata": {},
   "outputs": [],
   "source": [
    "file_path = \"/p/project/deepacf/maelstrom/haque1/dataset/tweets_2017_era5_normed_filtered.nc\"\n",
    "ds_tweets = xarray.load_dataset(file_path)"
   ]
  },
  {
   "cell_type": "code",
   "execution_count": null,
   "metadata": {},
   "outputs": [],
   "source": [
    "# Filter the DataFrame for entries in the months of January, February, and March\n",
    "filtered_data = ds_tweets.where(ds_tweets[\"created_at_h\"].dt.month.isin([1, 2, 3]), drop=True)"
   ]
  },
  {
   "cell_type": "code",
   "execution_count": null,
   "metadata": {},
   "outputs": [],
   "source": [
    "# Convert the entire dataset to a DataFrame\n",
    "df = filtered_data.to_dataframe()\n",
    "# Filter out rows where 'text_normalized' column contains 'snow' or 'snowing'\n",
    "df_filtered = df[~df[\"text_normalized\"].str.contains(\"snow|snowing\", case=False, na=False)]"
   ]
  },
  {
   "cell_type": "code",
   "execution_count": null,
   "metadata": {},
   "outputs": [],
   "source": [
    "# reading file and counting data\n",
    "df = pd.read_csv(csv_output_path)\n",
    "df[\"text_normalized\"].size"
   ]
  }
 ],
 "metadata": {
  "language_info": {
   "name": "python"
  }
 },
 "nbformat": 4,
 "nbformat_minor": 2
}
