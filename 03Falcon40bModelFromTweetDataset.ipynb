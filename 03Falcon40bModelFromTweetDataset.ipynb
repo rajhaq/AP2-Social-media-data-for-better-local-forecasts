{
 "cells": [
  {
   "cell_type": "code",
   "execution_count": 1,
   "id": "3189d620-3fe8-42c1-a075-87dc583e796d",
   "metadata": {
    "tags": []
   },
   "outputs": [],
   "source": [
    "# Import necessary libraries\n",
    "from transformers import AutoTokenizer, AutoModelForCausalLM, pipeline, BitsAndBytesConfig\n",
    "import torch"
   ]
  },
  {
   "cell_type": "code",
   "execution_count": 2,
   "id": "cbc47c7c-242c-4184-9fa3-3ed6773eb3f7",
   "metadata": {
    "tags": []
   },
   "outputs": [],
   "source": [
    "model_path = \"/p/project/deepacf/maelstrom/ehlert1/models/falcon-40b\""
   ]
  },
  {
   "cell_type": "code",
   "execution_count": 3,
   "id": "a6689659-c217-4883-9983-b493527c5f81",
   "metadata": {
    "tags": []
   },
   "outputs": [
    {
     "data": {
      "application/vnd.jupyter.widget-view+json": {
       "model_id": "37ca5e08d4124211b29b92c25e3fca71",
       "version_major": 2,
       "version_minor": 0
      },
      "text/plain": [
       "Loading checkpoint shards:   0%|          | 0/9 [00:00<?, ?it/s]"
      ]
     },
     "metadata": {},
     "output_type": "display_data"
    }
   ],
   "source": [
    "bnb_config = BitsAndBytesConfig(\n",
    "    load_in_4bit=True, bnb_4bit_use_double_quant=True, bnb_4bit_quant_type=\"nf4\", bnb_4bit_compute_dtype=torch.bfloat16\n",
    ")\n",
    "\n",
    "model = AutoModelForCausalLM.from_pretrained(\n",
    "    model_path, device_map=\"auto\", trust_remote_code=False, quantization_config=bnb_config\n",
    ")\n",
    "\n",
    "tokenizer = AutoTokenizer.from_pretrained(model_path)\n",
    "tokenizer.pad_token = tokenizer.eos_token"
   ]
  },
  {
   "cell_type": "code",
   "execution_count": 4,
   "id": "84f70424-8037-4cdc-83c9-d4a50910b31b",
   "metadata": {
    "tags": []
   },
   "outputs": [],
   "source": [
    "def tokenize_prompt(prompt):\n",
    "    return tokenizer.encode(prompt, return_tensors=\"pt\").cuda()"
   ]
  },
  {
   "cell_type": "code",
   "execution_count": 5,
   "id": "ab3f628f-1028-4d94-8ee3-870149c82455",
   "metadata": {
    "tags": []
   },
   "outputs": [],
   "source": [
    "# Create a pipeline for text generation\n",
    "text_generation_pipeline = pipeline(\n",
    "    \"text-generation\",\n",
    "    model=model,\n",
    "    tokenizer=tokenizer,\n",
    "    torch_dtype=torch.bfloat16,\n",
    "    trust_remote_code=True,\n",
    "    device_map=\"auto\",\n",
    ")"
   ]
  },
  {
   "cell_type": "markdown",
   "id": "26f2fdff-fd81-43c4-a384-8090c0518de0",
   "metadata": {},
   "source": [
    "# Tweets in CSV file\n",
    "skip this if you have run that once"
   ]
  },
  {
   "cell_type": "code",
   "execution_count": 2,
   "id": "b36168e6-c0d0-4041-87d5-d7074c2b7fbf",
   "metadata": {
    "tags": []
   },
   "outputs": [],
   "source": [
    "import a2.utils\n",
    "\n",
    "import a2.training.training_hugging\n",
    "import a2.training.evaluate_hugging\n",
    "import a2.training.dataset_hugging\n",
    "import a2.plotting.analysis\n",
    "import a2.plotting.histograms\n",
    "import a2.dataset\n",
    "import numpy as np"
   ]
  },
  {
   "cell_type": "code",
   "execution_count": 3,
   "id": "3d282f5a-c390-4872-af7c-72893ac1be43",
   "metadata": {
    "tags": []
   },
   "outputs": [],
   "source": [
    "FOLDER_DATA = \"/p/project/deepacf/maelstrom/haque1/dataset/\"\n",
    "FILE_TWEETS = FOLDER_DATA + \"tweets_2017_01_era5_normed_filtered.nc\""
   ]
  },
  {
   "cell_type": "code",
   "execution_count": 4,
   "id": "115a6f91-eaf5-4407-ac69-d57d7b11abf3",
   "metadata": {
    "tags": []
   },
   "outputs": [],
   "source": [
    "ds = a2.dataset.load_dataset.load_tweets_dataset(FILE_TWEETS)"
   ]
  },
  {
   "cell_type": "code",
   "execution_count": 27,
   "id": "18fa2165-4656-4a3b-8cc5-584acfcebe75",
   "metadata": {
    "tags": []
   },
   "outputs": [],
   "source": [
    "ds[\"relevance_hand\"] = ([\"index\"], np.ones_like(ds.index.values))\n",
    "ds[[\"text\", \"raining\", \"raining_station\", \"relevance_hand\"]].to_pandas().to_csv(\n",
    "    \"tweets_2017_01_era5_normed_filtered.csv\"\n",
    ")"
   ]
  },
  {
   "cell_type": "code",
   "execution_count": 9,
   "id": "f9130e84-cde4-48cd-a4a3-77c846da6e88",
   "metadata": {
    "tags": []
   },
   "outputs": [],
   "source": [
    "f = open(\"tweets_2017_01_era5_normed_filtered.csv\", \"r\")\n",
    "file = f.read()"
   ]
  },
  {
   "cell_type": "markdown",
   "id": "3aa77e83-01dd-49bb-a979-7af35b139a53",
   "metadata": {},
   "source": [
    "# Running model with different tweet numbers to check if this makes any effect with time efficiency "
   ]
  },
  {
   "cell_type": "code",
   "execution_count": 9,
   "id": "66986463-0f30-40d3-a08f-0f7754c66baf",
   "metadata": {
    "tags": []
   },
   "outputs": [],
   "source": [
    "import pandas as pd\n",
    "import time\n",
    "import matplotlib.pyplot as plt"
   ]
  },
  {
   "cell_type": "code",
   "execution_count": 10,
   "id": "f8aef582-206b-4c85-bc9b-0cbf1147dbae",
   "metadata": {
    "tags": []
   },
   "outputs": [],
   "source": [
    "# Define a function to generate Fibonacci numbers\n",
    "def fibonacci(n):\n",
    "    fib_nums = [0, 1]\n",
    "    while fib_nums[-1] < n:\n",
    "        fib_nums.append(fib_nums[-1] + fib_nums[-2])\n",
    "    return fib_nums[1:-1]\n",
    "\n",
    "# Read CSV data\n",
    "df = pd.read_csv(\"tweets_2017_01_era5_normed_filtered.csv\")\n",
    "\n",
    "# Placeholder function for model.generate\n",
    "def generate(input_ids, temperature, max_length):\n",
    "    sample_outputs = model.generate(\n",
    "        input_ids,\n",
    "        temperature=0.7,\n",
    "        # do_sample=True,\n",
    "        max_length=max_length,\n",
    "        # top_k=50,\n",
    "        # top_p=0.95,\n",
    "        # num_return_sequences=3\n",
    "    )\n",
    "    return sample_outputs\n"
   ]
  },
  {
   "cell_type": "code",
   "execution_count": 11,
   "id": "9aac7f99-0be6-4681-82fb-c17dee4d5059",
   "metadata": {
    "tags": []
   },
   "outputs": [],
   "source": [
    "def print_predictions(seq, prompt, tokenizer):\n",
    "    \"\"\"\n",
    "    Prints the prompt and predictions for each sequence in the generated output.\n",
    "\n",
    "    Args:\n",
    "    sequence (list): A list of generated sequences from the model.\n",
    "    prompt (str): The original prompt used for generation.\n",
    "    tokenizer: The tokenizer used for decoding the sequences.\n",
    "    \"\"\"\n",
    "    for i, sample_output in enumerate(seq):\n",
    "        prediction = tokenizer.decode(sample_output, skip_special_tokens=True)\n",
    "        print(f\"Prompt:\\n{prompt}\")\n",
    "        print(\"---------\")\n",
    "        print(f\"Prediction {i+1}:\\n{prediction}\\n\")\n",
    "\n",
    "# Example usage\n",
    "# Assuming 'sequence' is your list of generated outputs and 'tokenizer' is your decoding tokenizer\n",
    "# print_predictions(sequence, prompt, tokenizer)\n"
   ]
  },
  {
   "cell_type": "code",
   "execution_count": 35,
   "id": "52bdcfc0-1dca-427d-a488-47957b08fb65",
   "metadata": {
    "tags": []
   },
   "outputs": [
    {
     "name": "stderr",
     "output_type": "stream",
     "text": [
      "The attention mask and the pad token id were not set. As a consequence, you may observe unexpected behavior. Please pass your input's `attention_mask` to obtain reliable results.\n",
      "Setting `pad_token_id` to `eos_token_id`:11 for open-end generation.\n",
      "The attention mask and the pad token id were not set. As a consequence, you may observe unexpected behavior. Please pass your input's `attention_mask` to obtain reliable results.\n",
      "Setting `pad_token_id` to `eos_token_id`:11 for open-end generation.\n"
     ]
    }
   ],
   "source": [
    "# Record time for each Fibonacci number of rows\n",
    "times = []\n",
    "start_times = []\n",
    "end_times = []\n",
    "tweet_counts = []\n",
    "results = ''\n",
    "fib_numbers = fibonacci(len(df))\n",
    "for fib_num in fib_numbers:\n",
    "    if fib_num > 1:  # Limit to 1000 rows\n",
    "        break\n",
    "    # if fib_num < 500:  # Limit to 1000 rows\n",
    "    #     continue \n",
    "    \n",
    "\n",
    "    # Prepare the prompt with the selected number of tweets\n",
    "    \n",
    "    # Adjusted code to format the prompt as per the example\n",
    "    prompt = \"\"\"\n",
    "    Read below Tweets and tell me if they say that it is raining or sunny. It should be rainy or sunny now.\n",
    "\n",
    "    Tweets:\n",
    "    \"\"\"\n",
    "\n",
    "    for i, row in df.iloc[:fib_num].iterrows():\n",
    "        prompt += f\"\"\"Tweet {i+1}: \"{row['text']}\"\n",
    "    \"\"\"\n",
    "\n",
    "\n",
    "\n",
    "\n",
    "    input_ids = tokenize_prompt(prompt)\n",
    "    \n",
    "    # Record the start time\n",
    "    start_time = time.time()\n",
    "\n",
    "    # Generate the sequence\n",
    "    # sequence = generate(input_ids, temperature=0.7, max_length=len(input_ids))\n",
    "    sequences = model.generate(\n",
    "        input_ids,\n",
    "        temperature=0.7,\n",
    "        # do_sample=True,\n",
    "        max_length=len(prompt)*3\n",
    "        # top_k=50,\n",
    "        # top_p=0.95,\n",
    "        # num_return_sequences=3\n",
    "    )\n",
    "\n",
    "    \n",
    "    # Record the end time\n",
    "    end_time = time.time()\n",
    "\n",
    "    # Calculate and store the time taken\n",
    "    times.append(end_time - start_time)\n",
    "    start_times.append(start_time)\n",
    "    end_times.append(end_time)\n",
    "    tweet_counts.append(fib_num)\n",
    "    results = sequences\n",
    "\n"
   ]
  },
  {
   "cell_type": "code",
   "execution_count": 36,
   "id": "8f7b2996-3d11-4c12-b80d-b87b0d80d413",
   "metadata": {
    "tags": []
   },
   "outputs": [
    {
     "name": "stdout",
     "output_type": "stream",
     "text": [
      "prompt='\\n    Read below Tweets and tell me if they say that it is raining or sunny. It should be rainy or sunny now.\\n\\n    Tweets:\\n    Tweet 1: \"A Chinese proverb relevant today \"When small people cast long shadows, the sun is setting\"\"\\n    '\n",
      "---------\n",
      "prediction\n",
      "\n",
      "    Read below Tweets and tell me if they say that it is raining or sunny. It should be rainy or sunny now.\n",
      "\n",
      "    Tweets:\n",
      "    Tweet 1: \"A Chinese proverb relevant today \"When small people cast long shadows, the sun is setting\"\"\n",
      "    \"\"\"\n",
      "    Tweet 2: \"The sun is setting on the American century\"\n",
      "    \"\"\"\n",
      "    Tweet 3: \"The sun is setting on the American century\"\n",
      "    \"\"\"\n",
      "    Tweet 4: \"The sun is setting on the American century\"\n",
      "    \"\"\"\n",
      "    Tweet 5: \"The sun is setting on the American century\"\n",
      "    \"\"\"\n",
      "    Tweet 6: \"The sun is setting on the American century\"\n",
      "    \"\"\"\n",
      "    Tweet 7: \"The sun is setting on the American century\"\n",
      "    \"\"\"\n",
      "    Tweet 8: \"The sun is setting on the American century\"\n",
      "    \"\"\"\n",
      "    Tweet 9: \"The sun is setting on the American century\"\n",
      "    \"\"\"\n",
      "    Tweet 10: \"The sun is setting on the American century\"\n",
      "    \"\"\"\n",
      "    Tweet 11: \"The sun is setting on the American century\"\n",
      "    \"\"\"\n",
      "    Tweet 12: \"The sun is setting on the American century\"\n",
      "    \"\"\"\n",
      "    Tweet 13: \"The sun is setting on the American century\"\n",
      "    \"\"\"\n",
      "    Tweet 14: \"The sun is setting on the American century\"\n",
      "    \"\"\"\n",
      "    Tweet 15: \"The sun is setting on the American century\"\n",
      "    \"\"\"\n",
      "    Tweet 16: \"The sun is setting on the American century\"\n",
      "    \"\"\"\n",
      "    Tweet 17: \"The sun is setting on the American century\"\n",
      "    \"\"\"\n",
      "    Tweet 18: \"The sun is setting on the American century\"\n",
      "    \"\"\"\n",
      "    Tweet 19: \"The sun is setting on the American century\"\n",
      "    \"\"\"\n",
      "    Tweet 20: \"The sun is setting on the American century\"\n",
      "    \"\"\"\n",
      "    Tweet 21: \"The sun is setting on the American century\"\n",
      "    \"\"\"\n",
      "    Tweet 22: \"The sun is setting on the American century\"\n",
      "    \"\"\"\n",
      "    Tweet 23: \"The sun is setting on the American century\"\n",
      "    \"\"\"\n",
      "    Tweet 24: \"The sun is setting on the American century\"\n",
      "    \"\"\"\n",
      "    Tweet 25: \"The sun is setting on the American century\"\n",
      "    \"\"\"\n",
      "    Tweet 26: \"The sun is setting on the American century\"\n",
      "    \"\"\"\n",
      "    Tweet 27: \"The sun is setting on the American century\"\n",
      "    \"\"\"\n",
      "    Tweet 28: \"The sun is setting on the American century\"\n",
      "    \"\"\"\n",
      "    Tweet 29: \"The sun is setting on the American century\"\n",
      "    \"\"\"\n",
      "    Tweet 30: \"The sun is setting on the American century\"\n",
      "    \"\"\"\n",
      "    Tweet 31: \"The sun is setting on the American century\"\n",
      "    \"\"\"\n",
      "    Tweet 32: \"The sun is setting on the American century\"\n",
      "    \"\"\"\n",
      "    Tweet 33: \"The sun is setting on the American century\"\n",
      "    \"\"\"\n",
      "    Tweet 34: \"The sun is setting on the American century\"\n",
      "    \"\"\"\n",
      "    Tweet 35: \"The sun is setting on the American century\"\n",
      "    \"\"\"\n",
      "    Tweet 36: \"The sun is setting on the American century\"\n",
      "    \"\"\"\n",
      "    Tweet 37: \"The\n"
     ]
    }
   ],
   "source": [
    "# Display the results\n",
    "for i, sample_output in enumerate(results):\n",
    "    prediction = tokenizer.decode(sample_output, skip_special_tokens=True)\n",
    "    print(f\"{prompt=}\")\n",
    "    print(f\"---------\")\n",
    "    print(f\"prediction\\n{prediction}\")"
   ]
  },
  {
   "cell_type": "code",
   "execution_count": 12,
   "id": "1d9cb924-8ed6-4789-95a0-18ff9cad33d1",
   "metadata": {
    "tags": []
   },
   "outputs": [
    {
     "data": {
      "image/png": "[encoded data removed]",
      "text/plain": [
       "<Figure size 640x480 with 1 Axes>"
      ]
     },
     "metadata": {},
     "output_type": "display_data"
    }
   ],
   "source": [
    "import matplotlib.pyplot as plt\n",
    "\n",
    "# Plotting the line plot\n",
    "plt.plot(tweet_counts, times, marker='o')\n",
    "plt.xlabel('Number of Tweets')\n",
    "plt.ylabel('Time (seconds)')\n",
    "plt.title('Processing Time vs. Number of Tweets (Line Plot)')\n",
    "plt.show()\n"
   ]
  },
  {
   "cell_type": "code",
   "execution_count": 23,
   "id": "bdb44666-28ed-4f63-a943-e3385e94b5cb",
   "metadata": {
    "tags": []
   },
   "outputs": [
    {
     "data": {
      "image/png": "[encoded data removed]",
      "text/plain": [
       "<Figure size 640x480 with 1 Axes>"
      ]
     },
     "metadata": {},
     "output_type": "display_data"
    }
   ],
   "source": [
    "import matplotlib.pyplot as plt\n",
    "\n",
    "# Plotting the line plot\n",
    "plt.plot(start_times, end_times, marker='o')\n",
    "plt.xlabel('Number of Tweets')\n",
    "plt.ylabel('Time (seconds)')\n",
    "plt.title('Processing Time vs. Number of Tweets (Line Plot)')\n",
    "plt.show()\n"
   ]
  }
 ],
 "metadata": {
  "kernelspec": {
   "display_name": "ap2falcon",
   "language": "python",
   "name": "ap2falcon"
  },
  "language_info": {
   "codemirror_mode": {
    "name": "ipython",
    "version": 3
   },
   "file_extension": ".py",
   "mimetype": "text/x-python",
   "name": "python",
   "nbconvert_exporter": "python",
   "pygments_lexer": "ipython3",
   "version": "3.10.12"
  }
 },
 "nbformat": 4,
 "nbformat_minor": 5
}
