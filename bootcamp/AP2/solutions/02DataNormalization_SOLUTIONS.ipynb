{
 "cells": [
  {
   "cell_type": "markdown",
   "id": "9ea945ce-3e8b-4173-a0be-a737f68f5d2e",
   "metadata": {},
   "source": [
    "## Preamble: Execute this if checking any answer!"
   ]
  },
  {
   "cell_type": "code",
   "execution_count": null,
   "id": "666bdf8c-61b1-4cec-8e33-514dc0d108e9",
   "metadata": {},
   "outputs": [],
   "source": [
    "# allows update of external libraries without need to reload package\n",
    "%load_ext autoreload\n",
    "%autoreload 2"
   ]
  },
  {
   "cell_type": "code",
   "execution_count": null,
   "id": "147b0fb0-14de-4c16-a013-43d3141532c4",
   "metadata": {},
   "outputs": [],
   "source": [
    "import sys\n",
    "import os\n",
    "import pathlib\n",
    "\n",
    "import numpy as np\n",
    "import xarray\n",
    "\n",
    "sys.path.append(\"../scripts\")\n",
    "import normalize_text_bootcamp\n",
    "import utils_bootcamp\n",
    "\n",
    "import re"
   ]
  },
  {
   "cell_type": "code",
   "execution_count": null,
   "id": "c33f02ca-0e29-4512-a058-60029d85f8f7",
   "metadata": {},
   "outputs": [],
   "source": [
    "FOLDER_TO_TWEETS = \"/p/project/training2223/a2/data/tweets/tweets_2017_normalized.nc\"\n",
    "FOLDER_TO_TWEETS = \"../../data/tweets/tweets_2017_normalized.nc\""
   ]
  },
  {
   "cell_type": "code",
   "execution_count": null,
   "id": "9bbb66a8-0544-44c0-9c0a-33f029c74c16",
   "metadata": {},
   "outputs": [],
   "source": [
    "def load_tweets_dataset():\n",
    "    ds = xarray.load_dataset(FOLDER_TO_TWEETS)\n",
    "    ds = utils_bootcamp.reset_index_coordinate(ds)\n",
    "    return ds"
   ]
  },
  {
   "cell_type": "markdown",
   "id": "eada739a-7666-4e19-8fc5-1f824c60c5bf",
   "metadata": {},
   "source": [
    "## Task 0.1"
   ]
  },
  {
   "cell_type": "code",
   "execution_count": null,
   "id": "7b66ebd6-a2f1-4f42-84d3-ede9efc732e4",
   "metadata": {},
   "outputs": [],
   "source": [
    "# 'Hello! Have a great day!' -> 'Bye! Have a great day!'\n",
    "text = \"Hello! Have a great day!\"\n",
    "re.sub(\"Hello!\", \"Bye!\", text)"
   ]
  },
  {
   "cell_type": "markdown",
   "id": "348a476e-c012-4abb-9f92-2c5d0100bdb7",
   "metadata": {},
   "source": [
    "## Task 0.2"
   ]
  },
  {
   "cell_type": "code",
   "execution_count": null,
   "id": "a86ee59f-6168-4278-9596-26e2f0ac5688",
   "metadata": {},
   "outputs": [],
   "source": [
    "# 'This is my hashtag @mycoolHASHtag. Do you like it too?' -> 'This is my hashtag . Do you like it too?'\n",
    "text = \"This is my hashtag @mycoolHASHtag. Do you like it too?\"\n",
    "re.sub(\"(@[a-zA-Z]+)\", \"\", text)"
   ]
  },
  {
   "cell_type": "markdown",
   "id": "0ee98c66-4898-46b2-8e00-253d4efeec7b",
   "metadata": {},
   "source": [
    "## Task 0.3"
   ]
  },
  {
   "cell_type": "code",
   "execution_count": null,
   "id": "4a98cebe-b2b0-419f-8c22-3e039988bd97",
   "metadata": {},
   "outputs": [],
   "source": [
    "text = \"https://en.wikipedia.org/, http://en.wikipedia.org/\"\n",
    "re.sub(r\"\\S*https?:\\S*\", \"\", text)"
   ]
  },
  {
   "cell_type": "markdown",
   "id": "766ae58b-cf02-4548-8780-285f75faaee9",
   "metadata": {},
   "source": [
    "## Task 1.1"
   ]
  },
  {
   "cell_type": "code",
   "execution_count": null,
   "id": "93e34686-dc0b-4b8f-ad24-1c90f95be1e5",
   "metadata": {},
   "outputs": [],
   "source": [
    "ds_tweets = load_tweets_dataset()"
   ]
  },
  {
   "cell_type": "code",
   "execution_count": null,
   "id": "12430436-fbbb-4b15-be46-4ed7b2498f06",
   "metadata": {},
   "outputs": [],
   "source": [
    "def normalize_text(text):\n",
    "    text = re.sub(r\"We're\", \"We are\", text)\n",
    "    text = re.sub(\"_+\", \" \", text)\n",
    "    text = re.sub(\"\\s+\", \" \", text)\n",
    "    text = re.sub(\"@?… https:\\S*$\", \"\", text)\n",
    "    text = re.sub(r\"\\S*https?:\\S*\", \"\", text)\n",
    "    text = re.sub(\"(@[a-zA-Z]+)\", \"\", text)\n",
    "    return text\n",
    "\n",
    "\n",
    "normalize_text(ds_tweets.text_original.values[0])"
   ]
  },
  {
   "cell_type": "markdown",
   "id": "e278585d-3ea0-4fff-b863-121f2403d6b5",
   "metadata": {},
   "source": [
    "## Task 1.2"
   ]
  },
  {
   "cell_type": "code",
   "execution_count": null,
   "id": "70129fbe-6936-4afe-9c0d-61c59502c82f",
   "metadata": {},
   "outputs": [],
   "source": [
    "ds_tweets = load_tweets_dataset()"
   ]
  },
  {
   "cell_type": "code",
   "execution_count": null,
   "id": "25d46ee0-5948-442d-9091-1f328dee439d",
   "metadata": {},
   "outputs": [],
   "source": [
    "def normalize_tweets(tweets):\n",
    "    # using function `normalize_text` from last task (Task 1.1)\n",
    "    normalized = []\n",
    "    for t in tweets:\n",
    "        normalized.append(normalize_text(t))\n",
    "    return normalized\n",
    "\n",
    "\n",
    "normalize_tweets(ds_tweets.text_original.values[:100])"
   ]
  },
  {
   "cell_type": "markdown",
   "id": "26d695ef-1322-4b0c-9512-df84ba6996cc",
   "metadata": {},
   "source": [
    "## Task 1.3"
   ]
  },
  {
   "cell_type": "code",
   "execution_count": null,
   "id": "f0dbb698-e833-455a-812a-e333d1a6569e",
   "metadata": {},
   "outputs": [],
   "source": [
    "ds_tweets = load_tweets_dataset()"
   ]
  },
  {
   "cell_type": "code",
   "execution_count": null,
   "id": "2268fa3c-d762-488e-992a-ae40945e1ee7",
   "metadata": {},
   "outputs": [],
   "source": [
    "def normalize_text(text):\n",
    "    text = re.sub(r\"We're\", \"We are\", text)\n",
    "    text = re.sub(\"_+\", \" \", text)\n",
    "    text = re.sub(\"\\s+\", \" \", text)\n",
    "    text = re.sub(\"@?… https:\\S*$\", \"\", text)\n",
    "    text = re.sub(r\"\\S*https?:\\S*\", \"\", text)\n",
    "    text = re.sub(\"(@[a-zA-Z]+)\", \"\", text)\n",
    "    text = re.sub(\"#\\S+\", \"\", text)  # remove hashtags\n",
    "    text = re.sub(\"(@[a-zA-Z0-9]+)\", \"\", text)  # also consider numbers in replies\n",
    "    return text\n",
    "\n",
    "\n",
    "normalize_tweets(ds_tweets.text_original.values[:100])"
   ]
  },
  {
   "cell_type": "markdown",
   "id": "01920419-d805-4a62-b667-72569fef7b75",
   "metadata": {},
   "source": [
    "## Task 2.1"
   ]
  },
  {
   "cell_type": "code",
   "execution_count": null,
   "id": "278eece9-c531-4560-9467-7249daffd712",
   "metadata": {},
   "outputs": [],
   "source": [
    "ds_tweets = load_tweets_dataset()"
   ]
  },
  {
   "cell_type": "code",
   "execution_count": null,
   "id": "062e9ba1-9b9c-470e-a5ca-ebdaa88e3d50",
   "metadata": {},
   "outputs": [],
   "source": [
    "def normalize_tweets_library(tweets):\n",
    "    normalizer = normalize_text_bootcamp.Normalizer()\n",
    "    normalized = []\n",
    "    for t in tweets:\n",
    "        normalized.append(normalizer.normalize(t))\n",
    "    return normalized\n",
    "\n",
    "\n",
    "normalize_tweets_library(ds_tweets.text_original.values[:100])"
   ]
  },
  {
   "cell_type": "markdown",
   "id": "0684b871-f68e-4bf8-8247-d1f1e827cec1",
   "metadata": {},
   "source": [
    "## Task 2.2"
   ]
  },
  {
   "cell_type": "code",
   "execution_count": null,
   "id": "9cd9a304-b07a-41cb-827a-fcd8672f55a2",
   "metadata": {},
   "outputs": [],
   "source": [
    "ds_tweets = load_tweets_dataset()"
   ]
  },
  {
   "cell_type": "code",
   "execution_count": null,
   "id": "0a60e54a-4a5e-4f69-91b7-d14587f4d204",
   "metadata": {},
   "outputs": [],
   "source": [
    "normalize_text_bootcamp.normalize_text_dataset(ds_tweets.sel(index=slice(0, 99)))"
   ]
  },
  {
   "cell_type": "markdown",
   "id": "d0d61f6c-29a7-43d5-bb95-5a5ec3d9c188",
   "metadata": {},
   "source": [
    "## Task 2.3"
   ]
  },
  {
   "cell_type": "code",
   "execution_count": null,
   "id": "df3ae0f9-a6ba-47f3-b0e2-1418d692626b",
   "metadata": {},
   "outputs": [],
   "source": [
    "ds_tweets = load_tweets_dataset()"
   ]
  },
  {
   "cell_type": "code",
   "execution_count": null,
   "id": "b7e638fb-5a99-4f75-9180-91b2ff3fa2ba",
   "metadata": {},
   "outputs": [],
   "source": [
    "normalize_text_bootcamp.normalize_filter_dataset(ds_tweets.sel(index=slice(0, 99)))"
   ]
  },
  {
   "cell_type": "markdown",
   "id": "618b0e95-1081-443e-885e-bd4966406ee4",
   "metadata": {
    "tags": []
   },
   "source": [
    "## Task 2.4"
   ]
  },
  {
   "cell_type": "code",
   "execution_count": null,
   "id": "4e522d4c-6403-48bb-9d04-d7ec5f0d741f",
   "metadata": {},
   "outputs": [],
   "source": [
    "text = \"And that lucky ole sun has nothing to do but roll around heaven all day.\"\n",
    "re.sub(\"ole\", \"old\", text)"
   ]
  },
  {
   "cell_type": "code",
   "execution_count": null,
   "id": "b0567e70-53d9-4af4-8772-b56b1c5bc99f",
   "metadata": {},
   "outputs": [],
   "source": []
  }
 ],
 "metadata": {
  "kernelspec": {
   "display_name": "Python 3 (ipykernel)",
   "language": "python",
   "name": "python3"
  },
  "language_info": {
   "codemirror_mode": {
    "name": "ipython",
    "version": 3
   },
   "file_extension": ".py",
   "mimetype": "text/x-python",
   "name": "python",
   "nbconvert_exporter": "python",
   "pygments_lexer": "ipython3",
   "version": "3.9.6"
  }
 },
 "nbformat": 4,
 "nbformat_minor": 5
}
