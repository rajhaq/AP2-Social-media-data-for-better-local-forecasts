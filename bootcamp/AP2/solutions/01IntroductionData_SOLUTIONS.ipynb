{
 "cells": [
  {
   "cell_type": "markdown",
   "id": "c1ac93b2-572b-400d-b992-e570e70b88b6",
   "metadata": {},
   "source": [
    "## Preamble: Execute this if checking any answer!"
   ]
  },
  {
   "cell_type": "code",
   "execution_count": null,
   "id": "3b148bd4-981f-4f72-8ac3-f513b579cbee",
   "metadata": {},
   "outputs": [],
   "source": [
    "# allows update of external libraries without need to reload package\n",
    "%load_ext autoreload\n",
    "%autoreload 2"
   ]
  },
  {
   "cell_type": "code",
   "execution_count": null,
   "id": "f3ff5856-3512-4949-823a-b8dbaab3714d",
   "metadata": {},
   "outputs": [],
   "source": [
    "import sys\n",
    "import os\n",
    "import pathlib\n",
    "\n",
    "import numpy as np\n",
    "import xarray\n",
    "\n",
    "sys.path.append(\"../scripts\")\n",
    "import normalize_text_bootcamp\n",
    "import utils_bootcamp\n",
    "import plotting"
   ]
  },
  {
   "cell_type": "code",
   "execution_count": null,
   "id": "9920749b-fb28-4ecf-b7d8-ef9c8c19184c",
   "metadata": {},
   "outputs": [],
   "source": [
    "FOLDER_TO_TWEETS = \"/p/project/training2223/a2/data/tweets/tweets_2017_normalized.nc\"\n",
    "FOLDER_TO_TWEETS = \"../../data/tweets/tweets_2017_normalized.nc\"\n",
    "\n",
    "FOLDER_TO_PRECIPITATION = \"/p/project/training2223/a2/data/precipitation/ds_precipitation_2017.nc\"\n",
    "FOLDER_TO_PRECIPITATION = \"../../data/precipitation/ds_precipitation_2017.nc\""
   ]
  },
  {
   "cell_type": "code",
   "execution_count": null,
   "id": "42ba947a-546b-450c-8eb9-4cc9fd1eb399",
   "metadata": {},
   "outputs": [],
   "source": [
    "def load_tweets_dataset():\n",
    "    ds = xarray.load_dataset(FOLDER_TO_TWEETS)\n",
    "    ds = utils_bootcamp.reset_index_coordinate(ds)\n",
    "    return ds\n",
    "\n",
    "\n",
    "def load_precipitation_dataset():\n",
    "    ds = xarray.load_dataset(FOLDER_TO_PRECIPITATION)\n",
    "    return ds"
   ]
  },
  {
   "cell_type": "markdown",
   "id": "97b14a91-1112-446a-990f-9b21f891ba2f",
   "metadata": {},
   "source": [
    "## Task 0.1"
   ]
  },
  {
   "cell_type": "code",
   "execution_count": null,
   "id": "17267d4e-aa08-4241-946e-a95fe2e0161e",
   "metadata": {},
   "outputs": [],
   "source": [
    "ds_prec = load_precipitation_dataset()"
   ]
  },
  {
   "cell_type": "code",
   "execution_count": null,
   "id": "04d9be22-6845-431f-bdb1-1e60321aa76c",
   "metadata": {},
   "outputs": [],
   "source": [
    "for var in ds_prec.variables.values():\n",
    "    print(var.dtype)"
   ]
  },
  {
   "cell_type": "markdown",
   "id": "71332ed7-ef4e-4779-881e-5131270b6573",
   "metadata": {},
   "source": [
    "`np.datetime64[ns]` may be less well known. It's documentation can be found [here](https://numpy.org/doc/stable/reference/arrays.datetime.html). To instantiate an object including date and time, we just give our date and time as a single string to the numoy object `np.datetime64`. For example:"
   ]
  },
  {
   "cell_type": "code",
   "execution_count": null,
   "id": "127ac2af-2f05-4ac8-9563-a896fbaa7e6c",
   "metadata": {},
   "outputs": [],
   "source": [
    "np.datetime64(\"2011-06-15T00:00\")"
   ]
  },
  {
   "cell_type": "markdown",
   "id": "9eb7f685-c4d3-47e3-8af2-6eac257a663d",
   "metadata": {},
   "source": [
    "## Task 1.1"
   ]
  },
  {
   "cell_type": "code",
   "execution_count": null,
   "id": "30e3ddb7-7f95-4030-9ec5-1249b5852ee1",
   "metadata": {},
   "outputs": [],
   "source": [
    "ds_prec = load_precipitation_dataset()"
   ]
  },
  {
   "cell_type": "code",
   "execution_count": null,
   "id": "34dffd5c-4d74-48a3-adfd-bc94cd9a6cc9",
   "metadata": {},
   "outputs": [],
   "source": [
    "# Waterloo station is located at 51.5031°N 0.1132°W -> Latitude = 51.5019408, Longitude = -0.1131576, we assume 0.1~10 km at 2:30pm on 2nd January 2017 -> np.datetime64('2017-01-02T14:30')\n",
    "time = np.datetime64(\"2017-01-02T14:30\")\n",
    "ds_london = ds_prec.sel(time=time).where(\n",
    "    (ds_prec.latitude < 51.5019408 + 0.2)\n",
    "    & (ds_prec.latitude > 51.5019408 - 0.2)\n",
    "    & (ds_prec.longitude > -0.1131576 - 0.2)\n",
    "    & (ds_prec.longitude < -0.1131576 + 0.2),\n",
    "    drop=True,\n",
    ")\n",
    "ds_london"
   ]
  },
  {
   "cell_type": "code",
   "execution_count": null,
   "id": "1af6f313-12b5-4b7c-b002-a03f75a72f30",
   "metadata": {},
   "outputs": [],
   "source": [
    "linear_thresh = 1e-7\n",
    "\n",
    "bins = plotting.histograms.get_bin_edges(\n",
    "    vmin=None,\n",
    "    vmax=None,\n",
    "    linear_thresh=linear_thresh,\n",
    "    n_bins=60,\n",
    "    data=ds_prec.tp.values,\n",
    "    log=\"symlog\",\n",
    ")\n",
    "# initialize a figure `figure` and an axes `ax`\n",
    "figure, ax = plotting.utils_plotting.create_figure_axes()\n",
    "# plot our histogram using our user-defined bins\n",
    "ds_london.tp.plot.hist(bins=bins, ax=ax)\n",
    "# change the x-axis scale to a symmetrical log scale\n",
    "plotting.utils_plotting.set_x_log(ax=ax, log=\"symlog\", linear_thresh=linear_thresh)\n",
    "# change the y-axis scale to a logarithmic scale\n",
    "plotting.utils_plotting.set_y_log(ax=ax, log=True)"
   ]
  },
  {
   "cell_type": "markdown",
   "id": "9929c7e6-09a5-4842-bd30-33360e929429",
   "metadata": {},
   "source": [
    "It wasn't raining at that time!"
   ]
  },
  {
   "cell_type": "markdown",
   "id": "1a9fb61f-655b-4be3-abce-4db8ed89b5e4",
   "metadata": {},
   "source": [
    "## Task 1.2"
   ]
  },
  {
   "cell_type": "code",
   "execution_count": null,
   "id": "895cfffb-5f24-4b32-be02-02f3720d9bd5",
   "metadata": {},
   "outputs": [],
   "source": [
    "ds_prec = load_precipitation_dataset()"
   ]
  },
  {
   "cell_type": "code",
   "execution_count": null,
   "id": "8dd3b6fe-c894-4ba1-9cff-1051ed66b1fc",
   "metadata": {},
   "outputs": [],
   "source": [
    "# Waterloo station is located at 51.5031°N 0.1132°W -> Latitude = 51.5019408, Longitude = -0.1131576, we assume 0.1~10 km on 2nd January 2017 -> np.datetime64('2017-01-02T00:00') < time < np.datetime64('2017-01-03T00:00')\n",
    "ds_london = ds_prec.where(\n",
    "    (ds_prec.latitude < 51.5019408 + 0.2)\n",
    "    & (ds_prec.latitude > 51.5019408 - 0.2)\n",
    "    & (ds_prec.longitude > -0.1131576 - 0.2)\n",
    "    & (ds_prec.longitude < -0.1131576 + 0.2)\n",
    "    & (ds_prec.time > np.datetime64(\"2017-01-02T00:00\"))\n",
    "    & (ds_prec.time < np.datetime64(\"2017-01-03T00:00\")),\n",
    "    drop=True,\n",
    ")\n",
    "ds_london"
   ]
  },
  {
   "cell_type": "code",
   "execution_count": null,
   "id": "ad19b53a-ab47-4b80-a7b4-d833a45603ea",
   "metadata": {},
   "outputs": [],
   "source": [
    "linear_thresh = 1e-7\n",
    "\n",
    "bins = plotting.histograms.get_bin_edges(\n",
    "    vmin=None,\n",
    "    vmax=None,\n",
    "    linear_thresh=linear_thresh,\n",
    "    n_bins=60,\n",
    "    data=ds_prec.tp.values,\n",
    "    log=\"symlog\",\n",
    ")\n",
    "\n",
    "# initialize a figure `figure` and an axes `ax`\n",
    "figure, ax = plotting.utils_plotting.create_figure_axes()\n",
    "\n",
    "# plot our histogram using our user-defined bins\n",
    "ds_london.tp.plot.hist(bins=bins, ax=ax)\n",
    "\n",
    "# change the x-axis scale to a symmetrical log scale\n",
    "plotting.utils_plotting.set_x_log(ax=ax, log=\"symlog\", linear_thresh=linear_thresh)\n",
    "\n",
    "# change the y-axis scale to a logarithmic scale\n",
    "plotting.utils_plotting.set_y_log(ax=ax, log=True)"
   ]
  },
  {
   "cell_type": "markdown",
   "id": "3835c4b0-a06c-4f7f-85df-8e5558be22e7",
   "metadata": {},
   "source": [
    "It rained that day!"
   ]
  },
  {
   "cell_type": "markdown",
   "id": "692aec8a-62ca-479d-83aa-3c16d4f55c22",
   "metadata": {},
   "source": [
    "## Task 1.3"
   ]
  },
  {
   "cell_type": "code",
   "execution_count": null,
   "id": "25389025-fec5-4335-88fb-88e025aeb1be",
   "metadata": {},
   "outputs": [],
   "source": [
    "ds_prec = load_precipitation_dataset()"
   ]
  },
  {
   "cell_type": "code",
   "execution_count": null,
   "id": "a2e3da74-57b3-4624-9791-fa04a962edb1",
   "metadata": {},
   "outputs": [],
   "source": [
    "# let's look at the UK, which is the source of our Tweets, range in longitude ~ -10 to 1, latitude ~ 51 to 61\n",
    "ds_prec.sel(time=np.datetime64(\"2017-07-01T17:30:00\")).tp.plot(xlim=[-10, 1], ylim=[51, 61])"
   ]
  },
  {
   "cell_type": "markdown",
   "id": "4f63d7ba-8e94-4f81-9769-ffe4ed6baaa6",
   "metadata": {},
   "source": [
    "## Task 1.4"
   ]
  },
  {
   "cell_type": "code",
   "execution_count": null,
   "id": "b9e9e0b2-b260-40b6-9d32-40e5689342b7",
   "metadata": {},
   "outputs": [],
   "source": [
    "import matplotlib\n",
    "import matplotlib.pyplot as plt"
   ]
  },
  {
   "cell_type": "code",
   "execution_count": null,
   "id": "84dae15a-9c5b-482e-8b5d-c7809cac7ddc",
   "metadata": {},
   "outputs": [],
   "source": [
    "ds_prec = load_precipitation_dataset()"
   ]
  },
  {
   "cell_type": "code",
   "execution_count": null,
   "id": "7f847d90-f7e0-4cb1-8186-1973638006a6",
   "metadata": {},
   "outputs": [],
   "source": [
    "# we again look at the UK, range in longitude ~ -10 to 1, latitude ~ 51 to 61\n",
    "ds_prec.sel(time=np.datetime64(\"2017-07-01T12:30:00\")).tp.plot(\n",
    "    norm=matplotlib.colors.LogNorm(vmax=1e-2, vmin=1e-6),\n",
    "    cmap=\"plasma\",\n",
    "    xlim=[-10, 1],\n",
    "    ylim=[51, 61],\n",
    ")"
   ]
  },
  {
   "cell_type": "markdown",
   "id": "82d05785-98d2-45ad-ac07-319fa6c21ead",
   "metadata": {},
   "source": [
    "## Task 2.1"
   ]
  },
  {
   "cell_type": "code",
   "execution_count": null,
   "id": "255015ce-62a7-4fd8-bed2-c740fffecc43",
   "metadata": {},
   "outputs": [],
   "source": [
    "ds_tweets = load_tweets_dataset()"
   ]
  },
  {
   "cell_type": "code",
   "execution_count": null,
   "id": "cb2bd92d-a92a-4eeb-a5db-f4e873fec656",
   "metadata": {},
   "outputs": [],
   "source": [
    "ds_tweets[\"text_original\"].values[:100]"
   ]
  },
  {
   "cell_type": "code",
   "execution_count": null,
   "id": "5e897b8d-d520-4d34-8080-0facdfeca00f",
   "metadata": {},
   "outputs": [],
   "source": [
    "# no nan values found in longitude/ latitude -> all Tweets have ascribed location\n",
    "np.sum(utils_bootcamp.is_nan(ds_tweets, \"longitude\") + utils_bootcamp.is_nan(ds_tweets, \"latitude\"))"
   ]
  },
  {
   "cell_type": "markdown",
   "id": "299e2600-0598-41f8-b803-9194e9b568e7",
   "metadata": {},
   "source": [
    "How queried?\n",
    "* Only focus on years 2017, (or 2017 - 2020 for full dataset)\n",
    "* Need location for all Tweets\n",
    "* English language\n",
    "* Query looked for emojis/keywords related to rain/sun "
   ]
  },
  {
   "cell_type": "markdown",
   "id": "26c70616-a895-4e24-8e54-fd2a764416d7",
   "metadata": {},
   "source": [
    "## Task 2.2"
   ]
  },
  {
   "cell_type": "code",
   "execution_count": null,
   "id": "39e96390-eb7d-48fa-ad31-9be9935c7c4f",
   "metadata": {},
   "outputs": [],
   "source": [
    "ds_tweets = load_tweets_dataset()"
   ]
  },
  {
   "cell_type": "code",
   "execution_count": null,
   "id": "96882e74-e51a-4828-b161-3021595022fc",
   "metadata": {},
   "outputs": [],
   "source": [
    "emojis = [\n",
    "    \"🏔️\",\n",
    "    \"🏔\",\n",
    "    \"☀️\",\n",
    "    \"☀\",\n",
    "    \"🌞\",\n",
    "    \"⛅\",\n",
    "    \"⛈️\",\n",
    "    \"⛈\",\n",
    "    \"🌤️\",\n",
    "    \"🌤\",\n",
    "    \"🌥️\",\n",
    "    \"🌥\",\n",
    "    \"🌦️\",\n",
    "    \"🌦\",\n",
    "    \"🌧️\",\n",
    "    \"🌧\",\n",
    "    \"🌨️\",\n",
    "    \"🌨\",\n",
    "    \"🌩️\",\n",
    "    \"🌩\",\n",
    "    \"☔\",\n",
    "    \"⛄\",\n",
    "]\n",
    "keywords = emojis + [\n",
    "    \"blizzard\",\n",
    "    \"cloudburst\",\n",
    "    \"downpour\",\n",
    "    \"drizzle\",\n",
    "    \"flash flood\",\n",
    "    \"flood\",\n",
    "    \"flood stage\",\n",
    "    \"forecast\",\n",
    "    \"freezing rain\",\n",
    "    \"hail\",\n",
    "    \"ice storm\",\n",
    "    \"lightning\",\n",
    "    \"precipitation\",\n",
    "    \"rain\",\n",
    "    \"rain gauge\",\n",
    "    \"rain shadow\",\n",
    "    \"rainbands\",\n",
    "    \"rain shower\",\n",
    "    \"snow\",\n",
    "    \"snow shower\",\n",
    "    \"snowstorm\",\n",
    "    \"sun\",\n",
    "    \"sunny\",\n",
    "    \"thunder\",\n",
    "    \"thunderstorm\",\n",
    "]"
   ]
  },
  {
   "cell_type": "code",
   "execution_count": null,
   "id": "afb64a73-572c-4366-9371-f276f5cf0533",
   "metadata": {},
   "outputs": [],
   "source": [
    "plotting.histograms.plot_distribution_keywords(ds_tweets.text_original.values, keywords)"
   ]
  },
  {
   "cell_type": "markdown",
   "id": "59ada085-c833-4e5e-95b9-4597f2eeae18",
   "metadata": {},
   "source": [
    "## Task 2.3:"
   ]
  },
  {
   "cell_type": "code",
   "execution_count": null,
   "id": "873f4a43-9f88-4e4b-bc03-bf359a7718d8",
   "metadata": {},
   "outputs": [],
   "source": [
    "ds_tweets = load_tweets_dataset()"
   ]
  },
  {
   "cell_type": "code",
   "execution_count": null,
   "id": "73776ea2-312c-4e34-8bf9-746b803a0b14",
   "metadata": {},
   "outputs": [],
   "source": [
    "def get_grouped_dataset(ds, group_by, sort_by=\"id\"):\n",
    "    ds_grouped_unsorted = ds.groupby(group_by).count()\n",
    "    ds_grouped = ds_grouped_unsorted.sortby(sort_by, ascending=False)\n",
    "    return ds_grouped\n",
    "\n",
    "\n",
    "ds_grouped = get_grouped_dataset(ds_tweets, group_by=\"source\")"
   ]
  },
  {
   "cell_type": "code",
   "execution_count": null,
   "id": "c543daee-a396-4f87-9b5a-c5b02cfbdb65",
   "metadata": {},
   "outputs": [],
   "source": [
    "keys = ds_grouped[\"source\"].values[:10]\n",
    "values = ds_grouped[\"id\"].values[:10]\n",
    "for k, v in zip(keys, values):\n",
    "    print(f\"{k}: {v}\")"
   ]
  },
  {
   "cell_type": "markdown",
   "id": "14ad47ce-be11-4845-99bf-9bc90e28dafd",
   "metadata": {},
   "source": [
    "## Task 2.4:"
   ]
  },
  {
   "cell_type": "code",
   "execution_count": null,
   "id": "9ec6c06b-2f4f-4679-9f91-9c4772d9f8c6",
   "metadata": {},
   "outputs": [],
   "source": [
    "ds_tweets = load_tweets_dataset()"
   ]
  },
  {
   "cell_type": "code",
   "execution_count": null,
   "id": "499d9e71-1532-4d11-9e53-7f2ac3cfb691",
   "metadata": {},
   "outputs": [],
   "source": [
    "ds_tweets.raining.plot.hist()"
   ]
  },
  {
   "cell_type": "markdown",
   "id": "61a77340-1e63-4e3e-a6a2-b5ab2dfd57c8",
   "metadata": {},
   "source": [
    "More \"non raining\" than \"raining\" labels but basically balanced."
   ]
  },
  {
   "cell_type": "code",
   "execution_count": null,
   "id": "983879c4-8063-4c2e-ac8c-7201d7fbdfa1",
   "metadata": {},
   "outputs": [],
   "source": []
  }
 ],
 "metadata": {
  "kernelspec": {
   "display_name": "Python 3 (ipykernel)",
   "language": "python",
   "name": "python3"
  },
  "language_info": {
   "codemirror_mode": {
    "name": "ipython",
    "version": 3
   },
   "file_extension": ".py",
   "mimetype": "text/x-python",
   "name": "python",
   "nbconvert_exporter": "python",
   "pygments_lexer": "ipython3",
   "version": "3.10.4"
  }
 },
 "nbformat": 4,
 "nbformat_minor": 5
}
