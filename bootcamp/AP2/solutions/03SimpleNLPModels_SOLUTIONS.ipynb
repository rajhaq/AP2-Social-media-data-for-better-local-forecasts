{
 "cells": [
  {
   "cell_type": "markdown",
   "id": "3dfc22e2-6dd4-4637-bf24-64e09f8e2001",
   "metadata": {},
   "source": [
    "# Solutions to 03SimpleNLPModels"
   ]
  },
  {
   "cell_type": "markdown",
   "id": "772d2d92-874b-4a54-a704-b678101927d0",
   "metadata": {},
   "source": [
    "## Preamble: Execute this if checking any answer!"
   ]
  },
  {
   "cell_type": "code",
   "execution_count": null,
   "id": "565e8e2a-c30b-4cde-a551-ffc1acb3c74b",
   "metadata": {},
   "outputs": [],
   "source": [
    "# allows update of external libraries without need to reload package\n",
    "%load_ext autoreload\n",
    "%autoreload 2"
   ]
  },
  {
   "cell_type": "code",
   "execution_count": null,
   "id": "b46a7ce6-14bf-4ffd-880f-e458e2faa895",
   "metadata": {},
   "outputs": [],
   "source": [
    "import pandas as pd\n",
    "import numpy as np\n",
    "import matplotlib.pyplot as plt\n",
    "import seaborn as sns\n",
    "import sklearn.model_selection\n",
    "import sklearn.preprocessing\n",
    "from keras.models import Model\n",
    "from keras.layers import LSTM, Activation, Dense, Dropout, Input, Embedding\n",
    "from keras.optimizers import RMSprop\n",
    "import keras.preprocessing.text\n",
    "from keras.preprocessing import sequence\n",
    "from keras_preprocessing.sequence import pad_sequences\n",
    "from keras.utils import to_categorical\n",
    "from keras.callbacks import EarlyStopping\n",
    "import xarray\n",
    "\n",
    "%matplotlib inline\n",
    "\n",
    "import sys\n",
    "\n",
    "sys.path.append(\"../scripts\")\n",
    "import normalize_text_bootcamp\n",
    "import utils_bootcamp\n",
    "import plotting"
   ]
  },
  {
   "cell_type": "code",
   "execution_count": null,
   "id": "a800325e-962c-48ca-a382-ed6436a93c8a",
   "metadata": {},
   "outputs": [],
   "source": [
    "FOLDER_DATA = \"/p/scratch/deepacf/maelstrom/maelstrom_data/ap2/data/tweets/\"\n",
    "FOLDER_DATA = \"/p/project/training2223/a2/data/tweets/\""
   ]
  },
  {
   "cell_type": "code",
   "execution_count": null,
   "id": "c7d96446-b8d2-4ec9-86fa-9d1c48f476d7",
   "metadata": {},
   "outputs": [],
   "source": [
    "FOLDER_TWEET = FOLDER_DATA + \"tweets_2017_normalized_filtered.nc\"\n",
    "# define the variable name of the total precipitation in the dataset\n",
    "key_tp = \"tp\"\n",
    "ds = xarray.load_dataset(FOLDER_TWEET)"
   ]
  },
  {
   "cell_type": "code",
   "execution_count": null,
   "id": "044a33c2-3e28-4fd6-be89-809954bdce16",
   "metadata": {},
   "outputs": [],
   "source": [
    "# ds_norm = normalize_text_bootcamp.normalize_filter_dataset(\n",
    "#     ds,\n",
    "#     keywords=None,\n",
    "#     reset_index=True,\n",
    "#     key_text_original=\"text_original\",\n",
    "#     key_text_normalized=\"text_normalized\",\n",
    "#     key_text_backup=None,\n",
    "#     ignore_non_ascii=True,\n",
    "#     replace_keyword_emojis=True,\n",
    "#     remove_punctuations=\"keep_basic_punctuations\",\n",
    "#     reduce_punctuations=True,\n",
    "#     use_lower_case=True,\n",
    "#     do_split_punctutation_text=False,\n",
    "#     remove_sun_confusing_terms=True,\n",
    "#     only_text_containing_keywords=True,\n",
    "#     maximum_bounding_box_area=100,\n",
    "# )"
   ]
  },
  {
   "cell_type": "code",
   "execution_count": null,
   "id": "71e8b45d-8819-4d21-a16c-aa316ce90070",
   "metadata": {},
   "outputs": [],
   "source": [
    "ds[\"raining\"] = ([\"index\"], ds[key_tp].values > 1e-8)"
   ]
  },
  {
   "cell_type": "code",
   "execution_count": null,
   "id": "2dbfe5f1-051b-4ae2-a2ae-4d255599bff0",
   "metadata": {},
   "outputs": [],
   "source": [
    "X = ds.text_normalized.values\n",
    "Y = ds.raining.values"
   ]
  },
  {
   "cell_type": "markdown",
   "id": "e1616d13-fbff-4b16-84ca-45658ca2e79a",
   "metadata": {},
   "source": [
    "# Tasks 2:"
   ]
  },
  {
   "cell_type": "code",
   "execution_count": null,
   "id": "13f55a55-d68b-40ce-b201-df00fb2d6bf2",
   "metadata": {},
   "outputs": [],
   "source": [
    "X_train, X_test, Y_train, Y_test = sklearn.model_selection.train_test_split(\n",
    "    X, Y, test_size=0.2, stratify=ds.raining.values\n",
    ")"
   ]
  },
  {
   "cell_type": "markdown",
   "id": "3dd909ee-5957-41de-93f2-95c012fb5cbd",
   "metadata": {},
   "source": [
    "### Encode our labels \n",
    "This step is required if our label's are in text format (e.g., \"cat\", \"dog\"). This is not the case here, but it's included for completion. The format of encoded labels depends on the model, so you should check them as well."
   ]
  },
  {
   "cell_type": "code",
   "execution_count": null,
   "id": "570fb224-df09-4a1d-a049-f7d1f9c9523e",
   "metadata": {},
   "outputs": [],
   "source": [
    "le = sklearn.preprocessing.LabelEncoder()\n",
    "Y = le.fit_transform(Y)\n",
    "Y = Y.reshape(-1, 1)"
   ]
  },
  {
   "cell_type": "code",
   "execution_count": null,
   "id": "ced5322d-d6ae-4592-bae8-d0631101cceb",
   "metadata": {},
   "outputs": [],
   "source": [
    "X"
   ]
  },
  {
   "cell_type": "code",
   "execution_count": null,
   "id": "9bbe97da-67c2-4b15-a643-63ed6b51ddd8",
   "metadata": {},
   "outputs": [],
   "source": [
    "Y"
   ]
  },
  {
   "cell_type": "code",
   "execution_count": null,
   "id": "d7d94340-e5f3-4456-a1d7-59e1f0259a16",
   "metadata": {},
   "outputs": [],
   "source": [
    "max_words = 1000\n",
    "max_len = 150\n",
    "tok = keras.preprocessing.text.Tokenizer(num_words=max_words)\n",
    "tok.fit_on_texts(X_train)\n",
    "sequences = tok.texts_to_sequences(X_train)\n",
    "sequences_matrix = pad_sequences(sequences, maxlen=max_len)"
   ]
  },
  {
   "cell_type": "code",
   "execution_count": null,
   "id": "a5f6e620-e19c-488f-9578-aa7f17b41e93",
   "metadata": {},
   "outputs": [],
   "source": [
    "def RNN():\n",
    "    inputs = Input(name=\"inputs\", shape=[max_len])\n",
    "    layer = Embedding(max_words, 50, input_length=max_len)(inputs)\n",
    "    layer = LSTM(64)(layer)\n",
    "    layer = Dense(256, name=\"FC1\")(layer)\n",
    "    layer = Activation(\"relu\")(layer)\n",
    "    layer = Dropout(0.5)(layer)\n",
    "    layer = Dense(1, name=\"out_layer\")(layer)\n",
    "    layer = Activation(\"sigmoid\")(layer)\n",
    "    model = Model(inputs=inputs, outputs=layer)\n",
    "    return model"
   ]
  },
  {
   "cell_type": "code",
   "execution_count": null,
   "id": "fa9fc1b2-b9b9-4ede-a983-db37372b115d",
   "metadata": {},
   "outputs": [],
   "source": [
    "model = RNN()\n",
    "model.summary()\n",
    "model.compile(loss=\"binary_crossentropy\", optimizer=RMSprop(), metrics=[\"accuracy\"])"
   ]
  },
  {
   "cell_type": "code",
   "execution_count": null,
   "id": "41f92192-aad1-42f3-b406-0ffc9daa1d4f",
   "metadata": {},
   "outputs": [],
   "source": [
    "model.fit(\n",
    "    sequences_matrix,\n",
    "    Y_train,\n",
    "    batch_size=128,\n",
    "    epochs=10,\n",
    "    validation_split=0.2,\n",
    "    callbacks=[EarlyStopping(monitor=\"val_loss\", min_delta=0.0001)],\n",
    ")"
   ]
  },
  {
   "cell_type": "code",
   "execution_count": null,
   "id": "0b5892a5-979a-4413-99ea-09ab8cd44f7f",
   "metadata": {},
   "outputs": [],
   "source": [
    "# build test dataset\n",
    "sequences_test = tok.texts_to_sequences(X_test)\n",
    "sequences_matrix_test = pad_sequences(sequences_test, maxlen=max_len)"
   ]
  },
  {
   "cell_type": "code",
   "execution_count": null,
   "id": "a11ab2f0-8c7f-4f90-bf36-3ce5cc7fbf00",
   "metadata": {},
   "outputs": [],
   "source": [
    "y_predict = model.predict(sequences_matrix_test)"
   ]
  },
  {
   "cell_type": "code",
   "execution_count": null,
   "id": "2c65313f-6715-4e52-8d1b-d7dca4c05820",
   "metadata": {},
   "outputs": [],
   "source": [
    "plotting.analysis.classification_report(y_predict.argmax(-1), Y_test)"
   ]
  },
  {
   "cell_type": "code",
   "execution_count": null,
   "id": "c8ab9274-a87c-47cc-85ce-5f87aa5f93eb",
   "metadata": {},
   "outputs": [],
   "source": [
    "plotting.analysis.plot_roc(Y_test, y_predict)"
   ]
  },
  {
   "cell_type": "code",
   "execution_count": null,
   "id": "df3a1d68-f563-42a0-8193-edfcdc7cf5b2",
   "metadata": {},
   "outputs": [],
   "source": [
    "Y_predict = model.predict(sequences_matrix_test)"
   ]
  },
  {
   "cell_type": "code",
   "execution_count": null,
   "id": "83b12099-941a-454d-ac05-bf7ca643e6fb",
   "metadata": {},
   "outputs": [],
   "source": [
    "Y_predict"
   ]
  },
  {
   "cell_type": "code",
   "execution_count": null,
   "id": "24509d05-1deb-4227-b207-bb8d537e6285",
   "metadata": {},
   "outputs": [],
   "source": [
    "plotting.analysis.classification_report(Y_predict.argmax(-1), Y_test)"
   ]
  },
  {
   "cell_type": "code",
   "execution_count": null,
   "id": "e8a24fd3-f38b-426e-ad71-3f8fea8f6bf6",
   "metadata": {},
   "outputs": [],
   "source": [
    "plotting.analysis.plot_roc(Y_test, Y_predict)"
   ]
  },
  {
   "cell_type": "code",
   "execution_count": null,
   "id": "d1784b10-9377-4b5c-88e0-92ca754683ce",
   "metadata": {},
   "outputs": [],
   "source": []
  }
 ],
 "metadata": {
  "kernelspec": {
   "display_name": "ap2",
   "language": "python",
   "name": "ap2"
  },
  "language_info": {
   "codemirror_mode": {
    "name": "ipython",
    "version": 3
   },
   "file_extension": ".py",
   "mimetype": "text/x-python",
   "name": "python",
   "nbconvert_exporter": "python",
   "pygments_lexer": "ipython3",
   "version": "3.8.10"
  }
 },
 "nbformat": 4,
 "nbformat_minor": 5
}
