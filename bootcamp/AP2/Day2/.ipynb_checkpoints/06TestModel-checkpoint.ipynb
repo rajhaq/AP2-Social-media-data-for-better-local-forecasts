{
 "cells": [
  {
   "cell_type": "code",
   "execution_count": 2,
   "id": "060b53a5-711c-45ce-b06d-c290a4b73e28",
   "metadata": {
    "tags": []
   },
   "outputs": [],
   "source": []
  },
  {
   "cell_type": "code",
   "execution_count": 1,
   "id": "3146e902-4454-40e1-be0f-bde77704ceb2",
   "metadata": {
    "tags": []
   },
   "outputs": [
    {
     "name": "stdout",
     "output_type": "stream",
     "text": [
      "Available kernels:\n",
      "  ap2               /p/home/jusers/haque1/juwels/.local/share/jupyter/kernels/ap2\n",
      "  ap2_hf-llm-bnb    /p/home/jusers/haque1/juwels/.local/share/jupyter/kernels/ap2_HF-LLM-BnB\n",
      "  bootcamp2022      /p/home/jusers/haque1/juwels/.local/share/jupyter/kernels/bootcamp2022\n",
      "  python3           /usr/local/share/jupyter/kernels/python3\n"
     ]
    }
   ],
   "source": [
    "!jupyter kernelspec list"
   ]
  },
  {
   "cell_type": "code",
   "execution_count": 1,
   "id": "ca1c1e2d-cd21-4bc2-be42-b991eb31df78",
   "metadata": {
    "tags": []
   },
   "outputs": [
    {
     "name": "stderr",
     "output_type": "stream",
     "text": [
      "/usr/local/lib/python3.8/dist-packages/tqdm/auto.py:21: TqdmWarning: IProgress not found. Please update jupyter and ipywidgets. See https://ipywidgets.readthedocs.io/en/stable/user_install.html\n",
      "  from .autonotebook import tqdm as notebook_tqdm\n"
     ]
    }
   ],
   "source": [
    "# Import necessary libraries\n",
    "import sys\n",
    "import pathlib\n",
    "import string\n",
    "import re\n",
    "import os\n",
    "import logging\n",
    "import functools\n",
    "\n",
    "# Add the scripts folder to the system path\n",
    "sys.path.append(\"../scripts\")\n",
    "import normalize_text_bootcamp\n",
    "import utils_bootcamp\n",
    "import plotting\n",
    "\n",
    "logging.basicConfig(level=logging.INFO)\n",
    "\n",
    "# Import data handling and visualization libraries\n",
    "import numpy as np\n",
    "import pandas as pd\n",
    "import matplotlib.pyplot as plt\n",
    "import xarray\n",
    "\n",
    "# PyTorch for deep learning\n",
    "import torch\n",
    "import torch.nn.functional\n",
    "\n",
    "# Scikit-learn for data processing and metrics\n",
    "import sklearn.metrics\n",
    "import sklearn.model_selection\n",
    "\n",
    "# Hugging Face for DeBERTa model\n",
    "import datasets\n",
    "import transformers\n"
   ]
  },
  {
   "cell_type": "code",
   "execution_count": 2,
   "id": "79f7a42f-ef89-4328-b128-a6d75631176d",
   "metadata": {
    "tags": []
   },
   "outputs": [],
   "source": [
    "random_seed = 42\n",
    "torch.manual_seed(random_seed)\n",
    "np.random.seed(random_seed)\n",
    "\n",
    "# Load the dataset\n",
    "file_path = '/p/project/deepacf/maelstrom/haque1/dataset/tweets_2017_01_era5_normed_filtered.nc'\n",
    "ds_tweets = xarray.load_dataset(file_path)"
   ]
  },
  {
   "cell_type": "code",
   "execution_count": 3,
   "id": "514fe644-5ad6-49d7-8bb1-f70a835161df",
   "metadata": {
    "tags": []
   },
   "outputs": [
    {
     "data": {
      "text/html": [
       "<div><svg style=\"position: absolute; width: 0; height: 0; overflow: hidden\">\n",
       "<defs>\n",
       "<symbol id=\"icon-database\" viewBox=\"0 0 32 32\">\n",
       "<path d=\"M16 0c-8.837 0-16 2.239-16 5v4c0 2.761 7.163 5 16 5s16-2.239 16-5v-4c0-2.761-7.163-5-16-5z\"></path>\n",
       "<path d=\"M16 17c-8.837 0-16-2.239-16-5v6c0 2.761 7.163 5 16 5s16-2.239 16-5v-6c0 2.761-7.163 5-16 5z\"></path>\n",
       "<path d=\"M16 26c-8.837 0-16-2.239-16-5v6c0 2.761 7.163 5 16 5s16-2.239 16-5v-6c0 2.761-7.163 5-16 5z\"></path>\n",
       "</symbol>\n",
       "<symbol id=\"icon-file-text2\" viewBox=\"0 0 32 32\">\n",
       "<path d=\"M28.681 7.159c-0.694-0.947-1.662-2.053-2.724-3.116s-2.169-2.030-3.116-2.724c-1.612-1.182-2.393-1.319-2.841-1.319h-15.5c-1.378 0-2.5 1.121-2.5 2.5v27c0 1.378 1.122 2.5 2.5 2.5h23c1.378 0 2.5-1.122 2.5-2.5v-19.5c0-0.448-0.137-1.23-1.319-2.841zM24.543 5.457c0.959 0.959 1.712 1.825 2.268 2.543h-4.811v-4.811c0.718 0.556 1.584 1.309 2.543 2.268zM28 29.5c0 0.271-0.229 0.5-0.5 0.5h-23c-0.271 0-0.5-0.229-0.5-0.5v-27c0-0.271 0.229-0.5 0.5-0.5 0 0 15.499-0 15.5 0v7c0 0.552 0.448 1 1 1h7v19.5z\"></path>\n",
       "<path d=\"M23 26h-14c-0.552 0-1-0.448-1-1s0.448-1 1-1h14c0.552 0 1 0.448 1 1s-0.448 1-1 1z\"></path>\n",
       "<path d=\"M23 22h-14c-0.552 0-1-0.448-1-1s0.448-1 1-1h14c0.552 0 1 0.448 1 1s-0.448 1-1 1z\"></path>\n",
       "<path d=\"M23 18h-14c-0.552 0-1-0.448-1-1s0.448-1 1-1h14c0.552 0 1 0.448 1 1s-0.448 1-1 1z\"></path>\n",
       "</symbol>\n",
       "</defs>\n",
       "</svg>\n",
       "<style>/* CSS stylesheet for displaying xarray objects in jupyterlab.\n",
       " *\n",
       " */\n",
       "\n",
       ":root {\n",
       "  --xr-font-color0: var(--jp-content-font-color0, rgba(0, 0, 0, 1));\n",
       "  --xr-font-color2: var(--jp-content-font-color2, rgba(0, 0, 0, 0.54));\n",
       "  --xr-font-color3: var(--jp-content-font-color3, rgba(0, 0, 0, 0.38));\n",
       "  --xr-border-color: var(--jp-border-color2, #e0e0e0);\n",
       "  --xr-disabled-color: var(--jp-layout-color3, #bdbdbd);\n",
       "  --xr-background-color: var(--jp-layout-color0, white);\n",
       "  --xr-background-color-row-even: var(--jp-layout-color1, white);\n",
       "  --xr-background-color-row-odd: var(--jp-layout-color2, #eeeeee);\n",
       "}\n",
       "\n",
       "html[theme=dark],\n",
       "body[data-theme=dark],\n",
       "body.vscode-dark {\n",
       "  --xr-font-color0: rgba(255, 255, 255, 1);\n",
       "  --xr-font-color2: rgba(255, 255, 255, 0.54);\n",
       "  --xr-font-color3: rgba(255, 255, 255, 0.38);\n",
       "  --xr-border-color: #1F1F1F;\n",
       "  --xr-disabled-color: #515151;\n",
       "  --xr-background-color: #111111;\n",
       "  --xr-background-color-row-even: #111111;\n",
       "  --xr-background-color-row-odd: #313131;\n",
       "}\n",
       "\n",
       ".xr-wrap {\n",
       "  display: block !important;\n",
       "  min-width: 300px;\n",
       "  max-width: 700px;\n",
       "}\n",
       "\n",
       ".xr-text-repr-fallback {\n",
       "  /* fallback to plain text repr when CSS is not injected (untrusted notebook) */\n",
       "  display: none;\n",
       "}\n",
       "\n",
       ".xr-header {\n",
       "  padding-top: 6px;\n",
       "  padding-bottom: 6px;\n",
       "  margin-bottom: 4px;\n",
       "  border-bottom: solid 1px var(--xr-border-color);\n",
       "}\n",
       "\n",
       ".xr-header > div,\n",
       ".xr-header > ul {\n",
       "  display: inline;\n",
       "  margin-top: 0;\n",
       "  margin-bottom: 0;\n",
       "}\n",
       "\n",
       ".xr-obj-type,\n",
       ".xr-array-name {\n",
       "  margin-left: 2px;\n",
       "  margin-right: 10px;\n",
       "}\n",
       "\n",
       ".xr-obj-type {\n",
       "  color: var(--xr-font-color2);\n",
       "}\n",
       "\n",
       ".xr-sections {\n",
       "  padding-left: 0 !important;\n",
       "  display: grid;\n",
       "  grid-template-columns: 150px auto auto 1fr 20px 20px;\n",
       "}\n",
       "\n",
       ".xr-section-item {\n",
       "  display: contents;\n",
       "}\n",
       "\n",
       ".xr-section-item input {\n",
       "  display: none;\n",
       "}\n",
       "\n",
       ".xr-section-item input + label {\n",
       "  color: var(--xr-disabled-color);\n",
       "}\n",
       "\n",
       ".xr-section-item input:enabled + label {\n",
       "  cursor: pointer;\n",
       "  color: var(--xr-font-color2);\n",
       "}\n",
       "\n",
       ".xr-section-item input:enabled + label:hover {\n",
       "  color: var(--xr-font-color0);\n",
       "}\n",
       "\n",
       ".xr-section-summary {\n",
       "  grid-column: 1;\n",
       "  color: var(--xr-font-color2);\n",
       "  font-weight: 500;\n",
       "}\n",
       "\n",
       ".xr-section-summary > span {\n",
       "  display: inline-block;\n",
       "  padding-left: 0.5em;\n",
       "}\n",
       "\n",
       ".xr-section-summary-in:disabled + label {\n",
       "  color: var(--xr-font-color2);\n",
       "}\n",
       "\n",
       ".xr-section-summary-in + label:before {\n",
       "  display: inline-block;\n",
       "  content: '►';\n",
       "  font-size: 11px;\n",
       "  width: 15px;\n",
       "  text-align: center;\n",
       "}\n",
       "\n",
       ".xr-section-summary-in:disabled + label:before {\n",
       "  color: var(--xr-disabled-color);\n",
       "}\n",
       "\n",
       ".xr-section-summary-in:checked + label:before {\n",
       "  content: '▼';\n",
       "}\n",
       "\n",
       ".xr-section-summary-in:checked + label > span {\n",
       "  display: none;\n",
       "}\n",
       "\n",
       ".xr-section-summary,\n",
       ".xr-section-inline-details {\n",
       "  padding-top: 4px;\n",
       "  padding-bottom: 4px;\n",
       "}\n",
       "\n",
       ".xr-section-inline-details {\n",
       "  grid-column: 2 / -1;\n",
       "}\n",
       "\n",
       ".xr-section-details {\n",
       "  display: none;\n",
       "  grid-column: 1 / -1;\n",
       "  margin-bottom: 5px;\n",
       "}\n",
       "\n",
       ".xr-section-summary-in:checked ~ .xr-section-details {\n",
       "  display: contents;\n",
       "}\n",
       "\n",
       ".xr-array-wrap {\n",
       "  grid-column: 1 / -1;\n",
       "  display: grid;\n",
       "  grid-template-columns: 20px auto;\n",
       "}\n",
       "\n",
       ".xr-array-wrap > label {\n",
       "  grid-column: 1;\n",
       "  vertical-align: top;\n",
       "}\n",
       "\n",
       ".xr-preview {\n",
       "  color: var(--xr-font-color3);\n",
       "}\n",
       "\n",
       ".xr-array-preview,\n",
       ".xr-array-data {\n",
       "  padding: 0 5px !important;\n",
       "  grid-column: 2;\n",
       "}\n",
       "\n",
       ".xr-array-data,\n",
       ".xr-array-in:checked ~ .xr-array-preview {\n",
       "  display: none;\n",
       "}\n",
       "\n",
       ".xr-array-in:checked ~ .xr-array-data,\n",
       ".xr-array-preview {\n",
       "  display: inline-block;\n",
       "}\n",
       "\n",
       ".xr-dim-list {\n",
       "  display: inline-block !important;\n",
       "  list-style: none;\n",
       "  padding: 0 !important;\n",
       "  margin: 0;\n",
       "}\n",
       "\n",
       ".xr-dim-list li {\n",
       "  display: inline-block;\n",
       "  padding: 0;\n",
       "  margin: 0;\n",
       "}\n",
       "\n",
       ".xr-dim-list:before {\n",
       "  content: '(';\n",
       "}\n",
       "\n",
       ".xr-dim-list:after {\n",
       "  content: ')';\n",
       "}\n",
       "\n",
       ".xr-dim-list li:not(:last-child):after {\n",
       "  content: ',';\n",
       "  padding-right: 5px;\n",
       "}\n",
       "\n",
       ".xr-has-index {\n",
       "  font-weight: bold;\n",
       "}\n",
       "\n",
       ".xr-var-list,\n",
       ".xr-var-item {\n",
       "  display: contents;\n",
       "}\n",
       "\n",
       ".xr-var-item > div,\n",
       ".xr-var-item label,\n",
       ".xr-var-item > .xr-var-name span {\n",
       "  background-color: var(--xr-background-color-row-even);\n",
       "  margin-bottom: 0;\n",
       "}\n",
       "\n",
       ".xr-var-item > .xr-var-name:hover span {\n",
       "  padding-right: 5px;\n",
       "}\n",
       "\n",
       ".xr-var-list > li:nth-child(odd) > div,\n",
       ".xr-var-list > li:nth-child(odd) > label,\n",
       ".xr-var-list > li:nth-child(odd) > .xr-var-name span {\n",
       "  background-color: var(--xr-background-color-row-odd);\n",
       "}\n",
       "\n",
       ".xr-var-name {\n",
       "  grid-column: 1;\n",
       "}\n",
       "\n",
       ".xr-var-dims {\n",
       "  grid-column: 2;\n",
       "}\n",
       "\n",
       ".xr-var-dtype {\n",
       "  grid-column: 3;\n",
       "  text-align: right;\n",
       "  color: var(--xr-font-color2);\n",
       "}\n",
       "\n",
       ".xr-var-preview {\n",
       "  grid-column: 4;\n",
       "}\n",
       "\n",
       ".xr-index-preview {\n",
       "  grid-column: 2 / 5;\n",
       "  color: var(--xr-font-color2);\n",
       "}\n",
       "\n",
       ".xr-var-name,\n",
       ".xr-var-dims,\n",
       ".xr-var-dtype,\n",
       ".xr-preview,\n",
       ".xr-attrs dt {\n",
       "  white-space: nowrap;\n",
       "  overflow: hidden;\n",
       "  text-overflow: ellipsis;\n",
       "  padding-right: 10px;\n",
       "}\n",
       "\n",
       ".xr-var-name:hover,\n",
       ".xr-var-dims:hover,\n",
       ".xr-var-dtype:hover,\n",
       ".xr-attrs dt:hover {\n",
       "  overflow: visible;\n",
       "  width: auto;\n",
       "  z-index: 1;\n",
       "}\n",
       "\n",
       ".xr-var-attrs,\n",
       ".xr-var-data,\n",
       ".xr-index-data {\n",
       "  display: none;\n",
       "  background-color: var(--xr-background-color) !important;\n",
       "  padding-bottom: 5px !important;\n",
       "}\n",
       "\n",
       ".xr-var-attrs-in:checked ~ .xr-var-attrs,\n",
       ".xr-var-data-in:checked ~ .xr-var-data,\n",
       ".xr-index-data-in:checked ~ .xr-index-data {\n",
       "  display: block;\n",
       "}\n",
       "\n",
       ".xr-var-data > table {\n",
       "  float: right;\n",
       "}\n",
       "\n",
       ".xr-var-name span,\n",
       ".xr-var-data,\n",
       ".xr-index-name div,\n",
       ".xr-index-data,\n",
       ".xr-attrs {\n",
       "  padding-left: 25px !important;\n",
       "}\n",
       "\n",
       ".xr-attrs,\n",
       ".xr-var-attrs,\n",
       ".xr-var-data,\n",
       ".xr-index-data {\n",
       "  grid-column: 1 / -1;\n",
       "}\n",
       "\n",
       "dl.xr-attrs {\n",
       "  padding: 0;\n",
       "  margin: 0;\n",
       "  display: grid;\n",
       "  grid-template-columns: 125px auto;\n",
       "}\n",
       "\n",
       ".xr-attrs dt,\n",
       ".xr-attrs dd {\n",
       "  padding: 0;\n",
       "  margin: 0;\n",
       "  float: left;\n",
       "  padding-right: 10px;\n",
       "  width: auto;\n",
       "}\n",
       "\n",
       ".xr-attrs dt {\n",
       "  font-weight: normal;\n",
       "  grid-column: 1;\n",
       "}\n",
       "\n",
       ".xr-attrs dt:hover span {\n",
       "  display: inline-block;\n",
       "  background: var(--xr-background-color);\n",
       "  padding-right: 10px;\n",
       "}\n",
       "\n",
       ".xr-attrs dd {\n",
       "  grid-column: 2;\n",
       "  white-space: pre-wrap;\n",
       "  word-break: break-all;\n",
       "}\n",
       "\n",
       ".xr-icon-database,\n",
       ".xr-icon-file-text2,\n",
       ".xr-no-icon {\n",
       "  display: inline-block;\n",
       "  vertical-align: middle;\n",
       "  width: 1em;\n",
       "  height: 1.5em !important;\n",
       "  stroke-width: 0;\n",
       "  stroke: currentColor;\n",
       "  fill: currentColor;\n",
       "}\n",
       "</style><pre class='xr-text-repr-fallback'>&lt;xarray.Dataset&gt;\n",
       "Dimensions:                       (index: 24491)\n",
       "Coordinates:\n",
       "  * index                         (index) int64 0 1 2 3 ... 24488 24489 24490\n",
       "Data variables: (12/41)\n",
       "    text                          (index) object &#x27;A Chinese proverb relevant ...\n",
       "    conversation_id               (index) object &#x27;819543073092931584&#x27; ... &#x27;81...\n",
       "    lang                          (index) object &#x27;en&#x27; &#x27;en&#x27; &#x27;en&#x27; ... &#x27;en&#x27; &#x27;en&#x27;\n",
       "    source                        (index) object &#x27;Twitter for Android&#x27; ... &#x27;T...\n",
       "    author_id                     (index) object &#x27;761805493&#x27; ... &#x27;402768458&#x27;\n",
       "    created_at                    (index) datetime64[ns] 2017-01-12T13:54:29 ...\n",
       "    ...                            ...\n",
       "    station_distance_km           (index) float64 4.766 6.961 ... 6.961 7.548\n",
       "    tp_h_mm                       (index) float64 0.8418 0.0 ... 0.005879\n",
       "    raining_station               (index) float64 1.0 0.0 0.0 ... 1.0 0.0 0.0\n",
       "    tp_mm_radar                   (index) float64 0.0 0.0 0.0 ... 0.0 0.0 0.0\n",
       "    tp_mm_station                 (index) float64 1.2e+03 0.0 0.0 ... 0.0 0.0\n",
       "    raining_radar                 (index) float64 0.0 0.0 0.0 ... 0.0 0.0 0.0\n",
       "Attributes:\n",
       "    description:  added locationsadded locationsadded locationsadded location...</pre><div class='xr-wrap' style='display:none'><div class='xr-header'><div class='xr-obj-type'>xarray.Dataset</div></div><ul class='xr-sections'><li class='xr-section-item'><input id='section-bce4a1e3-658a-4d2b-9f71-e0b4f2d5c5da' class='xr-section-summary-in' type='checkbox' disabled ><label for='section-bce4a1e3-658a-4d2b-9f71-e0b4f2d5c5da' class='xr-section-summary'  title='Expand/collapse section'>Dimensions:</label><div class='xr-section-inline-details'><ul class='xr-dim-list'><li><span class='xr-has-index'>index</span>: 24491</li></ul></div><div class='xr-section-details'></div></li><li class='xr-section-item'><input id='section-3defcb20-d7fa-4b1a-8534-1554ecf1ac71' class='xr-section-summary-in' type='checkbox'  checked><label for='section-3defcb20-d7fa-4b1a-8534-1554ecf1ac71' class='xr-section-summary' >Coordinates: <span>(1)</span></label><div class='xr-section-inline-details'></div><div class='xr-section-details'><ul class='xr-var-list'><li class='xr-var-item'><div class='xr-var-name'><span class='xr-has-index'>index</span></div><div class='xr-var-dims'>(index)</div><div class='xr-var-dtype'>int64</div><div class='xr-var-preview xr-preview'>0 1 2 3 ... 24487 24488 24489 24490</div><input id='attrs-aa99535e-e1fc-4674-8357-fb499181883c' class='xr-var-attrs-in' type='checkbox' disabled><label for='attrs-aa99535e-e1fc-4674-8357-fb499181883c' title='Show/Hide attributes'><svg class='icon xr-icon-file-text2'><use xlink:href='#icon-file-text2'></use></svg></label><input id='data-ae47c2df-d896-4a98-8c4f-5d0dc6f6bb56' class='xr-var-data-in' type='checkbox'><label for='data-ae47c2df-d896-4a98-8c4f-5d0dc6f6bb56' title='Show/Hide data repr'><svg class='icon xr-icon-database'><use xlink:href='#icon-database'></use></svg></label><div class='xr-var-attrs'><dl class='xr-attrs'></dl></div><div class='xr-var-data'><pre>array([    0,     1,     2, ..., 24488, 24489, 24490])</pre></div></li></ul></div></li><li class='xr-section-item'><input id='section-71955905-22a5-4bc5-aa94-d4c43cb829fa' class='xr-section-summary-in' type='checkbox'  ><label for='section-71955905-22a5-4bc5-aa94-d4c43cb829fa' class='xr-section-summary' >Data variables: <span>(41)</span></label><div class='xr-section-inline-details'></div><div class='xr-section-details'><ul class='xr-var-list'><li class='xr-var-item'><div class='xr-var-name'><span>text</span></div><div class='xr-var-dims'>(index)</div><div class='xr-var-dtype'>object</div><div class='xr-var-preview xr-preview'>&#x27;A Chinese proverb relevant toda...</div><input id='attrs-004a0a1d-22c8-4a38-adeb-11f28bf9ada7' class='xr-var-attrs-in' type='checkbox' disabled><label for='attrs-004a0a1d-22c8-4a38-adeb-11f28bf9ada7' title='Show/Hide attributes'><svg class='icon xr-icon-file-text2'><use xlink:href='#icon-file-text2'></use></svg></label><input id='data-61c045d1-1e5a-463a-b3f8-2cbff9831b2b' class='xr-var-data-in' type='checkbox'><label for='data-61c045d1-1e5a-463a-b3f8-2cbff9831b2b' title='Show/Hide data repr'><svg class='icon xr-icon-database'><use xlink:href='#icon-database'></use></svg></label><div class='xr-var-attrs'><dl class='xr-attrs'></dl></div><div class='xr-var-data'><pre>array([&#x27;A Chinese proverb relevant today &quot;When small people cast long shadows, the sun is setting&quot;&#x27;,\n",
       "       &#x27;A Deeper Look at the Snow Situation in Dubrovnik https://t.co/dznGQuYlPF&#x27;,\n",
       "       &#x27;@MrLender #WIN A Flotilla holiday with my husband @boatsailfish &amp;amp; son Arran \\n ( before he goes to Uni ). Bring on the sun! :) https://t.co/iNij4mcVBC&#x27;,\n",
       "       ...,\n",
       "       &#x27;@MMaryMcKenna yup, on my way to KingsX and then north, hope to miss the snow&#x27;,\n",
       "       &#x27;@liamdutton zero snow in W London to come back to. None fell.&#x27;,\n",
       "       &#x27;#Mushrooms, #chilli, #garlic,  #cheese, #lemon zest and a drizzle of #olive oil - so many of my favourite things! https://t.co/CkDbTOsl4J&#x27;],\n",
       "      dtype=object)</pre></div></li><li class='xr-var-item'><div class='xr-var-name'><span>conversation_id</span></div><div class='xr-var-dims'>(index)</div><div class='xr-var-dtype'>object</div><div class='xr-var-preview xr-preview'>&#x27;819543073092931584&#x27; ... &#x27;817806...</div><input id='attrs-316558d9-292f-4182-8eb8-fffb448785bf' class='xr-var-attrs-in' type='checkbox' disabled><label for='attrs-316558d9-292f-4182-8eb8-fffb448785bf' title='Show/Hide attributes'><svg class='icon xr-icon-file-text2'><use xlink:href='#icon-file-text2'></use></svg></label><input id='data-59bb4834-0e99-447c-bae4-0e054ac91559' class='xr-var-data-in' type='checkbox'><label for='data-59bb4834-0e99-447c-bae4-0e054ac91559' title='Show/Hide data repr'><svg class='icon xr-icon-database'><use xlink:href='#icon-database'></use></svg></label><div class='xr-var-attrs'><dl class='xr-attrs'></dl></div><div class='xr-var-data'><pre>array([&#x27;819543073092931584&#x27;, &#x27;819185140786196480&#x27;, &#x27;816940065419132928&#x27;,\n",
       "       ..., &#x27;819575512691523584&#x27;, &#x27;819649920676331520&#x27;,\n",
       "       &#x27;817806117409529856&#x27;], dtype=object)</pre></div></li><li class='xr-var-item'><div class='xr-var-name'><span>lang</span></div><div class='xr-var-dims'>(index)</div><div class='xr-var-dtype'>object</div><div class='xr-var-preview xr-preview'>&#x27;en&#x27; &#x27;en&#x27; &#x27;en&#x27; ... &#x27;en&#x27; &#x27;en&#x27; &#x27;en&#x27;</div><input id='attrs-c740bb6e-422c-4820-b1e6-008616fe027a' class='xr-var-attrs-in' type='checkbox' disabled><label for='attrs-c740bb6e-422c-4820-b1e6-008616fe027a' title='Show/Hide attributes'><svg class='icon xr-icon-file-text2'><use xlink:href='#icon-file-text2'></use></svg></label><input id='data-57af294e-f475-4fb5-bb6a-167a5d690a18' class='xr-var-data-in' type='checkbox'><label for='data-57af294e-f475-4fb5-bb6a-167a5d690a18' title='Show/Hide data repr'><svg class='icon xr-icon-database'><use xlink:href='#icon-database'></use></svg></label><div class='xr-var-attrs'><dl class='xr-attrs'></dl></div><div class='xr-var-data'><pre>array([&#x27;en&#x27;, &#x27;en&#x27;, &#x27;en&#x27;, ..., &#x27;en&#x27;, &#x27;en&#x27;, &#x27;en&#x27;], dtype=object)</pre></div></li><li class='xr-var-item'><div class='xr-var-name'><span>source</span></div><div class='xr-var-dims'>(index)</div><div class='xr-var-dtype'>object</div><div class='xr-var-preview xr-preview'>&#x27;Twitter for Android&#x27; ... &#x27;Twitt...</div><input id='attrs-edd03d07-96e6-4f80-8377-4b2d3b4731b5' class='xr-var-attrs-in' type='checkbox' disabled><label for='attrs-edd03d07-96e6-4f80-8377-4b2d3b4731b5' title='Show/Hide attributes'><svg class='icon xr-icon-file-text2'><use xlink:href='#icon-file-text2'></use></svg></label><input id='data-4fde1500-96d3-4455-9852-9eee49196d37' class='xr-var-data-in' type='checkbox'><label for='data-4fde1500-96d3-4455-9852-9eee49196d37' title='Show/Hide data repr'><svg class='icon xr-icon-database'><use xlink:href='#icon-database'></use></svg></label><div class='xr-var-attrs'><dl class='xr-attrs'></dl></div><div class='xr-var-data'><pre>array([&#x27;Twitter for Android&#x27;, &#x27;Twitter for Android&#x27;, &#x27;Twitter Web Client&#x27;,\n",
       "       ..., &#x27;Tweetbot for iΟS&#x27;, &#x27;Twitter for Android&#x27;,\n",
       "       &#x27;Twitter for iPhone&#x27;], dtype=object)</pre></div></li><li class='xr-var-item'><div class='xr-var-name'><span>author_id</span></div><div class='xr-var-dims'>(index)</div><div class='xr-var-dtype'>object</div><div class='xr-var-preview xr-preview'>&#x27;761805493&#x27; ... &#x27;402768458&#x27;</div><input id='attrs-47306069-f7e0-4e6d-b511-c532873fd56a' class='xr-var-attrs-in' type='checkbox' disabled><label for='attrs-47306069-f7e0-4e6d-b511-c532873fd56a' title='Show/Hide attributes'><svg class='icon xr-icon-file-text2'><use xlink:href='#icon-file-text2'></use></svg></label><input id='data-7a3641e9-4806-4928-996c-0cb40fbdd063' class='xr-var-data-in' type='checkbox'><label for='data-7a3641e9-4806-4928-996c-0cb40fbdd063' title='Show/Hide data repr'><svg class='icon xr-icon-database'><use xlink:href='#icon-database'></use></svg></label><div class='xr-var-attrs'><dl class='xr-attrs'></dl></div><div class='xr-var-data'><pre>array([&#x27;761805493&#x27;, &#x27;79705868&#x27;, &#x27;1186598713&#x27;, ..., &#x27;129822352&#x27;,\n",
       "       &#x27;20282689&#x27;, &#x27;402768458&#x27;], dtype=object)</pre></div></li><li class='xr-var-item'><div class='xr-var-name'><span>created_at</span></div><div class='xr-var-dims'>(index)</div><div class='xr-var-dtype'>datetime64[ns]</div><div class='xr-var-preview xr-preview'>2017-01-12T13:54:29 ... 2017-01-...</div><input id='attrs-0cc0f39d-28c0-4612-ab18-9658856832c4' class='xr-var-attrs-in' type='checkbox' disabled><label for='attrs-0cc0f39d-28c0-4612-ab18-9658856832c4' title='Show/Hide attributes'><svg class='icon xr-icon-file-text2'><use xlink:href='#icon-file-text2'></use></svg></label><input id='data-896ceb68-5055-4eea-b77e-5dafb00bd33f' class='xr-var-data-in' type='checkbox'><label for='data-896ceb68-5055-4eea-b77e-5dafb00bd33f' title='Show/Hide data repr'><svg class='icon xr-icon-database'><use xlink:href='#icon-database'></use></svg></label><div class='xr-var-attrs'><dl class='xr-attrs'></dl></div><div class='xr-var-data'><pre>array([&#x27;2017-01-12T13:54:29.000000000&#x27;, &#x27;2017-01-11T14:12:11.000000000&#x27;,\n",
       "       &#x27;2017-01-05T15:43:55.000000000&#x27;, ...,\n",
       "       &#x27;2017-01-12T16:46:20.000000000&#x27;, &#x27;2017-01-12T21:09:13.000000000&#x27;,\n",
       "       &#x27;2017-01-07T18:52:27.000000000&#x27;], dtype=&#x27;datetime64[ns]&#x27;)</pre></div></li><li class='xr-var-item'><div class='xr-var-name'><span>id</span></div><div class='xr-var-dims'>(index)</div><div class='xr-var-dtype'>object</div><div class='xr-var-preview xr-preview'>&#x27;819543073092931584&#x27; ... &#x27;817806...</div><input id='attrs-908065d4-93fb-48b8-a7d2-0396eddfff90' class='xr-var-attrs-in' type='checkbox' disabled><label for='attrs-908065d4-93fb-48b8-a7d2-0396eddfff90' title='Show/Hide attributes'><svg class='icon xr-icon-file-text2'><use xlink:href='#icon-file-text2'></use></svg></label><input id='data-05e8d725-8f37-40f8-989d-0a7cdf456911' class='xr-var-data-in' type='checkbox'><label for='data-05e8d725-8f37-40f8-989d-0a7cdf456911' title='Show/Hide data repr'><svg class='icon xr-icon-database'><use xlink:href='#icon-database'></use></svg></label><div class='xr-var-attrs'><dl class='xr-attrs'></dl></div><div class='xr-var-data'><pre>array([&#x27;819543073092931584&#x27;, &#x27;819185140786196480&#x27;, &#x27;817033896265207808&#x27;,\n",
       "       ..., &#x27;819586320410480642&#x27;, &#x27;819652474734804992&#x27;,\n",
       "       &#x27;817806117409529856&#x27;], dtype=object)</pre></div></li><li class='xr-var-item'><div class='xr-var-name'><span>geo.place_id</span></div><div class='xr-var-dims'>(index)</div><div class='xr-var-dtype'>object</div><div class='xr-var-preview xr-preview'>&#x27;06b6b2a6eb0f9d37&#x27; ... &#x27;2a3f152d...</div><input id='attrs-91c714f4-f353-45b7-825d-7464f005f243' class='xr-var-attrs-in' type='checkbox' disabled><label for='attrs-91c714f4-f353-45b7-825d-7464f005f243' title='Show/Hide attributes'><svg class='icon xr-icon-file-text2'><use xlink:href='#icon-file-text2'></use></svg></label><input id='data-d21b70b0-9ecc-4b12-8e9a-5c8e343de82a' class='xr-var-data-in' type='checkbox'><label for='data-d21b70b0-9ecc-4b12-8e9a-5c8e343de82a' title='Show/Hide data repr'><svg class='icon xr-icon-database'><use xlink:href='#icon-database'></use></svg></label><div class='xr-var-attrs'><dl class='xr-attrs'></dl></div><div class='xr-var-data'><pre>array([&#x27;06b6b2a6eb0f9d37&#x27;, &#x27;09ba692cbddfc92c&#x27;, &#x27;38d05a66be6d4ee1&#x27;, ...,\n",
       "       &#x27;544762ebf7fda780&#x27;, &#x27;09ba692cbddfc92c&#x27;, &#x27;2a3f152d1ac5044a&#x27;],\n",
       "      dtype=object)</pre></div></li><li class='xr-var-item'><div class='xr-var-name'><span>geo.coordinates.type</span></div><div class='xr-var-dims'>(index)</div><div class='xr-var-dtype'>object</div><div class='xr-var-preview xr-preview'>&#x27;&#x27; &#x27;&#x27; &#x27;&#x27; &#x27;&#x27; &#x27;&#x27; ... &#x27;&#x27; &#x27;&#x27; &#x27;&#x27; &#x27;&#x27; &#x27;&#x27;</div><input id='attrs-3ee732d5-c7b8-48a8-a623-13ba0f45a66c' class='xr-var-attrs-in' type='checkbox' disabled><label for='attrs-3ee732d5-c7b8-48a8-a623-13ba0f45a66c' title='Show/Hide attributes'><svg class='icon xr-icon-file-text2'><use xlink:href='#icon-file-text2'></use></svg></label><input id='data-ac7edfe7-29dd-4de6-b8a5-f03b5c84d362' class='xr-var-data-in' type='checkbox'><label for='data-ac7edfe7-29dd-4de6-b8a5-f03b5c84d362' title='Show/Hide data repr'><svg class='icon xr-icon-database'><use xlink:href='#icon-database'></use></svg></label><div class='xr-var-attrs'><dl class='xr-attrs'></dl></div><div class='xr-var-data'><pre>array([&#x27;&#x27;, &#x27;&#x27;, &#x27;&#x27;, ..., &#x27;&#x27;, &#x27;&#x27;, &#x27;&#x27;], dtype=object)</pre></div></li><li class='xr-var-item'><div class='xr-var-name'><span>geo.coordinates.coordinates</span></div><div class='xr-var-dims'>(index)</div><div class='xr-var-dtype'>object</div><div class='xr-var-preview xr-preview'>&#x27;nan&#x27; &#x27;nan&#x27; &#x27;nan&#x27; ... &#x27;nan&#x27; &#x27;nan&#x27;</div><input id='attrs-3b585431-fb3c-4e84-bb7f-4bf9ad4bdaf7' class='xr-var-attrs-in' type='checkbox' disabled><label for='attrs-3b585431-fb3c-4e84-bb7f-4bf9ad4bdaf7' title='Show/Hide attributes'><svg class='icon xr-icon-file-text2'><use xlink:href='#icon-file-text2'></use></svg></label><input id='data-241dacb7-c3c7-4c02-bccd-18667ec2f3af' class='xr-var-data-in' type='checkbox'><label for='data-241dacb7-c3c7-4c02-bccd-18667ec2f3af' title='Show/Hide data repr'><svg class='icon xr-icon-database'><use xlink:href='#icon-database'></use></svg></label><div class='xr-var-attrs'><dl class='xr-attrs'></dl></div><div class='xr-var-data'><pre>array([&#x27;nan&#x27;, &#x27;nan&#x27;, &#x27;nan&#x27;, ..., &#x27;nan&#x27;, &#x27;nan&#x27;, &#x27;nan&#x27;], dtype=object)</pre></div></li><li class='xr-var-item'><div class='xr-var-name'><span>public_metrics.retweet_count</span></div><div class='xr-var-dims'>(index)</div><div class='xr-var-dtype'>float64</div><div class='xr-var-preview xr-preview'>0.0 0.0 0.0 0.0 ... 0.0 0.0 0.0 0.0</div><input id='attrs-b4dc7601-2a77-4a4d-a52b-837c547579a9' class='xr-var-attrs-in' type='checkbox' disabled><label for='attrs-b4dc7601-2a77-4a4d-a52b-837c547579a9' title='Show/Hide attributes'><svg class='icon xr-icon-file-text2'><use xlink:href='#icon-file-text2'></use></svg></label><input id='data-6d23f806-ae9b-4bf2-b5f5-09b13a0e6785' class='xr-var-data-in' type='checkbox'><label for='data-6d23f806-ae9b-4bf2-b5f5-09b13a0e6785' title='Show/Hide data repr'><svg class='icon xr-icon-database'><use xlink:href='#icon-database'></use></svg></label><div class='xr-var-attrs'><dl class='xr-attrs'></dl></div><div class='xr-var-data'><pre>array([0., 0., 0., ..., 0., 0., 0.])</pre></div></li><li class='xr-var-item'><div class='xr-var-name'><span>public_metrics.reply_count</span></div><div class='xr-var-dims'>(index)</div><div class='xr-var-dtype'>float64</div><div class='xr-var-preview xr-preview'>0.0 0.0 0.0 0.0 ... 1.0 0.0 0.0 0.0</div><input id='attrs-6da0ea9a-5f5d-4ffa-9994-826c065110b9' class='xr-var-attrs-in' type='checkbox' disabled><label for='attrs-6da0ea9a-5f5d-4ffa-9994-826c065110b9' title='Show/Hide attributes'><svg class='icon xr-icon-file-text2'><use xlink:href='#icon-file-text2'></use></svg></label><input id='data-2154dc00-aee1-4874-a967-e10ec2426001' class='xr-var-data-in' type='checkbox'><label for='data-2154dc00-aee1-4874-a967-e10ec2426001' title='Show/Hide data repr'><svg class='icon xr-icon-database'><use xlink:href='#icon-database'></use></svg></label><div class='xr-var-attrs'><dl class='xr-attrs'></dl></div><div class='xr-var-data'><pre>array([0., 0., 0., ..., 0., 0., 0.])</pre></div></li><li class='xr-var-item'><div class='xr-var-name'><span>public_metrics.like_count</span></div><div class='xr-var-dims'>(index)</div><div class='xr-var-dtype'>float64</div><div class='xr-var-preview xr-preview'>0.0 0.0 0.0 0.0 ... 0.0 0.0 0.0 0.0</div><input id='attrs-0c6559d0-0821-45a3-abfb-d3fae52a1f2d' class='xr-var-attrs-in' type='checkbox' disabled><label for='attrs-0c6559d0-0821-45a3-abfb-d3fae52a1f2d' title='Show/Hide attributes'><svg class='icon xr-icon-file-text2'><use xlink:href='#icon-file-text2'></use></svg></label><input id='data-9b610ef7-d2b8-489d-9ea8-8072a5e024bc' class='xr-var-data-in' type='checkbox'><label for='data-9b610ef7-d2b8-489d-9ea8-8072a5e024bc' title='Show/Hide data repr'><svg class='icon xr-icon-database'><use xlink:href='#icon-database'></use></svg></label><div class='xr-var-attrs'><dl class='xr-attrs'></dl></div><div class='xr-var-data'><pre>array([0., 0., 0., ..., 0., 0., 0.])</pre></div></li><li class='xr-var-item'><div class='xr-var-name'><span>public_metrics.quote_count</span></div><div class='xr-var-dims'>(index)</div><div class='xr-var-dtype'>float64</div><div class='xr-var-preview xr-preview'>0.0 0.0 0.0 0.0 ... 0.0 0.0 0.0 0.0</div><input id='attrs-c49ee7cd-0c4a-4042-ad75-abb68831cfad' class='xr-var-attrs-in' type='checkbox' disabled><label for='attrs-c49ee7cd-0c4a-4042-ad75-abb68831cfad' title='Show/Hide attributes'><svg class='icon xr-icon-file-text2'><use xlink:href='#icon-file-text2'></use></svg></label><input id='data-d12739f1-e981-43ec-90de-1e5afb77548a' class='xr-var-data-in' type='checkbox'><label for='data-d12739f1-e981-43ec-90de-1e5afb77548a' title='Show/Hide data repr'><svg class='icon xr-icon-database'><use xlink:href='#icon-database'></use></svg></label><div class='xr-var-attrs'><dl class='xr-attrs'></dl></div><div class='xr-var-data'><pre>array([0., 0., 0., ..., 0., 0., 0.])</pre></div></li><li class='xr-var-item'><div class='xr-var-name'><span>referenced_tweets</span></div><div class='xr-var-dims'>(index)</div><div class='xr-var-dtype'>object</div><div class='xr-var-preview xr-preview'>&#x27;nan&#x27; &#x27;nan&#x27; ... &#x27;nan&#x27;</div><input id='attrs-4f722eaa-d6a6-4063-b04a-bb18895997b8' class='xr-var-attrs-in' type='checkbox' disabled><label for='attrs-4f722eaa-d6a6-4063-b04a-bb18895997b8' title='Show/Hide attributes'><svg class='icon xr-icon-file-text2'><use xlink:href='#icon-file-text2'></use></svg></label><input id='data-356e7831-6f70-4278-97c3-4f0a0acbc0cc' class='xr-var-data-in' type='checkbox'><label for='data-356e7831-6f70-4278-97c3-4f0a0acbc0cc' title='Show/Hide data repr'><svg class='icon xr-icon-database'><use xlink:href='#icon-database'></use></svg></label><div class='xr-var-attrs'><dl class='xr-attrs'></dl></div><div class='xr-var-data'><pre>array([&#x27;nan&#x27;, &#x27;nan&#x27;,\n",
       "       &quot;[{&#x27;type&#x27;: &#x27;replied_to&#x27;, &#x27;id&#x27;: &#x27;816940065419132928&#x27;}]&quot;, ...,\n",
       "       &quot;[{&#x27;type&#x27;: &#x27;replied_to&#x27;, &#x27;id&#x27;: &#x27;819575512691523584&#x27;}]&quot;,\n",
       "       &quot;[{&#x27;type&#x27;: &#x27;replied_to&#x27;, &#x27;id&#x27;: &#x27;819649920676331520&#x27;}]&quot;, &#x27;nan&#x27;],\n",
       "      dtype=object)</pre></div></li><li class='xr-var-item'><div class='xr-var-name'><span>in_reply_to_user_id</span></div><div class='xr-var-dims'>(index)</div><div class='xr-var-dtype'>object</div><div class='xr-var-preview xr-preview'>&#x27;&#x27; &#x27;&#x27; &#x27;18804678&#x27; ... &#x27;20481072&#x27; &#x27;&#x27;</div><input id='attrs-de000746-844a-40be-8894-7daab4264895' class='xr-var-attrs-in' type='checkbox' disabled><label for='attrs-de000746-844a-40be-8894-7daab4264895' title='Show/Hide attributes'><svg class='icon xr-icon-file-text2'><use xlink:href='#icon-file-text2'></use></svg></label><input id='data-0a57116a-537f-4f40-8ce6-de169e02ed62' class='xr-var-data-in' type='checkbox'><label for='data-0a57116a-537f-4f40-8ce6-de169e02ed62' title='Show/Hide data repr'><svg class='icon xr-icon-database'><use xlink:href='#icon-database'></use></svg></label><div class='xr-var-attrs'><dl class='xr-attrs'></dl></div><div class='xr-var-data'><pre>array([&#x27;&#x27;, &#x27;&#x27;, &#x27;18804678&#x27;, ..., &#x27;20276317&#x27;, &#x27;20481072&#x27;, &#x27;&#x27;], dtype=object)</pre></div></li><li class='xr-var-item'><div class='xr-var-name'><span>coordinates_estimated</span></div><div class='xr-var-dims'>(index)</div><div class='xr-var-dtype'>float64</div><div class='xr-var-preview xr-preview'>1.0 1.0 1.0 1.0 ... 1.0 1.0 1.0 1.0</div><input id='attrs-724efcef-037e-43b8-b07c-6cce2a4683d4' class='xr-var-attrs-in' type='checkbox' disabled><label for='attrs-724efcef-037e-43b8-b07c-6cce2a4683d4' title='Show/Hide attributes'><svg class='icon xr-icon-file-text2'><use xlink:href='#icon-file-text2'></use></svg></label><input id='data-88734af2-cd90-4d93-b675-9e47c407cade' class='xr-var-data-in' type='checkbox'><label for='data-88734af2-cd90-4d93-b675-9e47c407cade' title='Show/Hide data repr'><svg class='icon xr-icon-database'><use xlink:href='#icon-database'></use></svg></label><div class='xr-var-attrs'><dl class='xr-attrs'></dl></div><div class='xr-var-data'><pre>array([1., 1., 1., ..., 1., 1., 1.])</pre></div></li><li class='xr-var-item'><div class='xr-var-name'><span>centroid</span></div><div class='xr-var-dims'>(index)</div><div class='xr-var-dtype'>object</div><div class='xr-var-preview xr-preview'>&#x27;[-1.26565308394161, 52.37432099...</div><input id='attrs-6b130211-b8f8-47e8-b584-addb2f57b9a7' class='xr-var-attrs-in' type='checkbox' disabled><label for='attrs-6b130211-b8f8-47e8-b584-addb2f57b9a7' title='Show/Hide attributes'><svg class='icon xr-icon-file-text2'><use xlink:href='#icon-file-text2'></use></svg></label><input id='data-d739faa5-6782-4cf6-987f-9262bbfa9f13' class='xr-var-data-in' type='checkbox'><label for='data-d739faa5-6782-4cf6-987f-9262bbfa9f13' title='Show/Hide data repr'><svg class='icon xr-icon-database'><use xlink:href='#icon-database'></use></svg></label><div class='xr-var-attrs'><dl class='xr-attrs'></dl></div><div class='xr-var-data'><pre>array([&#x27;[-1.26565308394161, 52.374320999999995]&#x27;,\n",
       "       &#x27;[-0.230690548498061, 51.49844985]&#x27;,\n",
       "       &#x27;[0.9172467015294961, 51.88869955]&#x27;, ...,\n",
       "       &#x27;[-0.10159977007256701, 51.546839500000004]&#x27;,\n",
       "       &#x27;[-0.230690548498061, 51.49844985]&#x27;,\n",
       "       &#x27;[-0.046174056336796006, 51.5474543]&#x27;], dtype=object)</pre></div></li><li class='xr-var-item'><div class='xr-var-name'><span>place_type</span></div><div class='xr-var-dims'>(index)</div><div class='xr-var-dtype'>object</div><div class='xr-var-preview xr-preview'>&#x27;city&#x27; &#x27;city&#x27; ... &#x27;city&#x27; &#x27;city&#x27;</div><input id='attrs-8fe3ceb2-3d58-4632-b2a7-430fb71596f3' class='xr-var-attrs-in' type='checkbox' disabled><label for='attrs-8fe3ceb2-3d58-4632-b2a7-430fb71596f3' title='Show/Hide attributes'><svg class='icon xr-icon-file-text2'><use xlink:href='#icon-file-text2'></use></svg></label><input id='data-867346c4-155c-4111-8b06-88739924910b' class='xr-var-data-in' type='checkbox'><label for='data-867346c4-155c-4111-8b06-88739924910b' title='Show/Hide data repr'><svg class='icon xr-icon-database'><use xlink:href='#icon-database'></use></svg></label><div class='xr-var-attrs'><dl class='xr-attrs'></dl></div><div class='xr-var-data'><pre>array([&#x27;city&#x27;, &#x27;city&#x27;, &#x27;city&#x27;, ..., &#x27;city&#x27;, &#x27;city&#x27;, &#x27;city&#x27;], dtype=object)</pre></div></li><li class='xr-var-item'><div class='xr-var-name'><span>full_name</span></div><div class='xr-var-dims'>(index)</div><div class='xr-var-dtype'>object</div><div class='xr-var-preview xr-preview'>&#x27;Rugby, England&#x27; ... &#x27;Hackney, L...</div><input id='attrs-ca1215ad-e9e7-40d9-ae84-f7a4694f9d33' class='xr-var-attrs-in' type='checkbox' disabled><label for='attrs-ca1215ad-e9e7-40d9-ae84-f7a4694f9d33' title='Show/Hide attributes'><svg class='icon xr-icon-file-text2'><use xlink:href='#icon-file-text2'></use></svg></label><input id='data-60d399ff-be7e-4dc7-909a-b11228e6cfbc' class='xr-var-data-in' type='checkbox'><label for='data-60d399ff-be7e-4dc7-909a-b11228e6cfbc' title='Show/Hide data repr'><svg class='icon xr-icon-database'><use xlink:href='#icon-database'></use></svg></label><div class='xr-var-attrs'><dl class='xr-attrs'></dl></div><div class='xr-var-data'><pre>array([&#x27;Rugby, England&#x27;, &#x27;Hammersmith, London&#x27;, &#x27;Colchester, England&#x27;,\n",
       "       ..., &#x27;Islington, London&#x27;, &#x27;Hammersmith, London&#x27;, &#x27;Hackney, London&#x27;],\n",
       "      dtype=object)</pre></div></li><li class='xr-var-item'><div class='xr-var-name'><span>bounding_box_area</span></div><div class='xr-var-dims'>(index)</div><div class='xr-var-dtype'>float64</div><div class='xr-var-preview xr-preview'>46.42 41.02 58.22 ... 41.02 39.74</div><input id='attrs-00b5855e-1fe1-45e3-967d-a245318f4466' class='xr-var-attrs-in' type='checkbox' disabled><label for='attrs-00b5855e-1fe1-45e3-967d-a245318f4466' title='Show/Hide attributes'><svg class='icon xr-icon-file-text2'><use xlink:href='#icon-file-text2'></use></svg></label><input id='data-e7de9fa0-c49b-4fef-a2da-b7ff4d59762c' class='xr-var-data-in' type='checkbox'><label for='data-e7de9fa0-c49b-4fef-a2da-b7ff4d59762c' title='Show/Hide data repr'><svg class='icon xr-icon-database'><use xlink:href='#icon-database'></use></svg></label><div class='xr-var-attrs'><dl class='xr-attrs'></dl></div><div class='xr-var-data'><pre>array([46.42147162, 41.0172696 , 58.21546625, ..., 28.79885576,\n",
       "       41.0172696 , 39.74457698])</pre></div></li><li class='xr-var-item'><div class='xr-var-name'><span>centroid_longitude</span></div><div class='xr-var-dims'>(index)</div><div class='xr-var-dtype'>float64</div><div class='xr-var-preview xr-preview'>-1.266 -0.2307 ... -0.2307 -0.04617</div><input id='attrs-a6283b34-a0b1-447a-9fc0-b10341c2d6e7' class='xr-var-attrs-in' type='checkbox' disabled><label for='attrs-a6283b34-a0b1-447a-9fc0-b10341c2d6e7' title='Show/Hide attributes'><svg class='icon xr-icon-file-text2'><use xlink:href='#icon-file-text2'></use></svg></label><input id='data-c289e4de-5c01-46ff-83ea-9a048052822a' class='xr-var-data-in' type='checkbox'><label for='data-c289e4de-5c01-46ff-83ea-9a048052822a' title='Show/Hide data repr'><svg class='icon xr-icon-database'><use xlink:href='#icon-database'></use></svg></label><div class='xr-var-attrs'><dl class='xr-attrs'></dl></div><div class='xr-var-data'><pre>array([-1.26565308, -0.23069055,  0.9172467 , ..., -0.10159977,\n",
       "       -0.23069055, -0.04617406])</pre></div></li><li class='xr-var-item'><div class='xr-var-name'><span>centroid_latitude</span></div><div class='xr-var-dims'>(index)</div><div class='xr-var-dtype'>float64</div><div class='xr-var-preview xr-preview'>52.37 51.5 51.89 ... 51.5 51.55</div><input id='attrs-2f5f4ec2-791d-4bb4-bba0-a67d482a8350' class='xr-var-attrs-in' type='checkbox' disabled><label for='attrs-2f5f4ec2-791d-4bb4-bba0-a67d482a8350' title='Show/Hide attributes'><svg class='icon xr-icon-file-text2'><use xlink:href='#icon-file-text2'></use></svg></label><input id='data-3e5ac302-6054-41d4-8890-2a4c889d23b7' class='xr-var-data-in' type='checkbox'><label for='data-3e5ac302-6054-41d4-8890-2a4c889d23b7' title='Show/Hide data repr'><svg class='icon xr-icon-database'><use xlink:href='#icon-database'></use></svg></label><div class='xr-var-attrs'><dl class='xr-attrs'></dl></div><div class='xr-var-data'><pre>array([52.374321  , 51.49844985, 51.88869955, ..., 51.5468395 ,\n",
       "       51.49844985, 51.5474543 ])</pre></div></li><li class='xr-var-item'><div class='xr-var-name'><span>longitude</span></div><div class='xr-var-dims'>(index)</div><div class='xr-var-dtype'>float64</div><div class='xr-var-preview xr-preview'>-1.266 -0.2307 ... -0.2307 -0.04617</div><input id='attrs-924c21b4-35a4-449d-8e3e-b85bc8ec4825' class='xr-var-attrs-in' type='checkbox' disabled><label for='attrs-924c21b4-35a4-449d-8e3e-b85bc8ec4825' title='Show/Hide attributes'><svg class='icon xr-icon-file-text2'><use xlink:href='#icon-file-text2'></use></svg></label><input id='data-a869a951-d154-45b5-a1e0-8a3882bd909c' class='xr-var-data-in' type='checkbox'><label for='data-a869a951-d154-45b5-a1e0-8a3882bd909c' title='Show/Hide data repr'><svg class='icon xr-icon-database'><use xlink:href='#icon-database'></use></svg></label><div class='xr-var-attrs'><dl class='xr-attrs'></dl></div><div class='xr-var-data'><pre>array([-1.26565308, -0.23069055,  0.9172467 , ..., -0.10159977,\n",
       "       -0.23069055, -0.04617406])</pre></div></li><li class='xr-var-item'><div class='xr-var-name'><span>latitude</span></div><div class='xr-var-dims'>(index)</div><div class='xr-var-dtype'>float64</div><div class='xr-var-preview xr-preview'>52.37 51.5 51.89 ... 51.5 51.55</div><input id='attrs-9d832145-ee3c-4587-941e-875d4c7cfc92' class='xr-var-attrs-in' type='checkbox' disabled><label for='attrs-9d832145-ee3c-4587-941e-875d4c7cfc92' title='Show/Hide attributes'><svg class='icon xr-icon-file-text2'><use xlink:href='#icon-file-text2'></use></svg></label><input id='data-774a4193-29b0-422f-8bf0-2149936234ca' class='xr-var-data-in' type='checkbox'><label for='data-774a4193-29b0-422f-8bf0-2149936234ca' title='Show/Hide data repr'><svg class='icon xr-icon-database'><use xlink:href='#icon-database'></use></svg></label><div class='xr-var-attrs'><dl class='xr-attrs'></dl></div><div class='xr-var-data'><pre>array([52.374321  , 51.49844985, 51.88869955, ..., 51.5468395 ,\n",
       "       51.49844985, 51.5474543 ])</pre></div></li><li class='xr-var-item'><div class='xr-var-name'><span>latitude_rounded</span></div><div class='xr-var-dims'>(index)</div><div class='xr-var-dtype'>float64</div><div class='xr-var-preview xr-preview'>52.4 51.5 51.9 ... 51.5 51.5 51.5</div><input id='attrs-951b0278-49af-4a79-b3f3-6d53627f97f9' class='xr-var-attrs-in' type='checkbox' disabled><label for='attrs-951b0278-49af-4a79-b3f3-6d53627f97f9' title='Show/Hide attributes'><svg class='icon xr-icon-file-text2'><use xlink:href='#icon-file-text2'></use></svg></label><input id='data-953a4d28-2e22-41ee-9fea-24a83bd7e094' class='xr-var-data-in' type='checkbox'><label for='data-953a4d28-2e22-41ee-9fea-24a83bd7e094' title='Show/Hide data repr'><svg class='icon xr-icon-database'><use xlink:href='#icon-database'></use></svg></label><div class='xr-var-attrs'><dl class='xr-attrs'></dl></div><div class='xr-var-data'><pre>array([52.4, 51.5, 51.9, ..., 51.5, 51.5, 51.5])</pre></div></li><li class='xr-var-item'><div class='xr-var-name'><span>longitude_rounded</span></div><div class='xr-var-dims'>(index)</div><div class='xr-var-dtype'>float64</div><div class='xr-var-preview xr-preview'>-1.3 -0.2 0.9 ... -0.1 -0.2 -0.0</div><input id='attrs-980173ec-816a-4533-9976-a5a383ce386f' class='xr-var-attrs-in' type='checkbox' disabled><label for='attrs-980173ec-816a-4533-9976-a5a383ce386f' title='Show/Hide attributes'><svg class='icon xr-icon-file-text2'><use xlink:href='#icon-file-text2'></use></svg></label><input id='data-b8656bf2-a835-47e8-878a-c87360ddb201' class='xr-var-data-in' type='checkbox'><label for='data-b8656bf2-a835-47e8-878a-c87360ddb201' title='Show/Hide data repr'><svg class='icon xr-icon-database'><use xlink:href='#icon-database'></use></svg></label><div class='xr-var-attrs'><dl class='xr-attrs'></dl></div><div class='xr-var-data'><pre>array([-1.3, -0.2,  0.9, ..., -0.1, -0.2, -0. ])</pre></div></li><li class='xr-var-item'><div class='xr-var-name'><span>created_at_h</span></div><div class='xr-var-dims'>(index)</div><div class='xr-var-dtype'>datetime64[ns]</div><div class='xr-var-preview xr-preview'>2017-01-12T14:00:00 ... 2017-01-...</div><input id='attrs-c2ceb277-0804-486e-8de2-6a5e7b3f149c' class='xr-var-attrs-in' type='checkbox' disabled><label for='attrs-c2ceb277-0804-486e-8de2-6a5e7b3f149c' title='Show/Hide attributes'><svg class='icon xr-icon-file-text2'><use xlink:href='#icon-file-text2'></use></svg></label><input id='data-37fc97da-bcfd-4934-8f20-aa5744c09599' class='xr-var-data-in' type='checkbox'><label for='data-37fc97da-bcfd-4934-8f20-aa5744c09599' title='Show/Hide data repr'><svg class='icon xr-icon-database'><use xlink:href='#icon-database'></use></svg></label><div class='xr-var-attrs'><dl class='xr-attrs'></dl></div><div class='xr-var-data'><pre>array([&#x27;2017-01-12T14:00:00.000000000&#x27;, &#x27;2017-01-11T14:00:00.000000000&#x27;,\n",
       "       &#x27;2017-01-05T16:00:00.000000000&#x27;, ...,\n",
       "       &#x27;2017-01-12T17:00:00.000000000&#x27;, &#x27;2017-01-12T21:00:00.000000000&#x27;,\n",
       "       &#x27;2017-01-07T19:00:00.000000000&#x27;], dtype=&#x27;datetime64[ns]&#x27;)</pre></div></li><li class='xr-var-item'><div class='xr-var-name'><span>tp_h</span></div><div class='xr-var-dims'>(index)</div><div class='xr-var-dtype'>float64</div><div class='xr-var-preview xr-preview'>0.0008418 0.0 ... 5.879e-06</div><input id='attrs-ede86739-239a-44f5-bb9c-d0890a6f0ce0' class='xr-var-attrs-in' type='checkbox' disabled><label for='attrs-ede86739-239a-44f5-bb9c-d0890a6f0ce0' title='Show/Hide attributes'><svg class='icon xr-icon-file-text2'><use xlink:href='#icon-file-text2'></use></svg></label><input id='data-0dae82f6-a061-4c9a-833d-73866a5b1d27' class='xr-var-data-in' type='checkbox'><label for='data-0dae82f6-a061-4c9a-833d-73866a5b1d27' title='Show/Hide data repr'><svg class='icon xr-icon-database'><use xlink:href='#icon-database'></use></svg></label><div class='xr-var-attrs'><dl class='xr-attrs'></dl></div><div class='xr-var-data'><pre>array([8.41844827e-04, 0.00000000e+00, 0.00000000e+00, ...,\n",
       "       3.24274041e-03, 7.05569983e-06, 5.87850809e-06])</pre></div></li><li class='xr-var-item'><div class='xr-var-name'><span>time_half</span></div><div class='xr-var-dims'>(index)</div><div class='xr-var-dtype'>datetime64[ns]</div><div class='xr-var-preview xr-preview'>2017-01-12T13:30:00 ... 2017-01-...</div><input id='attrs-32ae6355-ce64-4a58-be04-a489d9a5bbcb' class='xr-var-attrs-in' type='checkbox' disabled><label for='attrs-32ae6355-ce64-4a58-be04-a489d9a5bbcb' title='Show/Hide attributes'><svg class='icon xr-icon-file-text2'><use xlink:href='#icon-file-text2'></use></svg></label><input id='data-3e22febc-35c7-41be-aa48-c404c9ea2154' class='xr-var-data-in' type='checkbox'><label for='data-3e22febc-35c7-41be-aa48-c404c9ea2154' title='Show/Hide data repr'><svg class='icon xr-icon-database'><use xlink:href='#icon-database'></use></svg></label><div class='xr-var-attrs'><dl class='xr-attrs'></dl></div><div class='xr-var-data'><pre>array([&#x27;2017-01-12T13:30:00.000000000&#x27;, &#x27;2017-01-11T14:30:00.000000000&#x27;,\n",
       "       &#x27;2017-01-05T15:30:00.000000000&#x27;, ...,\n",
       "       &#x27;2017-01-12T16:30:00.000000000&#x27;, &#x27;2017-01-12T21:30:00.000000000&#x27;,\n",
       "       &#x27;2017-01-07T18:30:00.000000000&#x27;], dtype=&#x27;datetime64[ns]&#x27;)</pre></div></li><li class='xr-var-item'><div class='xr-var-name'><span>text_original</span></div><div class='xr-var-dims'>(index)</div><div class='xr-var-dtype'>object</div><div class='xr-var-preview xr-preview'>&#x27;A Chinese proverb relevant toda...</div><input id='attrs-7cb77259-b37a-488a-a643-b38d74593a12' class='xr-var-attrs-in' type='checkbox' disabled><label for='attrs-7cb77259-b37a-488a-a643-b38d74593a12' title='Show/Hide attributes'><svg class='icon xr-icon-file-text2'><use xlink:href='#icon-file-text2'></use></svg></label><input id='data-cc999476-88b2-4447-b865-af6c862e41e1' class='xr-var-data-in' type='checkbox'><label for='data-cc999476-88b2-4447-b865-af6c862e41e1' title='Show/Hide data repr'><svg class='icon xr-icon-database'><use xlink:href='#icon-database'></use></svg></label><div class='xr-var-attrs'><dl class='xr-attrs'></dl></div><div class='xr-var-data'><pre>array([&#x27;A Chinese proverb relevant today &quot;When small people cast long shadows, the sun is setting&quot;&#x27;,\n",
       "       &#x27;A Deeper Look at the Snow Situation in Dubrovnik https://t.co/dznGQuYlPF&#x27;,\n",
       "       &#x27;@MrLender #WIN A Flotilla holiday with my husband @boatsailfish &amp;amp; son Arran \\n ( before he goes to Uni ). Bring on the sun! :) https://t.co/iNij4mcVBC&#x27;,\n",
       "       ...,\n",
       "       &#x27;@MMaryMcKenna yup, on my way to KingsX and then north, hope to miss the snow&#x27;,\n",
       "       &#x27;@liamdutton zero snow in W London to come back to. None fell.&#x27;,\n",
       "       &#x27;#Mushrooms, #chilli, #garlic,  #cheese, #lemon zest and a drizzle of #olive oil - so many of my favourite things! https://t.co/CkDbTOsl4J&#x27;],\n",
       "      dtype=object)</pre></div></li><li class='xr-var-item'><div class='xr-var-name'><span>text_normalized</span></div><div class='xr-var-dims'>(index)</div><div class='xr-var-dtype'>object</div><div class='xr-var-preview xr-preview'>&#x27;A Chinese proverb relevant toda...</div><input id='attrs-0295cc41-e30c-410b-803d-270e03cd170b' class='xr-var-attrs-in' type='checkbox' disabled><label for='attrs-0295cc41-e30c-410b-803d-270e03cd170b' title='Show/Hide attributes'><svg class='icon xr-icon-file-text2'><use xlink:href='#icon-file-text2'></use></svg></label><input id='data-ea4be605-1505-4960-9df4-d933bd29e693' class='xr-var-data-in' type='checkbox'><label for='data-ea4be605-1505-4960-9df4-d933bd29e693' title='Show/Hide data repr'><svg class='icon xr-icon-database'><use xlink:href='#icon-database'></use></svg></label><div class='xr-var-attrs'><dl class='xr-attrs'></dl></div><div class='xr-var-data'><pre>array([&#x27;A Chinese proverb relevant today When small people cast long shadows the sun is setting&#x27;,\n",
       "       &#x27;A Deeper Look at the Snow Situation in Dubrovnik&#x27;,\n",
       "       &#x27;A Flotilla holiday with my husband and son Arran before he goes to Uni Bring on the sun&#x27;,\n",
       "       ...,\n",
       "       &#x27;yup on my way to KingsX and then north hope to miss the snow&#x27;,\n",
       "       &#x27;zero snow in W London to come back to None fell&#x27;,\n",
       "       &#x27;zest and a drizzle of oil so many of my favourite things&#x27;],\n",
       "      dtype=object)</pre></div></li><li class='xr-var-item'><div class='xr-var-name'><span>raining</span></div><div class='xr-var-dims'>(index)</div><div class='xr-var-dtype'>float64</div><div class='xr-var-preview xr-preview'>1.0 0.0 0.0 1.0 ... 0.0 1.0 0.0 0.0</div><input id='attrs-a43dabc1-5f35-4fdc-93a5-8ab74029749a' class='xr-var-attrs-in' type='checkbox' disabled><label for='attrs-a43dabc1-5f35-4fdc-93a5-8ab74029749a' title='Show/Hide attributes'><svg class='icon xr-icon-file-text2'><use xlink:href='#icon-file-text2'></use></svg></label><input id='data-27e1d104-b264-4fed-b70f-0cd058c2c8f4' class='xr-var-data-in' type='checkbox'><label for='data-27e1d104-b264-4fed-b70f-0cd058c2c8f4' title='Show/Hide data repr'><svg class='icon xr-icon-database'><use xlink:href='#icon-database'></use></svg></label><div class='xr-var-attrs'><dl class='xr-attrs'></dl></div><div class='xr-var-data'><pre>array([1., 0., 0., ..., 1., 0., 0.])</pre></div></li><li class='xr-var-item'><div class='xr-var-name'><span>station_latitude</span></div><div class='xr-var-dims'>(index)</div><div class='xr-var-dtype'>float64</div><div class='xr-var-preview xr-preview'>52.36 51.51 52.12 ... 51.51 51.51</div><input id='attrs-f616f621-07c5-444b-bdca-127a98fad790' class='xr-var-attrs-in' type='checkbox' disabled><label for='attrs-f616f621-07c5-444b-bdca-127a98fad790' title='Show/Hide attributes'><svg class='icon xr-icon-file-text2'><use xlink:href='#icon-file-text2'></use></svg></label><input id='data-3cba8333-3b75-4790-acd4-f56b7b35516f' class='xr-var-data-in' type='checkbox'><label for='data-3cba8333-3b75-4790-acd4-f56b7b35516f' title='Show/Hide data repr'><svg class='icon xr-icon-database'><use xlink:href='#icon-database'></use></svg></label><div class='xr-var-attrs'><dl class='xr-attrs'></dl></div><div class='xr-var-data'><pre>array([52.359, 51.505, 52.124, ..., 51.505, 51.505, 51.505])</pre></div></li><li class='xr-var-item'><div class='xr-var-name'><span>station_longitude</span></div><div class='xr-var-dims'>(index)</div><div class='xr-var-dtype'>float64</div><div class='xr-var-preview xr-preview'>-1.331 -0.131 ... -0.131 -0.131</div><input id='attrs-cf51ace2-43b5-4151-af6b-f2574444536f' class='xr-var-attrs-in' type='checkbox' disabled><label for='attrs-cf51ace2-43b5-4151-af6b-f2574444536f' title='Show/Hide attributes'><svg class='icon xr-icon-file-text2'><use xlink:href='#icon-file-text2'></use></svg></label><input id='data-7669da64-2d93-446d-8a60-11b2ac0585de' class='xr-var-data-in' type='checkbox'><label for='data-7669da64-2d93-446d-8a60-11b2ac0585de' title='Show/Hide data repr'><svg class='icon xr-icon-database'><use xlink:href='#icon-database'></use></svg></label><div class='xr-var-attrs'><dl class='xr-attrs'></dl></div><div class='xr-var-data'><pre>array([-1.331, -0.131,  0.957, ..., -0.131, -0.131, -0.131])</pre></div></li><li class='xr-var-item'><div class='xr-var-name'><span>station_distance_km</span></div><div class='xr-var-dims'>(index)</div><div class='xr-var-dtype'>float64</div><div class='xr-var-preview xr-preview'>4.766 6.961 26.32 ... 6.961 7.548</div><input id='attrs-6ca73fef-2594-4e6e-a71c-a65e032958cf' class='xr-var-attrs-in' type='checkbox' disabled><label for='attrs-6ca73fef-2594-4e6e-a71c-a65e032958cf' title='Show/Hide attributes'><svg class='icon xr-icon-file-text2'><use xlink:href='#icon-file-text2'></use></svg></label><input id='data-b19a3a46-b297-46c6-8bf7-6efd8205dda2' class='xr-var-data-in' type='checkbox'><label for='data-b19a3a46-b297-46c6-8bf7-6efd8205dda2' title='Show/Hide data repr'><svg class='icon xr-icon-database'><use xlink:href='#icon-database'></use></svg></label><div class='xr-var-attrs'><dl class='xr-attrs'></dl></div><div class='xr-var-data'><pre>array([ 4.76645393,  6.96055603, 26.32321156, ...,  5.08254123,\n",
       "        6.96055603,  7.54764392])</pre></div></li><li class='xr-var-item'><div class='xr-var-name'><span>tp_h_mm</span></div><div class='xr-var-dims'>(index)</div><div class='xr-var-dtype'>float64</div><div class='xr-var-preview xr-preview'>0.8418 0.0 ... 0.007056 0.005879</div><input id='attrs-4f00132e-8e70-4ba1-bc31-2ce05eaeff73' class='xr-var-attrs-in' type='checkbox' disabled><label for='attrs-4f00132e-8e70-4ba1-bc31-2ce05eaeff73' title='Show/Hide attributes'><svg class='icon xr-icon-file-text2'><use xlink:href='#icon-file-text2'></use></svg></label><input id='data-1c3bd54b-50bb-4e92-90f7-ce33722c9af5' class='xr-var-data-in' type='checkbox'><label for='data-1c3bd54b-50bb-4e92-90f7-ce33722c9af5' title='Show/Hide data repr'><svg class='icon xr-icon-database'><use xlink:href='#icon-database'></use></svg></label><div class='xr-var-attrs'><dl class='xr-attrs'></dl></div><div class='xr-var-data'><pre>array([0.84184483, 0.        , 0.        , ..., 3.24274041, 0.0070557 ,\n",
       "       0.00587851])</pre></div></li><li class='xr-var-item'><div class='xr-var-name'><span>raining_station</span></div><div class='xr-var-dims'>(index)</div><div class='xr-var-dtype'>float64</div><div class='xr-var-preview xr-preview'>1.0 0.0 0.0 0.0 ... 0.0 1.0 0.0 0.0</div><input id='attrs-714bbfe4-37e8-403f-9491-336f96862250' class='xr-var-attrs-in' type='checkbox' disabled><label for='attrs-714bbfe4-37e8-403f-9491-336f96862250' title='Show/Hide attributes'><svg class='icon xr-icon-file-text2'><use xlink:href='#icon-file-text2'></use></svg></label><input id='data-2e50aabb-6abb-435d-9853-7c61420afd7d' class='xr-var-data-in' type='checkbox'><label for='data-2e50aabb-6abb-435d-9853-7c61420afd7d' title='Show/Hide data repr'><svg class='icon xr-icon-database'><use xlink:href='#icon-database'></use></svg></label><div class='xr-var-attrs'><dl class='xr-attrs'></dl></div><div class='xr-var-data'><pre>array([1., 0., 0., ..., 1., 0., 0.])</pre></div></li><li class='xr-var-item'><div class='xr-var-name'><span>tp_mm_radar</span></div><div class='xr-var-dims'>(index)</div><div class='xr-var-dtype'>float64</div><div class='xr-var-preview xr-preview'>0.0 0.0 0.0 0.0 ... 0.0 0.0 0.0 0.0</div><input id='attrs-50d357ad-6189-4674-84a1-13986bd79e83' class='xr-var-attrs-in' type='checkbox' disabled><label for='attrs-50d357ad-6189-4674-84a1-13986bd79e83' title='Show/Hide attributes'><svg class='icon xr-icon-file-text2'><use xlink:href='#icon-file-text2'></use></svg></label><input id='data-44c014f5-c846-45ac-b1d3-1759017e9ab4' class='xr-var-data-in' type='checkbox'><label for='data-44c014f5-c846-45ac-b1d3-1759017e9ab4' title='Show/Hide data repr'><svg class='icon xr-icon-database'><use xlink:href='#icon-database'></use></svg></label><div class='xr-var-attrs'><dl class='xr-attrs'></dl></div><div class='xr-var-data'><pre>array([0., 0., 0., ..., 0., 0., 0.])</pre></div></li><li class='xr-var-item'><div class='xr-var-name'><span>tp_mm_station</span></div><div class='xr-var-dims'>(index)</div><div class='xr-var-dtype'>float64</div><div class='xr-var-preview xr-preview'>1.2e+03 0.0 0.0 ... 5.4e+03 0.0 0.0</div><input id='attrs-cd3e14c8-9319-41cd-a9a7-fe640f9a502e' class='xr-var-attrs-in' type='checkbox' disabled><label for='attrs-cd3e14c8-9319-41cd-a9a7-fe640f9a502e' title='Show/Hide attributes'><svg class='icon xr-icon-file-text2'><use xlink:href='#icon-file-text2'></use></svg></label><input id='data-c59d21bc-b80e-4991-8b7c-108a81620603' class='xr-var-data-in' type='checkbox'><label for='data-c59d21bc-b80e-4991-8b7c-108a81620603' title='Show/Hide data repr'><svg class='icon xr-icon-database'><use xlink:href='#icon-database'></use></svg></label><div class='xr-var-attrs'><dl class='xr-attrs'></dl></div><div class='xr-var-data'><pre>array([1200.,    0.,    0., ..., 5400.,    0.,    0.])</pre></div></li><li class='xr-var-item'><div class='xr-var-name'><span>raining_radar</span></div><div class='xr-var-dims'>(index)</div><div class='xr-var-dtype'>float64</div><div class='xr-var-preview xr-preview'>0.0 0.0 0.0 0.0 ... 0.0 0.0 0.0 0.0</div><input id='attrs-51df69d9-d324-49a0-a155-3f4e457c76e0' class='xr-var-attrs-in' type='checkbox' disabled><label for='attrs-51df69d9-d324-49a0-a155-3f4e457c76e0' title='Show/Hide attributes'><svg class='icon xr-icon-file-text2'><use xlink:href='#icon-file-text2'></use></svg></label><input id='data-ced4221e-3bb5-4e0a-b4ca-8af123870aa6' class='xr-var-data-in' type='checkbox'><label for='data-ced4221e-3bb5-4e0a-b4ca-8af123870aa6' title='Show/Hide data repr'><svg class='icon xr-icon-database'><use xlink:href='#icon-database'></use></svg></label><div class='xr-var-attrs'><dl class='xr-attrs'></dl></div><div class='xr-var-data'><pre>array([0., 0., 0., ..., 0., 0., 0.])</pre></div></li></ul></div></li><li class='xr-section-item'><input id='section-4e30a0b8-b744-4dd0-8c49-5c0a506f313d' class='xr-section-summary-in' type='checkbox'  ><label for='section-4e30a0b8-b744-4dd0-8c49-5c0a506f313d' class='xr-section-summary' >Indexes: <span>(1)</span></label><div class='xr-section-inline-details'></div><div class='xr-section-details'><ul class='xr-var-list'><li class='xr-var-item'><div class='xr-index-name'><div>index</div></div><div class='xr-index-preview'>PandasIndex</div><div></div><input id='index-c0e85a6b-7aee-40d1-ad8e-7320e9b97868' class='xr-index-data-in' type='checkbox'/><label for='index-c0e85a6b-7aee-40d1-ad8e-7320e9b97868' title='Show/Hide index repr'><svg class='icon xr-icon-database'><use xlink:href='#icon-database'></use></svg></label><div class='xr-index-data'><pre>PandasIndex(Index([    0,     1,     2,     3,     4,     5,     6,     7,     8,     9,\n",
       "       ...\n",
       "       24481, 24482, 24483, 24484, 24485, 24486, 24487, 24488, 24489, 24490],\n",
       "      dtype=&#x27;int64&#x27;, name=&#x27;index&#x27;, length=24491))</pre></div></li></ul></div></li><li class='xr-section-item'><input id='section-1e653db9-ecb0-4850-8933-130f45366ac8' class='xr-section-summary-in' type='checkbox'  checked><label for='section-1e653db9-ecb0-4850-8933-130f45366ac8' class='xr-section-summary' >Attributes: <span>(1)</span></label><div class='xr-section-inline-details'></div><div class='xr-section-details'><dl class='xr-attrs'><dt><span>description :</span></dt><dd>added locationsadded locationsadded locationsadded locations,computed bounding box area, prepared for combining with tp</dd></dl></div></li></ul></div></div>"
      ],
      "text/plain": [
       "<xarray.Dataset>\n",
       "Dimensions:                       (index: 24491)\n",
       "Coordinates:\n",
       "  * index                         (index) int64 0 1 2 3 ... 24488 24489 24490\n",
       "Data variables: (12/41)\n",
       "    text                          (index) object 'A Chinese proverb relevant ...\n",
       "    conversation_id               (index) object '819543073092931584' ... '81...\n",
       "    lang                          (index) object 'en' 'en' 'en' ... 'en' 'en'\n",
       "    source                        (index) object 'Twitter for Android' ... 'T...\n",
       "    author_id                     (index) object '761805493' ... '402768458'\n",
       "    created_at                    (index) datetime64[ns] 2017-01-12T13:54:29 ...\n",
       "    ...                            ...\n",
       "    station_distance_km           (index) float64 4.766 6.961 ... 6.961 7.548\n",
       "    tp_h_mm                       (index) float64 0.8418 0.0 ... 0.005879\n",
       "    raining_station               (index) float64 1.0 0.0 0.0 ... 1.0 0.0 0.0\n",
       "    tp_mm_radar                   (index) float64 0.0 0.0 0.0 ... 0.0 0.0 0.0\n",
       "    tp_mm_station                 (index) float64 1.2e+03 0.0 0.0 ... 0.0 0.0\n",
       "    raining_radar                 (index) float64 0.0 0.0 0.0 ... 0.0 0.0 0.0\n",
       "Attributes:\n",
       "    description:  added locationsadded locationsadded locationsadded location..."
      ]
     },
     "execution_count": 3,
     "metadata": {},
     "output_type": "execute_result"
    }
   ],
   "source": [
    "ds_tweets"
   ]
  },
  {
   "cell_type": "code",
   "execution_count": 4,
   "id": "bc605e5a-4ea3-47c2-be58-9249c44a069a",
   "metadata": {
    "tags": []
   },
   "outputs": [],
   "source": [
    "key_tp = \"tp_h\"\n",
    "ds_tweets[\"raining\"] = ([\"index\"], ds_tweets[key_tp].values > 1e-8)\n",
    "\n",
    "indices_train, indices_test = sklearn.model_selection.train_test_split(\n",
    "    np.arange(ds_tweets[\"index\"].shape[0]),\n",
    "    test_size=0.2,\n",
    "    random_state=42,\n",
    "    shuffle=True,\n",
    "    stratify=ds_tweets[\"raining\"].values\n",
    ")"
   ]
  },
  {
   "cell_type": "code",
   "execution_count": 5,
   "id": "e6f5832b-adb7-4248-a5aa-4dd8739b89a9",
   "metadata": {
    "tags": []
   },
   "outputs": [
    {
     "data": {
      "text/html": [
       "<div><svg style=\"position: absolute; width: 0; height: 0; overflow: hidden\">\n",
       "<defs>\n",
       "<symbol id=\"icon-database\" viewBox=\"0 0 32 32\">\n",
       "<path d=\"M16 0c-8.837 0-16 2.239-16 5v4c0 2.761 7.163 5 16 5s16-2.239 16-5v-4c0-2.761-7.163-5-16-5z\"></path>\n",
       "<path d=\"M16 17c-8.837 0-16-2.239-16-5v6c0 2.761 7.163 5 16 5s16-2.239 16-5v-6c0 2.761-7.163 5-16 5z\"></path>\n",
       "<path d=\"M16 26c-8.837 0-16-2.239-16-5v6c0 2.761 7.163 5 16 5s16-2.239 16-5v-6c0 2.761-7.163 5-16 5z\"></path>\n",
       "</symbol>\n",
       "<symbol id=\"icon-file-text2\" viewBox=\"0 0 32 32\">\n",
       "<path d=\"M28.681 7.159c-0.694-0.947-1.662-2.053-2.724-3.116s-2.169-2.030-3.116-2.724c-1.612-1.182-2.393-1.319-2.841-1.319h-15.5c-1.378 0-2.5 1.121-2.5 2.5v27c0 1.378 1.122 2.5 2.5 2.5h23c1.378 0 2.5-1.122 2.5-2.5v-19.5c0-0.448-0.137-1.23-1.319-2.841zM24.543 5.457c0.959 0.959 1.712 1.825 2.268 2.543h-4.811v-4.811c0.718 0.556 1.584 1.309 2.543 2.268zM28 29.5c0 0.271-0.229 0.5-0.5 0.5h-23c-0.271 0-0.5-0.229-0.5-0.5v-27c0-0.271 0.229-0.5 0.5-0.5 0 0 15.499-0 15.5 0v7c0 0.552 0.448 1 1 1h7v19.5z\"></path>\n",
       "<path d=\"M23 26h-14c-0.552 0-1-0.448-1-1s0.448-1 1-1h14c0.552 0 1 0.448 1 1s-0.448 1-1 1z\"></path>\n",
       "<path d=\"M23 22h-14c-0.552 0-1-0.448-1-1s0.448-1 1-1h14c0.552 0 1 0.448 1 1s-0.448 1-1 1z\"></path>\n",
       "<path d=\"M23 18h-14c-0.552 0-1-0.448-1-1s0.448-1 1-1h14c0.552 0 1 0.448 1 1s-0.448 1-1 1z\"></path>\n",
       "</symbol>\n",
       "</defs>\n",
       "</svg>\n",
       "<style>/* CSS stylesheet for displaying xarray objects in jupyterlab.\n",
       " *\n",
       " */\n",
       "\n",
       ":root {\n",
       "  --xr-font-color0: var(--jp-content-font-color0, rgba(0, 0, 0, 1));\n",
       "  --xr-font-color2: var(--jp-content-font-color2, rgba(0, 0, 0, 0.54));\n",
       "  --xr-font-color3: var(--jp-content-font-color3, rgba(0, 0, 0, 0.38));\n",
       "  --xr-border-color: var(--jp-border-color2, #e0e0e0);\n",
       "  --xr-disabled-color: var(--jp-layout-color3, #bdbdbd);\n",
       "  --xr-background-color: var(--jp-layout-color0, white);\n",
       "  --xr-background-color-row-even: var(--jp-layout-color1, white);\n",
       "  --xr-background-color-row-odd: var(--jp-layout-color2, #eeeeee);\n",
       "}\n",
       "\n",
       "html[theme=dark],\n",
       "body[data-theme=dark],\n",
       "body.vscode-dark {\n",
       "  --xr-font-color0: rgba(255, 255, 255, 1);\n",
       "  --xr-font-color2: rgba(255, 255, 255, 0.54);\n",
       "  --xr-font-color3: rgba(255, 255, 255, 0.38);\n",
       "  --xr-border-color: #1F1F1F;\n",
       "  --xr-disabled-color: #515151;\n",
       "  --xr-background-color: #111111;\n",
       "  --xr-background-color-row-even: #111111;\n",
       "  --xr-background-color-row-odd: #313131;\n",
       "}\n",
       "\n",
       ".xr-wrap {\n",
       "  display: block !important;\n",
       "  min-width: 300px;\n",
       "  max-width: 700px;\n",
       "}\n",
       "\n",
       ".xr-text-repr-fallback {\n",
       "  /* fallback to plain text repr when CSS is not injected (untrusted notebook) */\n",
       "  display: none;\n",
       "}\n",
       "\n",
       ".xr-header {\n",
       "  padding-top: 6px;\n",
       "  padding-bottom: 6px;\n",
       "  margin-bottom: 4px;\n",
       "  border-bottom: solid 1px var(--xr-border-color);\n",
       "}\n",
       "\n",
       ".xr-header > div,\n",
       ".xr-header > ul {\n",
       "  display: inline;\n",
       "  margin-top: 0;\n",
       "  margin-bottom: 0;\n",
       "}\n",
       "\n",
       ".xr-obj-type,\n",
       ".xr-array-name {\n",
       "  margin-left: 2px;\n",
       "  margin-right: 10px;\n",
       "}\n",
       "\n",
       ".xr-obj-type {\n",
       "  color: var(--xr-font-color2);\n",
       "}\n",
       "\n",
       ".xr-sections {\n",
       "  padding-left: 0 !important;\n",
       "  display: grid;\n",
       "  grid-template-columns: 150px auto auto 1fr 20px 20px;\n",
       "}\n",
       "\n",
       ".xr-section-item {\n",
       "  display: contents;\n",
       "}\n",
       "\n",
       ".xr-section-item input {\n",
       "  display: none;\n",
       "}\n",
       "\n",
       ".xr-section-item input + label {\n",
       "  color: var(--xr-disabled-color);\n",
       "}\n",
       "\n",
       ".xr-section-item input:enabled + label {\n",
       "  cursor: pointer;\n",
       "  color: var(--xr-font-color2);\n",
       "}\n",
       "\n",
       ".xr-section-item input:enabled + label:hover {\n",
       "  color: var(--xr-font-color0);\n",
       "}\n",
       "\n",
       ".xr-section-summary {\n",
       "  grid-column: 1;\n",
       "  color: var(--xr-font-color2);\n",
       "  font-weight: 500;\n",
       "}\n",
       "\n",
       ".xr-section-summary > span {\n",
       "  display: inline-block;\n",
       "  padding-left: 0.5em;\n",
       "}\n",
       "\n",
       ".xr-section-summary-in:disabled + label {\n",
       "  color: var(--xr-font-color2);\n",
       "}\n",
       "\n",
       ".xr-section-summary-in + label:before {\n",
       "  display: inline-block;\n",
       "  content: '►';\n",
       "  font-size: 11px;\n",
       "  width: 15px;\n",
       "  text-align: center;\n",
       "}\n",
       "\n",
       ".xr-section-summary-in:disabled + label:before {\n",
       "  color: var(--xr-disabled-color);\n",
       "}\n",
       "\n",
       ".xr-section-summary-in:checked + label:before {\n",
       "  content: '▼';\n",
       "}\n",
       "\n",
       ".xr-section-summary-in:checked + label > span {\n",
       "  display: none;\n",
       "}\n",
       "\n",
       ".xr-section-summary,\n",
       ".xr-section-inline-details {\n",
       "  padding-top: 4px;\n",
       "  padding-bottom: 4px;\n",
       "}\n",
       "\n",
       ".xr-section-inline-details {\n",
       "  grid-column: 2 / -1;\n",
       "}\n",
       "\n",
       ".xr-section-details {\n",
       "  display: none;\n",
       "  grid-column: 1 / -1;\n",
       "  margin-bottom: 5px;\n",
       "}\n",
       "\n",
       ".xr-section-summary-in:checked ~ .xr-section-details {\n",
       "  display: contents;\n",
       "}\n",
       "\n",
       ".xr-array-wrap {\n",
       "  grid-column: 1 / -1;\n",
       "  display: grid;\n",
       "  grid-template-columns: 20px auto;\n",
       "}\n",
       "\n",
       ".xr-array-wrap > label {\n",
       "  grid-column: 1;\n",
       "  vertical-align: top;\n",
       "}\n",
       "\n",
       ".xr-preview {\n",
       "  color: var(--xr-font-color3);\n",
       "}\n",
       "\n",
       ".xr-array-preview,\n",
       ".xr-array-data {\n",
       "  padding: 0 5px !important;\n",
       "  grid-column: 2;\n",
       "}\n",
       "\n",
       ".xr-array-data,\n",
       ".xr-array-in:checked ~ .xr-array-preview {\n",
       "  display: none;\n",
       "}\n",
       "\n",
       ".xr-array-in:checked ~ .xr-array-data,\n",
       ".xr-array-preview {\n",
       "  display: inline-block;\n",
       "}\n",
       "\n",
       ".xr-dim-list {\n",
       "  display: inline-block !important;\n",
       "  list-style: none;\n",
       "  padding: 0 !important;\n",
       "  margin: 0;\n",
       "}\n",
       "\n",
       ".xr-dim-list li {\n",
       "  display: inline-block;\n",
       "  padding: 0;\n",
       "  margin: 0;\n",
       "}\n",
       "\n",
       ".xr-dim-list:before {\n",
       "  content: '(';\n",
       "}\n",
       "\n",
       ".xr-dim-list:after {\n",
       "  content: ')';\n",
       "}\n",
       "\n",
       ".xr-dim-list li:not(:last-child):after {\n",
       "  content: ',';\n",
       "  padding-right: 5px;\n",
       "}\n",
       "\n",
       ".xr-has-index {\n",
       "  font-weight: bold;\n",
       "}\n",
       "\n",
       ".xr-var-list,\n",
       ".xr-var-item {\n",
       "  display: contents;\n",
       "}\n",
       "\n",
       ".xr-var-item > div,\n",
       ".xr-var-item label,\n",
       ".xr-var-item > .xr-var-name span {\n",
       "  background-color: var(--xr-background-color-row-even);\n",
       "  margin-bottom: 0;\n",
       "}\n",
       "\n",
       ".xr-var-item > .xr-var-name:hover span {\n",
       "  padding-right: 5px;\n",
       "}\n",
       "\n",
       ".xr-var-list > li:nth-child(odd) > div,\n",
       ".xr-var-list > li:nth-child(odd) > label,\n",
       ".xr-var-list > li:nth-child(odd) > .xr-var-name span {\n",
       "  background-color: var(--xr-background-color-row-odd);\n",
       "}\n",
       "\n",
       ".xr-var-name {\n",
       "  grid-column: 1;\n",
       "}\n",
       "\n",
       ".xr-var-dims {\n",
       "  grid-column: 2;\n",
       "}\n",
       "\n",
       ".xr-var-dtype {\n",
       "  grid-column: 3;\n",
       "  text-align: right;\n",
       "  color: var(--xr-font-color2);\n",
       "}\n",
       "\n",
       ".xr-var-preview {\n",
       "  grid-column: 4;\n",
       "}\n",
       "\n",
       ".xr-index-preview {\n",
       "  grid-column: 2 / 5;\n",
       "  color: var(--xr-font-color2);\n",
       "}\n",
       "\n",
       ".xr-var-name,\n",
       ".xr-var-dims,\n",
       ".xr-var-dtype,\n",
       ".xr-preview,\n",
       ".xr-attrs dt {\n",
       "  white-space: nowrap;\n",
       "  overflow: hidden;\n",
       "  text-overflow: ellipsis;\n",
       "  padding-right: 10px;\n",
       "}\n",
       "\n",
       ".xr-var-name:hover,\n",
       ".xr-var-dims:hover,\n",
       ".xr-var-dtype:hover,\n",
       ".xr-attrs dt:hover {\n",
       "  overflow: visible;\n",
       "  width: auto;\n",
       "  z-index: 1;\n",
       "}\n",
       "\n",
       ".xr-var-attrs,\n",
       ".xr-var-data,\n",
       ".xr-index-data {\n",
       "  display: none;\n",
       "  background-color: var(--xr-background-color) !important;\n",
       "  padding-bottom: 5px !important;\n",
       "}\n",
       "\n",
       ".xr-var-attrs-in:checked ~ .xr-var-attrs,\n",
       ".xr-var-data-in:checked ~ .xr-var-data,\n",
       ".xr-index-data-in:checked ~ .xr-index-data {\n",
       "  display: block;\n",
       "}\n",
       "\n",
       ".xr-var-data > table {\n",
       "  float: right;\n",
       "}\n",
       "\n",
       ".xr-var-name span,\n",
       ".xr-var-data,\n",
       ".xr-index-name div,\n",
       ".xr-index-data,\n",
       ".xr-attrs {\n",
       "  padding-left: 25px !important;\n",
       "}\n",
       "\n",
       ".xr-attrs,\n",
       ".xr-var-attrs,\n",
       ".xr-var-data,\n",
       ".xr-index-data {\n",
       "  grid-column: 1 / -1;\n",
       "}\n",
       "\n",
       "dl.xr-attrs {\n",
       "  padding: 0;\n",
       "  margin: 0;\n",
       "  display: grid;\n",
       "  grid-template-columns: 125px auto;\n",
       "}\n",
       "\n",
       ".xr-attrs dt,\n",
       ".xr-attrs dd {\n",
       "  padding: 0;\n",
       "  margin: 0;\n",
       "  float: left;\n",
       "  padding-right: 10px;\n",
       "  width: auto;\n",
       "}\n",
       "\n",
       ".xr-attrs dt {\n",
       "  font-weight: normal;\n",
       "  grid-column: 1;\n",
       "}\n",
       "\n",
       ".xr-attrs dt:hover span {\n",
       "  display: inline-block;\n",
       "  background: var(--xr-background-color);\n",
       "  padding-right: 10px;\n",
       "}\n",
       "\n",
       ".xr-attrs dd {\n",
       "  grid-column: 2;\n",
       "  white-space: pre-wrap;\n",
       "  word-break: break-all;\n",
       "}\n",
       "\n",
       ".xr-icon-database,\n",
       ".xr-icon-file-text2,\n",
       ".xr-no-icon {\n",
       "  display: inline-block;\n",
       "  vertical-align: middle;\n",
       "  width: 1em;\n",
       "  height: 1.5em !important;\n",
       "  stroke-width: 0;\n",
       "  stroke: currentColor;\n",
       "  fill: currentColor;\n",
       "}\n",
       "</style><pre class='xr-text-repr-fallback'>&lt;xarray.Dataset&gt;\n",
       "Dimensions:                       (index: 24491)\n",
       "Coordinates:\n",
       "  * index                         (index) int64 0 1 2 3 ... 24488 24489 24490\n",
       "Data variables: (12/41)\n",
       "    text                          (index) object &#x27;A Chinese proverb relevant ...\n",
       "    conversation_id               (index) object &#x27;819543073092931584&#x27; ... &#x27;81...\n",
       "    lang                          (index) object &#x27;en&#x27; &#x27;en&#x27; &#x27;en&#x27; ... &#x27;en&#x27; &#x27;en&#x27;\n",
       "    source                        (index) object &#x27;Twitter for Android&#x27; ... &#x27;T...\n",
       "    author_id                     (index) object &#x27;761805493&#x27; ... &#x27;402768458&#x27;\n",
       "    created_at                    (index) datetime64[ns] 2017-01-12T13:54:29 ...\n",
       "    ...                            ...\n",
       "    station_distance_km           (index) float64 4.766 6.961 ... 6.961 7.548\n",
       "    tp_h_mm                       (index) float64 0.8418 0.0 ... 0.005879\n",
       "    raining_station               (index) float64 1.0 0.0 0.0 ... 1.0 0.0 0.0\n",
       "    tp_mm_radar                   (index) float64 0.0 0.0 0.0 ... 0.0 0.0 0.0\n",
       "    tp_mm_station                 (index) float64 1.2e+03 0.0 0.0 ... 0.0 0.0\n",
       "    raining_radar                 (index) float64 0.0 0.0 0.0 ... 0.0 0.0 0.0\n",
       "Attributes:\n",
       "    description:  added locationsadded locationsadded locationsadded location...</pre><div class='xr-wrap' style='display:none'><div class='xr-header'><div class='xr-obj-type'>xarray.Dataset</div></div><ul class='xr-sections'><li class='xr-section-item'><input id='section-21605996-7bd5-4bf9-9544-701ebb75e851' class='xr-section-summary-in' type='checkbox' disabled ><label for='section-21605996-7bd5-4bf9-9544-701ebb75e851' class='xr-section-summary'  title='Expand/collapse section'>Dimensions:</label><div class='xr-section-inline-details'><ul class='xr-dim-list'><li><span class='xr-has-index'>index</span>: 24491</li></ul></div><div class='xr-section-details'></div></li><li class='xr-section-item'><input id='section-2cee14bc-67cc-4ad1-b964-515eafdacaa2' class='xr-section-summary-in' type='checkbox'  checked><label for='section-2cee14bc-67cc-4ad1-b964-515eafdacaa2' class='xr-section-summary' >Coordinates: <span>(1)</span></label><div class='xr-section-inline-details'></div><div class='xr-section-details'><ul class='xr-var-list'><li class='xr-var-item'><div class='xr-var-name'><span class='xr-has-index'>index</span></div><div class='xr-var-dims'>(index)</div><div class='xr-var-dtype'>int64</div><div class='xr-var-preview xr-preview'>0 1 2 3 ... 24487 24488 24489 24490</div><input id='attrs-f4d3226f-ab65-4b98-9eff-2c6fc5c77e5c' class='xr-var-attrs-in' type='checkbox' disabled><label for='attrs-f4d3226f-ab65-4b98-9eff-2c6fc5c77e5c' title='Show/Hide attributes'><svg class='icon xr-icon-file-text2'><use xlink:href='#icon-file-text2'></use></svg></label><input id='data-e4b123c5-c46a-42d1-af79-a7bd28f88854' class='xr-var-data-in' type='checkbox'><label for='data-e4b123c5-c46a-42d1-af79-a7bd28f88854' title='Show/Hide data repr'><svg class='icon xr-icon-database'><use xlink:href='#icon-database'></use></svg></label><div class='xr-var-attrs'><dl class='xr-attrs'></dl></div><div class='xr-var-data'><pre>array([    0,     1,     2, ..., 24488, 24489, 24490])</pre></div></li></ul></div></li><li class='xr-section-item'><input id='section-95aa0ec7-bef0-4daa-8975-c8974d6f5b4f' class='xr-section-summary-in' type='checkbox'  ><label for='section-95aa0ec7-bef0-4daa-8975-c8974d6f5b4f' class='xr-section-summary' >Data variables: <span>(41)</span></label><div class='xr-section-inline-details'></div><div class='xr-section-details'><ul class='xr-var-list'><li class='xr-var-item'><div class='xr-var-name'><span>text</span></div><div class='xr-var-dims'>(index)</div><div class='xr-var-dtype'>object</div><div class='xr-var-preview xr-preview'>&#x27;A Chinese proverb relevant toda...</div><input id='attrs-d5a17e5c-f8c9-4685-bff3-537f21ced659' class='xr-var-attrs-in' type='checkbox' disabled><label for='attrs-d5a17e5c-f8c9-4685-bff3-537f21ced659' title='Show/Hide attributes'><svg class='icon xr-icon-file-text2'><use xlink:href='#icon-file-text2'></use></svg></label><input id='data-f635a7ef-4192-47aa-94b5-6c78ab4e642c' class='xr-var-data-in' type='checkbox'><label for='data-f635a7ef-4192-47aa-94b5-6c78ab4e642c' title='Show/Hide data repr'><svg class='icon xr-icon-database'><use xlink:href='#icon-database'></use></svg></label><div class='xr-var-attrs'><dl class='xr-attrs'></dl></div><div class='xr-var-data'><pre>array([&#x27;A Chinese proverb relevant today &quot;When small people cast long shadows, the sun is setting&quot;&#x27;,\n",
       "       &#x27;A Deeper Look at the Snow Situation in Dubrovnik https://t.co/dznGQuYlPF&#x27;,\n",
       "       &#x27;@MrLender #WIN A Flotilla holiday with my husband @boatsailfish &amp;amp; son Arran \\n ( before he goes to Uni ). Bring on the sun! :) https://t.co/iNij4mcVBC&#x27;,\n",
       "       ...,\n",
       "       &#x27;@MMaryMcKenna yup, on my way to KingsX and then north, hope to miss the snow&#x27;,\n",
       "       &#x27;@liamdutton zero snow in W London to come back to. None fell.&#x27;,\n",
       "       &#x27;#Mushrooms, #chilli, #garlic,  #cheese, #lemon zest and a drizzle of #olive oil - so many of my favourite things! https://t.co/CkDbTOsl4J&#x27;],\n",
       "      dtype=object)</pre></div></li><li class='xr-var-item'><div class='xr-var-name'><span>conversation_id</span></div><div class='xr-var-dims'>(index)</div><div class='xr-var-dtype'>object</div><div class='xr-var-preview xr-preview'>&#x27;819543073092931584&#x27; ... &#x27;817806...</div><input id='attrs-cd7cd084-562a-4b53-9a08-193dd7d91005' class='xr-var-attrs-in' type='checkbox' disabled><label for='attrs-cd7cd084-562a-4b53-9a08-193dd7d91005' title='Show/Hide attributes'><svg class='icon xr-icon-file-text2'><use xlink:href='#icon-file-text2'></use></svg></label><input id='data-bcc6d84d-8900-4e71-a536-80f66283c3cb' class='xr-var-data-in' type='checkbox'><label for='data-bcc6d84d-8900-4e71-a536-80f66283c3cb' title='Show/Hide data repr'><svg class='icon xr-icon-database'><use xlink:href='#icon-database'></use></svg></label><div class='xr-var-attrs'><dl class='xr-attrs'></dl></div><div class='xr-var-data'><pre>array([&#x27;819543073092931584&#x27;, &#x27;819185140786196480&#x27;, &#x27;816940065419132928&#x27;,\n",
       "       ..., &#x27;819575512691523584&#x27;, &#x27;819649920676331520&#x27;,\n",
       "       &#x27;817806117409529856&#x27;], dtype=object)</pre></div></li><li class='xr-var-item'><div class='xr-var-name'><span>lang</span></div><div class='xr-var-dims'>(index)</div><div class='xr-var-dtype'>object</div><div class='xr-var-preview xr-preview'>&#x27;en&#x27; &#x27;en&#x27; &#x27;en&#x27; ... &#x27;en&#x27; &#x27;en&#x27; &#x27;en&#x27;</div><input id='attrs-ef8c8eb7-6d32-4536-965e-5a9cbb4b773a' class='xr-var-attrs-in' type='checkbox' disabled><label for='attrs-ef8c8eb7-6d32-4536-965e-5a9cbb4b773a' title='Show/Hide attributes'><svg class='icon xr-icon-file-text2'><use xlink:href='#icon-file-text2'></use></svg></label><input id='data-a0121b4d-ffef-42c7-8313-e3b65b585326' class='xr-var-data-in' type='checkbox'><label for='data-a0121b4d-ffef-42c7-8313-e3b65b585326' title='Show/Hide data repr'><svg class='icon xr-icon-database'><use xlink:href='#icon-database'></use></svg></label><div class='xr-var-attrs'><dl class='xr-attrs'></dl></div><div class='xr-var-data'><pre>array([&#x27;en&#x27;, &#x27;en&#x27;, &#x27;en&#x27;, ..., &#x27;en&#x27;, &#x27;en&#x27;, &#x27;en&#x27;], dtype=object)</pre></div></li><li class='xr-var-item'><div class='xr-var-name'><span>source</span></div><div class='xr-var-dims'>(index)</div><div class='xr-var-dtype'>object</div><div class='xr-var-preview xr-preview'>&#x27;Twitter for Android&#x27; ... &#x27;Twitt...</div><input id='attrs-cbb6ae65-08ed-447d-920b-c162756c3714' class='xr-var-attrs-in' type='checkbox' disabled><label for='attrs-cbb6ae65-08ed-447d-920b-c162756c3714' title='Show/Hide attributes'><svg class='icon xr-icon-file-text2'><use xlink:href='#icon-file-text2'></use></svg></label><input id='data-777efeb5-aaa7-47e6-a3b2-66cc0df5495e' class='xr-var-data-in' type='checkbox'><label for='data-777efeb5-aaa7-47e6-a3b2-66cc0df5495e' title='Show/Hide data repr'><svg class='icon xr-icon-database'><use xlink:href='#icon-database'></use></svg></label><div class='xr-var-attrs'><dl class='xr-attrs'></dl></div><div class='xr-var-data'><pre>array([&#x27;Twitter for Android&#x27;, &#x27;Twitter for Android&#x27;, &#x27;Twitter Web Client&#x27;,\n",
       "       ..., &#x27;Tweetbot for iΟS&#x27;, &#x27;Twitter for Android&#x27;,\n",
       "       &#x27;Twitter for iPhone&#x27;], dtype=object)</pre></div></li><li class='xr-var-item'><div class='xr-var-name'><span>author_id</span></div><div class='xr-var-dims'>(index)</div><div class='xr-var-dtype'>object</div><div class='xr-var-preview xr-preview'>&#x27;761805493&#x27; ... &#x27;402768458&#x27;</div><input id='attrs-74317684-c0b5-461a-8d5c-8357f6d45f90' class='xr-var-attrs-in' type='checkbox' disabled><label for='attrs-74317684-c0b5-461a-8d5c-8357f6d45f90' title='Show/Hide attributes'><svg class='icon xr-icon-file-text2'><use xlink:href='#icon-file-text2'></use></svg></label><input id='data-01a23a8b-fd3a-4657-9415-8ad69bf88dc8' class='xr-var-data-in' type='checkbox'><label for='data-01a23a8b-fd3a-4657-9415-8ad69bf88dc8' title='Show/Hide data repr'><svg class='icon xr-icon-database'><use xlink:href='#icon-database'></use></svg></label><div class='xr-var-attrs'><dl class='xr-attrs'></dl></div><div class='xr-var-data'><pre>array([&#x27;761805493&#x27;, &#x27;79705868&#x27;, &#x27;1186598713&#x27;, ..., &#x27;129822352&#x27;,\n",
       "       &#x27;20282689&#x27;, &#x27;402768458&#x27;], dtype=object)</pre></div></li><li class='xr-var-item'><div class='xr-var-name'><span>created_at</span></div><div class='xr-var-dims'>(index)</div><div class='xr-var-dtype'>datetime64[ns]</div><div class='xr-var-preview xr-preview'>2017-01-12T13:54:29 ... 2017-01-...</div><input id='attrs-076883b3-ac1c-4bff-8b43-2b21c160177d' class='xr-var-attrs-in' type='checkbox' disabled><label for='attrs-076883b3-ac1c-4bff-8b43-2b21c160177d' title='Show/Hide attributes'><svg class='icon xr-icon-file-text2'><use xlink:href='#icon-file-text2'></use></svg></label><input id='data-42fe73ca-bad8-433b-8e07-cea6facfa336' class='xr-var-data-in' type='checkbox'><label for='data-42fe73ca-bad8-433b-8e07-cea6facfa336' title='Show/Hide data repr'><svg class='icon xr-icon-database'><use xlink:href='#icon-database'></use></svg></label><div class='xr-var-attrs'><dl class='xr-attrs'></dl></div><div class='xr-var-data'><pre>array([&#x27;2017-01-12T13:54:29.000000000&#x27;, &#x27;2017-01-11T14:12:11.000000000&#x27;,\n",
       "       &#x27;2017-01-05T15:43:55.000000000&#x27;, ...,\n",
       "       &#x27;2017-01-12T16:46:20.000000000&#x27;, &#x27;2017-01-12T21:09:13.000000000&#x27;,\n",
       "       &#x27;2017-01-07T18:52:27.000000000&#x27;], dtype=&#x27;datetime64[ns]&#x27;)</pre></div></li><li class='xr-var-item'><div class='xr-var-name'><span>id</span></div><div class='xr-var-dims'>(index)</div><div class='xr-var-dtype'>object</div><div class='xr-var-preview xr-preview'>&#x27;819543073092931584&#x27; ... &#x27;817806...</div><input id='attrs-8e392df9-e764-4c30-843a-7fd6dda9b54c' class='xr-var-attrs-in' type='checkbox' disabled><label for='attrs-8e392df9-e764-4c30-843a-7fd6dda9b54c' title='Show/Hide attributes'><svg class='icon xr-icon-file-text2'><use xlink:href='#icon-file-text2'></use></svg></label><input id='data-56ecad93-f55f-467a-bdc0-032881da8e7e' class='xr-var-data-in' type='checkbox'><label for='data-56ecad93-f55f-467a-bdc0-032881da8e7e' title='Show/Hide data repr'><svg class='icon xr-icon-database'><use xlink:href='#icon-database'></use></svg></label><div class='xr-var-attrs'><dl class='xr-attrs'></dl></div><div class='xr-var-data'><pre>array([&#x27;819543073092931584&#x27;, &#x27;819185140786196480&#x27;, &#x27;817033896265207808&#x27;,\n",
       "       ..., &#x27;819586320410480642&#x27;, &#x27;819652474734804992&#x27;,\n",
       "       &#x27;817806117409529856&#x27;], dtype=object)</pre></div></li><li class='xr-var-item'><div class='xr-var-name'><span>geo.place_id</span></div><div class='xr-var-dims'>(index)</div><div class='xr-var-dtype'>object</div><div class='xr-var-preview xr-preview'>&#x27;06b6b2a6eb0f9d37&#x27; ... &#x27;2a3f152d...</div><input id='attrs-8b89aa47-64ec-4eb0-80b2-896cbc545849' class='xr-var-attrs-in' type='checkbox' disabled><label for='attrs-8b89aa47-64ec-4eb0-80b2-896cbc545849' title='Show/Hide attributes'><svg class='icon xr-icon-file-text2'><use xlink:href='#icon-file-text2'></use></svg></label><input id='data-3fbb947f-f955-4995-a6bd-471ceed81e03' class='xr-var-data-in' type='checkbox'><label for='data-3fbb947f-f955-4995-a6bd-471ceed81e03' title='Show/Hide data repr'><svg class='icon xr-icon-database'><use xlink:href='#icon-database'></use></svg></label><div class='xr-var-attrs'><dl class='xr-attrs'></dl></div><div class='xr-var-data'><pre>array([&#x27;06b6b2a6eb0f9d37&#x27;, &#x27;09ba692cbddfc92c&#x27;, &#x27;38d05a66be6d4ee1&#x27;, ...,\n",
       "       &#x27;544762ebf7fda780&#x27;, &#x27;09ba692cbddfc92c&#x27;, &#x27;2a3f152d1ac5044a&#x27;],\n",
       "      dtype=object)</pre></div></li><li class='xr-var-item'><div class='xr-var-name'><span>geo.coordinates.type</span></div><div class='xr-var-dims'>(index)</div><div class='xr-var-dtype'>object</div><div class='xr-var-preview xr-preview'>&#x27;&#x27; &#x27;&#x27; &#x27;&#x27; &#x27;&#x27; &#x27;&#x27; ... &#x27;&#x27; &#x27;&#x27; &#x27;&#x27; &#x27;&#x27; &#x27;&#x27;</div><input id='attrs-34b02d3c-a096-4bc3-b337-05e763811899' class='xr-var-attrs-in' type='checkbox' disabled><label for='attrs-34b02d3c-a096-4bc3-b337-05e763811899' title='Show/Hide attributes'><svg class='icon xr-icon-file-text2'><use xlink:href='#icon-file-text2'></use></svg></label><input id='data-049fbd47-37ab-4520-bb8d-d75a9811608c' class='xr-var-data-in' type='checkbox'><label for='data-049fbd47-37ab-4520-bb8d-d75a9811608c' title='Show/Hide data repr'><svg class='icon xr-icon-database'><use xlink:href='#icon-database'></use></svg></label><div class='xr-var-attrs'><dl class='xr-attrs'></dl></div><div class='xr-var-data'><pre>array([&#x27;&#x27;, &#x27;&#x27;, &#x27;&#x27;, ..., &#x27;&#x27;, &#x27;&#x27;, &#x27;&#x27;], dtype=object)</pre></div></li><li class='xr-var-item'><div class='xr-var-name'><span>geo.coordinates.coordinates</span></div><div class='xr-var-dims'>(index)</div><div class='xr-var-dtype'>object</div><div class='xr-var-preview xr-preview'>&#x27;nan&#x27; &#x27;nan&#x27; &#x27;nan&#x27; ... &#x27;nan&#x27; &#x27;nan&#x27;</div><input id='attrs-318a3259-9f12-44e4-9fed-b4adab5b1c50' class='xr-var-attrs-in' type='checkbox' disabled><label for='attrs-318a3259-9f12-44e4-9fed-b4adab5b1c50' title='Show/Hide attributes'><svg class='icon xr-icon-file-text2'><use xlink:href='#icon-file-text2'></use></svg></label><input id='data-f6f7ffab-939c-4802-b407-7a38da7471fe' class='xr-var-data-in' type='checkbox'><label for='data-f6f7ffab-939c-4802-b407-7a38da7471fe' title='Show/Hide data repr'><svg class='icon xr-icon-database'><use xlink:href='#icon-database'></use></svg></label><div class='xr-var-attrs'><dl class='xr-attrs'></dl></div><div class='xr-var-data'><pre>array([&#x27;nan&#x27;, &#x27;nan&#x27;, &#x27;nan&#x27;, ..., &#x27;nan&#x27;, &#x27;nan&#x27;, &#x27;nan&#x27;], dtype=object)</pre></div></li><li class='xr-var-item'><div class='xr-var-name'><span>public_metrics.retweet_count</span></div><div class='xr-var-dims'>(index)</div><div class='xr-var-dtype'>float64</div><div class='xr-var-preview xr-preview'>0.0 0.0 0.0 0.0 ... 0.0 0.0 0.0 0.0</div><input id='attrs-a1ca24b3-45ba-452c-83dd-9251119bda7a' class='xr-var-attrs-in' type='checkbox' disabled><label for='attrs-a1ca24b3-45ba-452c-83dd-9251119bda7a' title='Show/Hide attributes'><svg class='icon xr-icon-file-text2'><use xlink:href='#icon-file-text2'></use></svg></label><input id='data-e2b919ad-8da1-4f47-b6eb-9a36c6409e00' class='xr-var-data-in' type='checkbox'><label for='data-e2b919ad-8da1-4f47-b6eb-9a36c6409e00' title='Show/Hide data repr'><svg class='icon xr-icon-database'><use xlink:href='#icon-database'></use></svg></label><div class='xr-var-attrs'><dl class='xr-attrs'></dl></div><div class='xr-var-data'><pre>array([0., 0., 0., ..., 0., 0., 0.])</pre></div></li><li class='xr-var-item'><div class='xr-var-name'><span>public_metrics.reply_count</span></div><div class='xr-var-dims'>(index)</div><div class='xr-var-dtype'>float64</div><div class='xr-var-preview xr-preview'>0.0 0.0 0.0 0.0 ... 1.0 0.0 0.0 0.0</div><input id='attrs-f7445a28-e6b4-4590-af7d-403ea49604e3' class='xr-var-attrs-in' type='checkbox' disabled><label for='attrs-f7445a28-e6b4-4590-af7d-403ea49604e3' title='Show/Hide attributes'><svg class='icon xr-icon-file-text2'><use xlink:href='#icon-file-text2'></use></svg></label><input id='data-6e25d2a4-13e5-404e-b87e-e0d9e4a261bc' class='xr-var-data-in' type='checkbox'><label for='data-6e25d2a4-13e5-404e-b87e-e0d9e4a261bc' title='Show/Hide data repr'><svg class='icon xr-icon-database'><use xlink:href='#icon-database'></use></svg></label><div class='xr-var-attrs'><dl class='xr-attrs'></dl></div><div class='xr-var-data'><pre>array([0., 0., 0., ..., 0., 0., 0.])</pre></div></li><li class='xr-var-item'><div class='xr-var-name'><span>public_metrics.like_count</span></div><div class='xr-var-dims'>(index)</div><div class='xr-var-dtype'>float64</div><div class='xr-var-preview xr-preview'>0.0 0.0 0.0 0.0 ... 0.0 0.0 0.0 0.0</div><input id='attrs-48873c71-7784-43d1-9d83-18da66b9ac22' class='xr-var-attrs-in' type='checkbox' disabled><label for='attrs-48873c71-7784-43d1-9d83-18da66b9ac22' title='Show/Hide attributes'><svg class='icon xr-icon-file-text2'><use xlink:href='#icon-file-text2'></use></svg></label><input id='data-d4464727-eba4-45f1-8c04-9a0eb535c95c' class='xr-var-data-in' type='checkbox'><label for='data-d4464727-eba4-45f1-8c04-9a0eb535c95c' title='Show/Hide data repr'><svg class='icon xr-icon-database'><use xlink:href='#icon-database'></use></svg></label><div class='xr-var-attrs'><dl class='xr-attrs'></dl></div><div class='xr-var-data'><pre>array([0., 0., 0., ..., 0., 0., 0.])</pre></div></li><li class='xr-var-item'><div class='xr-var-name'><span>public_metrics.quote_count</span></div><div class='xr-var-dims'>(index)</div><div class='xr-var-dtype'>float64</div><div class='xr-var-preview xr-preview'>0.0 0.0 0.0 0.0 ... 0.0 0.0 0.0 0.0</div><input id='attrs-3f73ade9-3491-4983-b18d-8d6130edadbf' class='xr-var-attrs-in' type='checkbox' disabled><label for='attrs-3f73ade9-3491-4983-b18d-8d6130edadbf' title='Show/Hide attributes'><svg class='icon xr-icon-file-text2'><use xlink:href='#icon-file-text2'></use></svg></label><input id='data-5f69dd20-893b-42b3-b639-85fa075c3f96' class='xr-var-data-in' type='checkbox'><label for='data-5f69dd20-893b-42b3-b639-85fa075c3f96' title='Show/Hide data repr'><svg class='icon xr-icon-database'><use xlink:href='#icon-database'></use></svg></label><div class='xr-var-attrs'><dl class='xr-attrs'></dl></div><div class='xr-var-data'><pre>array([0., 0., 0., ..., 0., 0., 0.])</pre></div></li><li class='xr-var-item'><div class='xr-var-name'><span>referenced_tweets</span></div><div class='xr-var-dims'>(index)</div><div class='xr-var-dtype'>object</div><div class='xr-var-preview xr-preview'>&#x27;nan&#x27; &#x27;nan&#x27; ... &#x27;nan&#x27;</div><input id='attrs-8e1bc30f-bb16-432b-98c1-1b5366ed1aa7' class='xr-var-attrs-in' type='checkbox' disabled><label for='attrs-8e1bc30f-bb16-432b-98c1-1b5366ed1aa7' title='Show/Hide attributes'><svg class='icon xr-icon-file-text2'><use xlink:href='#icon-file-text2'></use></svg></label><input id='data-16154098-a638-439a-9482-5bf1f31e74c3' class='xr-var-data-in' type='checkbox'><label for='data-16154098-a638-439a-9482-5bf1f31e74c3' title='Show/Hide data repr'><svg class='icon xr-icon-database'><use xlink:href='#icon-database'></use></svg></label><div class='xr-var-attrs'><dl class='xr-attrs'></dl></div><div class='xr-var-data'><pre>array([&#x27;nan&#x27;, &#x27;nan&#x27;,\n",
       "       &quot;[{&#x27;type&#x27;: &#x27;replied_to&#x27;, &#x27;id&#x27;: &#x27;816940065419132928&#x27;}]&quot;, ...,\n",
       "       &quot;[{&#x27;type&#x27;: &#x27;replied_to&#x27;, &#x27;id&#x27;: &#x27;819575512691523584&#x27;}]&quot;,\n",
       "       &quot;[{&#x27;type&#x27;: &#x27;replied_to&#x27;, &#x27;id&#x27;: &#x27;819649920676331520&#x27;}]&quot;, &#x27;nan&#x27;],\n",
       "      dtype=object)</pre></div></li><li class='xr-var-item'><div class='xr-var-name'><span>in_reply_to_user_id</span></div><div class='xr-var-dims'>(index)</div><div class='xr-var-dtype'>object</div><div class='xr-var-preview xr-preview'>&#x27;&#x27; &#x27;&#x27; &#x27;18804678&#x27; ... &#x27;20481072&#x27; &#x27;&#x27;</div><input id='attrs-9ea35fa6-736b-421b-bbee-54bfab21f3d6' class='xr-var-attrs-in' type='checkbox' disabled><label for='attrs-9ea35fa6-736b-421b-bbee-54bfab21f3d6' title='Show/Hide attributes'><svg class='icon xr-icon-file-text2'><use xlink:href='#icon-file-text2'></use></svg></label><input id='data-a584efd8-dd64-4359-a158-796fb79fa7f3' class='xr-var-data-in' type='checkbox'><label for='data-a584efd8-dd64-4359-a158-796fb79fa7f3' title='Show/Hide data repr'><svg class='icon xr-icon-database'><use xlink:href='#icon-database'></use></svg></label><div class='xr-var-attrs'><dl class='xr-attrs'></dl></div><div class='xr-var-data'><pre>array([&#x27;&#x27;, &#x27;&#x27;, &#x27;18804678&#x27;, ..., &#x27;20276317&#x27;, &#x27;20481072&#x27;, &#x27;&#x27;], dtype=object)</pre></div></li><li class='xr-var-item'><div class='xr-var-name'><span>coordinates_estimated</span></div><div class='xr-var-dims'>(index)</div><div class='xr-var-dtype'>float64</div><div class='xr-var-preview xr-preview'>1.0 1.0 1.0 1.0 ... 1.0 1.0 1.0 1.0</div><input id='attrs-05922a07-b744-4214-a13c-75235938ac4b' class='xr-var-attrs-in' type='checkbox' disabled><label for='attrs-05922a07-b744-4214-a13c-75235938ac4b' title='Show/Hide attributes'><svg class='icon xr-icon-file-text2'><use xlink:href='#icon-file-text2'></use></svg></label><input id='data-62fab25d-83e7-4d18-9cb3-057066536f85' class='xr-var-data-in' type='checkbox'><label for='data-62fab25d-83e7-4d18-9cb3-057066536f85' title='Show/Hide data repr'><svg class='icon xr-icon-database'><use xlink:href='#icon-database'></use></svg></label><div class='xr-var-attrs'><dl class='xr-attrs'></dl></div><div class='xr-var-data'><pre>array([1., 1., 1., ..., 1., 1., 1.])</pre></div></li><li class='xr-var-item'><div class='xr-var-name'><span>centroid</span></div><div class='xr-var-dims'>(index)</div><div class='xr-var-dtype'>object</div><div class='xr-var-preview xr-preview'>&#x27;[-1.26565308394161, 52.37432099...</div><input id='attrs-203afaf8-2c31-4447-92cc-566acf27db15' class='xr-var-attrs-in' type='checkbox' disabled><label for='attrs-203afaf8-2c31-4447-92cc-566acf27db15' title='Show/Hide attributes'><svg class='icon xr-icon-file-text2'><use xlink:href='#icon-file-text2'></use></svg></label><input id='data-3e9c0fef-08bd-4b83-8d1c-f99cab49a6aa' class='xr-var-data-in' type='checkbox'><label for='data-3e9c0fef-08bd-4b83-8d1c-f99cab49a6aa' title='Show/Hide data repr'><svg class='icon xr-icon-database'><use xlink:href='#icon-database'></use></svg></label><div class='xr-var-attrs'><dl class='xr-attrs'></dl></div><div class='xr-var-data'><pre>array([&#x27;[-1.26565308394161, 52.374320999999995]&#x27;,\n",
       "       &#x27;[-0.230690548498061, 51.49844985]&#x27;,\n",
       "       &#x27;[0.9172467015294961, 51.88869955]&#x27;, ...,\n",
       "       &#x27;[-0.10159977007256701, 51.546839500000004]&#x27;,\n",
       "       &#x27;[-0.230690548498061, 51.49844985]&#x27;,\n",
       "       &#x27;[-0.046174056336796006, 51.5474543]&#x27;], dtype=object)</pre></div></li><li class='xr-var-item'><div class='xr-var-name'><span>place_type</span></div><div class='xr-var-dims'>(index)</div><div class='xr-var-dtype'>object</div><div class='xr-var-preview xr-preview'>&#x27;city&#x27; &#x27;city&#x27; ... &#x27;city&#x27; &#x27;city&#x27;</div><input id='attrs-c4713999-5812-41dd-86c2-f314534ed749' class='xr-var-attrs-in' type='checkbox' disabled><label for='attrs-c4713999-5812-41dd-86c2-f314534ed749' title='Show/Hide attributes'><svg class='icon xr-icon-file-text2'><use xlink:href='#icon-file-text2'></use></svg></label><input id='data-6eab140e-f2f9-4d27-b3c9-2da80d63fe47' class='xr-var-data-in' type='checkbox'><label for='data-6eab140e-f2f9-4d27-b3c9-2da80d63fe47' title='Show/Hide data repr'><svg class='icon xr-icon-database'><use xlink:href='#icon-database'></use></svg></label><div class='xr-var-attrs'><dl class='xr-attrs'></dl></div><div class='xr-var-data'><pre>array([&#x27;city&#x27;, &#x27;city&#x27;, &#x27;city&#x27;, ..., &#x27;city&#x27;, &#x27;city&#x27;, &#x27;city&#x27;], dtype=object)</pre></div></li><li class='xr-var-item'><div class='xr-var-name'><span>full_name</span></div><div class='xr-var-dims'>(index)</div><div class='xr-var-dtype'>object</div><div class='xr-var-preview xr-preview'>&#x27;Rugby, England&#x27; ... &#x27;Hackney, L...</div><input id='attrs-bfd01ee1-d211-4e9c-88f1-7dbe1d867a7c' class='xr-var-attrs-in' type='checkbox' disabled><label for='attrs-bfd01ee1-d211-4e9c-88f1-7dbe1d867a7c' title='Show/Hide attributes'><svg class='icon xr-icon-file-text2'><use xlink:href='#icon-file-text2'></use></svg></label><input id='data-0c78dd77-8850-4332-9590-4c987783985c' class='xr-var-data-in' type='checkbox'><label for='data-0c78dd77-8850-4332-9590-4c987783985c' title='Show/Hide data repr'><svg class='icon xr-icon-database'><use xlink:href='#icon-database'></use></svg></label><div class='xr-var-attrs'><dl class='xr-attrs'></dl></div><div class='xr-var-data'><pre>array([&#x27;Rugby, England&#x27;, &#x27;Hammersmith, London&#x27;, &#x27;Colchester, England&#x27;,\n",
       "       ..., &#x27;Islington, London&#x27;, &#x27;Hammersmith, London&#x27;, &#x27;Hackney, London&#x27;],\n",
       "      dtype=object)</pre></div></li><li class='xr-var-item'><div class='xr-var-name'><span>bounding_box_area</span></div><div class='xr-var-dims'>(index)</div><div class='xr-var-dtype'>float64</div><div class='xr-var-preview xr-preview'>46.42 41.02 58.22 ... 41.02 39.74</div><input id='attrs-91826f82-8135-47f5-b6ba-36bc0afa3fc7' class='xr-var-attrs-in' type='checkbox' disabled><label for='attrs-91826f82-8135-47f5-b6ba-36bc0afa3fc7' title='Show/Hide attributes'><svg class='icon xr-icon-file-text2'><use xlink:href='#icon-file-text2'></use></svg></label><input id='data-c9d1e44d-3607-4551-80e5-b8836edce613' class='xr-var-data-in' type='checkbox'><label for='data-c9d1e44d-3607-4551-80e5-b8836edce613' title='Show/Hide data repr'><svg class='icon xr-icon-database'><use xlink:href='#icon-database'></use></svg></label><div class='xr-var-attrs'><dl class='xr-attrs'></dl></div><div class='xr-var-data'><pre>array([46.42147162, 41.0172696 , 58.21546625, ..., 28.79885576,\n",
       "       41.0172696 , 39.74457698])</pre></div></li><li class='xr-var-item'><div class='xr-var-name'><span>centroid_longitude</span></div><div class='xr-var-dims'>(index)</div><div class='xr-var-dtype'>float64</div><div class='xr-var-preview xr-preview'>-1.266 -0.2307 ... -0.2307 -0.04617</div><input id='attrs-89bf60cc-3054-4d15-b359-364c2ecbc229' class='xr-var-attrs-in' type='checkbox' disabled><label for='attrs-89bf60cc-3054-4d15-b359-364c2ecbc229' title='Show/Hide attributes'><svg class='icon xr-icon-file-text2'><use xlink:href='#icon-file-text2'></use></svg></label><input id='data-180eefca-bf9c-4f70-bc79-4744582d7d80' class='xr-var-data-in' type='checkbox'><label for='data-180eefca-bf9c-4f70-bc79-4744582d7d80' title='Show/Hide data repr'><svg class='icon xr-icon-database'><use xlink:href='#icon-database'></use></svg></label><div class='xr-var-attrs'><dl class='xr-attrs'></dl></div><div class='xr-var-data'><pre>array([-1.26565308, -0.23069055,  0.9172467 , ..., -0.10159977,\n",
       "       -0.23069055, -0.04617406])</pre></div></li><li class='xr-var-item'><div class='xr-var-name'><span>centroid_latitude</span></div><div class='xr-var-dims'>(index)</div><div class='xr-var-dtype'>float64</div><div class='xr-var-preview xr-preview'>52.37 51.5 51.89 ... 51.5 51.55</div><input id='attrs-d624c3d1-9981-46ed-ad61-8f20c4d1a1ad' class='xr-var-attrs-in' type='checkbox' disabled><label for='attrs-d624c3d1-9981-46ed-ad61-8f20c4d1a1ad' title='Show/Hide attributes'><svg class='icon xr-icon-file-text2'><use xlink:href='#icon-file-text2'></use></svg></label><input id='data-559503df-eb74-46d6-84f1-4dfceb0ec9dc' class='xr-var-data-in' type='checkbox'><label for='data-559503df-eb74-46d6-84f1-4dfceb0ec9dc' title='Show/Hide data repr'><svg class='icon xr-icon-database'><use xlink:href='#icon-database'></use></svg></label><div class='xr-var-attrs'><dl class='xr-attrs'></dl></div><div class='xr-var-data'><pre>array([52.374321  , 51.49844985, 51.88869955, ..., 51.5468395 ,\n",
       "       51.49844985, 51.5474543 ])</pre></div></li><li class='xr-var-item'><div class='xr-var-name'><span>longitude</span></div><div class='xr-var-dims'>(index)</div><div class='xr-var-dtype'>float64</div><div class='xr-var-preview xr-preview'>-1.266 -0.2307 ... -0.2307 -0.04617</div><input id='attrs-8d33b8a2-b306-40a5-8d60-5ff7b87831e0' class='xr-var-attrs-in' type='checkbox' disabled><label for='attrs-8d33b8a2-b306-40a5-8d60-5ff7b87831e0' title='Show/Hide attributes'><svg class='icon xr-icon-file-text2'><use xlink:href='#icon-file-text2'></use></svg></label><input id='data-d303d1f9-2357-4f14-92b2-07d672df7987' class='xr-var-data-in' type='checkbox'><label for='data-d303d1f9-2357-4f14-92b2-07d672df7987' title='Show/Hide data repr'><svg class='icon xr-icon-database'><use xlink:href='#icon-database'></use></svg></label><div class='xr-var-attrs'><dl class='xr-attrs'></dl></div><div class='xr-var-data'><pre>array([-1.26565308, -0.23069055,  0.9172467 , ..., -0.10159977,\n",
       "       -0.23069055, -0.04617406])</pre></div></li><li class='xr-var-item'><div class='xr-var-name'><span>latitude</span></div><div class='xr-var-dims'>(index)</div><div class='xr-var-dtype'>float64</div><div class='xr-var-preview xr-preview'>52.37 51.5 51.89 ... 51.5 51.55</div><input id='attrs-1d22a474-d412-461f-b4db-efc165fae0df' class='xr-var-attrs-in' type='checkbox' disabled><label for='attrs-1d22a474-d412-461f-b4db-efc165fae0df' title='Show/Hide attributes'><svg class='icon xr-icon-file-text2'><use xlink:href='#icon-file-text2'></use></svg></label><input id='data-75bbc6ef-948d-48e9-af17-c2a92e497251' class='xr-var-data-in' type='checkbox'><label for='data-75bbc6ef-948d-48e9-af17-c2a92e497251' title='Show/Hide data repr'><svg class='icon xr-icon-database'><use xlink:href='#icon-database'></use></svg></label><div class='xr-var-attrs'><dl class='xr-attrs'></dl></div><div class='xr-var-data'><pre>array([52.374321  , 51.49844985, 51.88869955, ..., 51.5468395 ,\n",
       "       51.49844985, 51.5474543 ])</pre></div></li><li class='xr-var-item'><div class='xr-var-name'><span>latitude_rounded</span></div><div class='xr-var-dims'>(index)</div><div class='xr-var-dtype'>float64</div><div class='xr-var-preview xr-preview'>52.4 51.5 51.9 ... 51.5 51.5 51.5</div><input id='attrs-6006ec11-a6fa-41ed-84f0-9838518d72a7' class='xr-var-attrs-in' type='checkbox' disabled><label for='attrs-6006ec11-a6fa-41ed-84f0-9838518d72a7' title='Show/Hide attributes'><svg class='icon xr-icon-file-text2'><use xlink:href='#icon-file-text2'></use></svg></label><input id='data-ed414c8b-f236-47d8-bbf8-db3d597a48ad' class='xr-var-data-in' type='checkbox'><label for='data-ed414c8b-f236-47d8-bbf8-db3d597a48ad' title='Show/Hide data repr'><svg class='icon xr-icon-database'><use xlink:href='#icon-database'></use></svg></label><div class='xr-var-attrs'><dl class='xr-attrs'></dl></div><div class='xr-var-data'><pre>array([52.4, 51.5, 51.9, ..., 51.5, 51.5, 51.5])</pre></div></li><li class='xr-var-item'><div class='xr-var-name'><span>longitude_rounded</span></div><div class='xr-var-dims'>(index)</div><div class='xr-var-dtype'>float64</div><div class='xr-var-preview xr-preview'>-1.3 -0.2 0.9 ... -0.1 -0.2 -0.0</div><input id='attrs-bba9a3cd-6907-488f-96d6-99795afe0206' class='xr-var-attrs-in' type='checkbox' disabled><label for='attrs-bba9a3cd-6907-488f-96d6-99795afe0206' title='Show/Hide attributes'><svg class='icon xr-icon-file-text2'><use xlink:href='#icon-file-text2'></use></svg></label><input id='data-699db0ad-7a31-4323-9cbd-b903022ab223' class='xr-var-data-in' type='checkbox'><label for='data-699db0ad-7a31-4323-9cbd-b903022ab223' title='Show/Hide data repr'><svg class='icon xr-icon-database'><use xlink:href='#icon-database'></use></svg></label><div class='xr-var-attrs'><dl class='xr-attrs'></dl></div><div class='xr-var-data'><pre>array([-1.3, -0.2,  0.9, ..., -0.1, -0.2, -0. ])</pre></div></li><li class='xr-var-item'><div class='xr-var-name'><span>created_at_h</span></div><div class='xr-var-dims'>(index)</div><div class='xr-var-dtype'>datetime64[ns]</div><div class='xr-var-preview xr-preview'>2017-01-12T14:00:00 ... 2017-01-...</div><input id='attrs-4d37a04f-e5a4-4e83-8e84-3442eddb8ec8' class='xr-var-attrs-in' type='checkbox' disabled><label for='attrs-4d37a04f-e5a4-4e83-8e84-3442eddb8ec8' title='Show/Hide attributes'><svg class='icon xr-icon-file-text2'><use xlink:href='#icon-file-text2'></use></svg></label><input id='data-6db23475-25d6-4c95-a886-d6ec0c7cf8d8' class='xr-var-data-in' type='checkbox'><label for='data-6db23475-25d6-4c95-a886-d6ec0c7cf8d8' title='Show/Hide data repr'><svg class='icon xr-icon-database'><use xlink:href='#icon-database'></use></svg></label><div class='xr-var-attrs'><dl class='xr-attrs'></dl></div><div class='xr-var-data'><pre>array([&#x27;2017-01-12T14:00:00.000000000&#x27;, &#x27;2017-01-11T14:00:00.000000000&#x27;,\n",
       "       &#x27;2017-01-05T16:00:00.000000000&#x27;, ...,\n",
       "       &#x27;2017-01-12T17:00:00.000000000&#x27;, &#x27;2017-01-12T21:00:00.000000000&#x27;,\n",
       "       &#x27;2017-01-07T19:00:00.000000000&#x27;], dtype=&#x27;datetime64[ns]&#x27;)</pre></div></li><li class='xr-var-item'><div class='xr-var-name'><span>tp_h</span></div><div class='xr-var-dims'>(index)</div><div class='xr-var-dtype'>float64</div><div class='xr-var-preview xr-preview'>0.0008418 0.0 ... 5.879e-06</div><input id='attrs-157c4afa-58b1-4c2d-9b5c-d84563daf70f' class='xr-var-attrs-in' type='checkbox' disabled><label for='attrs-157c4afa-58b1-4c2d-9b5c-d84563daf70f' title='Show/Hide attributes'><svg class='icon xr-icon-file-text2'><use xlink:href='#icon-file-text2'></use></svg></label><input id='data-0c408f95-eda8-40e9-8876-a206c805a20e' class='xr-var-data-in' type='checkbox'><label for='data-0c408f95-eda8-40e9-8876-a206c805a20e' title='Show/Hide data repr'><svg class='icon xr-icon-database'><use xlink:href='#icon-database'></use></svg></label><div class='xr-var-attrs'><dl class='xr-attrs'></dl></div><div class='xr-var-data'><pre>array([8.41844827e-04, 0.00000000e+00, 0.00000000e+00, ...,\n",
       "       3.24274041e-03, 7.05569983e-06, 5.87850809e-06])</pre></div></li><li class='xr-var-item'><div class='xr-var-name'><span>time_half</span></div><div class='xr-var-dims'>(index)</div><div class='xr-var-dtype'>datetime64[ns]</div><div class='xr-var-preview xr-preview'>2017-01-12T13:30:00 ... 2017-01-...</div><input id='attrs-98427c3d-4e38-41c5-a0c0-365f878c4cc5' class='xr-var-attrs-in' type='checkbox' disabled><label for='attrs-98427c3d-4e38-41c5-a0c0-365f878c4cc5' title='Show/Hide attributes'><svg class='icon xr-icon-file-text2'><use xlink:href='#icon-file-text2'></use></svg></label><input id='data-9d294aeb-6efe-4f73-b40b-13da05671a1a' class='xr-var-data-in' type='checkbox'><label for='data-9d294aeb-6efe-4f73-b40b-13da05671a1a' title='Show/Hide data repr'><svg class='icon xr-icon-database'><use xlink:href='#icon-database'></use></svg></label><div class='xr-var-attrs'><dl class='xr-attrs'></dl></div><div class='xr-var-data'><pre>array([&#x27;2017-01-12T13:30:00.000000000&#x27;, &#x27;2017-01-11T14:30:00.000000000&#x27;,\n",
       "       &#x27;2017-01-05T15:30:00.000000000&#x27;, ...,\n",
       "       &#x27;2017-01-12T16:30:00.000000000&#x27;, &#x27;2017-01-12T21:30:00.000000000&#x27;,\n",
       "       &#x27;2017-01-07T18:30:00.000000000&#x27;], dtype=&#x27;datetime64[ns]&#x27;)</pre></div></li><li class='xr-var-item'><div class='xr-var-name'><span>text_original</span></div><div class='xr-var-dims'>(index)</div><div class='xr-var-dtype'>object</div><div class='xr-var-preview xr-preview'>&#x27;A Chinese proverb relevant toda...</div><input id='attrs-7ec166eb-66a4-4047-956a-10206bc1c727' class='xr-var-attrs-in' type='checkbox' disabled><label for='attrs-7ec166eb-66a4-4047-956a-10206bc1c727' title='Show/Hide attributes'><svg class='icon xr-icon-file-text2'><use xlink:href='#icon-file-text2'></use></svg></label><input id='data-d2abf4cd-77bb-4be7-be45-842fa7117578' class='xr-var-data-in' type='checkbox'><label for='data-d2abf4cd-77bb-4be7-be45-842fa7117578' title='Show/Hide data repr'><svg class='icon xr-icon-database'><use xlink:href='#icon-database'></use></svg></label><div class='xr-var-attrs'><dl class='xr-attrs'></dl></div><div class='xr-var-data'><pre>array([&#x27;A Chinese proverb relevant today &quot;When small people cast long shadows, the sun is setting&quot;&#x27;,\n",
       "       &#x27;A Deeper Look at the Snow Situation in Dubrovnik https://t.co/dznGQuYlPF&#x27;,\n",
       "       &#x27;@MrLender #WIN A Flotilla holiday with my husband @boatsailfish &amp;amp; son Arran \\n ( before he goes to Uni ). Bring on the sun! :) https://t.co/iNij4mcVBC&#x27;,\n",
       "       ...,\n",
       "       &#x27;@MMaryMcKenna yup, on my way to KingsX and then north, hope to miss the snow&#x27;,\n",
       "       &#x27;@liamdutton zero snow in W London to come back to. None fell.&#x27;,\n",
       "       &#x27;#Mushrooms, #chilli, #garlic,  #cheese, #lemon zest and a drizzle of #olive oil - so many of my favourite things! https://t.co/CkDbTOsl4J&#x27;],\n",
       "      dtype=object)</pre></div></li><li class='xr-var-item'><div class='xr-var-name'><span>text_normalized</span></div><div class='xr-var-dims'>(index)</div><div class='xr-var-dtype'>object</div><div class='xr-var-preview xr-preview'>&#x27;A Chinese proverb relevant toda...</div><input id='attrs-f4e08186-a7af-413d-bd18-416a0e780b60' class='xr-var-attrs-in' type='checkbox' disabled><label for='attrs-f4e08186-a7af-413d-bd18-416a0e780b60' title='Show/Hide attributes'><svg class='icon xr-icon-file-text2'><use xlink:href='#icon-file-text2'></use></svg></label><input id='data-378320a5-ab08-4aa1-971e-bb44aab13acb' class='xr-var-data-in' type='checkbox'><label for='data-378320a5-ab08-4aa1-971e-bb44aab13acb' title='Show/Hide data repr'><svg class='icon xr-icon-database'><use xlink:href='#icon-database'></use></svg></label><div class='xr-var-attrs'><dl class='xr-attrs'></dl></div><div class='xr-var-data'><pre>array([&#x27;A Chinese proverb relevant today When small people cast long shadows the sun is setting&#x27;,\n",
       "       &#x27;A Deeper Look at the Snow Situation in Dubrovnik&#x27;,\n",
       "       &#x27;A Flotilla holiday with my husband and son Arran before he goes to Uni Bring on the sun&#x27;,\n",
       "       ...,\n",
       "       &#x27;yup on my way to KingsX and then north hope to miss the snow&#x27;,\n",
       "       &#x27;zero snow in W London to come back to None fell&#x27;,\n",
       "       &#x27;zest and a drizzle of oil so many of my favourite things&#x27;],\n",
       "      dtype=object)</pre></div></li><li class='xr-var-item'><div class='xr-var-name'><span>raining</span></div><div class='xr-var-dims'>(index)</div><div class='xr-var-dtype'>bool</div><div class='xr-var-preview xr-preview'>True False False ... True True True</div><input id='attrs-9f71aa8a-092a-4432-af9a-514335671810' class='xr-var-attrs-in' type='checkbox' disabled><label for='attrs-9f71aa8a-092a-4432-af9a-514335671810' title='Show/Hide attributes'><svg class='icon xr-icon-file-text2'><use xlink:href='#icon-file-text2'></use></svg></label><input id='data-7f550864-b837-48a3-9efc-bf1424386e89' class='xr-var-data-in' type='checkbox'><label for='data-7f550864-b837-48a3-9efc-bf1424386e89' title='Show/Hide data repr'><svg class='icon xr-icon-database'><use xlink:href='#icon-database'></use></svg></label><div class='xr-var-attrs'><dl class='xr-attrs'></dl></div><div class='xr-var-data'><pre>array([ True, False, False, ...,  True,  True,  True])</pre></div></li><li class='xr-var-item'><div class='xr-var-name'><span>station_latitude</span></div><div class='xr-var-dims'>(index)</div><div class='xr-var-dtype'>float64</div><div class='xr-var-preview xr-preview'>52.36 51.51 52.12 ... 51.51 51.51</div><input id='attrs-1924b6d0-0478-4a67-b1ed-235db854e779' class='xr-var-attrs-in' type='checkbox' disabled><label for='attrs-1924b6d0-0478-4a67-b1ed-235db854e779' title='Show/Hide attributes'><svg class='icon xr-icon-file-text2'><use xlink:href='#icon-file-text2'></use></svg></label><input id='data-f6242241-82a7-4865-886d-a3ff17ca7912' class='xr-var-data-in' type='checkbox'><label for='data-f6242241-82a7-4865-886d-a3ff17ca7912' title='Show/Hide data repr'><svg class='icon xr-icon-database'><use xlink:href='#icon-database'></use></svg></label><div class='xr-var-attrs'><dl class='xr-attrs'></dl></div><div class='xr-var-data'><pre>array([52.359, 51.505, 52.124, ..., 51.505, 51.505, 51.505])</pre></div></li><li class='xr-var-item'><div class='xr-var-name'><span>station_longitude</span></div><div class='xr-var-dims'>(index)</div><div class='xr-var-dtype'>float64</div><div class='xr-var-preview xr-preview'>-1.331 -0.131 ... -0.131 -0.131</div><input id='attrs-403aeb3c-9d6d-4915-9e70-96244c795e10' class='xr-var-attrs-in' type='checkbox' disabled><label for='attrs-403aeb3c-9d6d-4915-9e70-96244c795e10' title='Show/Hide attributes'><svg class='icon xr-icon-file-text2'><use xlink:href='#icon-file-text2'></use></svg></label><input id='data-7c838513-06af-418f-956c-ca6a39ac81f8' class='xr-var-data-in' type='checkbox'><label for='data-7c838513-06af-418f-956c-ca6a39ac81f8' title='Show/Hide data repr'><svg class='icon xr-icon-database'><use xlink:href='#icon-database'></use></svg></label><div class='xr-var-attrs'><dl class='xr-attrs'></dl></div><div class='xr-var-data'><pre>array([-1.331, -0.131,  0.957, ..., -0.131, -0.131, -0.131])</pre></div></li><li class='xr-var-item'><div class='xr-var-name'><span>station_distance_km</span></div><div class='xr-var-dims'>(index)</div><div class='xr-var-dtype'>float64</div><div class='xr-var-preview xr-preview'>4.766 6.961 26.32 ... 6.961 7.548</div><input id='attrs-7e0bf3c1-e885-4516-8dc6-29c449ec3829' class='xr-var-attrs-in' type='checkbox' disabled><label for='attrs-7e0bf3c1-e885-4516-8dc6-29c449ec3829' title='Show/Hide attributes'><svg class='icon xr-icon-file-text2'><use xlink:href='#icon-file-text2'></use></svg></label><input id='data-4bd83db9-b8f9-4134-be9f-fe84cd6f1ce4' class='xr-var-data-in' type='checkbox'><label for='data-4bd83db9-b8f9-4134-be9f-fe84cd6f1ce4' title='Show/Hide data repr'><svg class='icon xr-icon-database'><use xlink:href='#icon-database'></use></svg></label><div class='xr-var-attrs'><dl class='xr-attrs'></dl></div><div class='xr-var-data'><pre>array([ 4.76645393,  6.96055603, 26.32321156, ...,  5.08254123,\n",
       "        6.96055603,  7.54764392])</pre></div></li><li class='xr-var-item'><div class='xr-var-name'><span>tp_h_mm</span></div><div class='xr-var-dims'>(index)</div><div class='xr-var-dtype'>float64</div><div class='xr-var-preview xr-preview'>0.8418 0.0 ... 0.007056 0.005879</div><input id='attrs-d3303d60-b779-4605-ae05-ad1271baf2a5' class='xr-var-attrs-in' type='checkbox' disabled><label for='attrs-d3303d60-b779-4605-ae05-ad1271baf2a5' title='Show/Hide attributes'><svg class='icon xr-icon-file-text2'><use xlink:href='#icon-file-text2'></use></svg></label><input id='data-c4473fad-4031-4dac-89ca-d629fac74657' class='xr-var-data-in' type='checkbox'><label for='data-c4473fad-4031-4dac-89ca-d629fac74657' title='Show/Hide data repr'><svg class='icon xr-icon-database'><use xlink:href='#icon-database'></use></svg></label><div class='xr-var-attrs'><dl class='xr-attrs'></dl></div><div class='xr-var-data'><pre>array([0.84184483, 0.        , 0.        , ..., 3.24274041, 0.0070557 ,\n",
       "       0.00587851])</pre></div></li><li class='xr-var-item'><div class='xr-var-name'><span>raining_station</span></div><div class='xr-var-dims'>(index)</div><div class='xr-var-dtype'>float64</div><div class='xr-var-preview xr-preview'>1.0 0.0 0.0 0.0 ... 0.0 1.0 0.0 0.0</div><input id='attrs-c420f0be-a263-4f8f-ae79-94548172df99' class='xr-var-attrs-in' type='checkbox' disabled><label for='attrs-c420f0be-a263-4f8f-ae79-94548172df99' title='Show/Hide attributes'><svg class='icon xr-icon-file-text2'><use xlink:href='#icon-file-text2'></use></svg></label><input id='data-ae77f5ba-52c3-48e1-bac8-5f8a1511efd1' class='xr-var-data-in' type='checkbox'><label for='data-ae77f5ba-52c3-48e1-bac8-5f8a1511efd1' title='Show/Hide data repr'><svg class='icon xr-icon-database'><use xlink:href='#icon-database'></use></svg></label><div class='xr-var-attrs'><dl class='xr-attrs'></dl></div><div class='xr-var-data'><pre>array([1., 0., 0., ..., 1., 0., 0.])</pre></div></li><li class='xr-var-item'><div class='xr-var-name'><span>tp_mm_radar</span></div><div class='xr-var-dims'>(index)</div><div class='xr-var-dtype'>float64</div><div class='xr-var-preview xr-preview'>0.0 0.0 0.0 0.0 ... 0.0 0.0 0.0 0.0</div><input id='attrs-d276dc7c-eaac-4dda-998e-96aabae82f7d' class='xr-var-attrs-in' type='checkbox' disabled><label for='attrs-d276dc7c-eaac-4dda-998e-96aabae82f7d' title='Show/Hide attributes'><svg class='icon xr-icon-file-text2'><use xlink:href='#icon-file-text2'></use></svg></label><input id='data-272a242c-3ca7-430f-af0d-fd22ba5f3c69' class='xr-var-data-in' type='checkbox'><label for='data-272a242c-3ca7-430f-af0d-fd22ba5f3c69' title='Show/Hide data repr'><svg class='icon xr-icon-database'><use xlink:href='#icon-database'></use></svg></label><div class='xr-var-attrs'><dl class='xr-attrs'></dl></div><div class='xr-var-data'><pre>array([0., 0., 0., ..., 0., 0., 0.])</pre></div></li><li class='xr-var-item'><div class='xr-var-name'><span>tp_mm_station</span></div><div class='xr-var-dims'>(index)</div><div class='xr-var-dtype'>float64</div><div class='xr-var-preview xr-preview'>1.2e+03 0.0 0.0 ... 5.4e+03 0.0 0.0</div><input id='attrs-736ff58d-83df-48fe-b8d2-4036b1e3289e' class='xr-var-attrs-in' type='checkbox' disabled><label for='attrs-736ff58d-83df-48fe-b8d2-4036b1e3289e' title='Show/Hide attributes'><svg class='icon xr-icon-file-text2'><use xlink:href='#icon-file-text2'></use></svg></label><input id='data-08e7ac24-a190-4541-962c-372732fef7df' class='xr-var-data-in' type='checkbox'><label for='data-08e7ac24-a190-4541-962c-372732fef7df' title='Show/Hide data repr'><svg class='icon xr-icon-database'><use xlink:href='#icon-database'></use></svg></label><div class='xr-var-attrs'><dl class='xr-attrs'></dl></div><div class='xr-var-data'><pre>array([1200.,    0.,    0., ..., 5400.,    0.,    0.])</pre></div></li><li class='xr-var-item'><div class='xr-var-name'><span>raining_radar</span></div><div class='xr-var-dims'>(index)</div><div class='xr-var-dtype'>float64</div><div class='xr-var-preview xr-preview'>0.0 0.0 0.0 0.0 ... 0.0 0.0 0.0 0.0</div><input id='attrs-433b3698-13fe-4b42-8aa7-237ce94477f4' class='xr-var-attrs-in' type='checkbox' disabled><label for='attrs-433b3698-13fe-4b42-8aa7-237ce94477f4' title='Show/Hide attributes'><svg class='icon xr-icon-file-text2'><use xlink:href='#icon-file-text2'></use></svg></label><input id='data-c6844a68-151b-4960-94f3-9723bfc641f8' class='xr-var-data-in' type='checkbox'><label for='data-c6844a68-151b-4960-94f3-9723bfc641f8' title='Show/Hide data repr'><svg class='icon xr-icon-database'><use xlink:href='#icon-database'></use></svg></label><div class='xr-var-attrs'><dl class='xr-attrs'></dl></div><div class='xr-var-data'><pre>array([0., 0., 0., ..., 0., 0., 0.])</pre></div></li></ul></div></li><li class='xr-section-item'><input id='section-0e326afd-96bc-4a86-9fab-4f9fc7486222' class='xr-section-summary-in' type='checkbox'  ><label for='section-0e326afd-96bc-4a86-9fab-4f9fc7486222' class='xr-section-summary' >Indexes: <span>(1)</span></label><div class='xr-section-inline-details'></div><div class='xr-section-details'><ul class='xr-var-list'><li class='xr-var-item'><div class='xr-index-name'><div>index</div></div><div class='xr-index-preview'>PandasIndex</div><div></div><input id='index-e082e14a-7d20-48d5-b19f-0e264adc8e18' class='xr-index-data-in' type='checkbox'/><label for='index-e082e14a-7d20-48d5-b19f-0e264adc8e18' title='Show/Hide index repr'><svg class='icon xr-icon-database'><use xlink:href='#icon-database'></use></svg></label><div class='xr-index-data'><pre>PandasIndex(Index([    0,     1,     2,     3,     4,     5,     6,     7,     8,     9,\n",
       "       ...\n",
       "       24481, 24482, 24483, 24484, 24485, 24486, 24487, 24488, 24489, 24490],\n",
       "      dtype=&#x27;int64&#x27;, name=&#x27;index&#x27;, length=24491))</pre></div></li></ul></div></li><li class='xr-section-item'><input id='section-c52db0a5-0f2f-4ade-a14b-b8c2e99cdbc1' class='xr-section-summary-in' type='checkbox'  checked><label for='section-c52db0a5-0f2f-4ade-a14b-b8c2e99cdbc1' class='xr-section-summary' >Attributes: <span>(1)</span></label><div class='xr-section-inline-details'></div><div class='xr-section-details'><dl class='xr-attrs'><dt><span>description :</span></dt><dd>added locationsadded locationsadded locationsadded locations,computed bounding box area, prepared for combining with tp</dd></dl></div></li></ul></div></div>"
      ],
      "text/plain": [
       "<xarray.Dataset>\n",
       "Dimensions:                       (index: 24491)\n",
       "Coordinates:\n",
       "  * index                         (index) int64 0 1 2 3 ... 24488 24489 24490\n",
       "Data variables: (12/41)\n",
       "    text                          (index) object 'A Chinese proverb relevant ...\n",
       "    conversation_id               (index) object '819543073092931584' ... '81...\n",
       "    lang                          (index) object 'en' 'en' 'en' ... 'en' 'en'\n",
       "    source                        (index) object 'Twitter for Android' ... 'T...\n",
       "    author_id                     (index) object '761805493' ... '402768458'\n",
       "    created_at                    (index) datetime64[ns] 2017-01-12T13:54:29 ...\n",
       "    ...                            ...\n",
       "    station_distance_km           (index) float64 4.766 6.961 ... 6.961 7.548\n",
       "    tp_h_mm                       (index) float64 0.8418 0.0 ... 0.005879\n",
       "    raining_station               (index) float64 1.0 0.0 0.0 ... 1.0 0.0 0.0\n",
       "    tp_mm_radar                   (index) float64 0.0 0.0 0.0 ... 0.0 0.0 0.0\n",
       "    tp_mm_station                 (index) float64 1.2e+03 0.0 0.0 ... 0.0 0.0\n",
       "    raining_radar                 (index) float64 0.0 0.0 0.0 ... 0.0 0.0 0.0\n",
       "Attributes:\n",
       "    description:  added locationsadded locationsadded locationsadded location..."
      ]
     },
     "execution_count": 5,
     "metadata": {},
     "output_type": "execute_result"
    }
   ],
   "source": [
    "ds_tweets"
   ]
  },
  {
   "cell_type": "code",
   "execution_count": 6,
   "id": "be893f5a-6b81-425e-8173-f9b5b092dbd3",
   "metadata": {
    "tags": []
   },
   "outputs": [],
   "source": [
    "# plt.hist(indices_train, bins=np.unique(indices_train), alpha=0.5, label='Training Set')\n",
    "# plt.hist(indices_test, bins=np.unique(indices_test), alpha=0.5, label='Test Set')\n",
    "# plt.xlabel('Label')\n",
    "# plt.ylabel('Count')\n",
    "# plt.title('Label Distribution in Training and Test Set')\n",
    "# plt.legend()\n",
    "# plt.show()"
   ]
  },
  {
   "cell_type": "code",
   "execution_count": 7,
   "id": "d7507311-6ecc-4550-bf1f-bb4d076c4e11",
   "metadata": {
    "tags": []
   },
   "outputs": [
    {
     "name": "stderr",
     "output_type": "stream",
     "text": [
      "/transformers/src/transformers/convert_slow_tokenizer.py:473: UserWarning: The sentencepiece tokenizer that you are converting to a fast tokenizer uses the byte fallback option which is not implemented in the fast tokenizers. In practice this means that the fast version of the tokenizer can produce unknown tokens whereas the sentencepiece version would have converted these unknown tokens into a sequence of byte tokens matching the original piece of text.\n",
      "  warnings.warn(\n",
      "Map:   0%|          | 0/24491 [00:00<?, ? examples/s]Asking to truncate to max_length but no maximum length is provided and the model has no predefined maximum length. Default to no truncation.\n",
      "Map: 100%|██████████| 24491/24491 [00:00<00:00, 25134.96 examples/s]\n"
     ]
    }
   ],
   "source": [
    "# Load the pretrained tokenizer\n",
    "model_nm = \"/p/project/deepacf/maelstrom/haque1/deberta-v3-small\"\n",
    "tokenizer = transformers.AutoTokenizer.from_pretrained(model_nm)\n",
    "db_config_base = transformers.AutoConfig.from_pretrained(model_nm, num_labels=2)\n",
    "# Function to tokenize text\n",
    "def tokenize_function(examples):\n",
    "    return tokenizer(examples[\"inputs\"], padding=True, truncation=True)\n",
    "\n",
    "# Prepare the dataset for the Hugging Face model\n",
    "def get_dataset(ds, tokenizer, indices_train, indices_test):\n",
    "    df = ds[[\"text_normalized\", \"raining\"]].to_dataframe()\n",
    "    df = df.rename(columns={\"text_normalized\": \"inputs\", \"raining\": \"label\"})\n",
    "    datasets_ds = datasets.Dataset.from_pandas(df)\n",
    "    tok_ds = datasets_ds.map(tokenize_function, batched=True)\n",
    "    train_dataset = tok_ds.select(indices_train)\n",
    "    test_dataset = tok_ds.select(indices_test)\n",
    "    return datasets.DatasetDict({\"train\": train_dataset, \"test\": test_dataset})\n",
    "\n",
    "# Create the dataset\n",
    "dataset = get_dataset(ds_tweets, tokenizer, indices_train, indices_test)\n"
   ]
  },
  {
   "cell_type": "code",
   "execution_count": 8,
   "id": "142f58d8-ef0f-4013-b024-f27bfc67fe0b",
   "metadata": {
    "tags": []
   },
   "outputs": [],
   "source": [
    "# Define hyperparameters\n",
    "parameters = {\n",
    "    \"learning_rate\": 8e-5,\n",
    "    \"batch_size\": 16,\n",
    "    \"weight_decay\": 0.01,\n",
    "    \"epochs\": 1,\n",
    "    \"warmup_ratio\": 0.1,\n",
    "    \"cls_dropout\": 0.3,\n",
    "    \"lr_scheduler_type\": \"cosine\"\n",
    "}\n",
    "\n",
    "# Specify your personal folder for model outputs\n",
    "FOLDER_TO_OUTPUT = \"/p/project/deepacf/maelstrom/your_user/model/\"\n",
    "\n",
    "# Function to get the model\n",
    "def get_model(params, db_config_base, model_nm):\n",
    "    db_config = db_config_base\n",
    "    if params is not None:\n",
    "        db_config.update({\"cls_dropout\": params[\"cls_dropout\"]})\n",
    "    db_config.update({\"num_labels\": 2})\n",
    "    model = transformers.AutoModelForSequenceClassification.from_pretrained(model_nm, config=db_config)\n",
    "    return model\n",
    "\n",
    "# Function to compute metrics\n",
    "def compute_metrics(eval_pred):\n",
    "    predictions, labels = eval_pred\n",
    "    predictions = np.argmax(predictions, axis=1)\n",
    "    return {\"f1\": sklearn.metrics.f1_score(labels, predictions)}\n",
    "\n",
    "# Function to get the trainer\n",
    "def get_trainer(dataset, parameters):\n",
    "    training_args = transformers.TrainingArguments(\n",
    "        output_dir=FOLDER_TO_OUTPUT,\n",
    "        learning_rate=parameters[\"learning_rate\"],\n",
    "        per_device_train_batch_size=parameters[\"batch_size\"],\n",
    "        per_device_eval_batch_size=parameters[\"batch_size\"],\n",
    "        num_train_epochs=parameters[\"epochs\"],\n",
    "        weight_decay=parameters[\"weight_decay\"],\n",
    "        evaluation_strategy=\"epoch\",\n",
    "        load_best_model_at_end=True,\n",
    "        save_strategy=\"epoch\",\n",
    "        warmup_ratio=parameters[\"warmup_ratio\"]\n",
    "    )\n",
    "\n",
    "    return transformers.Trainer(\n",
    "        model_init=lambda: get_model(parameters, db_config_base, model_nm),\n",
    "        args=training_args,\n",
    "        train_dataset=dataset[\"train\"],\n",
    "        eval_dataset=dataset[\"test\"],\n",
    "        compute_metrics=compute_metrics\n",
    "    )\n"
   ]
  },
  {
   "cell_type": "code",
   "execution_count": 9,
   "id": "2e01b8d0-003d-4405-a70c-99e1f6dab77c",
   "metadata": {
    "tags": []
   },
   "outputs": [
    {
     "name": "stderr",
     "output_type": "stream",
     "text": [
      "2023-12-11 12:01:11.262991: I tensorflow/core/platform/cpu_feature_guard.cc:182] This TensorFlow binary is optimized to use available CPU instructions in performance-critical operations.\n",
      "To enable the following instructions: AVX2 AVX512F FMA, in other operations, rebuild TensorFlow with the appropriate compiler flags.\n",
      "2023-12-11 12:01:12.590274: W tensorflow/compiler/tf2tensorrt/utils/py_utils.cc:38] TF-TRT Warning: Could not find TensorRT\n",
      "WARNING:accelerate.utils.other:Detected kernel version 4.18.0, which is below the recommended minimum of 5.5.0; this can cause the process to hang. It is recommended to upgrade the kernel to the minimum version or higher.\n",
      "Some weights of DebertaV2ForSequenceClassification were not initialized from the model checkpoint at /p/project/deepacf/maelstrom/haque1/deberta-v3-small and are newly initialized: ['classifier.bias', 'pooler.dense.weight', 'classifier.weight', 'pooler.dense.bias']\n",
      "You should probably TRAIN this model on a down-stream task to be able to use it for predictions and inference.\n",
      "huggingface/tokenizers: The current process just got forked, after parallelism has already been used. Disabling parallelism to avoid deadlocks...\n",
      "To disable this warning, you can either:\n",
      "\t- Avoid using `tokenizers` before the fork if possible\n",
      "\t- Explicitly set the environment variable TOKENIZERS_PARALLELISM=(true | false)\n",
      "INFO:apscheduler.scheduler:Adding job tentatively -- it will be properly scheduled when the scheduler starts\n"
     ]
    }
   ],
   "source": [
    "# Initialize the trainer\n",
    "trainer = get_trainer(dataset, parameters)\n",
    "\n",
    "\n"
   ]
  },
  {
   "cell_type": "code",
   "execution_count": 10,
   "id": "1b84720d-2394-4f7e-a82a-d53010ce5b45",
   "metadata": {
    "tags": []
   },
   "outputs": [
    {
     "name": "stderr",
     "output_type": "stream",
     "text": [
      "Some weights of DebertaV2ForSequenceClassification were not initialized from the model checkpoint at /p/project/deepacf/maelstrom/haque1/deberta-v3-small and are newly initialized: ['classifier.bias', 'pooler.dense.weight', 'classifier.weight', 'pooler.dense.bias']\n",
      "You should probably TRAIN this model on a down-stream task to be able to use it for predictions and inference.\n",
      "INFO:apscheduler.scheduler:Added job \"EmissionsTracker._measure_power\" to job store \"default\"\n",
      "INFO:apscheduler.scheduler:Scheduler started\n"
     ]
    },
    {
     "ename": "ValueError",
     "evalue": "expected sequence of length 36 at dim 1 (got 35)",
     "output_type": "error",
     "traceback": [
      "\u001b[0;31m---------------------------------------------------------------------------\u001b[0m",
      "\u001b[0;31mValueError\u001b[0m                                Traceback (most recent call last)",
      "Cell \u001b[0;32mIn[10], line 2\u001b[0m\n\u001b[1;32m      1\u001b[0m \u001b[38;5;66;03m# Start training\u001b[39;00m\n\u001b[0;32m----> 2\u001b[0m \u001b[43mtrainer\u001b[49m\u001b[38;5;241;43m.\u001b[39;49m\u001b[43mtrain\u001b[49m\u001b[43m(\u001b[49m\u001b[43m)\u001b[49m\n",
      "File \u001b[0;32m/transformers/src/transformers/trainer.py:1506\u001b[0m, in \u001b[0;36mTrainer.train\u001b[0;34m(self, resume_from_checkpoint, trial, ignore_keys_for_eval, **kwargs)\u001b[0m\n\u001b[1;32m   1504\u001b[0m         hf_hub_utils\u001b[38;5;241m.\u001b[39menable_progress_bars()\n\u001b[1;32m   1505\u001b[0m \u001b[38;5;28;01melse\u001b[39;00m:\n\u001b[0;32m-> 1506\u001b[0m     \u001b[38;5;28;01mreturn\u001b[39;00m \u001b[43minner_training_loop\u001b[49m\u001b[43m(\u001b[49m\n\u001b[1;32m   1507\u001b[0m \u001b[43m        \u001b[49m\u001b[43margs\u001b[49m\u001b[38;5;241;43m=\u001b[39;49m\u001b[43margs\u001b[49m\u001b[43m,\u001b[49m\n\u001b[1;32m   1508\u001b[0m \u001b[43m        \u001b[49m\u001b[43mresume_from_checkpoint\u001b[49m\u001b[38;5;241;43m=\u001b[39;49m\u001b[43mresume_from_checkpoint\u001b[49m\u001b[43m,\u001b[49m\n\u001b[1;32m   1509\u001b[0m \u001b[43m        \u001b[49m\u001b[43mtrial\u001b[49m\u001b[38;5;241;43m=\u001b[39;49m\u001b[43mtrial\u001b[49m\u001b[43m,\u001b[49m\n\u001b[1;32m   1510\u001b[0m \u001b[43m        \u001b[49m\u001b[43mignore_keys_for_eval\u001b[49m\u001b[38;5;241;43m=\u001b[39;49m\u001b[43mignore_keys_for_eval\u001b[49m\u001b[43m,\u001b[49m\n\u001b[1;32m   1511\u001b[0m \u001b[43m    \u001b[49m\u001b[43m)\u001b[49m\n",
      "File \u001b[0;32m/transformers/src/transformers/trainer.py:1779\u001b[0m, in \u001b[0;36mTrainer._inner_training_loop\u001b[0;34m(self, batch_size, args, resume_from_checkpoint, trial, ignore_keys_for_eval)\u001b[0m\n\u001b[1;32m   1776\u001b[0m     rng_to_sync \u001b[38;5;241m=\u001b[39m \u001b[38;5;28;01mTrue\u001b[39;00m\n\u001b[1;32m   1778\u001b[0m step \u001b[38;5;241m=\u001b[39m \u001b[38;5;241m-\u001b[39m\u001b[38;5;241m1\u001b[39m\n\u001b[0;32m-> 1779\u001b[0m \u001b[38;5;28;01mfor\u001b[39;00m step, inputs \u001b[38;5;129;01min\u001b[39;00m \u001b[38;5;28menumerate\u001b[39m(epoch_iterator):\n\u001b[1;32m   1780\u001b[0m     total_batched_samples \u001b[38;5;241m+\u001b[39m\u001b[38;5;241m=\u001b[39m \u001b[38;5;241m1\u001b[39m\n\u001b[1;32m   1781\u001b[0m     \u001b[38;5;28;01mif\u001b[39;00m rng_to_sync:\n",
      "File \u001b[0;32m/usr/local/lib/python3.8/dist-packages/accelerate/data_loader.py:451\u001b[0m, in \u001b[0;36mDataLoaderShard.__iter__\u001b[0;34m(self)\u001b[0m\n\u001b[1;32m    449\u001b[0m \u001b[38;5;66;03m# We iterate one batch ahead to check when we are at the end\u001b[39;00m\n\u001b[1;32m    450\u001b[0m \u001b[38;5;28;01mtry\u001b[39;00m:\n\u001b[0;32m--> 451\u001b[0m     current_batch \u001b[38;5;241m=\u001b[39m \u001b[38;5;28;43mnext\u001b[39;49m\u001b[43m(\u001b[49m\u001b[43mdataloader_iter\u001b[49m\u001b[43m)\u001b[49m\n\u001b[1;32m    452\u001b[0m \u001b[38;5;28;01mexcept\u001b[39;00m \u001b[38;5;167;01mStopIteration\u001b[39;00m:\n\u001b[1;32m    453\u001b[0m     \u001b[38;5;28;01myield\u001b[39;00m\n",
      "File \u001b[0;32m/usr/local/lib/python3.8/dist-packages/torch/utils/data/dataloader.py:630\u001b[0m, in \u001b[0;36m_BaseDataLoaderIter.__next__\u001b[0;34m(self)\u001b[0m\n\u001b[1;32m    627\u001b[0m \u001b[38;5;28;01mif\u001b[39;00m \u001b[38;5;28mself\u001b[39m\u001b[38;5;241m.\u001b[39m_sampler_iter \u001b[38;5;129;01mis\u001b[39;00m \u001b[38;5;28;01mNone\u001b[39;00m:\n\u001b[1;32m    628\u001b[0m     \u001b[38;5;66;03m# TODO(https://github.com/pytorch/pytorch/issues/76750)\u001b[39;00m\n\u001b[1;32m    629\u001b[0m     \u001b[38;5;28mself\u001b[39m\u001b[38;5;241m.\u001b[39m_reset()  \u001b[38;5;66;03m# type: ignore[call-arg]\u001b[39;00m\n\u001b[0;32m--> 630\u001b[0m data \u001b[38;5;241m=\u001b[39m \u001b[38;5;28;43mself\u001b[39;49m\u001b[38;5;241;43m.\u001b[39;49m\u001b[43m_next_data\u001b[49m\u001b[43m(\u001b[49m\u001b[43m)\u001b[49m\n\u001b[1;32m    631\u001b[0m \u001b[38;5;28mself\u001b[39m\u001b[38;5;241m.\u001b[39m_num_yielded \u001b[38;5;241m+\u001b[39m\u001b[38;5;241m=\u001b[39m \u001b[38;5;241m1\u001b[39m\n\u001b[1;32m    632\u001b[0m \u001b[38;5;28;01mif\u001b[39;00m \u001b[38;5;28mself\u001b[39m\u001b[38;5;241m.\u001b[39m_dataset_kind \u001b[38;5;241m==\u001b[39m _DatasetKind\u001b[38;5;241m.\u001b[39mIterable \u001b[38;5;129;01mand\u001b[39;00m \\\n\u001b[1;32m    633\u001b[0m         \u001b[38;5;28mself\u001b[39m\u001b[38;5;241m.\u001b[39m_IterableDataset_len_called \u001b[38;5;129;01mis\u001b[39;00m \u001b[38;5;129;01mnot\u001b[39;00m \u001b[38;5;28;01mNone\u001b[39;00m \u001b[38;5;129;01mand\u001b[39;00m \\\n\u001b[1;32m    634\u001b[0m         \u001b[38;5;28mself\u001b[39m\u001b[38;5;241m.\u001b[39m_num_yielded \u001b[38;5;241m>\u001b[39m \u001b[38;5;28mself\u001b[39m\u001b[38;5;241m.\u001b[39m_IterableDataset_len_called:\n",
      "File \u001b[0;32m/usr/local/lib/python3.8/dist-packages/torch/utils/data/dataloader.py:674\u001b[0m, in \u001b[0;36m_SingleProcessDataLoaderIter._next_data\u001b[0;34m(self)\u001b[0m\n\u001b[1;32m    672\u001b[0m \u001b[38;5;28;01mdef\u001b[39;00m \u001b[38;5;21m_next_data\u001b[39m(\u001b[38;5;28mself\u001b[39m):\n\u001b[1;32m    673\u001b[0m     index \u001b[38;5;241m=\u001b[39m \u001b[38;5;28mself\u001b[39m\u001b[38;5;241m.\u001b[39m_next_index()  \u001b[38;5;66;03m# may raise StopIteration\u001b[39;00m\n\u001b[0;32m--> 674\u001b[0m     data \u001b[38;5;241m=\u001b[39m \u001b[38;5;28;43mself\u001b[39;49m\u001b[38;5;241;43m.\u001b[39;49m\u001b[43m_dataset_fetcher\u001b[49m\u001b[38;5;241;43m.\u001b[39;49m\u001b[43mfetch\u001b[49m\u001b[43m(\u001b[49m\u001b[43mindex\u001b[49m\u001b[43m)\u001b[49m  \u001b[38;5;66;03m# may raise StopIteration\u001b[39;00m\n\u001b[1;32m    675\u001b[0m     \u001b[38;5;28;01mif\u001b[39;00m \u001b[38;5;28mself\u001b[39m\u001b[38;5;241m.\u001b[39m_pin_memory:\n\u001b[1;32m    676\u001b[0m         data \u001b[38;5;241m=\u001b[39m _utils\u001b[38;5;241m.\u001b[39mpin_memory\u001b[38;5;241m.\u001b[39mpin_memory(data, \u001b[38;5;28mself\u001b[39m\u001b[38;5;241m.\u001b[39m_pin_memory_device)\n",
      "File \u001b[0;32m/usr/local/lib/python3.8/dist-packages/torch/utils/data/_utils/fetch.py:54\u001b[0m, in \u001b[0;36m_MapDatasetFetcher.fetch\u001b[0;34m(self, possibly_batched_index)\u001b[0m\n\u001b[1;32m     52\u001b[0m \u001b[38;5;28;01melse\u001b[39;00m:\n\u001b[1;32m     53\u001b[0m     data \u001b[38;5;241m=\u001b[39m \u001b[38;5;28mself\u001b[39m\u001b[38;5;241m.\u001b[39mdataset[possibly_batched_index]\n\u001b[0;32m---> 54\u001b[0m \u001b[38;5;28;01mreturn\u001b[39;00m \u001b[38;5;28;43mself\u001b[39;49m\u001b[38;5;241;43m.\u001b[39;49m\u001b[43mcollate_fn\u001b[49m\u001b[43m(\u001b[49m\u001b[43mdata\u001b[49m\u001b[43m)\u001b[49m\n",
      "File \u001b[0;32m/transformers/src/transformers/data/data_collator.py:70\u001b[0m, in \u001b[0;36mdefault_data_collator\u001b[0;34m(features, return_tensors)\u001b[0m\n\u001b[1;32m     64\u001b[0m \u001b[38;5;66;03m# In this function we'll make the assumption that all `features` in the batch\u001b[39;00m\n\u001b[1;32m     65\u001b[0m \u001b[38;5;66;03m# have the same attributes.\u001b[39;00m\n\u001b[1;32m     66\u001b[0m \u001b[38;5;66;03m# So we will look at the first element as a proxy for what attributes exist\u001b[39;00m\n\u001b[1;32m     67\u001b[0m \u001b[38;5;66;03m# on the whole batch.\u001b[39;00m\n\u001b[1;32m     69\u001b[0m \u001b[38;5;28;01mif\u001b[39;00m return_tensors \u001b[38;5;241m==\u001b[39m \u001b[38;5;124m\"\u001b[39m\u001b[38;5;124mpt\u001b[39m\u001b[38;5;124m\"\u001b[39m:\n\u001b[0;32m---> 70\u001b[0m     \u001b[38;5;28;01mreturn\u001b[39;00m \u001b[43mtorch_default_data_collator\u001b[49m\u001b[43m(\u001b[49m\u001b[43mfeatures\u001b[49m\u001b[43m)\u001b[49m\n\u001b[1;32m     71\u001b[0m \u001b[38;5;28;01melif\u001b[39;00m return_tensors \u001b[38;5;241m==\u001b[39m \u001b[38;5;124m\"\u001b[39m\u001b[38;5;124mtf\u001b[39m\u001b[38;5;124m\"\u001b[39m:\n\u001b[1;32m     72\u001b[0m     \u001b[38;5;28;01mreturn\u001b[39;00m tf_default_data_collator(features)\n",
      "File \u001b[0;32m/transformers/src/transformers/data/data_collator.py:136\u001b[0m, in \u001b[0;36mtorch_default_data_collator\u001b[0;34m(features)\u001b[0m\n\u001b[1;32m    134\u001b[0m             batch[k] \u001b[38;5;241m=\u001b[39m torch\u001b[38;5;241m.\u001b[39mtensor(np\u001b[38;5;241m.\u001b[39mstack([f[k] \u001b[38;5;28;01mfor\u001b[39;00m f \u001b[38;5;129;01min\u001b[39;00m features]))\n\u001b[1;32m    135\u001b[0m         \u001b[38;5;28;01melse\u001b[39;00m:\n\u001b[0;32m--> 136\u001b[0m             batch[k] \u001b[38;5;241m=\u001b[39m \u001b[43mtorch\u001b[49m\u001b[38;5;241;43m.\u001b[39;49m\u001b[43mtensor\u001b[49m\u001b[43m(\u001b[49m\u001b[43m[\u001b[49m\u001b[43mf\u001b[49m\u001b[43m[\u001b[49m\u001b[43mk\u001b[49m\u001b[43m]\u001b[49m\u001b[43m \u001b[49m\u001b[38;5;28;43;01mfor\u001b[39;49;00m\u001b[43m \u001b[49m\u001b[43mf\u001b[49m\u001b[43m \u001b[49m\u001b[38;5;129;43;01min\u001b[39;49;00m\u001b[43m \u001b[49m\u001b[43mfeatures\u001b[49m\u001b[43m]\u001b[49m\u001b[43m)\u001b[49m\n\u001b[1;32m    138\u001b[0m \u001b[38;5;28;01mreturn\u001b[39;00m batch\n",
      "\u001b[0;31mValueError\u001b[0m: expected sequence of length 36 at dim 1 (got 35)"
     ]
    }
   ],
   "source": [
    "# Start training\n",
    "trainer.train()"
   ]
  },
  {
   "cell_type": "code",
   "execution_count": null,
   "id": "8bc388bd-46d2-4fbb-956e-f8910e71005d",
   "metadata": {},
   "outputs": [],
   "source": [
    "# Evaluate the model on the test set\n",
    "results = trainer.evaluate()\n",
    "\n",
    "# Load the test dataset\n",
    "test_dataset = prepare_dataset(ds_tweets, tokenizer, indices_train, indices_test, train=False)\n",
    "\n",
    "# Make predictions\n",
    "predictions = trainer.predict(test_dataset[\"test\"]).predictions\n",
    "predictions = np.argmax(predictions, axis=1)\n",
    "\n",
    "# True labels\n",
    "true_labels = test_dataset[\"test\"][\"label\"]\n",
    "\n",
    "# Confusion Matrix\n",
    "conf_matrix = sklearn.metrics.confusion_matrix(true_labels, predictions)\n",
    "print(conf_matrix)\n",
    "\n",
    "# ROC Curve and AUC\n",
    "fpr, tpr, thresholds = sklearn.metrics.roc_curve(true_labels, predictions)\n",
    "auc = sklearn.metrics.auc(fpr, tpr)\n",
    "\n",
    "# Plotting ROC Curve\n",
    "plt.figure()\n",
    "plt.plot(fpr, tpr, label='ROC curve (area = %0.2f)' % auc)\n",
    "plt.xlabel('False Positive Rate')\n",
    "plt.ylabel('True Positive Rate')\n",
    "plt.title('Receiver Operating Characteristic')\n",
    "plt.legend(loc=\"lower right\")\n",
    "plt.show()\n"
   ]
  },
  {
   "cell_type": "code",
   "execution_count": null,
   "id": "27aafd01-dc19-4a28-9567-d5d28d036943",
   "metadata": {
    "tags": []
   },
   "outputs": [],
   "source": [
    "# Prepare the full dataset\n",
    "full_dataset = prepare_dataset(ds_tweets, tokenizer, indices_train, indices_test)\n",
    "\n",
    "# Initialize the trainer with the full dataset\n",
    "full_trainer = get_trainer(full_dataset, parameters)\n",
    "\n",
    "# Train on the full dataset\n",
    "full_trainer.train()\n",
    "\n",
    "# Evaluate and analyze the results as done in Exercise 7\n"
   ]
  },
  {
   "cell_type": "code",
   "execution_count": null,
   "id": "0882fbea-ab8f-441b-894a-bde8d9d23ad2",
   "metadata": {
    "tags": []
   },
   "outputs": [],
   "source": []
  },
  {
   "cell_type": "code",
   "execution_count": null,
   "id": "2b62137d-1e39-49ae-9098-6da403aa33ec",
   "metadata": {},
   "outputs": [],
   "source": []
  },
  {
   "cell_type": "markdown",
   "id": "52a0fd5d-f280-46c2-b2ff-9a193bfbc296",
   "metadata": {
    "tags": []
   },
   "source": [
    "## 2"
   ]
  },
  {
   "cell_type": "code",
   "execution_count": 11,
   "id": "434d442d-4a57-43ab-a392-18d8517335e6",
   "metadata": {
    "tags": []
   },
   "outputs": [
    {
     "name": "stderr",
     "output_type": "stream",
     "text": [
      "Some weights of DebertaForSequenceClassification were not initialized from the model checkpoint at microsoft/deberta-base and are newly initialized: ['classifier.bias', 'pooler.dense.weight', 'classifier.weight', 'pooler.dense.bias']\n",
      "You should probably TRAIN this model on a down-stream task to be able to use it for predictions and inference.\n",
      "WARNING:accelerate.utils.other:Detected kernel version 4.18.0, which is below the recommended minimum of 5.5.0; this can cause the process to hang. It is recommended to upgrade the kernel to the minimum version or higher.\n",
      "INFO:apscheduler.scheduler:Adding job tentatively -- it will be properly scheduled when the scheduler starts\n",
      "INFO:apscheduler.scheduler:Added job \"EmissionsTracker._measure_power\" to job store \"default\"\n",
      "INFO:apscheduler.scheduler:Scheduler started\n",
      "/usr/local/lib/python3.8/dist-packages/torch/nn/parallel/_functions.py:68: UserWarning: Was asked to gather along dimension 0, but all input tensors were scalars; will instead unsqueeze and return a vector.\n",
      "  warnings.warn('Was asked to gather along dimension 0, but all '\n"
     ]
    },
    {
     "data": {
      "text/html": [
       "\n",
       "    <div>\n",
       "      \n",
       "      <progress value='3' max='3' style='width:300px; height:20px; vertical-align: middle;'></progress>\n",
       "      [3/3 00:03, Epoch 3/3]\n",
       "    </div>\n",
       "    <table border=\"1\" class=\"dataframe\">\n",
       "  <thead>\n",
       " <tr style=\"text-align: left;\">\n",
       "      <th>Step</th>\n",
       "      <th>Training Loss</th>\n",
       "    </tr>\n",
       "  </thead>\n",
       "  <tbody>\n",
       "  </tbody>\n",
       "</table><p>"
      ],
      "text/plain": [
       "<IPython.core.display.HTML object>"
      ]
     },
     "metadata": {},
     "output_type": "display_data"
    },
    {
     "name": "stderr",
     "output_type": "stream",
     "text": [
      "INFO:apscheduler.scheduler:Scheduler has been shut down\n",
      "INFO:apscheduler.executors.default:Running job \"EmissionsTracker._measure_power (trigger: interval[0:00:15], next run at: 2023-12-11 12:06:00 CET)\" (scheduled at 2023-12-11 12:05:45.683187+01:00)\n",
      "INFO:apscheduler.executors.default:Job \"EmissionsTracker._measure_power (trigger: interval[0:00:15], next run at: 2023-12-11 12:06:00 CET)\" executed successfully\n"
     ]
    },
    {
     "data": {
      "text/html": [
       "\n",
       "    <div>\n",
       "      \n",
       "      <progress value='1' max='1' style='width:300px; height:20px; vertical-align: middle;'></progress>\n",
       "      [1/1 : < :]\n",
       "    </div>\n",
       "    "
      ],
      "text/plain": [
       "<IPython.core.display.HTML object>"
      ]
     },
     "metadata": {},
     "output_type": "display_data"
    },
    {
     "name": "stdout",
     "output_type": "stream",
     "text": [
      "Evaluation results: {'eval_loss': 0.7613661289215088, 'eval_runtime': 0.0731, 'eval_samples_per_second': 13.675, 'eval_steps_per_second': 13.675, 'epoch': 3.0}\n"
     ]
    }
   ],
   "source": [
    "import pandas as pd\n",
    "import numpy as np\n",
    "from sklearn.model_selection import train_test_split\n",
    "from transformers import DebertaTokenizer, DebertaForSequenceClassification, TrainingArguments, Trainer\n",
    "from torch.utils.data import Dataset\n",
    "import torch\n",
    "\n",
    "# Load your dataset (replace this with your actual loading code)\n",
    "# For example, if your xarray dataset is named 'dataset':\n",
    "# df = dataset.to_dataframe()\n",
    "# Assuming a simple DataFrame with columns 'tweet' and 'label'\n",
    "df = pd.DataFrame({\n",
    "    'tweet': ['It is raining today', 'What a sunny day', 'Raining again!', 'No rain today'],\n",
    "    'label': [1, 0, 1, 0]  # 1 for 'Raining', 0 for 'Not Raining'\n",
    "})\n",
    "\n",
    "# Text Preprocessing\n",
    "# Add any specific text preprocessing here if needed\n",
    "\n",
    "# Splitting the dataset\n",
    "train_texts, val_texts, train_labels, val_labels = train_test_split(df['tweet'], df['label'], test_size=0.2)\n",
    "\n",
    "# Load DeBERTa tokenizer\n",
    "tokenizer = DebertaTokenizer.from_pretrained('microsoft/deberta-base')\n",
    "\n",
    "# Tokenize the texts\n",
    "train_encodings = tokenizer(train_texts.tolist(), truncation=True, padding=True)\n",
    "val_encodings = tokenizer(val_texts.tolist(), truncation=True, padding=True)\n",
    "\n",
    "# Create a Dataset object\n",
    "class TweetDataset(Dataset):\n",
    "    def __init__(self, encodings, labels):\n",
    "        self.encodings = encodings\n",
    "        self.labels = labels\n",
    "\n",
    "    def __getitem__(self, idx):\n",
    "        item = {key: torch.tensor(val[idx]) for key, val in self.encodings.items()}\n",
    "        item['labels'] = torch.tensor(self.labels[idx])\n",
    "        return item\n",
    "\n",
    "    def __len__(self):\n",
    "        return len(self.labels)\n",
    "\n",
    "train_dataset = TweetDataset(train_encodings, train_labels.tolist())\n",
    "val_dataset = TweetDataset(val_encodings, val_labels.tolist())\n",
    "\n",
    "# Load DeBERTa model for sequence classification\n",
    "model = DebertaForSequenceClassification.from_pretrained('microsoft/deberta-base', num_labels=2)\n",
    "\n",
    "# Training Arguments\n",
    "training_args = TrainingArguments(\n",
    "    output_dir='./results',          \n",
    "    num_train_epochs=3,              \n",
    "    per_device_train_batch_size=16,  \n",
    "    per_device_eval_batch_size=64,   \n",
    "    warmup_steps=500,                \n",
    "    weight_decay=0.01,               \n",
    "    logging_dir='./logs',            \n",
    "    logging_steps=10,\n",
    ")\n",
    "\n",
    "# Trainer\n",
    "trainer = Trainer(\n",
    "    model=model,                         \n",
    "    args=training_args,                  \n",
    "    train_dataset=train_dataset,         \n",
    "    eval_dataset=val_dataset             \n",
    ")\n",
    "\n",
    "# Train the model\n",
    "trainer.train()\n",
    "\n",
    "# Evaluate the model\n",
    "evaluation_result = trainer.evaluate()\n",
    "\n",
    "# Print evaluation results\n",
    "print(\"Evaluation results:\", evaluation_result)\n",
    "\n",
    "# Save the model\n",
    "model.save_pretrained(\"./deberta_tweet_classifier\")\n"
   ]
  },
  {
   "cell_type": "code",
   "execution_count": 12,
   "id": "b3766877-3d2e-49b9-879a-735efd29fff5",
   "metadata": {
    "tags": []
   },
   "outputs": [
    {
     "data": {
      "image/png": "[encoded data removed]",
      "text/plain": [
       "<Figure size 1000x600 with 1 Axes>"
      ]
     },
     "metadata": {},
     "output_type": "display_data"
    }
   ],
   "source": [
    "import matplotlib.pyplot as plt\n",
    "\n",
    "# Assuming 'evaluation_result' contains the results from the trainer.evaluate()\n",
    "# Example: evaluation_result = {'eval_loss': 0.123, 'eval_accuracy': 0.95, ...}\n",
    "\n",
    "# Extract metrics\n",
    "metrics = evaluation_result.keys()\n",
    "values = [evaluation_result[metric] for metric in metrics]\n",
    "\n",
    "# Plotting\n",
    "plt.figure(figsize=(10, 6))\n",
    "plt.bar(metrics, values, color='blue')\n",
    "plt.xlabel('Metrics')\n",
    "plt.ylabel('Values')\n",
    "plt.title('Model Evaluation Results')\n",
    "plt.xticks(rotation=45)\n",
    "plt.show()\n"
   ]
  },
  {
   "cell_type": "markdown",
   "id": "881279fc-8b90-488e-9de0-fbc0bdd1d361",
   "metadata": {},
   "source": [
    "# 3"
   ]
  },
  {
   "cell_type": "code",
   "execution_count": 1,
   "id": "d4f94235-5954-4dfa-8fd0-d8bcd1b5878a",
   "metadata": {
    "tags": []
   },
   "outputs": [
    {
     "name": "stderr",
     "output_type": "stream",
     "text": [
      "2023-12-14 13:14:32.010992: E tensorflow/compiler/xla/stream_executor/cuda/cuda_dnn.cc:9342] Unable to register cuDNN factory: Attempting to register factory for plugin cuDNN when one has already been registered\n",
      "2023-12-14 13:14:32.011046: E tensorflow/compiler/xla/stream_executor/cuda/cuda_fft.cc:609] Unable to register cuFFT factory: Attempting to register factory for plugin cuFFT when one has already been registered\n",
      "2023-12-14 13:14:32.015105: E tensorflow/compiler/xla/stream_executor/cuda/cuda_blas.cc:1518] Unable to register cuBLAS factory: Attempting to register factory for plugin cuBLAS when one has already been registered\n",
      "2023-12-14 13:14:32.425424: I tensorflow/core/platform/cpu_feature_guard.cc:182] This TensorFlow binary is optimized to use available CPU instructions in performance-critical operations.\n",
      "To enable the following instructions: AVX2 FMA, in other operations, rebuild TensorFlow with the appropriate compiler flags.\n"
     ]
    }
   ],
   "source": [
    "import pandas as pd\n",
    "import numpy as np\n",
    "import xarray\n",
    "import torch\n",
    "from torch.utils.data import Dataset\n",
    "from transformers import DebertaTokenizer, DebertaForSequenceClassification, TrainingArguments, Trainer\n",
    "from sklearn.model_selection import train_test_split\n"
   ]
  },
  {
   "cell_type": "code",
   "execution_count": 2,
   "id": "f0df78bc-187c-4b09-9d29-58bf66c55fea",
   "metadata": {
    "tags": []
   },
   "outputs": [],
   "source": [
    "# Load the dataset\n",
    "FOLDER_DATA = \"/p/project/deepacf/maelstrom/haque1/dataset/\"\n",
    "FOLDER_TWEET = FOLDER_DATA + \"tweets_2017_01_era5_normed_filtered.nc\"\n",
    "ds_tweets = xarray.load_dataset(FOLDER_TWEET)\n",
    "\n",
    "# Define labels based on a condition (e.g., a certain threshold)\n",
    "key_tp = \"tp_h\"  # Replace with your key\n",
    "ds_tweets[\"raining\"] = ([\"index\"], ds_tweets[key_tp].values > 1e-8)\n",
    "\n",
    "# Split the dataset\n",
    "indices_train, indices_test = train_test_split(\n",
    "    np.arange(ds_tweets[\"index\"].shape[0]),\n",
    "    test_size=0.2,\n",
    "    random_state=42\n",
    ")\n",
    "\n",
    "# Convert the dataset to pandas DataFrame\n",
    "df = ds_tweets.to_dataframe().reset_index()\n",
    "df_train = df.loc[df['index'].isin(indices_train)]\n",
    "df_test = df.loc[df['index'].isin(indices_test)]\n",
    "\n",
    "train_texts = df_train['text_normalized'].tolist()\n",
    "train_labels = df_train['raining'].astype(int).tolist()\n",
    "val_texts = df_test['text_normalized'].tolist()\n",
    "val_labels = df_test['raining'].astype(int).tolist()\n"
   ]
  },
  {
   "cell_type": "code",
   "execution_count": 3,
   "id": "6e296c63-a199-4e04-95b8-f7e3264e1c38",
   "metadata": {
    "tags": []
   },
   "outputs": [],
   "source": [
    "tokenizer = DebertaTokenizer.from_pretrained('microsoft/deberta-base')\n",
    "train_encodings = tokenizer(train_texts, truncation=True, padding=True)\n",
    "val_encodings = tokenizer(val_texts, truncation=True, padding=True)\n"
   ]
  },
  {
   "cell_type": "code",
   "execution_count": 4,
   "id": "3b414cc4-2b22-4fa4-bc91-101134bc2654",
   "metadata": {
    "tags": []
   },
   "outputs": [],
   "source": [
    "class TweetDataset(Dataset):\n",
    "    def __init__(self, encodings, labels):\n",
    "        self.encodings = encodings\n",
    "        self.labels = labels\n",
    "\n",
    "    def __getitem__(self, idx):\n",
    "        item = {key: torch.tensor(val[idx]) for key, val in self.encodings.items()}\n",
    "        item['labels'] = torch.tensor(self.labels[idx])\n",
    "        return item\n",
    "\n",
    "    def __len__(self):\n",
    "        return len(self.labels)\n",
    "\n",
    "train_dataset = TweetDataset(train_encodings, train_labels)\n",
    "val_dataset = TweetDataset(val_encodings, val_labels)\n"
   ]
  },
  {
   "cell_type": "code",
   "execution_count": 5,
   "id": "1d52313d-c9dc-4929-b7b2-63bbe57f1c15",
   "metadata": {
    "tags": []
   },
   "outputs": [],
   "source": [
    "\n",
    "class TweetDataset(Dataset):\n",
    "    def __init__(self, encodings, labels):\n",
    "        self.encodings = encodings\n",
    "        self.labels = labels\n",
    "\n",
    "    def __getitem__(self, idx):\n",
    "        item = {key: torch.tensor(val[idx]) for key, val in self.encodings.items()}\n",
    "        item['labels'] = torch.tensor(self.labels[idx])\n",
    "        return item\n",
    "\n",
    "    def __len__(self):\n",
    "        return len(self.labels)\n",
    "\n",
    "train_dataset = TweetDataset(train_encodings, train_labels)\n",
    "val_dataset = TweetDataset(val_encodings, val_labels)\n"
   ]
  },
  {
   "cell_type": "code",
   "execution_count": 6,
   "id": "a6c7e584-105b-40e0-bee2-1386654777c6",
   "metadata": {
    "tags": []
   },
   "outputs": [
    {
     "name": "stderr",
     "output_type": "stream",
     "text": [
      "Some weights of DebertaForSequenceClassification were not initialized from the model checkpoint at microsoft/deberta-base and are newly initialized: ['classifier.bias', 'pooler.dense.bias', 'classifier.weight', 'pooler.dense.weight']\n",
      "You should probably TRAIN this model on a down-stream task to be able to use it for predictions and inference.\n"
     ]
    }
   ],
   "source": [
    "model = DebertaForSequenceClassification.from_pretrained('microsoft/deberta-base', num_labels=2)\n"
   ]
  },
  {
   "cell_type": "code",
   "execution_count": 7,
   "id": "f1adc26a-eb64-4253-90a9-db9d42f4909a",
   "metadata": {
    "tags": []
   },
   "outputs": [
    {
     "name": "stderr",
     "output_type": "stream",
     "text": [
      "Detected kernel version 4.18.0, which is below the recommended minimum of 5.5.0; this can cause the process to hang. It is recommended to upgrade the kernel to the minimum version or higher.\n"
     ]
    }
   ],
   "source": [
    "training_args = TrainingArguments(\n",
    "    output_dir='./results',\n",
    "    num_train_epochs=3,\n",
    "    per_device_train_batch_size=16,\n",
    "    per_device_eval_batch_size=64,\n",
    "    warmup_steps=500,\n",
    "    weight_decay=0.01,\n",
    "    logging_dir='./logs',\n",
    "    logging_steps=10,\n",
    ")\n",
    "\n",
    "trainer = Trainer(\n",
    "    model=model,\n",
    "    args=training_args, \n",
    "    train_dataset=train_dataset,\n",
    "    eval_dataset=val_dataset\n",
    ")\n"
   ]
  },
  {
   "cell_type": "code",
   "execution_count": 8,
   "id": "35fa4bf7-9de0-4c43-8bce-48ec5fc62fc8",
   "metadata": {
    "tags": []
   },
   "outputs": [
    {
     "name": "stderr",
     "output_type": "stream",
     "text": [
      "2023/12/14 13:14:43 WARNING mlflow.utils.git_utils: Failed to import Git (the Git executable is probably not on your PATH), so Git SHA is not available. Error: Failed to initialize: Bad git executable.\n",
      "The git executable must be specified in one of the following ways:\n",
      "    - be included in your $PATH\n",
      "    - be set via $GIT_PYTHON_GIT_EXECUTABLE\n",
      "    - explicitly set via git.refresh()\n",
      "\n",
      "All git commands will error until this is rectified.\n",
      "\n",
      "This initial warning can be silenced or aggravated in the future by setting the\n",
      "$GIT_PYTHON_REFRESH environment variable. Use one of the following values:\n",
      "    - quiet|q|silence|s|none|n|0: for no warning or exception\n",
      "    - warn|w|warning|1: for a printed warning\n",
      "    - error|e|raise|r|2: for a raised exception\n",
      "\n",
      "Example:\n",
      "    export GIT_PYTHON_REFRESH=quiet\n",
      "\n",
      "/usr/local/lib/python3.10/dist-packages/torch/nn/parallel/_functions.py:68: UserWarning: Was asked to gather along dimension 0, but all input tensors were scalars; will instead unsqueeze and return a vector.\n",
      "  warnings.warn('Was asked to gather along dimension 0, but all '\n"
     ]
    },
    {
     "data": {
      "text/html": [
       "\n",
       "    <div>\n",
       "      \n",
       "      <progress value='921' max='921' style='width:300px; height:20px; vertical-align: middle;'></progress>\n",
       "      [921/921 02:46, Epoch 3/3]\n",
       "    </div>\n",
       "    <table border=\"1\" class=\"dataframe\">\n",
       "  <thead>\n",
       " <tr style=\"text-align: left;\">\n",
       "      <th>Step</th>\n",
       "      <th>Training Loss</th>\n",
       "    </tr>\n",
       "  </thead>\n",
       "  <tbody>\n",
       "    <tr>\n",
       "      <td>10</td>\n",
       "      <td>0.683900</td>\n",
       "    </tr>\n",
       "    <tr>\n",
       "      <td>20</td>\n",
       "      <td>0.684300</td>\n",
       "    </tr>\n",
       "    <tr>\n",
       "      <td>30</td>\n",
       "      <td>0.682700</td>\n",
       "    </tr>\n",
       "    <tr>\n",
       "      <td>40</td>\n",
       "      <td>0.673400</td>\n",
       "    </tr>\n",
       "    <tr>\n",
       "      <td>50</td>\n",
       "      <td>0.659100</td>\n",
       "    </tr>\n",
       "    <tr>\n",
       "      <td>60</td>\n",
       "      <td>0.668400</td>\n",
       "    </tr>\n",
       "    <tr>\n",
       "      <td>70</td>\n",
       "      <td>0.654500</td>\n",
       "    </tr>\n",
       "    <tr>\n",
       "      <td>80</td>\n",
       "      <td>0.644700</td>\n",
       "    </tr>\n",
       "    <tr>\n",
       "      <td>90</td>\n",
       "      <td>0.645100</td>\n",
       "    </tr>\n",
       "    <tr>\n",
       "      <td>100</td>\n",
       "      <td>0.625700</td>\n",
       "    </tr>\n",
       "    <tr>\n",
       "      <td>110</td>\n",
       "      <td>0.572700</td>\n",
       "    </tr>\n",
       "    <tr>\n",
       "      <td>120</td>\n",
       "      <td>0.612700</td>\n",
       "    </tr>\n",
       "    <tr>\n",
       "      <td>130</td>\n",
       "      <td>0.599400</td>\n",
       "    </tr>\n",
       "    <tr>\n",
       "      <td>140</td>\n",
       "      <td>0.607900</td>\n",
       "    </tr>\n",
       "    <tr>\n",
       "      <td>150</td>\n",
       "      <td>0.600600</td>\n",
       "    </tr>\n",
       "    <tr>\n",
       "      <td>160</td>\n",
       "      <td>0.598600</td>\n",
       "    </tr>\n",
       "    <tr>\n",
       "      <td>170</td>\n",
       "      <td>0.593900</td>\n",
       "    </tr>\n",
       "    <tr>\n",
       "      <td>180</td>\n",
       "      <td>0.583700</td>\n",
       "    </tr>\n",
       "    <tr>\n",
       "      <td>190</td>\n",
       "      <td>0.619800</td>\n",
       "    </tr>\n",
       "    <tr>\n",
       "      <td>200</td>\n",
       "      <td>0.579600</td>\n",
       "    </tr>\n",
       "    <tr>\n",
       "      <td>210</td>\n",
       "      <td>0.565600</td>\n",
       "    </tr>\n",
       "    <tr>\n",
       "      <td>220</td>\n",
       "      <td>0.580100</td>\n",
       "    </tr>\n",
       "    <tr>\n",
       "      <td>230</td>\n",
       "      <td>0.572000</td>\n",
       "    </tr>\n",
       "    <tr>\n",
       "      <td>240</td>\n",
       "      <td>0.573300</td>\n",
       "    </tr>\n",
       "    <tr>\n",
       "      <td>250</td>\n",
       "      <td>0.613300</td>\n",
       "    </tr>\n",
       "    <tr>\n",
       "      <td>260</td>\n",
       "      <td>0.614600</td>\n",
       "    </tr>\n",
       "    <tr>\n",
       "      <td>270</td>\n",
       "      <td>0.587100</td>\n",
       "    </tr>\n",
       "    <tr>\n",
       "      <td>280</td>\n",
       "      <td>0.616700</td>\n",
       "    </tr>\n",
       "    <tr>\n",
       "      <td>290</td>\n",
       "      <td>0.579700</td>\n",
       "    </tr>\n",
       "    <tr>\n",
       "      <td>300</td>\n",
       "      <td>0.579700</td>\n",
       "    </tr>\n",
       "    <tr>\n",
       "      <td>310</td>\n",
       "      <td>0.542300</td>\n",
       "    </tr>\n",
       "    <tr>\n",
       "      <td>320</td>\n",
       "      <td>0.572600</td>\n",
       "    </tr>\n",
       "    <tr>\n",
       "      <td>330</td>\n",
       "      <td>0.565200</td>\n",
       "    </tr>\n",
       "    <tr>\n",
       "      <td>340</td>\n",
       "      <td>0.521000</td>\n",
       "    </tr>\n",
       "    <tr>\n",
       "      <td>350</td>\n",
       "      <td>0.565000</td>\n",
       "    </tr>\n",
       "    <tr>\n",
       "      <td>360</td>\n",
       "      <td>0.598800</td>\n",
       "    </tr>\n",
       "    <tr>\n",
       "      <td>370</td>\n",
       "      <td>0.580700</td>\n",
       "    </tr>\n",
       "    <tr>\n",
       "      <td>380</td>\n",
       "      <td>0.577200</td>\n",
       "    </tr>\n",
       "    <tr>\n",
       "      <td>390</td>\n",
       "      <td>0.570400</td>\n",
       "    </tr>\n",
       "    <tr>\n",
       "      <td>400</td>\n",
       "      <td>0.554100</td>\n",
       "    </tr>\n",
       "    <tr>\n",
       "      <td>410</td>\n",
       "      <td>0.597700</td>\n",
       "    </tr>\n",
       "    <tr>\n",
       "      <td>420</td>\n",
       "      <td>0.581300</td>\n",
       "    </tr>\n",
       "    <tr>\n",
       "      <td>430</td>\n",
       "      <td>0.566800</td>\n",
       "    </tr>\n",
       "    <tr>\n",
       "      <td>440</td>\n",
       "      <td>0.591300</td>\n",
       "    </tr>\n",
       "    <tr>\n",
       "      <td>450</td>\n",
       "      <td>0.581200</td>\n",
       "    </tr>\n",
       "    <tr>\n",
       "      <td>460</td>\n",
       "      <td>0.559100</td>\n",
       "    </tr>\n",
       "    <tr>\n",
       "      <td>470</td>\n",
       "      <td>0.585400</td>\n",
       "    </tr>\n",
       "    <tr>\n",
       "      <td>480</td>\n",
       "      <td>0.585100</td>\n",
       "    </tr>\n",
       "    <tr>\n",
       "      <td>490</td>\n",
       "      <td>0.576400</td>\n",
       "    </tr>\n",
       "    <tr>\n",
       "      <td>500</td>\n",
       "      <td>0.555900</td>\n",
       "    </tr>\n",
       "    <tr>\n",
       "      <td>510</td>\n",
       "      <td>0.569000</td>\n",
       "    </tr>\n",
       "    <tr>\n",
       "      <td>520</td>\n",
       "      <td>0.573300</td>\n",
       "    </tr>\n",
       "    <tr>\n",
       "      <td>530</td>\n",
       "      <td>0.584100</td>\n",
       "    </tr>\n",
       "    <tr>\n",
       "      <td>540</td>\n",
       "      <td>0.530900</td>\n",
       "    </tr>\n",
       "    <tr>\n",
       "      <td>550</td>\n",
       "      <td>0.610100</td>\n",
       "    </tr>\n",
       "    <tr>\n",
       "      <td>560</td>\n",
       "      <td>0.579700</td>\n",
       "    </tr>\n",
       "    <tr>\n",
       "      <td>570</td>\n",
       "      <td>0.589100</td>\n",
       "    </tr>\n",
       "    <tr>\n",
       "      <td>580</td>\n",
       "      <td>0.598500</td>\n",
       "    </tr>\n",
       "    <tr>\n",
       "      <td>590</td>\n",
       "      <td>0.532400</td>\n",
       "    </tr>\n",
       "    <tr>\n",
       "      <td>600</td>\n",
       "      <td>0.593200</td>\n",
       "    </tr>\n",
       "    <tr>\n",
       "      <td>610</td>\n",
       "      <td>0.540300</td>\n",
       "    </tr>\n",
       "    <tr>\n",
       "      <td>620</td>\n",
       "      <td>0.534200</td>\n",
       "    </tr>\n",
       "    <tr>\n",
       "      <td>630</td>\n",
       "      <td>0.492400</td>\n",
       "    </tr>\n",
       "    <tr>\n",
       "      <td>640</td>\n",
       "      <td>0.448400</td>\n",
       "    </tr>\n",
       "    <tr>\n",
       "      <td>650</td>\n",
       "      <td>0.554200</td>\n",
       "    </tr>\n",
       "    <tr>\n",
       "      <td>660</td>\n",
       "      <td>0.510000</td>\n",
       "    </tr>\n",
       "    <tr>\n",
       "      <td>670</td>\n",
       "      <td>0.528000</td>\n",
       "    </tr>\n",
       "    <tr>\n",
       "      <td>680</td>\n",
       "      <td>0.483900</td>\n",
       "    </tr>\n",
       "    <tr>\n",
       "      <td>690</td>\n",
       "      <td>0.490900</td>\n",
       "    </tr>\n",
       "    <tr>\n",
       "      <td>700</td>\n",
       "      <td>0.521000</td>\n",
       "    </tr>\n",
       "    <tr>\n",
       "      <td>710</td>\n",
       "      <td>0.490900</td>\n",
       "    </tr>\n",
       "    <tr>\n",
       "      <td>720</td>\n",
       "      <td>0.517700</td>\n",
       "    </tr>\n",
       "    <tr>\n",
       "      <td>730</td>\n",
       "      <td>0.497100</td>\n",
       "    </tr>\n",
       "    <tr>\n",
       "      <td>740</td>\n",
       "      <td>0.527000</td>\n",
       "    </tr>\n",
       "    <tr>\n",
       "      <td>750</td>\n",
       "      <td>0.523400</td>\n",
       "    </tr>\n",
       "    <tr>\n",
       "      <td>760</td>\n",
       "      <td>0.510100</td>\n",
       "    </tr>\n",
       "    <tr>\n",
       "      <td>770</td>\n",
       "      <td>0.519100</td>\n",
       "    </tr>\n",
       "    <tr>\n",
       "      <td>780</td>\n",
       "      <td>0.494400</td>\n",
       "    </tr>\n",
       "    <tr>\n",
       "      <td>790</td>\n",
       "      <td>0.534200</td>\n",
       "    </tr>\n",
       "    <tr>\n",
       "      <td>800</td>\n",
       "      <td>0.510700</td>\n",
       "    </tr>\n",
       "    <tr>\n",
       "      <td>810</td>\n",
       "      <td>0.487000</td>\n",
       "    </tr>\n",
       "    <tr>\n",
       "      <td>820</td>\n",
       "      <td>0.497200</td>\n",
       "    </tr>\n",
       "    <tr>\n",
       "      <td>830</td>\n",
       "      <td>0.500800</td>\n",
       "    </tr>\n",
       "    <tr>\n",
       "      <td>840</td>\n",
       "      <td>0.493000</td>\n",
       "    </tr>\n",
       "    <tr>\n",
       "      <td>850</td>\n",
       "      <td>0.483600</td>\n",
       "    </tr>\n",
       "    <tr>\n",
       "      <td>860</td>\n",
       "      <td>0.515800</td>\n",
       "    </tr>\n",
       "    <tr>\n",
       "      <td>870</td>\n",
       "      <td>0.505700</td>\n",
       "    </tr>\n",
       "    <tr>\n",
       "      <td>880</td>\n",
       "      <td>0.489300</td>\n",
       "    </tr>\n",
       "    <tr>\n",
       "      <td>890</td>\n",
       "      <td>0.473600</td>\n",
       "    </tr>\n",
       "    <tr>\n",
       "      <td>900</td>\n",
       "      <td>0.465900</td>\n",
       "    </tr>\n",
       "    <tr>\n",
       "      <td>910</td>\n",
       "      <td>0.508600</td>\n",
       "    </tr>\n",
       "    <tr>\n",
       "      <td>920</td>\n",
       "      <td>0.480700</td>\n",
       "    </tr>\n",
       "  </tbody>\n",
       "</table><p>"
      ],
      "text/plain": [
       "<IPython.core.display.HTML object>"
      ]
     },
     "metadata": {},
     "output_type": "display_data"
    },
    {
     "name": "stderr",
     "output_type": "stream",
     "text": [
      "/usr/local/lib/python3.10/dist-packages/torch/nn/parallel/_functions.py:68: UserWarning: Was asked to gather along dimension 0, but all input tensors were scalars; will instead unsqueeze and return a vector.\n",
      "  warnings.warn('Was asked to gather along dimension 0, but all '\n"
     ]
    },
    {
     "data": {
      "text/plain": [
       "TrainOutput(global_step=921, training_loss=0.5633511997589459, metrics={'train_runtime': 170.7605, 'train_samples_per_second': 344.201, 'train_steps_per_second': 5.394, 'total_flos': 1830215206265472.0, 'train_loss': 0.5633511997589459, 'epoch': 3.0})"
      ]
     },
     "execution_count": 8,
     "metadata": {},
     "output_type": "execute_result"
    }
   ],
   "source": [
    "trainer.train()\n"
   ]
  },
  {
   "cell_type": "code",
   "execution_count": null,
   "id": "b63a270d-2617-4390-835d-739a17835131",
   "metadata": {},
   "outputs": [],
   "source": []
  },
  {
   "cell_type": "code",
   "execution_count": 17,
   "id": "5979f07e-becd-4ae4-9e26-1ce157bcd874",
   "metadata": {
    "tags": []
   },
   "outputs": [
    {
     "name": "stderr",
     "output_type": "stream",
     "text": [
      "/usr/local/lib/python3.10/dist-packages/torch/nn/parallel/_functions.py:68: UserWarning: Was asked to gather along dimension 0, but all input tensors were scalars; will instead unsqueeze and return a vector.\n",
      "  warnings.warn('Was asked to gather along dimension 0, but all '\n"
     ]
    },
    {
     "name": "stdout",
     "output_type": "stream",
     "text": [
      "Evaluation results: {'eval_loss': 0.6239273548126221, 'eval_runtime': 1.958, 'eval_samples_per_second': 2502.009, 'eval_steps_per_second': 10.214, 'epoch': 3.0}\n"
     ]
    }
   ],
   "source": [
    "evaluation_result = trainer.evaluate()\n",
    "print(\"Evaluation results:\", evaluation_result)\n"
   ]
  },
  {
   "cell_type": "code",
   "execution_count": 18,
   "id": "bc37e784-502d-4e4b-b6af-12bb22c08262",
   "metadata": {
    "tags": []
   },
   "outputs": [],
   "source": [
    "model.save_pretrained(\"./deberta_tweet_classifier\")\n"
   ]
  },
  {
   "cell_type": "code",
   "execution_count": 19,
   "id": "efb0901c-edab-4b23-be5a-4f6205f84ae3",
   "metadata": {
    "tags": []
   },
   "outputs": [],
   "source": [
    "import sys\n",
    "sys.path.append(\"../helpers/plotting\")\n",
    "import test_training_distribution\n",
    "import dataset_length_distribution"
   ]
  },
  {
   "cell_type": "code",
   "execution_count": 20,
   "id": "7b69a6f9-c56b-4c1d-a0ad-43a48ac987f7",
   "metadata": {
    "tags": []
   },
   "outputs": [
    {
     "ename": "AttributeError",
     "evalue": "module 'test_training_distribution' has no attribute 'plot_label_distribution'",
     "output_type": "error",
     "traceback": [
      "\u001b[0;31m---------------------------------------------------------------------------\u001b[0m",
      "\u001b[0;31mAttributeError\u001b[0m                            Traceback (most recent call last)",
      "Cell \u001b[0;32mIn[20], line 1\u001b[0m\n\u001b[0;32m----> 1\u001b[0m \u001b[43mtest_training_distribution\u001b[49m\u001b[38;5;241;43m.\u001b[39;49m\u001b[43mplot_label_distribution\u001b[49m(df, \u001b[38;5;124m'\u001b[39m\u001b[38;5;124mraining\u001b[39m\u001b[38;5;124m'\u001b[39m, title\u001b[38;5;241m=\u001b[39m\u001b[38;5;124m'\u001b[39m\u001b[38;5;124mDistribution of Tweets (Raining vs Not Raining)\u001b[39m\u001b[38;5;124m'\u001b[39m, x_label\u001b[38;5;241m=\u001b[39m\u001b[38;5;124m'\u001b[39m\u001b[38;5;124mRaining\u001b[39m\u001b[38;5;124m'\u001b[39m, y_label\u001b[38;5;241m=\u001b[39m\u001b[38;5;124m'\u001b[39m\u001b[38;5;124mNumber of Tweets\u001b[39m\u001b[38;5;124m'\u001b[39m)\n",
      "\u001b[0;31mAttributeError\u001b[0m: module 'test_training_distribution' has no attribute 'plot_label_distribution'"
     ]
    }
   ],
   "source": [
    "test_training_distribution.plot_label_distribution(df, 'raining', title='Distribution of Tweets (Raining vs Not Raining)', x_label='Raining', y_label='Number of Tweets')"
   ]
  },
  {
   "cell_type": "code",
   "execution_count": 21,
   "id": "7bfee1eb-63a7-4f91-b672-d1e6b35ac190",
   "metadata": {
    "tags": []
   },
   "outputs": [
    {
     "data": {
      "image/png": "[encoded data removed]",
      "text/plain": [
       "<Figure size 640x480 with 1 Axes>"
      ]
     },
     "metadata": {},
     "output_type": "display_data"
    }
   ],
   "source": [
    "dataset_length_distribution.plot_numeric_distribution(df, 'text_normalized', bins=30, title='Distribution of Tweet Lengths', x_label='Tweet Length', y_label='Frequency')"
   ]
  },
  {
   "cell_type": "code",
   "execution_count": 78,
   "id": "1ba4a049-4c80-469a-a18a-7bfdec2dd8dc",
   "metadata": {
    "tags": []
   },
   "outputs": [
    {
     "data": {
      "image/png": "[encoded data removed]",
      "text/plain": [
       "<Figure size 640x480 with 1 Axes>"
      ]
     },
     "metadata": {},
     "output_type": "display_data"
    }
   ],
   "source": [
    "df['tweet_length'] = df['text_normalized'].apply(len)\n",
    "sns.histplot(df['tweet_length'], bins=30)\n",
    "plt.title('Distribution of Tweet Lengths')\n",
    "plt.xlabel('Tweet Length')\n",
    "plt.ylabel('Frequency')\n",
    "plt.show()\n"
   ]
  },
  {
   "cell_type": "code",
   "execution_count": 50,
   "id": "6c3d909b-9087-4bd3-9abc-f1a5655897c8",
   "metadata": {
    "tags": []
   },
   "outputs": [
    {
     "name": "stderr",
     "output_type": "stream",
     "text": [
      "/usr/local/lib/python3.10/dist-packages/torch/nn/parallel/_functions.py:68: UserWarning: Was asked to gather along dimension 0, but all input tensors were scalars; will instead unsqueeze and return a vector.\n",
      "  warnings.warn('Was asked to gather along dimension 0, but all '\n"
     ]
    }
   ],
   "source": [
    "# Assuming 'test_ds' is your test dataset in the format expected by Hugging Face\n",
    "# test_ds = get_dataset(\n",
    "#     ds_tweets.sel(index=indices_test),\n",
    "#     tok_func,\n",
    "#     tokenizer,\n",
    "#     indices_train,\n",
    "#     indices_test,\n",
    "#     train=False\n",
    "# )\n",
    "test_ds = val_dataset\n",
    "# Make predictions\n",
    "preds_output = trainer.predict(test_ds)\n"
   ]
  },
  {
   "cell_type": "code",
   "execution_count": 51,
   "id": "849a7fc5-852a-4ca6-bf68-c7e7fe624bd0",
   "metadata": {
    "tags": []
   },
   "outputs": [],
   "source": [
    "preds = torch.nn.functional.softmax(torch.Tensor(preds_output.predictions), dim=1).numpy()\n",
    "prediction_probability = preds[:, 1]  # Probability of 'Raining'\n",
    "predictions = preds.argmax(axis=-1)  # Predicted class (0 or 1)\n"
   ]
  },
  {
   "cell_type": "code",
   "execution_count": 52,
   "id": "6d404a88-fba8-4e36-ad32-f94a9889b1d4",
   "metadata": {
    "tags": []
   },
   "outputs": [],
   "source": [
    "# This is a selection of your xarray dataset corresponding to the test set\n",
    "ds_test = ds_tweets.sel(index=indices_test)\n",
    "truth = ds_test.raining.values  # Actual labels\n"
   ]
  },
  {
   "cell_type": "code",
   "execution_count": 53,
   "id": "636a9d0a-7b54-4860-b89f-a5843ad13511",
   "metadata": {
    "tags": []
   },
   "outputs": [
    {
     "data": {
      "image/png": "[encoded data removed]",
      "text/plain": [
       "<Figure size 640x480 with 2 Axes>"
      ]
     },
     "metadata": {},
     "output_type": "display_data"
    }
   ],
   "source": [
    "from sklearn.metrics import classification_report\n",
    "import seaborn as sns\n",
    "import matplotlib.pyplot as plt\n",
    "\n",
    "# Assuming 'predictions' and 'truth' are your model's predictions and the true labels\n",
    "report = classification_report(truth, predictions, target_names=['Not Raining', 'Raining'], output_dict=True)\n",
    "\n",
    "# Plotting the classification report\n",
    "sns.heatmap(pd.DataFrame(report).iloc[:-1, :].T, annot=True)\n",
    "plt.title('Classification Report')\n",
    "plt.show()\n"
   ]
  },
  {
   "cell_type": "code",
   "execution_count": 55,
   "id": "47e6dd45-2b98-4204-9469-b856ddc8a803",
   "metadata": {
    "tags": []
   },
   "outputs": [
    {
     "data": {
      "image/png": "[encoded data removed]",
      "text/plain": [
       "<Figure size 500x400 with 1 Axes>"
      ]
     },
     "metadata": {},
     "output_type": "display_data"
    }
   ],
   "source": [
    "import roc\n",
    "roc.plot_roc_curve(truth, prediction_probability, title='My Custom ROC Title', color='red', linestyle='-.', linewidth=2.5, legend_loc='upper left', figsize=(5, 4))"
   ]
  },
  {
   "cell_type": "code",
   "execution_count": 23,
   "id": "6fba8643-64a4-4764-a06b-48f581b58807",
   "metadata": {
    "tags": []
   },
   "outputs": [
    {
     "data": {
      "image/png": "[encoded data removed]",
      "text/plain": [
       "<Figure size 640x480 with 1 Axes>"
      ]
     },
     "metadata": {},
     "output_type": "display_data"
    }
   ],
   "source": [
    "from sklearn.metrics import roc_curve, auc\n",
    "\n",
    "fpr, tpr, _ = roc_curve(truth, prediction_probability)\n",
    "roc_auc = auc(fpr, tpr)\n",
    "\n",
    "plt.figure()\n",
    "plt.plot(fpr, tpr, color='darkorange', lw=2, label=f'ROC curve (area = {roc_auc:.2f})')\n",
    "plt.plot([0, 1], [0, 1], color='navy', lw=2, linestyle='--')\n",
    "plt.xlabel('False Positive Rate')\n",
    "plt.ylabel('True Positive Rate')\n",
    "plt.title('Receiver Operating Characteristic (ROC)')\n",
    "plt.legend(loc=\"lower right\")\n",
    "plt.show()\n"
   ]
  },
  {
   "cell_type": "code",
   "execution_count": 63,
   "id": "80e2fd97-0ae8-47aa-8244-4da0f6c031c9",
   "metadata": {
    "tags": []
   },
   "outputs": [
    {
     "data": {
      "image/png": "[encoded data removed]",
      "text/plain": [
       "<Figure size 500x400 with 1 Axes>"
      ]
     },
     "metadata": {},
     "output_type": "display_data"
    }
   ],
   "source": [
    "import confusion_matrix\n",
    "confusion_matrix.plot_confusion_matrix(truth, predictions, labels=['Class 0', 'Class 1'], title='My Custom Confusion Matrix', cmap='Blues', figsize=(5, 4))"
   ]
  },
  {
   "cell_type": "code",
   "execution_count": 59,
   "id": "f03cd2fb-c07d-424e-ba34-b4dd2adaba86",
   "metadata": {
    "tags": []
   },
   "outputs": [
    {
     "data": {
      "image/png": "[encoded data removed]",
      "text/plain": [
       "<Figure size 640x480 with 2 Axes>"
      ]
     },
     "metadata": {},
     "output_type": "display_data"
    }
   ],
   "source": [
    "from sklearn.metrics import confusion_matrix\n",
    "\n",
    "cm = confusion_matrix(truth, predictions)\n",
    "sns.heatmap(cm, annot=True, fmt='d', cmap='Blues')\n",
    "plt.title('Confusion Matrix')\n",
    "plt.xlabel('Predicted Label')\n",
    "plt.ylabel('True Label')\n",
    "plt.show()\n"
   ]
  },
  {
   "cell_type": "markdown",
   "id": "4d2b1b8e-4c95-4389-99b2-bb7615c948dd",
   "metadata": {},
   "source": [
    "# 4"
   ]
  },
  {
   "cell_type": "code",
   "execution_count": 2,
   "id": "9d58ed01-6d5b-4812-8de4-4527d52933ad",
   "metadata": {
    "tags": []
   },
   "outputs": [],
   "source": [
    "import xarray as xr\n",
    "import sys\n",
    "import transformers\n",
    "import datasets\n",
    "import functools\n",
    "import xarray as xr\n",
    "import os\n",
    "from sklearn.model_selection import train_test_split\n",
    "sys.path.append(\"../helpers/plotting\")\n",
    "import test_training_distribution\n",
    "sys.path.append(\"../helpers\")\n",
    "from transformer_trainer import get_trainer\n",
    "\n",
    "ds_raw = xr.open_dataset('/p/project/deepacf/maelstrom/haque1/dataset/tweets_2017_01_era5_normed_filtered.nc')\n"
   ]
  },
  {
   "cell_type": "code",
   "execution_count": 3,
   "id": "3d873ab1-2636-49f2-a40d-34776b61ec91",
   "metadata": {
    "tags": []
   },
   "outputs": [],
   "source": [
    "# again define labels\n",
    "key_tp = \"tp_h\"\n",
    "ds_raw[\"raining\"] = ([\"index\"], ds_raw[key_tp].values > 1e-8)"
   ]
  },
  {
   "cell_type": "code",
   "execution_count": 4,
   "id": "ded38aed-ec08-47ed-abde-7fbe4deff2df",
   "metadata": {
    "tags": []
   },
   "outputs": [],
   "source": [
    "from sklearn.model_selection import train_test_split\n",
    "\n",
    "labels = ds_raw['raining']\n",
    "\n",
    "indices_train, indices_test = train_test_split(ds_raw.index, test_size=0.20, stratify=labels)\n"
   ]
  },
  {
   "cell_type": "code",
   "execution_count": null,
   "id": "a69202e8-54e0-4775-8bb7-56f15696ea67",
   "metadata": {
    "tags": []
   },
   "outputs": [],
   "source": [
    "# ds_raw"
   ]
  },
  {
   "cell_type": "code",
   "execution_count": 5,
   "id": "ffa1f5dc-5f05-4d0f-823c-9d3ba8503cbf",
   "metadata": {
    "tags": []
   },
   "outputs": [],
   "source": [
    "# test_training_distribution.plot_label_distribution_split(\n",
    "#     ds_raw.index, [indices_train, indices_test],\n",
    "#     column='raining',\n",
    "#     titles=['Training Set Label Distribution', \n",
    "#             'Test Set Label Distribution'], \n",
    "#     x_label='Label', \n",
    "#     y_label='Frequency', \n",
    "#     figsize=(12, 6)\n",
    "# )"
   ]
  },
  {
   "cell_type": "code",
   "execution_count": 6,
   "id": "42b4d3c9-7ecc-4082-8298-f38b3e14a058",
   "metadata": {
    "tags": []
   },
   "outputs": [
    {
     "name": "stderr",
     "output_type": "stream",
     "text": [
      "/usr/local/lib/python3.10/dist-packages/transformers/convert_slow_tokenizer.py:473: UserWarning: The sentencepiece tokenizer that you are converting to a fast tokenizer uses the byte fallback option which is not implemented in the fast tokenizers. In practice this means that the fast version of the tokenizer can produce unknown tokens whereas the sentencepiece version would have converted these unknown tokens into a sequence of byte tokens matching the original piece of text.\n",
      "  warnings.warn(\n"
     ]
    }
   ],
   "source": [
    "# Load the pretrained tokenizer and model configuration\n",
    "model_nm = \"/p/project/deepacf/maelstrom/haque1/deberta-v3-small\"  # Path to model\n",
    "tokenizer = transformers.AutoTokenizer.from_pretrained(model_nm)\n",
    "db_config_base = transformers.AutoConfig.from_pretrained(model_nm, num_labels=2)\n",
    "\n",
    "# Define function to tokenize the field 'inputs' stored in x\n",
    "def tok_func(x, tokenizer):\n",
    "    return tokenizer(x[\"inputs\"], padding=True, truncation=True, max_length=512)\n",
    "\n",
    "# Function to convert the dataset to a format used by Hugging Face\n",
    "def get_dataset(ds, tok_func, tokenizer, indices_train, indices_test, train=True):\n",
    "    df = ds[[\"text_normalized\", \"raining\"]].to_pandas()\n",
    "    df = df.rename(columns={\"text_normalized\": \"inputs\", \"raining\": \"labels\"})\n",
    "    datasets_ds = datasets.Dataset.from_pandas(df)\n",
    "    tok_function_partial = functools.partial(tok_func, tokenizer=tokenizer)\n",
    "    tok_ds = datasets_ds.map(tok_function_partial, batched=True)\n",
    "    if train:\n",
    "        return datasets.DatasetDict({\n",
    "            \"train\": tok_ds.select(indices_train), \n",
    "            \"test\": tok_ds.select(indices_test)\n",
    "        })\n",
    "    else:\n",
    "        return tok_ds\n",
    "\n"
   ]
  },
  {
   "cell_type": "code",
   "execution_count": 7,
   "id": "abe35745-03b8-4f68-b8dc-9aa2eb7a0358",
   "metadata": {
    "tags": []
   },
   "outputs": [
    {
     "data": {
      "application/vnd.jupyter.widget-view+json": {
       "model_id": "7bc9f18f365c487eba9163f5ca183f0e",
       "version_major": 2,
       "version_minor": 0
      },
      "text/plain": [
       "Map:   0%|          | 0/24491 [00:00<?, ? examples/s]"
      ]
     },
     "metadata": {},
     "output_type": "display_data"
    }
   ],
   "source": [
    "dataset = get_dataset(ds_raw, tok_func, tokenizer, indices_train, indices_test)"
   ]
  },
  {
   "cell_type": "code",
   "execution_count": 8,
   "id": "4dc90a2a-8d2f-4ea8-831b-830d44262e54",
   "metadata": {
    "tags": []
   },
   "outputs": [],
   "source": [
    "# dataset"
   ]
  },
  {
   "cell_type": "code",
   "execution_count": 9,
   "id": "3bf62831-9db7-4e2e-bd11-2670583ddaae",
   "metadata": {
    "tags": []
   },
   "outputs": [],
   "source": [
    "FOLDER_TO_OUTPUT = './outputs' "
   ]
  },
  {
   "cell_type": "code",
   "execution_count": 10,
   "id": "575a3310-6a32-42fe-b859-da4dd2b7b93b",
   "metadata": {
    "tags": []
   },
   "outputs": [],
   "source": [
    "parameters = {\n",
    "    \"learning_rate\": 8e-5,\n",
    "    \"batch_size\": 16,\n",
    "    \"weight_decay\": 0.01,\n",
    "    \"epochs\": 1,\n",
    "    \"warmup_ratio\": 0.1,\n",
    "    \"cls_dropout\": 0.3,\n",
    "    \"lr_scheduler_type\": \"cosine\"\n",
    "}\n",
    "\n",
    "os.makedirs(FOLDER_TO_OUTPUT, exist_ok=True)\n",
    "\n",
    "\n"
   ]
  },
  {
   "cell_type": "code",
   "execution_count": 13,
   "id": "58ef66da-ec62-4094-a801-fc090434b4c9",
   "metadata": {
    "tags": []
   },
   "outputs": [
    {
     "name": "stderr",
     "output_type": "stream",
     "text": [
      "Detected kernel version 4.18.0, which is below the recommended minimum of 5.5.0; this can cause the process to hang. It is recommended to upgrade the kernel to the minimum version or higher.\n",
      "Some weights of DebertaV2ForSequenceClassification were not initialized from the model checkpoint at /p/project/deepacf/maelstrom/haque1/deberta-v3-small and are newly initialized: ['pooler.dense.bias', 'classifier.bias', 'classifier.weight', 'pooler.dense.weight']\n",
      "You should probably TRAIN this model on a down-stream task to be able to use it for predictions and inference.\n",
      "Some weights of DebertaV2ForSequenceClassification were not initialized from the model checkpoint at /p/project/deepacf/maelstrom/haque1/deberta-v3-small and are newly initialized: ['pooler.dense.bias', 'classifier.bias', 'classifier.weight', 'pooler.dense.weight']\n",
      "You should probably TRAIN this model on a down-stream task to be able to use it for predictions and inference.\n"
     ]
    },
    {
     "data": {
      "text/html": [
       "\n",
       "    <div>\n",
       "      \n",
       "      <progress value='307' max='307' style='width:300px; height:20px; vertical-align: middle;'></progress>\n",
       "      [307/307 00:37, Epoch 1/1]\n",
       "    </div>\n",
       "    <table border=\"1\" class=\"dataframe\">\n",
       "  <thead>\n",
       " <tr style=\"text-align: left;\">\n",
       "      <th>Epoch</th>\n",
       "      <th>Training Loss</th>\n",
       "      <th>Validation Loss</th>\n",
       "      <th>F1 Not Raining</th>\n",
       "      <th>F1 Raining</th>\n",
       "    </tr>\n",
       "  </thead>\n",
       "  <tbody>\n",
       "    <tr>\n",
       "      <td>1</td>\n",
       "      <td>No log</td>\n",
       "      <td>0.588515</td>\n",
       "      <td>0.449254</td>\n",
       "      <td>0.792638</td>\n",
       "    </tr>\n",
       "  </tbody>\n",
       "</table><p>"
      ],
      "text/plain": [
       "<IPython.core.display.HTML object>"
      ]
     },
     "metadata": {},
     "output_type": "display_data"
    },
    {
     "data": {
      "text/plain": [
       "TrainOutput(global_step=307, training_loss=0.6022606765796773, metrics={'train_runtime': 37.6928, 'train_samples_per_second': 519.781, 'train_steps_per_second': 8.145, 'total_flos': 260117281723776.0, 'train_loss': 0.6022606765796773, 'epoch': 1.0})"
      ]
     },
     "execution_count": 13,
     "metadata": {},
     "output_type": "execute_result"
    }
   ],
   "source": [
    "trainer = get_trainer(dataset, db_config_base, model_nm, FOLDER_TO_OUTPUT, parameters)\n",
    "\n",
    "# Start training\n",
    "trainer.train()"
   ]
  },
  {
   "cell_type": "code",
   "execution_count": 12,
   "id": "adc083bb-4de6-4014-ba54-27c010f4ac04",
   "metadata": {
    "tags": []
   },
   "outputs": [
    {
     "name": "stderr",
     "output_type": "stream",
     "text": [
      "2023-12-14 17:31:58.700223: E tensorflow/compiler/xla/stream_executor/cuda/cuda_dnn.cc:9342] Unable to register cuDNN factory: Attempting to register factory for plugin cuDNN when one has already been registered\n",
      "2023-12-14 17:31:58.700267: E tensorflow/compiler/xla/stream_executor/cuda/cuda_fft.cc:609] Unable to register cuFFT factory: Attempting to register factory for plugin cuFFT when one has already been registered\n",
      "2023-12-14 17:31:58.704131: E tensorflow/compiler/xla/stream_executor/cuda/cuda_blas.cc:1518] Unable to register cuBLAS factory: Attempting to register factory for plugin cuBLAS when one has already been registered\n",
      "2023-12-14 17:31:59.121675: I tensorflow/core/platform/cpu_feature_guard.cc:182] This TensorFlow binary is optimized to use available CPU instructions in performance-critical operations.\n",
      "To enable the following instructions: AVX2 AVX512F FMA, in other operations, rebuild TensorFlow with the appropriate compiler flags.\n",
      "Detected kernel version 4.18.0, which is below the recommended minimum of 5.5.0; this can cause the process to hang. It is recommended to upgrade the kernel to the minimum version or higher.\n",
      "Some weights of DebertaV2ForSequenceClassification were not initialized from the model checkpoint at /p/project/deepacf/maelstrom/haque1/deberta-v3-small and are newly initialized: ['pooler.dense.bias', 'classifier.bias', 'classifier.weight', 'pooler.dense.weight']\n",
      "You should probably TRAIN this model on a down-stream task to be able to use it for predictions and inference.\n",
      "Some weights of DebertaV2ForSequenceClassification were not initialized from the model checkpoint at /p/project/deepacf/maelstrom/haque1/deberta-v3-small and are newly initialized: ['pooler.dense.bias', 'classifier.bias', 'classifier.weight', 'pooler.dense.weight']\n",
      "You should probably TRAIN this model on a down-stream task to be able to use it for predictions and inference.\n",
      "You're using a DebertaV2TokenizerFast tokenizer. Please note that with a fast tokenizer, using the `__call__` method is faster than using a method to encode the text followed by a call to the `pad` method to get a padded encoding.\n",
      "/usr/local/lib/python3.10/dist-packages/torch/nn/parallel/_functions.py:68: UserWarning: Was asked to gather along dimension 0, but all input tensors were scalars; will instead unsqueeze and return a vector.\n",
      "  warnings.warn('Was asked to gather along dimension 0, but all '\n"
     ]
    },
    {
     "data": {
      "text/html": [
       "\n",
       "    <div>\n",
       "      \n",
       "      <progress value='14' max='307' style='width:300px; height:20px; vertical-align: middle;'></progress>\n",
       "      [ 14/307 00:01 < 00:29, 9.95 it/s, Epoch 0.04/1]\n",
       "    </div>\n",
       "    <table border=\"1\" class=\"dataframe\">\n",
       "  <thead>\n",
       " <tr style=\"text-align: left;\">\n",
       "      <th>Epoch</th>\n",
       "      <th>Training Loss</th>\n",
       "      <th>Validation Loss</th>\n",
       "    </tr>\n",
       "  </thead>\n",
       "  <tbody>\n",
       "  </tbody>\n",
       "</table><p>"
      ],
      "text/plain": [
       "<IPython.core.display.HTML object>"
      ]
     },
     "metadata": {},
     "output_type": "display_data"
    },
    {
     "name": "stderr",
     "output_type": "stream",
     "text": [
      "\n",
      "KeyboardInterrupt\n",
      "\n"
     ]
    }
   ],
   "source": [
    "import transformers\n",
    "import datasets\n",
    "import sklearn.metrics\n",
    "import functools\n",
    "import numpy as np\n",
    "import os\n",
    "\n",
    "\n",
    "def get_model(params, db_config_base, model_nm):\n",
    "    db_config = db_config_base\n",
    "    if params is not None:\n",
    "        db_config.update({\"cls_dropout\": params[\"cls_dropout\"]})\n",
    "    db_config.update({\"num_labels\": 2})\n",
    "    model = transformers.AutoModelForSequenceClassification.from_pretrained(\n",
    "        model_nm, config=db_config\n",
    "    )\n",
    "    return model\n",
    "\n",
    "def compute_metrics(eval_pred):\n",
    "    predictions, labels = eval_pred\n",
    "    predictions = predictions.argmax(axis=-1)\n",
    "    classification_report = sklearn.metrics.classification_report(\n",
    "        labels, predictions, target_names=[\"not raining\", \"raining\"], output_dict=True\n",
    "    )\n",
    "    f1_not_raining = classification_report[\"not raining\"][\"f1-score\"]\n",
    "    f1_raining = classification_report[\"raining\"][\"f1-score\"]\n",
    "    return {\"f1_not_raining\": f1_not_raining, \"f1_raining\": f1_raining}\n",
    "\n",
    "def get_trainer(dataset, db_config_base, model_nm, FOLDER_TO_OUTPUT, parameters):\n",
    "    args = transformers.TrainingArguments(\n",
    "        FOLDER_TO_OUTPUT,\n",
    "        learning_rate=parameters[\"learning_rate\"],\n",
    "        warmup_ratio=parameters[\"warmup_ratio\"],\n",
    "        lr_scheduler_type=parameters[\"lr_scheduler_type\"],\n",
    "        disable_tqdm=False,\n",
    "        fp16=True,\n",
    "        evaluation_strategy=\"epoch\",\n",
    "        per_device_train_batch_size=parameters[\"batch_size\"],\n",
    "        per_device_eval_batch_size=parameters[\"batch_size\"],\n",
    "        num_train_epochs=parameters[\"epochs\"],\n",
    "        weight_decay=parameters[\"weight_decay\"],\n",
    "        report_to=\"none\",\n",
    "        save_strategy=\"epoch\",\n",
    "        load_best_model_at_end=True,\n",
    "    )\n",
    "    get_model_partial = functools.partial(\n",
    "        get_model, db_config_base=db_config_base, model_nm=model_nm\n",
    "    )\n",
    "    return transformers.Trainer(\n",
    "        model_init=get_model_partial,\n",
    "        args=args,\n",
    "        train_dataset=dataset[\"train\"],\n",
    "        eval_dataset=dataset[\"test\"],\n",
    "        tokenizer=tokenizer,\n",
    "        compute_metrics=compute_metrics,\n",
    "    )\n",
    "\n",
    "parameters = {\n",
    "    \"learning_rate\": 8e-5,\n",
    "    \"batch_size\": 16,\n",
    "    \"weight_decay\": 0.01,\n",
    "    \"epochs\": 1,\n",
    "    \"warmup_ratio\": 0.1,\n",
    "    \"cls_dropout\": 0.3,\n",
    "    \"lr_scheduler_type\": \"cosine\"\n",
    "}\n",
    "\n",
    "\n",
    "db_config_base = transformers.AutoConfig.from_pretrained(model_nm)\n",
    "\n",
    "\n",
    "os.makedirs(FOLDER_TO_OUTPUT, exist_ok=True)\n",
    "\n",
    "trainer = get_trainer(dataset, db_config_base, model_nm, FOLDER_TO_OUTPUT, parameters)\n",
    "trainer.train()\n"
   ]
  },
  {
   "cell_type": "code",
   "execution_count": 32,
   "id": "905e8dd9-5c30-4a1e-9dea-542ed74c6b04",
   "metadata": {
    "tags": []
   },
   "outputs": [
    {
     "data": {
      "application/vnd.jupyter.widget-view+json": {
       "model_id": "b78e041b5e4b41e5b062b4f6ce81c896",
       "version_major": 2,
       "version_minor": 0
      },
      "text/plain": [
       "Map:   0%|          | 0/4899 [00:00<?, ? examples/s]"
      ]
     },
     "metadata": {},
     "output_type": "display_data"
    }
   ],
   "source": [
    "# this is the test dataset in the format expected by Hugging Face\n",
    "test_ds = get_dataset(\n",
    "    ds_raw.sel(index=indices_test),\n",
    "    tok_func,\n",
    "    tokenizer,\n",
    "    indices_train,\n",
    "    indices_test,\n",
    "    train=False,  # not training anymore\n",
    ")\n",
    "# this is a selection of our xarray dataset that corresponds to the tweets that are part of the test set\n",
    "ds_test = ds_raw.sel(index=indices_test)"
   ]
  },
  {
   "cell_type": "code",
   "execution_count": 36,
   "id": "69d71e74-b9f6-436e-8bc0-e414d1f15d29",
   "metadata": {
    "tags": []
   },
   "outputs": [
    {
     "name": "stderr",
     "output_type": "stream",
     "text": [
      "/usr/local/lib/python3.10/dist-packages/torch/nn/parallel/_functions.py:68: UserWarning: Was asked to gather along dimension 0, but all input tensors were scalars; will instead unsqueeze and return a vector.\n",
      "  warnings.warn('Was asked to gather along dimension 0, but all '\n"
     ]
    },
    {
     "data": {
      "text/html": [],
      "text/plain": [
       "<IPython.core.display.HTML object>"
      ]
     },
     "metadata": {},
     "output_type": "display_data"
    },
    {
     "name": "stderr",
     "output_type": "stream",
     "text": [
      "/tmp/ipykernel_23564/3187549094.py:5: UserWarning: Implicit dimension choice for softmax has been deprecated. Change the call to include dim=X as an argument.\n",
      "  preds = torch.nn.functional.softmax(torch.Tensor(trainer.predict(test_ds).predictions)).numpy()\n"
     ]
    },
    {
     "data": {
      "image/png": "[encoded data removed]",
      "text/plain": [
       "<Figure size 640x480 with 1 Axes>"
      ]
     },
     "metadata": {},
     "output_type": "display_data"
    },
    {
     "data": {
      "image/png": "[encoded data removed]",
      "text/plain": [
       "<Figure size 640x480 with 2 Axes>"
      ]
     },
     "metadata": {},
     "output_type": "display_data"
    }
   ],
   "source": [
    "import sys\n",
    "sys.path.append(\"../scripts\")\n",
    "import plotting\n",
    "\n",
    "preds = torch.nn.functional.softmax(torch.Tensor(trainer.predict(test_ds).predictions)).numpy()\n",
    "prediction_probability = preds[:,1]\n",
    "predictions = preds.argmax(axis=-1)\n",
    "truth = ds_test.raining.values\n",
    "plotting.analysis.classification_report(labels=truth, predictions=predictions)\n",
    "plotting.analysis.plot_roc(truth=truth, prediction_probability=prediction_probability)\n",
    "plotting.plotting.analysis.check_prediction(truth=truth, prediction=predictions);"
   ]
  },
  {
   "cell_type": "code",
   "execution_count": 30,
   "id": "cdd0de51-2634-4947-a395-14db2b923d4b",
   "metadata": {
    "tags": []
   },
   "outputs": [
    {
     "ename": "HFValidationError",
     "evalue": "Repo id must be in the form 'repo_name' or 'namespace/repo_name': './outputs./outputs'. Use `repo_type` argument if needed.",
     "output_type": "error",
     "traceback": [
      "\u001b[0;31m---------------------------------------------------------------------------\u001b[0m",
      "\u001b[0;31mHFValidationError\u001b[0m                         Traceback (most recent call last)",
      "Cell \u001b[0;32mIn[30], line 15\u001b[0m\n\u001b[1;32m      9\u001b[0m     trainer \u001b[38;5;241m=\u001b[39m get_trainer(\n\u001b[1;32m     10\u001b[0m         dataset, db_config_base, folder_to_model, folder_to_model, parameters\n\u001b[1;32m     11\u001b[0m     )\n\u001b[1;32m     12\u001b[0m     \u001b[38;5;28;01mreturn\u001b[39;00m trainer\n\u001b[0;32m---> 15\u001b[0m trainer_evaluate \u001b[38;5;241m=\u001b[39m \u001b[43mload_saved_trained_model\u001b[49m\u001b[43m(\u001b[49m\n\u001b[1;32m     16\u001b[0m \u001b[43m    \u001b[49m\u001b[43mds_raw\u001b[49m\u001b[43m,\u001b[49m\n\u001b[1;32m     17\u001b[0m \u001b[43m    \u001b[49m\u001b[43mFOLDER_TO_OUTPUT\u001b[49m\u001b[43m \u001b[49m\u001b[38;5;241;43m+\u001b[39;49m\u001b[43m \u001b[49m\u001b[43mFOLDER_TO_OUTPUT\u001b[49m\u001b[43m,\u001b[49m\n\u001b[1;32m     18\u001b[0m \u001b[43m    \u001b[49m\u001b[43mdb_config_base\u001b[49m\u001b[43m,\u001b[49m\n\u001b[1;32m     19\u001b[0m \u001b[43m    \u001b[49m\u001b[43mmodel_nm\u001b[49m\u001b[43m,\u001b[49m\n\u001b[1;32m     20\u001b[0m \u001b[43m    \u001b[49m\u001b[43mparameters\u001b[49m\u001b[43m,\u001b[49m\n\u001b[1;32m     21\u001b[0m \u001b[43m)\u001b[49m\n",
      "Cell \u001b[0;32mIn[30], line 4\u001b[0m, in \u001b[0;36mload_saved_trained_model\u001b[0;34m(ds, folder_to_model, db_config_base, model_nm, parameters)\u001b[0m\n\u001b[1;32m      2\u001b[0m \u001b[38;5;28;01mdef\u001b[39;00m \u001b[38;5;21mload_saved_trained_model\u001b[39m(ds, folder_to_model, db_config_base, model_nm, parameters):\n\u001b[1;32m      3\u001b[0m     \u001b[38;5;66;03m# load the pretrained tokenizer\u001b[39;00m\n\u001b[0;32m----> 4\u001b[0m     tokenizer \u001b[38;5;241m=\u001b[39m \u001b[43mtransformers\u001b[49m\u001b[38;5;241;43m.\u001b[39;49m\u001b[43mAutoTokenizer\u001b[49m\u001b[38;5;241;43m.\u001b[39;49m\u001b[43mfrom_pretrained\u001b[49m\u001b[43m(\u001b[49m\u001b[43mfolder_to_model\u001b[49m\u001b[43m)\u001b[49m\n\u001b[1;32m      5\u001b[0m     db_config_base \u001b[38;5;241m=\u001b[39m transformers\u001b[38;5;241m.\u001b[39mAutoConfig\u001b[38;5;241m.\u001b[39mfrom_pretrained(\n\u001b[1;32m      6\u001b[0m         folder_to_model, num_labels\u001b[38;5;241m=\u001b[39m\u001b[38;5;241m2\u001b[39m\n\u001b[1;32m      7\u001b[0m     )\n\u001b[1;32m      8\u001b[0m     dataset \u001b[38;5;241m=\u001b[39m get_dataset(ds, tok_func, tokenizer, indices_train, indices_test)\n",
      "File \u001b[0;32m/usr/local/lib/python3.10/dist-packages/transformers/models/auto/tokenization_auto.py:718\u001b[0m, in \u001b[0;36mAutoTokenizer.from_pretrained\u001b[0;34m(cls, pretrained_model_name_or_path, *inputs, **kwargs)\u001b[0m\n\u001b[1;32m    715\u001b[0m     \u001b[38;5;28;01mreturn\u001b[39;00m tokenizer_class\u001b[38;5;241m.\u001b[39mfrom_pretrained(pretrained_model_name_or_path, \u001b[38;5;241m*\u001b[39minputs, \u001b[38;5;241m*\u001b[39m\u001b[38;5;241m*\u001b[39mkwargs)\n\u001b[1;32m    717\u001b[0m \u001b[38;5;66;03m# Next, let's try to use the tokenizer_config file to get the tokenizer class.\u001b[39;00m\n\u001b[0;32m--> 718\u001b[0m tokenizer_config \u001b[38;5;241m=\u001b[39m \u001b[43mget_tokenizer_config\u001b[49m\u001b[43m(\u001b[49m\u001b[43mpretrained_model_name_or_path\u001b[49m\u001b[43m,\u001b[49m\u001b[43m \u001b[49m\u001b[38;5;241;43m*\u001b[39;49m\u001b[38;5;241;43m*\u001b[39;49m\u001b[43mkwargs\u001b[49m\u001b[43m)\u001b[49m\n\u001b[1;32m    719\u001b[0m \u001b[38;5;28;01mif\u001b[39;00m \u001b[38;5;124m\"\u001b[39m\u001b[38;5;124m_commit_hash\u001b[39m\u001b[38;5;124m\"\u001b[39m \u001b[38;5;129;01min\u001b[39;00m tokenizer_config:\n\u001b[1;32m    720\u001b[0m     kwargs[\u001b[38;5;124m\"\u001b[39m\u001b[38;5;124m_commit_hash\u001b[39m\u001b[38;5;124m\"\u001b[39m] \u001b[38;5;241m=\u001b[39m tokenizer_config[\u001b[38;5;124m\"\u001b[39m\u001b[38;5;124m_commit_hash\u001b[39m\u001b[38;5;124m\"\u001b[39m]\n",
      "File \u001b[0;32m/usr/local/lib/python3.10/dist-packages/transformers/models/auto/tokenization_auto.py:550\u001b[0m, in \u001b[0;36mget_tokenizer_config\u001b[0;34m(pretrained_model_name_or_path, cache_dir, force_download, resume_download, proxies, token, revision, local_files_only, subfolder, **kwargs)\u001b[0m\n\u001b[1;32m    547\u001b[0m     token \u001b[38;5;241m=\u001b[39m use_auth_token\n\u001b[1;32m    549\u001b[0m commit_hash \u001b[38;5;241m=\u001b[39m kwargs\u001b[38;5;241m.\u001b[39mget(\u001b[38;5;124m\"\u001b[39m\u001b[38;5;124m_commit_hash\u001b[39m\u001b[38;5;124m\"\u001b[39m, \u001b[38;5;28;01mNone\u001b[39;00m)\n\u001b[0;32m--> 550\u001b[0m resolved_config_file \u001b[38;5;241m=\u001b[39m \u001b[43mcached_file\u001b[49m\u001b[43m(\u001b[49m\n\u001b[1;32m    551\u001b[0m \u001b[43m    \u001b[49m\u001b[43mpretrained_model_name_or_path\u001b[49m\u001b[43m,\u001b[49m\n\u001b[1;32m    552\u001b[0m \u001b[43m    \u001b[49m\u001b[43mTOKENIZER_CONFIG_FILE\u001b[49m\u001b[43m,\u001b[49m\n\u001b[1;32m    553\u001b[0m \u001b[43m    \u001b[49m\u001b[43mcache_dir\u001b[49m\u001b[38;5;241;43m=\u001b[39;49m\u001b[43mcache_dir\u001b[49m\u001b[43m,\u001b[49m\n\u001b[1;32m    554\u001b[0m \u001b[43m    \u001b[49m\u001b[43mforce_download\u001b[49m\u001b[38;5;241;43m=\u001b[39;49m\u001b[43mforce_download\u001b[49m\u001b[43m,\u001b[49m\n\u001b[1;32m    555\u001b[0m \u001b[43m    \u001b[49m\u001b[43mresume_download\u001b[49m\u001b[38;5;241;43m=\u001b[39;49m\u001b[43mresume_download\u001b[49m\u001b[43m,\u001b[49m\n\u001b[1;32m    556\u001b[0m \u001b[43m    \u001b[49m\u001b[43mproxies\u001b[49m\u001b[38;5;241;43m=\u001b[39;49m\u001b[43mproxies\u001b[49m\u001b[43m,\u001b[49m\n\u001b[1;32m    557\u001b[0m \u001b[43m    \u001b[49m\u001b[43mtoken\u001b[49m\u001b[38;5;241;43m=\u001b[39;49m\u001b[43mtoken\u001b[49m\u001b[43m,\u001b[49m\n\u001b[1;32m    558\u001b[0m \u001b[43m    \u001b[49m\u001b[43mrevision\u001b[49m\u001b[38;5;241;43m=\u001b[39;49m\u001b[43mrevision\u001b[49m\u001b[43m,\u001b[49m\n\u001b[1;32m    559\u001b[0m \u001b[43m    \u001b[49m\u001b[43mlocal_files_only\u001b[49m\u001b[38;5;241;43m=\u001b[39;49m\u001b[43mlocal_files_only\u001b[49m\u001b[43m,\u001b[49m\n\u001b[1;32m    560\u001b[0m \u001b[43m    \u001b[49m\u001b[43msubfolder\u001b[49m\u001b[38;5;241;43m=\u001b[39;49m\u001b[43msubfolder\u001b[49m\u001b[43m,\u001b[49m\n\u001b[1;32m    561\u001b[0m \u001b[43m    \u001b[49m\u001b[43m_raise_exceptions_for_missing_entries\u001b[49m\u001b[38;5;241;43m=\u001b[39;49m\u001b[38;5;28;43;01mFalse\u001b[39;49;00m\u001b[43m,\u001b[49m\n\u001b[1;32m    562\u001b[0m \u001b[43m    \u001b[49m\u001b[43m_raise_exceptions_for_connection_errors\u001b[49m\u001b[38;5;241;43m=\u001b[39;49m\u001b[38;5;28;43;01mFalse\u001b[39;49;00m\u001b[43m,\u001b[49m\n\u001b[1;32m    563\u001b[0m \u001b[43m    \u001b[49m\u001b[43m_commit_hash\u001b[49m\u001b[38;5;241;43m=\u001b[39;49m\u001b[43mcommit_hash\u001b[49m\u001b[43m,\u001b[49m\n\u001b[1;32m    564\u001b[0m \u001b[43m\u001b[49m\u001b[43m)\u001b[49m\n\u001b[1;32m    565\u001b[0m \u001b[38;5;28;01mif\u001b[39;00m resolved_config_file \u001b[38;5;129;01mis\u001b[39;00m \u001b[38;5;28;01mNone\u001b[39;00m:\n\u001b[1;32m    566\u001b[0m     logger\u001b[38;5;241m.\u001b[39minfo(\u001b[38;5;124m\"\u001b[39m\u001b[38;5;124mCould not locate the tokenizer configuration file, will try to use the model config instead.\u001b[39m\u001b[38;5;124m\"\u001b[39m)\n",
      "File \u001b[0;32m/usr/local/lib/python3.10/dist-packages/transformers/utils/hub.py:430\u001b[0m, in \u001b[0;36mcached_file\u001b[0;34m(path_or_repo_id, filename, cache_dir, force_download, resume_download, proxies, token, revision, local_files_only, subfolder, repo_type, user_agent, _raise_exceptions_for_missing_entries, _raise_exceptions_for_connection_errors, _commit_hash, **deprecated_kwargs)\u001b[0m\n\u001b[1;32m    427\u001b[0m user_agent \u001b[38;5;241m=\u001b[39m http_user_agent(user_agent)\n\u001b[1;32m    428\u001b[0m \u001b[38;5;28;01mtry\u001b[39;00m:\n\u001b[1;32m    429\u001b[0m     \u001b[38;5;66;03m# Load from URL or cache if already cached\u001b[39;00m\n\u001b[0;32m--> 430\u001b[0m     resolved_file \u001b[38;5;241m=\u001b[39m \u001b[43mhf_hub_download\u001b[49m\u001b[43m(\u001b[49m\n\u001b[1;32m    431\u001b[0m \u001b[43m        \u001b[49m\u001b[43mpath_or_repo_id\u001b[49m\u001b[43m,\u001b[49m\n\u001b[1;32m    432\u001b[0m \u001b[43m        \u001b[49m\u001b[43mfilename\u001b[49m\u001b[43m,\u001b[49m\n\u001b[1;32m    433\u001b[0m \u001b[43m        \u001b[49m\u001b[43msubfolder\u001b[49m\u001b[38;5;241;43m=\u001b[39;49m\u001b[38;5;28;43;01mNone\u001b[39;49;00m\u001b[43m \u001b[49m\u001b[38;5;28;43;01mif\u001b[39;49;00m\u001b[43m \u001b[49m\u001b[38;5;28;43mlen\u001b[39;49m\u001b[43m(\u001b[49m\u001b[43msubfolder\u001b[49m\u001b[43m)\u001b[49m\u001b[43m \u001b[49m\u001b[38;5;241;43m==\u001b[39;49m\u001b[43m \u001b[49m\u001b[38;5;241;43m0\u001b[39;49m\u001b[43m \u001b[49m\u001b[38;5;28;43;01melse\u001b[39;49;00m\u001b[43m \u001b[49m\u001b[43msubfolder\u001b[49m\u001b[43m,\u001b[49m\n\u001b[1;32m    434\u001b[0m \u001b[43m        \u001b[49m\u001b[43mrepo_type\u001b[49m\u001b[38;5;241;43m=\u001b[39;49m\u001b[43mrepo_type\u001b[49m\u001b[43m,\u001b[49m\n\u001b[1;32m    435\u001b[0m \u001b[43m        \u001b[49m\u001b[43mrevision\u001b[49m\u001b[38;5;241;43m=\u001b[39;49m\u001b[43mrevision\u001b[49m\u001b[43m,\u001b[49m\n\u001b[1;32m    436\u001b[0m \u001b[43m        \u001b[49m\u001b[43mcache_dir\u001b[49m\u001b[38;5;241;43m=\u001b[39;49m\u001b[43mcache_dir\u001b[49m\u001b[43m,\u001b[49m\n\u001b[1;32m    437\u001b[0m \u001b[43m        \u001b[49m\u001b[43muser_agent\u001b[49m\u001b[38;5;241;43m=\u001b[39;49m\u001b[43muser_agent\u001b[49m\u001b[43m,\u001b[49m\n\u001b[1;32m    438\u001b[0m \u001b[43m        \u001b[49m\u001b[43mforce_download\u001b[49m\u001b[38;5;241;43m=\u001b[39;49m\u001b[43mforce_download\u001b[49m\u001b[43m,\u001b[49m\n\u001b[1;32m    439\u001b[0m \u001b[43m        \u001b[49m\u001b[43mproxies\u001b[49m\u001b[38;5;241;43m=\u001b[39;49m\u001b[43mproxies\u001b[49m\u001b[43m,\u001b[49m\n\u001b[1;32m    440\u001b[0m \u001b[43m        \u001b[49m\u001b[43mresume_download\u001b[49m\u001b[38;5;241;43m=\u001b[39;49m\u001b[43mresume_download\u001b[49m\u001b[43m,\u001b[49m\n\u001b[1;32m    441\u001b[0m \u001b[43m        \u001b[49m\u001b[43mtoken\u001b[49m\u001b[38;5;241;43m=\u001b[39;49m\u001b[43mtoken\u001b[49m\u001b[43m,\u001b[49m\n\u001b[1;32m    442\u001b[0m \u001b[43m        \u001b[49m\u001b[43mlocal_files_only\u001b[49m\u001b[38;5;241;43m=\u001b[39;49m\u001b[43mlocal_files_only\u001b[49m\u001b[43m,\u001b[49m\n\u001b[1;32m    443\u001b[0m \u001b[43m    \u001b[49m\u001b[43m)\u001b[49m\n\u001b[1;32m    444\u001b[0m \u001b[38;5;28;01mexcept\u001b[39;00m GatedRepoError \u001b[38;5;28;01mas\u001b[39;00m e:\n\u001b[1;32m    445\u001b[0m     \u001b[38;5;28;01mraise\u001b[39;00m \u001b[38;5;167;01mEnvironmentError\u001b[39;00m(\n\u001b[1;32m    446\u001b[0m         \u001b[38;5;124m\"\u001b[39m\u001b[38;5;124mYou are trying to access a gated repo.\u001b[39m\u001b[38;5;130;01m\\n\u001b[39;00m\u001b[38;5;124mMake sure to request access at \u001b[39m\u001b[38;5;124m\"\u001b[39m\n\u001b[1;32m    447\u001b[0m         \u001b[38;5;124mf\u001b[39m\u001b[38;5;124m\"\u001b[39m\u001b[38;5;124mhttps://huggingface.co/\u001b[39m\u001b[38;5;132;01m{\u001b[39;00mpath_or_repo_id\u001b[38;5;132;01m}\u001b[39;00m\u001b[38;5;124m and pass a token having permission to this repo either \u001b[39m\u001b[38;5;124m\"\u001b[39m\n\u001b[1;32m    448\u001b[0m         \u001b[38;5;124m\"\u001b[39m\u001b[38;5;124mby logging in with `huggingface-cli login` or by passing `token=<your_token>`.\u001b[39m\u001b[38;5;124m\"\u001b[39m\n\u001b[1;32m    449\u001b[0m     ) \u001b[38;5;28;01mfrom\u001b[39;00m \u001b[38;5;21;01me\u001b[39;00m\n",
      "File \u001b[0;32m/usr/local/lib/python3.10/dist-packages/huggingface_hub/utils/_validators.py:110\u001b[0m, in \u001b[0;36mvalidate_hf_hub_args.<locals>._inner_fn\u001b[0;34m(*args, **kwargs)\u001b[0m\n\u001b[1;32m    105\u001b[0m \u001b[38;5;28;01mfor\u001b[39;00m arg_name, arg_value \u001b[38;5;129;01min\u001b[39;00m chain(\n\u001b[1;32m    106\u001b[0m     \u001b[38;5;28mzip\u001b[39m(signature\u001b[38;5;241m.\u001b[39mparameters, args),  \u001b[38;5;66;03m# Args values\u001b[39;00m\n\u001b[1;32m    107\u001b[0m     kwargs\u001b[38;5;241m.\u001b[39mitems(),  \u001b[38;5;66;03m# Kwargs values\u001b[39;00m\n\u001b[1;32m    108\u001b[0m ):\n\u001b[1;32m    109\u001b[0m     \u001b[38;5;28;01mif\u001b[39;00m arg_name \u001b[38;5;129;01min\u001b[39;00m [\u001b[38;5;124m\"\u001b[39m\u001b[38;5;124mrepo_id\u001b[39m\u001b[38;5;124m\"\u001b[39m, \u001b[38;5;124m\"\u001b[39m\u001b[38;5;124mfrom_id\u001b[39m\u001b[38;5;124m\"\u001b[39m, \u001b[38;5;124m\"\u001b[39m\u001b[38;5;124mto_id\u001b[39m\u001b[38;5;124m\"\u001b[39m]:\n\u001b[0;32m--> 110\u001b[0m         \u001b[43mvalidate_repo_id\u001b[49m\u001b[43m(\u001b[49m\u001b[43marg_value\u001b[49m\u001b[43m)\u001b[49m\n\u001b[1;32m    112\u001b[0m     \u001b[38;5;28;01melif\u001b[39;00m arg_name \u001b[38;5;241m==\u001b[39m \u001b[38;5;124m\"\u001b[39m\u001b[38;5;124mtoken\u001b[39m\u001b[38;5;124m\"\u001b[39m \u001b[38;5;129;01mand\u001b[39;00m arg_value \u001b[38;5;129;01mis\u001b[39;00m \u001b[38;5;129;01mnot\u001b[39;00m \u001b[38;5;28;01mNone\u001b[39;00m:\n\u001b[1;32m    113\u001b[0m         has_token \u001b[38;5;241m=\u001b[39m \u001b[38;5;28;01mTrue\u001b[39;00m\n",
      "File \u001b[0;32m/usr/local/lib/python3.10/dist-packages/huggingface_hub/utils/_validators.py:158\u001b[0m, in \u001b[0;36mvalidate_repo_id\u001b[0;34m(repo_id)\u001b[0m\n\u001b[1;32m    155\u001b[0m     \u001b[38;5;28;01mraise\u001b[39;00m HFValidationError(\u001b[38;5;124mf\u001b[39m\u001b[38;5;124m\"\u001b[39m\u001b[38;5;124mRepo id must be a string, not \u001b[39m\u001b[38;5;132;01m{\u001b[39;00m\u001b[38;5;28mtype\u001b[39m(repo_id)\u001b[38;5;132;01m}\u001b[39;00m\u001b[38;5;124m: \u001b[39m\u001b[38;5;124m'\u001b[39m\u001b[38;5;132;01m{\u001b[39;00mrepo_id\u001b[38;5;132;01m}\u001b[39;00m\u001b[38;5;124m'\u001b[39m\u001b[38;5;124m.\u001b[39m\u001b[38;5;124m\"\u001b[39m)\n\u001b[1;32m    157\u001b[0m \u001b[38;5;28;01mif\u001b[39;00m repo_id\u001b[38;5;241m.\u001b[39mcount(\u001b[38;5;124m\"\u001b[39m\u001b[38;5;124m/\u001b[39m\u001b[38;5;124m\"\u001b[39m) \u001b[38;5;241m>\u001b[39m \u001b[38;5;241m1\u001b[39m:\n\u001b[0;32m--> 158\u001b[0m     \u001b[38;5;28;01mraise\u001b[39;00m HFValidationError(\n\u001b[1;32m    159\u001b[0m         \u001b[38;5;124m\"\u001b[39m\u001b[38;5;124mRepo id must be in the form \u001b[39m\u001b[38;5;124m'\u001b[39m\u001b[38;5;124mrepo_name\u001b[39m\u001b[38;5;124m'\u001b[39m\u001b[38;5;124m or \u001b[39m\u001b[38;5;124m'\u001b[39m\u001b[38;5;124mnamespace/repo_name\u001b[39m\u001b[38;5;124m'\u001b[39m\u001b[38;5;124m:\u001b[39m\u001b[38;5;124m\"\u001b[39m\n\u001b[1;32m    160\u001b[0m         \u001b[38;5;124mf\u001b[39m\u001b[38;5;124m\"\u001b[39m\u001b[38;5;124m \u001b[39m\u001b[38;5;124m'\u001b[39m\u001b[38;5;132;01m{\u001b[39;00mrepo_id\u001b[38;5;132;01m}\u001b[39;00m\u001b[38;5;124m'\u001b[39m\u001b[38;5;124m. Use `repo_type` argument if needed.\u001b[39m\u001b[38;5;124m\"\u001b[39m\n\u001b[1;32m    161\u001b[0m     )\n\u001b[1;32m    163\u001b[0m \u001b[38;5;28;01mif\u001b[39;00m \u001b[38;5;129;01mnot\u001b[39;00m REPO_ID_REGEX\u001b[38;5;241m.\u001b[39mmatch(repo_id):\n\u001b[1;32m    164\u001b[0m     \u001b[38;5;28;01mraise\u001b[39;00m HFValidationError(\n\u001b[1;32m    165\u001b[0m         \u001b[38;5;124m\"\u001b[39m\u001b[38;5;124mRepo id must use alphanumeric chars or \u001b[39m\u001b[38;5;124m'\u001b[39m\u001b[38;5;124m-\u001b[39m\u001b[38;5;124m'\u001b[39m\u001b[38;5;124m, \u001b[39m\u001b[38;5;124m'\u001b[39m\u001b[38;5;124m_\u001b[39m\u001b[38;5;124m'\u001b[39m\u001b[38;5;124m, \u001b[39m\u001b[38;5;124m'\u001b[39m\u001b[38;5;124m.\u001b[39m\u001b[38;5;124m'\u001b[39m\u001b[38;5;124m, \u001b[39m\u001b[38;5;124m'\u001b[39m\u001b[38;5;124m--\u001b[39m\u001b[38;5;124m'\u001b[39m\u001b[38;5;124m and \u001b[39m\u001b[38;5;124m'\u001b[39m\u001b[38;5;124m..\u001b[39m\u001b[38;5;124m'\u001b[39m\u001b[38;5;124m are\u001b[39m\u001b[38;5;124m\"\u001b[39m\n\u001b[1;32m    166\u001b[0m         \u001b[38;5;124m\"\u001b[39m\u001b[38;5;124m forbidden, \u001b[39m\u001b[38;5;124m'\u001b[39m\u001b[38;5;124m-\u001b[39m\u001b[38;5;124m'\u001b[39m\u001b[38;5;124m and \u001b[39m\u001b[38;5;124m'\u001b[39m\u001b[38;5;124m.\u001b[39m\u001b[38;5;124m'\u001b[39m\u001b[38;5;124m cannot start or end the name, max length is 96:\u001b[39m\u001b[38;5;124m\"\u001b[39m\n\u001b[1;32m    167\u001b[0m         \u001b[38;5;124mf\u001b[39m\u001b[38;5;124m\"\u001b[39m\u001b[38;5;124m \u001b[39m\u001b[38;5;124m'\u001b[39m\u001b[38;5;132;01m{\u001b[39;00mrepo_id\u001b[38;5;132;01m}\u001b[39;00m\u001b[38;5;124m'\u001b[39m\u001b[38;5;124m.\u001b[39m\u001b[38;5;124m\"\u001b[39m\n\u001b[1;32m    168\u001b[0m     )\n",
      "\u001b[0;31mHFValidationError\u001b[0m: Repo id must be in the form 'repo_name' or 'namespace/repo_name': './outputs./outputs'. Use `repo_type` argument if needed."
     ]
    }
   ],
   "source": [
    "\n",
    "def load_saved_trained_model(ds, folder_to_model, db_config_base, model_nm, parameters):\n",
    "    # load the pretrained tokenizer\n",
    "    tokenizer = transformers.AutoTokenizer.from_pretrained(folder_to_model)\n",
    "    db_config_base = transformers.AutoConfig.from_pretrained(\n",
    "        folder_to_model, num_labels=2\n",
    "    )\n",
    "    dataset = get_dataset(ds, tok_func, tokenizer, indices_train, indices_test)\n",
    "    trainer = get_trainer(\n",
    "        dataset, db_config_base, folder_to_model, folder_to_model, parameters\n",
    "    )\n",
    "    return trainer\n",
    "\n",
    "\n",
    "trainer_evaluate = load_saved_trained_model(\n",
    "    ds_raw,\n",
    "    FOLDER_TO_OUTPUT + FOLDER_TO_OUTPUT,\n",
    "    db_config_base,\n",
    "    model_nm,\n",
    "    parameters,\n",
    ")"
   ]
  },
  {
   "cell_type": "code",
   "execution_count": null,
   "id": "b6e7673e-3cea-40d4-bf72-8d0f82918e45",
   "metadata": {},
   "outputs": [],
   "source": []
  }
 ],
 "metadata": {
  "kernelspec": {
   "display_name": "ap2",
   "language": "python",
   "name": "ap2_hf-llm-bnb"
  },
  "language_info": {
   "codemirror_mode": {
    "name": "ipython",
    "version": 3
   },
   "file_extension": ".py",
   "mimetype": "text/x-python",
   "name": "python",
   "nbconvert_exporter": "python",
   "pygments_lexer": "ipython3",
   "version": "3.10.12"
  }
 },
 "nbformat": 4,
 "nbformat_minor": 5
}
