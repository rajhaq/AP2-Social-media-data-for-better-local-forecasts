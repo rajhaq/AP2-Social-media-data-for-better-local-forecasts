{
 "cells": [
  {
   "cell_type": "markdown",
   "id": "317faaf4-f8b4-4769-8a95-9afdb52770e4",
   "metadata": {},
   "source": [
    "# Application 2: First steps on the supercomputer\n",
    "\n",
    "In this first tutorial, you will be doing first steps on **JUWELS**, including **JUWELS Booster** (Booster hereafter). This tutorial assumes that you are familiar with the command prompt to a minimum degree.\n",
    "\n",
    "JUWELS has two different types of nodes: \n",
    "\n",
    "* Login Nodes: The entry point to the system.\n",
    "    * Users here log in to manage their workspaces, move data, and submit jobs that are supposed to be run on the cluster.\n",
    "    * Login nodes are not designed for computational workloads!\n",
    "    * JUWELS in total has 16 login nodes (JUWELS: 12, Booster: 4).\n",
    "* Compute Nodes: The compute power of the system.\n",
    "    * Each node has multiple CPUs (JUWELS: 40/48, Booster 96), a large amount of RAM (JUWELS: 96/192, Booster: 512GB). \n",
    "    * Booster is a system that was especially designed for usage of GPUs and thus is equiped with 4 NVidia A100 GPUs (4 x 40GB vRAM) per node.\n",
    "    * Compute nodes are detached from the internet.\n",
    "    * JUWELS in total has 2567 nodes, Booster 936.\n",
    "   \n",
    "For detailed overviews of each system see [here for JUWELS](https://apps.fz-juelich.de/jsc/hps/juwels/configuration.html#hardware-configuration-of-the-system-name-cluster-module) and [here for Booster](https://apps.fz-juelich.de/jsc/hps/juwels/booster-overview.html).\n",
    "\n",
    "## Exercise 0: Install an SSH client\n",
    "Before you can actually start, it is required that an SSH client is installed on your machine. On both, Mac and Linux, an SSH client should be installed by default. On Windows, it is recommended to install the Windows Subsystem for Linux (WSL). On older Windows versions without WSL, you have to install a terminal emulator like PuTTY."
   ]
  },
  {
   "cell_type": "markdown",
   "id": "e66b2e28-2a89-4dd4-8123-5bb6dc262809",
   "metadata": {
    "tags": []
   },
   "source": [
    "\n",
    "## Exercise 1: SSH connection to JUWELS\n",
    "JSC has very strict security restrictions to avoid misuse of the compute resources. JSC does not allow logging into the systems solely with a password, but requires key-based authentication via SSH connections from whitelisted IPs.As a first step, you will create a SSH key pair for public/private key authentification. Then, you will register the public keys for access to JUWELS using the JuDoor web page. To do so, it is required to add a meaningful restriction of the range of IPs or hostnames that are allowed to connect to JUWELS. Finally, you will be able to connect to Juwels. This exercise guides you through the process that is explained in more detail in the Juwels access documentation pages.Execute the following command in the command line to create an ED25519 key pair directly into your .ssh directory.\n",
    "\n",
    "```bash\n",
    "ssh-keygen -a 100 -t ed25519 -f ~/.ssh/maelstrom-bootcamp\n",
    "```\n",
    "where \n",
    "* `-a` is the number of rounds for the hashing algorithm, i.e. how often the algorithm computes the key hash.\n",
    "* `-t` is the hashing algorithm used.\n",
    "* `-f` is the path and file name in which the SSH keys will be stored.\n",
    "\n",
    "Note: Simply press ENTER when asked for a passphrase."
   ]
  },
  {
   "cell_type": "markdown",
   "id": "cc401c3e-9111-4caf-ab66-2e055aad969b",
   "metadata": {},
   "source": [
    "```terminal\n",
    "$ ssh-keygen -a 100 -t ed25519 -f ~/.ssh/maelstrom-bootcamp\n",
    "Generating public/private ed25519 key pair.\n",
    "Enter passphrase (empty for no passphrase):\n",
    "Enter same passphrase again:\n",
    "Your identification has been saved in /home/user/.ssh/maelstrom-bootcamp\n",
    "Your public key has been saved in /home/user/.ssh/maelstrom-bootcamp.pub\n",
    "The key fingerprint is:\n",
    "SHA256:ZBAVl31cLkKm+Cmp/IKRgDXMzjA2E2n7UwPwjOumfhA user@host\n",
    "The key's randomart image is:\n",
    "+--[ED25519 256]--+\n",
    "| =+   ooo..oo. ..|\n",
    "|o*O.   . o.+. o. |\n",
    "|oO++.   + . ... .|\n",
    "|.E=  o o o . . . |\n",
    "| .o.... S o      |\n",
    "|.. oo. . .       |\n",
    "| o. .oo          |\n",
    "|o  .. ..         |\n",
    "|o..    ..        |\n",
    "+----[SHA256]-----+\n",
    "```\n",
    "On Windows, you must define a different storage location for the key pair, but otherwise the command works. In WSL you can execute the command right away.The command generated two keys: a public one (maelstrom-bootcamp.pub) and a private one (maelstrom-bootcamp). \n",
    "```terminal\n",
    "$ ls ~/.ssh\n",
    "/home/user/.ssh/maelstrom-bootcamp  /home/user/.ssh/maelstrom-bootcamp.pub\n",
    "```"
   ]
  },
  {
   "cell_type": "markdown",
   "id": "7aa7d68d-7e58-463e-b19b-86c8058dd2c7",
   "metadata": {},
   "source": [
    "The public key (ending in .pub) is similar to your hand-written signature: you may give it to others who can then use it to confirm your identity. The private key (maelstrom-bootcamp) must not be shared. Continuing with the hand-written signature analogy, the private key is the way you write your signature. Just as you would not give others the ability to perfectly copy your hand-written signature, you should under no circumstance publicize your private key.Before you can add your public SSH key to the list of authorized SSH keys for JUWELS, you must create a valid from-clause that meaningfully restricts the range of IPs for which an SSH connection with the given key will be permitted (whitelisted). You have several options to that, e.g. check the IP range of your internet service provider (ISP). If you know the IP of your ISP, or if you can connect to a VPN giving you a fixed IP range (FZ Jülich's VPN is an example, but other institutions work as well), this is very easy. You can directly use the IP range as a from-clause. For FZ Jülich your from-clause would be:"
   ]
  },
  {
   "cell_type": "markdown",
   "id": "81f261ed-0337-4d95-9a7f-acafb4055215",
   "metadata": {},
   "source": [
    "```terminal\n",
    "from=\"134.94.0.0/16\"\n",
    "```"
   ]
  },
  {
   "cell_type": "markdown",
   "id": "b93f9dfb-d4e7-49b0-a25b-f763b12fc121",
   "metadata": {},
   "source": [
    "Note that the /16 indicates the subnet, hence all adresses of the form 134.94.\\*.\\* will be allowed. If you use this option, you can directly jump to the point Register your public key.\n",
    "\n",
    "We also show here the slightly more difficult steps to create a from-clause based on reverse DNS lookup.\n",
    "1. Visit the [JuDoor page](https://judoor.fz-juelich.de/login). Prior to this course, you should have visited this page to register and get access to the compute resources. Under the header Systems, find `juwels > Manage SSH-keys` and navigate to it.\n",
    "2. On this page, your IP should be visible. Example: Your current IP address is 37.201.214.241.\n",
    "3. Perform a reverse DNS search of your IP and extract the DNS name (the field Name) associated with your IP. Type into your command line:\n",
    "\n",
    "`nslookup <your-ip>`\n",
    "\n",
    "Example results:\n",
    "Name:    aftr-37-201-214-241.unity-media.net or \\[...\\] name = aftr-37-201-214-241.unity-media.net\n",
    "\n",
    "4.Guess a wildcard pattern that will likely apply for all future connections. For example `*.unity-media.net`"
   ]
  },
  {
   "cell_type": "markdown",
   "id": "0d16eb95-1513-42d5-9c7b-78d96480d199",
   "metadata": {
    "tags": []
   },
   "source": [
    "## Register your public key."
   ]
  },
  {
   "cell_type": "markdown",
   "id": "debc41bb-3860-4479-9196-87b60d283cad",
   "metadata": {},
   "source": [
    "Now, you can register your key pair in JuDoor: Go to the JuDoor page and navigate to `juwels > Manage SSH-keys`.\n",
    "\n",
    "Now, you have two options to add your key to the system:\n",
    "\n",
    "1. Manually entering the SSH key:\n",
    "\n",
    "    1. Create a from-clause from your wildcard expression or current IP and enter it into the field Your public key and options string, but do not confirm yet. \n",
    "    2. Open your public key file ~/.ssh/maelstrom-bootcamp.pub to copy your public key. You can e.g. use less combined with echo to get the file content to the command prompt via `echo $(less ~/.ssh/maelstrom-bootcamp.pub)`\n",
    "    3. Copy the public key into the same field (making sure there is a single space between the from-clause and the contents of the file). \n",
    "    4. Select Start upload of SSH-Keys.\n",
    "\n",
    "2. Uploading the file: \n",
    "\n",
    "    1. In the `Your public key file field`, you can upload the public key previously generated (`~/.ssh/maelstrom-bootcamp.pub`). **Note the file ending .pub!**\n",
    "    2. In the `Additional public key options field`, create a from-clause from your wildcard expression or IP, e.g. `from=\"91.66.91.125\"`.\n",
    "    3. Select `Start upload of SSH-Keys`.\n",
    "\n",
    "After a few minutes, your newly added SSH key should be available. Note that JuDoor writes the file ~/.ssh/authorized_keys in your JUWELS home directory, thus manually added SSH keys will automatically be overwritten.\n",
    "\n",
    "Finally, you can log into JUWELS, using\n",
    "\n",
    "```bash\n",
    "ssh -i ~/.ssh/maelstrom-bootcamp <username>@juwels-booster.fz-juelich.de\n",
    "```\n",
    "*Note*: To connect to Booser, use `<username>@juwels-booster.fz-juelich.de.`\n",
    "\n",
    "If you have created the key pair in ~/.ssh/ it is possible to omit the -i option as ssh will try all keys in your .ssh directory by default. Your username is identical to the username in the JuDoor website, typically lastname1.\n",
    "\n",
    "Alternatively, you can add configuration to your ~/.ssh/config file to simplify the SSH commands. To do so, edit the ~/.ssh/config file with an editor of your choice and add the following entries:\n",
    "\n",
    "```bash\n",
    "Host juwels\n",
    "    HostName juwels.fz-juelich.de\n",
    "    User <username>\n",
    "    Port 22\n",
    "    IdentityFile ~/.ssh/maelstrom-bootcamp\n",
    "\n",
    "Host juwels-booster\n",
    "    HostName juwels-booster.fz-juelich.de\n",
    "    User <username>\n",
    "    Port 22\n",
    "    IdentityFile ~/.ssh/maelstrom-bootcamp\n",
    "```\n",
    "This enables you to connect by simply typing `ssh juwels`/`ssh juwels-booster` in the terminal."
   ]
  },
  {
   "cell_type": "markdown",
   "id": "4aaa0208-2708-4f4a-8366-79818c9543e5",
   "metadata": {},
   "source": [
    "## Tasks\n",
    "Once SSH is up and running, you are ready to perform a few tasks.\n",
    "\n",
    "1. Create a personal directory named like your user in the project folder located in /p/project/training2223/.\n",
    "```bash\n",
    "mkdir /p/project/training2223/${USER}\n",
    "```\n",
    "2. Navigate to the project folder.\n",
    "```bash\n",
    "cd /p/project/training2223/${USER}\n",
    "```\n",
    "3. Clone the [course material](https://gitlab.jsc.fz-juelich.de/esde/training/maelstrom_bootcamp) Git reposity to that folder.\n",
    "```bash\n",
    "git clone git@gitlab.jsc.fz-juelich.de:esde/training/maelstrom_bootcamp.git\n",
    "```"
   ]
  },
  {
   "cell_type": "markdown",
   "id": "50a00853-5fd0-4411-a570-815c2ecb6a33",
   "metadata": {},
   "source": [
    "## Exercise 2: JupyterJSC\n",
    "\n",
    "As an alternative to the terminal, JSC provides access to the system via a platform called JupyterJSC. It is especially designed for use of Jupyter notebooks. It allows you to launch JupyterLabs on the system components of your choice. Under the hood, JupyterJSC also uses Slurm to launch interactive jobs that run a JupyterLab instance and connects you to this instance.\n",
    "\n",
    "1. Go to the [JupyterJSC page](https://jupyter-jsc.fz-juelich.de/hub/home) and log in with your JuDoor username. \n",
    "2. On the top, click `+ New` to configure a new JupyterLab. \n",
    "3. In the popup, give the JupyterLab a meaningful name and leave `Type` unchanged.\n",
    "4. Move to the Options tab and select `Partition > booster`. \n",
    "5. Now, you can move to the `Resources` tab to set the resources you want to request. Pick 1 Node, 1 GPU and a runtime of 120 minutes.\n",
    "6. Click `Start` and wait until your JupyterLab is launched. JupyterJSC will now request your specified resources via Slurm. You can follow the process on the screen.\n",
    "\n",
    "Now, you will see the launch progress of the JupyterLab.\n",
    "\n",
    "Once the JuypterLab is ready, you will be connected to it. On the landing page you will see all applications that are accessible from the JupyerLab.\n",
    "\n",
    "* In the Notebook section, you can launch interactive notebooks, e.g. for Python.\n",
    "* The Console section allows you to launch interactive consoles such as an interactive Python session.\n",
    "* On the bottom, in the Other section, you are able to launch a terminal from which you can interact with the shell of the system, e.g. to browse the file system, move files, or the like.\n",
    "\n",
    "You may have noticed that in the Options tab, by default `Partition > LoginNode` is selected. In fact, JupyterJSC also allows you to launch a JupyterLab on login nodes without any time limit. You can use these to perform regular tasks on the system (e.g. via terminal) or test simple Python routines. But remember: the login nodes are not designed for heavy computations!\n",
    "\n",
    "## Tasks\n",
    "Open a second terminal, ssh to JUWELS and use the command squeue to check the status of your job. Use \n",
    "```bash\n",
    "squeue\n",
    "```\n",
    "to inspect the current status of the queues. Enter\n",
    "```bash\n",
    "squeue -u <username>\n",
    "```\n",
    "to filter out only the lines of `squeue` that contain entries belonging to you user.\n",
    "\n",
    "1. Using `sacct` and `squeue -u $USER` you will see your currently running interactive job that runs your JupyterLab.\n",
    "2. Launch a terminal and figure out where you are located on the file system, e.g. via `ls` and `pwd`. Explore the system storage a bit. Take a look at the following paths:\n",
    "* /p\n",
    "* /p/project and /p/project/training2223/\n",
    "* p/home/jusers and /p/home/jusers/$USER/\n",
    "* p/scratch and /p/scratch/training2223\n",
    "\n",
    "In the top left, navigate to `File > New Launcher` and launch a Python console. Execute a set of commands to write a file to the file system. E.g. print a simple statement.\n",
    "1. Just use a file name to store the file.\n",
    "2. Use the path /p/project/training2223/<user>\n",
    "3. Use the terminal to see where the files were stored.\n",
    "4. **CRUCIAL**: Launch a python notebook with the 'a2_kernel' and `import transformers` as a test. All future exercises are based on this environment so you need to be able to use this kernel.\n",
    "    \n",
    "If you are used to working with jupyter notebooks then the working environment will be very familiar to you. In the following, I list some commands that come in handy when working with notebooks\n",
    "\n",
    "* Starting a line with the `!` symbol will execute the following command in bash, e.g. `!pwd`.\n",
    "* A function, object, ... directly followed by a question mark (don't give any arguments or type parentheses) brings up its docstring, e.g. `list?`\n",
    "* To reset your memory footprint, it may sometimes be useful to restart your jupyterkernel, for this go to `Kernel > Restart Kernel...` and confirm the `restart`. This will reset your whole notebook such that you will have to execute all required code again (including imports)."
   ]
  },
  {
   "cell_type": "code",
   "execution_count": null,
   "id": "52a471d7-4885-4402-8551-db100de29a13",
   "metadata": {},
   "outputs": [],
   "source": []
  }
 ],
 "metadata": {
  "kernelspec": {
   "display_name": "Python 3 (ipykernel)",
   "language": "python",
   "name": "python3"
  },
  "language_info": {
   "codemirror_mode": {
    "name": "ipython",
    "version": 3
   },
   "file_extension": ".py",
   "mimetype": "text/x-python",
   "name": "python",
   "nbconvert_exporter": "python",
   "pygments_lexer": "ipython3",
   "version": "3.10.4"
  }
 },
 "nbformat": 4,
 "nbformat_minor": 5
}
