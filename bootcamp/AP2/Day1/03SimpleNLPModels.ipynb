{
 "cells": [
  {
   "cell_type": "markdown",
   "id": "303811af-ee61-4287-a509-710776905ed6",
   "metadata": {},
   "source": [
    "# Application 2: Simple NLP machine learning models\n",
    "Now, we look at our first models to classify the data into \"raining\" and \"not raining\". A crucial first step in NLP is always to find numerical representations of our words to use them in a machine learning model. We will encounter two different methods here. As our mode, we rely on a \"simple\" [recurrent neural network](https://d2l.ai/chapter_recurrent-neural-networks/index.html) (RNN) here, which relies on a [Long Short-Term memory (LSTM)](https://d2l.ai/chapter_recurrent-modern/lstm.html) layer. The links provided, give a very concise introduction to RNNs in general and popular models. We won't have time to understand them in detail during the course but feel free to explore the linked sites by yourself. The basic idea behind RNNs is that you make predictions depending on a trained hidden state that works as the \"memory\" of the model. "
   ]
  },
  {
   "cell_type": "code",
   "execution_count": 1,
   "id": "beefbcd5-b264-4e1a-b82e-c35fe0db0d23",
   "metadata": {
    "tags": []
   },
   "outputs": [],
   "source": [
    "# allows update of external libraries without need to reload package\n",
    "%load_ext autoreload\n",
    "%autoreload 2"
   ]
  },
  {
   "cell_type": "code",
   "execution_count": 2,
   "id": "b46a7ce6-14bf-4ffd-880f-e458e2faa895",
   "metadata": {
    "tags": []
   },
   "outputs": [
    {
     "name": "stderr",
     "output_type": "stream",
     "text": [
      "2023-11-03 11:37:25.376922: I tensorflow/core/platform/cpu_feature_guard.cc:182] This TensorFlow binary is optimized to use available CPU instructions in performance-critical operations.\n",
      "To enable the following instructions: AVX2 AVX512F FMA, in other operations, rebuild TensorFlow with the appropriate compiler flags.\n",
      "2023-11-03 11:37:26.881596: W tensorflow/compiler/tf2tensorrt/utils/py_utils.cc:38] TF-TRT Warning: Could not find TensorRT\n"
     ]
    }
   ],
   "source": [
    "import pandas as pd\n",
    "import numpy as np\n",
    "import matplotlib.pyplot as plt\n",
    "# import seaborn as sns\n",
    "import sklearn.model_selection\n",
    "import sklearn.preprocessing\n",
    "from keras.models import Model\n",
    "from keras.layers import LSTM, Activation, Dense, Dropout, Input, Embedding\n",
    "from keras.optimizers import RMSprop\n",
    "import keras.preprocessing.text\n",
    "from keras.preprocessing import sequence\n",
    "from keras.utils import pad_sequences\n",
    "from keras.utils import to_categorical\n",
    "from keras.callbacks import EarlyStopping\n",
    "import xarray\n",
    "\n",
    "%matplotlib inline\n",
    "\n",
    "import sys\n",
    "\n",
    "sys.path.append(\"../scripts\")\n",
    "import normalize_text_bootcamp\n",
    "import utils_bootcamp\n",
    "import plotting"
   ]
  },
  {
   "cell_type": "markdown",
   "id": "6fcf8dbc-4758-4f0e-bd0f-c538de7bb5c5",
   "metadata": {},
   "source": [
    "## Exercise 0: Load the data"
   ]
  },
  {
   "cell_type": "code",
   "execution_count": 12,
   "id": "a800325e-962c-48ca-a382-ed6436a93c8a",
   "metadata": {
    "tags": []
   },
   "outputs": [],
   "source": [
    "FOLDER_DATA = \"/p/scratch/deepacf/maelstrom/maelstrom_data/ap2/data/tweets/\"\n",
    "FOLDER_DATA = \"/p/project/training2223/a2/data/tweets/\"\n",
    "FOLDER_DATA = \"/p/project/deepacf/maelstrom/haque1/dataset/\"\n"
   ]
  },
  {
   "cell_type": "code",
   "execution_count": 15,
   "id": "c7d96446-b8d2-4ec9-86fa-9d1c48f476d7",
   "metadata": {
    "tags": []
   },
   "outputs": [],
   "source": [
    "FOLDER_TWEET = FOLDER_DATA + \"20_percent_2017_2020_tweets_rain_sun_vocab_emojis_locations_bba_Tp_era5_no_bots_normalized_filtered_weather_stations_fix_predicted_simpledeberta_radar.nc\"\n",
    "# define the variable name of the total precipitation in the dataset\n",
    "key_tp = \"tp_h\"\n",
    "ds = xarray.load_dataset(FOLDER_TWEET)"
   ]
  },
  {
   "cell_type": "code",
   "execution_count": 16,
   "id": "77691ff4-0814-4523-8819-7a54689ad1cc",
   "metadata": {
    "tags": []
   },
   "outputs": [
    {
     "data": {
      "text/html": [
       "<div><svg style=\"position: absolute; width: 0; height: 0; overflow: hidden\">\n",
       "<defs>\n",
       "<symbol id=\"icon-database\" viewBox=\"0 0 32 32\">\n",
       "<path d=\"M16 0c-8.837 0-16 2.239-16 5v4c0 2.761 7.163 5 16 5s16-2.239 16-5v-4c0-2.761-7.163-5-16-5z\"></path>\n",
       "<path d=\"M16 17c-8.837 0-16-2.239-16-5v6c0 2.761 7.163 5 16 5s16-2.239 16-5v-6c0 2.761-7.163 5-16 5z\"></path>\n",
       "<path d=\"M16 26c-8.837 0-16-2.239-16-5v6c0 2.761 7.163 5 16 5s16-2.239 16-5v-6c0 2.761-7.163 5-16 5z\"></path>\n",
       "</symbol>\n",
       "<symbol id=\"icon-file-text2\" viewBox=\"0 0 32 32\">\n",
       "<path d=\"M28.681 7.159c-0.694-0.947-1.662-2.053-2.724-3.116s-2.169-2.030-3.116-2.724c-1.612-1.182-2.393-1.319-2.841-1.319h-15.5c-1.378 0-2.5 1.121-2.5 2.5v27c0 1.378 1.122 2.5 2.5 2.5h23c1.378 0 2.5-1.122 2.5-2.5v-19.5c0-0.448-0.137-1.23-1.319-2.841zM24.543 5.457c0.959 0.959 1.712 1.825 2.268 2.543h-4.811v-4.811c0.718 0.556 1.584 1.309 2.543 2.268zM28 29.5c0 0.271-0.229 0.5-0.5 0.5h-23c-0.271 0-0.5-0.229-0.5-0.5v-27c0-0.271 0.229-0.5 0.5-0.5 0 0 15.499-0 15.5 0v7c0 0.552 0.448 1 1 1h7v19.5z\"></path>\n",
       "<path d=\"M23 26h-14c-0.552 0-1-0.448-1-1s0.448-1 1-1h14c0.552 0 1 0.448 1 1s-0.448 1-1 1z\"></path>\n",
       "<path d=\"M23 22h-14c-0.552 0-1-0.448-1-1s0.448-1 1-1h14c0.552 0 1 0.448 1 1s-0.448 1-1 1z\"></path>\n",
       "<path d=\"M23 18h-14c-0.552 0-1-0.448-1-1s0.448-1 1-1h14c0.552 0 1 0.448 1 1s-0.448 1-1 1z\"></path>\n",
       "</symbol>\n",
       "</defs>\n",
       "</svg>\n",
       "<style>/* CSS stylesheet for displaying xarray objects in jupyterlab.\n",
       " *\n",
       " */\n",
       "\n",
       ":root {\n",
       "  --xr-font-color0: var(--jp-content-font-color0, rgba(0, 0, 0, 1));\n",
       "  --xr-font-color2: var(--jp-content-font-color2, rgba(0, 0, 0, 0.54));\n",
       "  --xr-font-color3: var(--jp-content-font-color3, rgba(0, 0, 0, 0.38));\n",
       "  --xr-border-color: var(--jp-border-color2, #e0e0e0);\n",
       "  --xr-disabled-color: var(--jp-layout-color3, #bdbdbd);\n",
       "  --xr-background-color: var(--jp-layout-color0, white);\n",
       "  --xr-background-color-row-even: var(--jp-layout-color1, white);\n",
       "  --xr-background-color-row-odd: var(--jp-layout-color2, #eeeeee);\n",
       "}\n",
       "\n",
       "html[theme=dark],\n",
       "body[data-theme=dark],\n",
       "body.vscode-dark {\n",
       "  --xr-font-color0: rgba(255, 255, 255, 1);\n",
       "  --xr-font-color2: rgba(255, 255, 255, 0.54);\n",
       "  --xr-font-color3: rgba(255, 255, 255, 0.38);\n",
       "  --xr-border-color: #1F1F1F;\n",
       "  --xr-disabled-color: #515151;\n",
       "  --xr-background-color: #111111;\n",
       "  --xr-background-color-row-even: #111111;\n",
       "  --xr-background-color-row-odd: #313131;\n",
       "}\n",
       "\n",
       ".xr-wrap {\n",
       "  display: block !important;\n",
       "  min-width: 300px;\n",
       "  max-width: 700px;\n",
       "}\n",
       "\n",
       ".xr-text-repr-fallback {\n",
       "  /* fallback to plain text repr when CSS is not injected (untrusted notebook) */\n",
       "  display: none;\n",
       "}\n",
       "\n",
       ".xr-header {\n",
       "  padding-top: 6px;\n",
       "  padding-bottom: 6px;\n",
       "  margin-bottom: 4px;\n",
       "  border-bottom: solid 1px var(--xr-border-color);\n",
       "}\n",
       "\n",
       ".xr-header > div,\n",
       ".xr-header > ul {\n",
       "  display: inline;\n",
       "  margin-top: 0;\n",
       "  margin-bottom: 0;\n",
       "}\n",
       "\n",
       ".xr-obj-type,\n",
       ".xr-array-name {\n",
       "  margin-left: 2px;\n",
       "  margin-right: 10px;\n",
       "}\n",
       "\n",
       ".xr-obj-type {\n",
       "  color: var(--xr-font-color2);\n",
       "}\n",
       "\n",
       ".xr-sections {\n",
       "  padding-left: 0 !important;\n",
       "  display: grid;\n",
       "  grid-template-columns: 150px auto auto 1fr 20px 20px;\n",
       "}\n",
       "\n",
       ".xr-section-item {\n",
       "  display: contents;\n",
       "}\n",
       "\n",
       ".xr-section-item input {\n",
       "  display: none;\n",
       "}\n",
       "\n",
       ".xr-section-item input + label {\n",
       "  color: var(--xr-disabled-color);\n",
       "}\n",
       "\n",
       ".xr-section-item input:enabled + label {\n",
       "  cursor: pointer;\n",
       "  color: var(--xr-font-color2);\n",
       "}\n",
       "\n",
       ".xr-section-item input:enabled + label:hover {\n",
       "  color: var(--xr-font-color0);\n",
       "}\n",
       "\n",
       ".xr-section-summary {\n",
       "  grid-column: 1;\n",
       "  color: var(--xr-font-color2);\n",
       "  font-weight: 500;\n",
       "}\n",
       "\n",
       ".xr-section-summary > span {\n",
       "  display: inline-block;\n",
       "  padding-left: 0.5em;\n",
       "}\n",
       "\n",
       ".xr-section-summary-in:disabled + label {\n",
       "  color: var(--xr-font-color2);\n",
       "}\n",
       "\n",
       ".xr-section-summary-in + label:before {\n",
       "  display: inline-block;\n",
       "  content: '►';\n",
       "  font-size: 11px;\n",
       "  width: 15px;\n",
       "  text-align: center;\n",
       "}\n",
       "\n",
       ".xr-section-summary-in:disabled + label:before {\n",
       "  color: var(--xr-disabled-color);\n",
       "}\n",
       "\n",
       ".xr-section-summary-in:checked + label:before {\n",
       "  content: '▼';\n",
       "}\n",
       "\n",
       ".xr-section-summary-in:checked + label > span {\n",
       "  display: none;\n",
       "}\n",
       "\n",
       ".xr-section-summary,\n",
       ".xr-section-inline-details {\n",
       "  padding-top: 4px;\n",
       "  padding-bottom: 4px;\n",
       "}\n",
       "\n",
       ".xr-section-inline-details {\n",
       "  grid-column: 2 / -1;\n",
       "}\n",
       "\n",
       ".xr-section-details {\n",
       "  display: none;\n",
       "  grid-column: 1 / -1;\n",
       "  margin-bottom: 5px;\n",
       "}\n",
       "\n",
       ".xr-section-summary-in:checked ~ .xr-section-details {\n",
       "  display: contents;\n",
       "}\n",
       "\n",
       ".xr-array-wrap {\n",
       "  grid-column: 1 / -1;\n",
       "  display: grid;\n",
       "  grid-template-columns: 20px auto;\n",
       "}\n",
       "\n",
       ".xr-array-wrap > label {\n",
       "  grid-column: 1;\n",
       "  vertical-align: top;\n",
       "}\n",
       "\n",
       ".xr-preview {\n",
       "  color: var(--xr-font-color3);\n",
       "}\n",
       "\n",
       ".xr-array-preview,\n",
       ".xr-array-data {\n",
       "  padding: 0 5px !important;\n",
       "  grid-column: 2;\n",
       "}\n",
       "\n",
       ".xr-array-data,\n",
       ".xr-array-in:checked ~ .xr-array-preview {\n",
       "  display: none;\n",
       "}\n",
       "\n",
       ".xr-array-in:checked ~ .xr-array-data,\n",
       ".xr-array-preview {\n",
       "  display: inline-block;\n",
       "}\n",
       "\n",
       ".xr-dim-list {\n",
       "  display: inline-block !important;\n",
       "  list-style: none;\n",
       "  padding: 0 !important;\n",
       "  margin: 0;\n",
       "}\n",
       "\n",
       ".xr-dim-list li {\n",
       "  display: inline-block;\n",
       "  padding: 0;\n",
       "  margin: 0;\n",
       "}\n",
       "\n",
       ".xr-dim-list:before {\n",
       "  content: '(';\n",
       "}\n",
       "\n",
       ".xr-dim-list:after {\n",
       "  content: ')';\n",
       "}\n",
       "\n",
       ".xr-dim-list li:not(:last-child):after {\n",
       "  content: ',';\n",
       "  padding-right: 5px;\n",
       "}\n",
       "\n",
       ".xr-has-index {\n",
       "  font-weight: bold;\n",
       "}\n",
       "\n",
       ".xr-var-list,\n",
       ".xr-var-item {\n",
       "  display: contents;\n",
       "}\n",
       "\n",
       ".xr-var-item > div,\n",
       ".xr-var-item label,\n",
       ".xr-var-item > .xr-var-name span {\n",
       "  background-color: var(--xr-background-color-row-even);\n",
       "  margin-bottom: 0;\n",
       "}\n",
       "\n",
       ".xr-var-item > .xr-var-name:hover span {\n",
       "  padding-right: 5px;\n",
       "}\n",
       "\n",
       ".xr-var-list > li:nth-child(odd) > div,\n",
       ".xr-var-list > li:nth-child(odd) > label,\n",
       ".xr-var-list > li:nth-child(odd) > .xr-var-name span {\n",
       "  background-color: var(--xr-background-color-row-odd);\n",
       "}\n",
       "\n",
       ".xr-var-name {\n",
       "  grid-column: 1;\n",
       "}\n",
       "\n",
       ".xr-var-dims {\n",
       "  grid-column: 2;\n",
       "}\n",
       "\n",
       ".xr-var-dtype {\n",
       "  grid-column: 3;\n",
       "  text-align: right;\n",
       "  color: var(--xr-font-color2);\n",
       "}\n",
       "\n",
       ".xr-var-preview {\n",
       "  grid-column: 4;\n",
       "}\n",
       "\n",
       ".xr-index-preview {\n",
       "  grid-column: 2 / 5;\n",
       "  color: var(--xr-font-color2);\n",
       "}\n",
       "\n",
       ".xr-var-name,\n",
       ".xr-var-dims,\n",
       ".xr-var-dtype,\n",
       ".xr-preview,\n",
       ".xr-attrs dt {\n",
       "  white-space: nowrap;\n",
       "  overflow: hidden;\n",
       "  text-overflow: ellipsis;\n",
       "  padding-right: 10px;\n",
       "}\n",
       "\n",
       ".xr-var-name:hover,\n",
       ".xr-var-dims:hover,\n",
       ".xr-var-dtype:hover,\n",
       ".xr-attrs dt:hover {\n",
       "  overflow: visible;\n",
       "  width: auto;\n",
       "  z-index: 1;\n",
       "}\n",
       "\n",
       ".xr-var-attrs,\n",
       ".xr-var-data,\n",
       ".xr-index-data {\n",
       "  display: none;\n",
       "  background-color: var(--xr-background-color) !important;\n",
       "  padding-bottom: 5px !important;\n",
       "}\n",
       "\n",
       ".xr-var-attrs-in:checked ~ .xr-var-attrs,\n",
       ".xr-var-data-in:checked ~ .xr-var-data,\n",
       ".xr-index-data-in:checked ~ .xr-index-data {\n",
       "  display: block;\n",
       "}\n",
       "\n",
       ".xr-var-data > table {\n",
       "  float: right;\n",
       "}\n",
       "\n",
       ".xr-var-name span,\n",
       ".xr-var-data,\n",
       ".xr-index-name div,\n",
       ".xr-index-data,\n",
       ".xr-attrs {\n",
       "  padding-left: 25px !important;\n",
       "}\n",
       "\n",
       ".xr-attrs,\n",
       ".xr-var-attrs,\n",
       ".xr-var-data,\n",
       ".xr-index-data {\n",
       "  grid-column: 1 / -1;\n",
       "}\n",
       "\n",
       "dl.xr-attrs {\n",
       "  padding: 0;\n",
       "  margin: 0;\n",
       "  display: grid;\n",
       "  grid-template-columns: 125px auto;\n",
       "}\n",
       "\n",
       ".xr-attrs dt,\n",
       ".xr-attrs dd {\n",
       "  padding: 0;\n",
       "  margin: 0;\n",
       "  float: left;\n",
       "  padding-right: 10px;\n",
       "  width: auto;\n",
       "}\n",
       "\n",
       ".xr-attrs dt {\n",
       "  font-weight: normal;\n",
       "  grid-column: 1;\n",
       "}\n",
       "\n",
       ".xr-attrs dt:hover span {\n",
       "  display: inline-block;\n",
       "  background: var(--xr-background-color);\n",
       "  padding-right: 10px;\n",
       "}\n",
       "\n",
       ".xr-attrs dd {\n",
       "  grid-column: 2;\n",
       "  white-space: pre-wrap;\n",
       "  word-break: break-all;\n",
       "}\n",
       "\n",
       ".xr-icon-database,\n",
       ".xr-icon-file-text2,\n",
       ".xr-no-icon {\n",
       "  display: inline-block;\n",
       "  vertical-align: middle;\n",
       "  width: 1em;\n",
       "  height: 1.5em !important;\n",
       "  stroke-width: 0;\n",
       "  stroke: currentColor;\n",
       "  fill: currentColor;\n",
       "}\n",
       "</style><pre class='xr-text-repr-fallback'>&lt;xarray.Dataset&gt;\n",
       "Dimensions:                             (index: 121860)\n",
       "Coordinates:\n",
       "  * index                               (index) int64 484051 106155 ... 10039\n",
       "Data variables: (12/58)\n",
       "    text                                (index) object &#x27;As the sun goes down,...\n",
       "    conversation_id                     (index) object &#x27;986671498382454790&#x27; ....\n",
       "    lang                                (index) object &#x27;en&#x27; &#x27;en&#x27; ... &#x27;en&#x27; &#x27;en&#x27;\n",
       "    reply_settings                      (index) object &#x27;everyone&#x27; ... &#x27;everyone&#x27;\n",
       "    source                              (index) object &#x27;Instagram&#x27; ... &#x27;Twitt...\n",
       "    author_id                           (index) object &#x27;20773923&#x27; ... &#x27;210208...\n",
       "    ...                                  ...\n",
       "    x_ngt_rounded                       (index) float64 5.285e+05 ... 2.345e+05\n",
       "    y_ngt_rounded                       (index) float64 1.805e+05 ... 6.545e+05\n",
       "    time_radar                          (index) datetime64[ns] 2018-04-18T18:...\n",
       "    tp_mm_radar                         (index) float64 0.0 0.0 0.0 ... 0.0 0.0\n",
       "    time_radar_int                      (index) int64 1524075900000000000 ......\n",
       "    created_at_rounded_5                (index) datetime64[ns] 2018-04-18T18:...\n",
       "Attributes:\n",
       "    description:  added locationsadded locationsadded locationsadded location...</pre><div class='xr-wrap' style='display:none'><div class='xr-header'><div class='xr-obj-type'>xarray.Dataset</div></div><ul class='xr-sections'><li class='xr-section-item'><input id='section-bffc76ec-9c6d-41c9-8faa-78242b21b278' class='xr-section-summary-in' type='checkbox' disabled ><label for='section-bffc76ec-9c6d-41c9-8faa-78242b21b278' class='xr-section-summary'  title='Expand/collapse section'>Dimensions:</label><div class='xr-section-inline-details'><ul class='xr-dim-list'><li><span class='xr-has-index'>index</span>: 121860</li></ul></div><div class='xr-section-details'></div></li><li class='xr-section-item'><input id='section-a40bd2a9-a24b-404d-a302-8e30cbc111f7' class='xr-section-summary-in' type='checkbox'  checked><label for='section-a40bd2a9-a24b-404d-a302-8e30cbc111f7' class='xr-section-summary' >Coordinates: <span>(1)</span></label><div class='xr-section-inline-details'></div><div class='xr-section-details'><ul class='xr-var-list'><li class='xr-var-item'><div class='xr-var-name'><span class='xr-has-index'>index</span></div><div class='xr-var-dims'>(index)</div><div class='xr-var-dtype'>int64</div><div class='xr-var-preview xr-preview'>484051 106155 ... 968959 10039</div><input id='attrs-02dc9a3e-7c2f-4e90-b070-9e5349a55ed9' class='xr-var-attrs-in' type='checkbox' disabled><label for='attrs-02dc9a3e-7c2f-4e90-b070-9e5349a55ed9' title='Show/Hide attributes'><svg class='icon xr-icon-file-text2'><use xlink:href='#icon-file-text2'></use></svg></label><input id='data-739b80fe-1aff-47e5-ba33-7fa89ce07e2d' class='xr-var-data-in' type='checkbox'><label for='data-739b80fe-1aff-47e5-ba33-7fa89ce07e2d' title='Show/Hide data repr'><svg class='icon xr-icon-database'><use xlink:href='#icon-database'></use></svg></label><div class='xr-var-attrs'><dl class='xr-attrs'></dl></div><div class='xr-var-data'><pre>array([484051, 106155, 676020, ..., 519697, 968959,  10039])</pre></div></li></ul></div></li><li class='xr-section-item'><input id='section-9868160a-891e-4294-8846-61564919dbaa' class='xr-section-summary-in' type='checkbox'  ><label for='section-9868160a-891e-4294-8846-61564919dbaa' class='xr-section-summary' >Data variables: <span>(58)</span></label><div class='xr-section-inline-details'></div><div class='xr-section-details'><ul class='xr-var-list'><li class='xr-var-item'><div class='xr-var-name'><span>text</span></div><div class='xr-var-dims'>(index)</div><div class='xr-var-dtype'>object</div><div class='xr-var-preview xr-preview'>&#x27;As the sun goes down, the colou...</div><input id='attrs-593dca38-9378-4118-86f2-e9319ad21fa0' class='xr-var-attrs-in' type='checkbox' disabled><label for='attrs-593dca38-9378-4118-86f2-e9319ad21fa0' title='Show/Hide attributes'><svg class='icon xr-icon-file-text2'><use xlink:href='#icon-file-text2'></use></svg></label><input id='data-2a61d452-d44d-44cf-8ae9-fd268b1c1882' class='xr-var-data-in' type='checkbox'><label for='data-2a61d452-d44d-44cf-8ae9-fd268b1c1882' title='Show/Hide data repr'><svg class='icon xr-icon-database'><use xlink:href='#icon-database'></use></svg></label><div class='xr-var-attrs'><dl class='xr-attrs'></dl></div><div class='xr-var-data'><pre>array([&#x27;As the sun goes down, the colours and the views change hide_restaurant the_place_for_me_to_hide… https://t.co/jxLTHbgOlO&#x27;,\n",
       "       &quot;As soon as westbrook goes to the bench thunder can&#x27;t so anything&quot;,\n",
       "       &#x27;@NeilMoss7 @HampshireFA I love grassroots football. Where it all begins. Off to watch my son in the rain later this morning ⚽️☔️⚽️☔️@BaddesleyParkFC&#x27;,\n",
       "       ...,\n",
       "       &#x27;Our seal pups are out enjoying the bank holiday sun today but please ensure your pets are well looked after in this heat and that water is available for our wildlife friends @RSPCA_official @RachRSPCA @RSPCA_Frontline https://t.co/1WLnsFzLRY&#x27;,\n",
       "       &quot;@mr_plantgeek So jealous! Help me out: I bought this plant off @bloomboxclub and after three weeks with me it looks pained. I&#x27;ve been watering it twice a week, it&#x27;s in semi sun (as much as NI offers) and my apartment is heated between 15c and 21c. Trying to keep something alive for once. https://t.co/f9pIIJv8dQ&quot;,\n",
       "       &quot;Cannot wait to get my first full time wage, dreaming of what I&#x27;ll spend it on. Can&#x27;t come quick enough 🌸🌞✈️🛍💗&quot;],\n",
       "      dtype=object)</pre></div></li><li class='xr-var-item'><div class='xr-var-name'><span>conversation_id</span></div><div class='xr-var-dims'>(index)</div><div class='xr-var-dtype'>object</div><div class='xr-var-preview xr-preview'>&#x27;986671498382454790&#x27; ... &#x27;819591...</div><input id='attrs-19007bdb-c821-42bc-95fd-42b464543889' class='xr-var-attrs-in' type='checkbox' disabled><label for='attrs-19007bdb-c821-42bc-95fd-42b464543889' title='Show/Hide attributes'><svg class='icon xr-icon-file-text2'><use xlink:href='#icon-file-text2'></use></svg></label><input id='data-d0e1c526-3191-4d92-b350-8566b3546549' class='xr-var-data-in' type='checkbox'><label for='data-d0e1c526-3191-4d92-b350-8566b3546549' title='Show/Hide data repr'><svg class='icon xr-icon-database'><use xlink:href='#icon-database'></use></svg></label><div class='xr-var-attrs'><dl class='xr-attrs'></dl></div><div class='xr-var-data'><pre>array([&#x27;986671498382454790&#x27;, &#x27;856259656100007937&#x27;, &#x27;1051382096290373632&#x27;,\n",
       "       ..., &#x27;993501771157917696&#x27;, &#x27;1203202883920908288&#x27;,\n",
       "       &#x27;819591039208005634&#x27;], dtype=object)</pre></div></li><li class='xr-var-item'><div class='xr-var-name'><span>lang</span></div><div class='xr-var-dims'>(index)</div><div class='xr-var-dtype'>object</div><div class='xr-var-preview xr-preview'>&#x27;en&#x27; &#x27;en&#x27; &#x27;en&#x27; ... &#x27;en&#x27; &#x27;en&#x27; &#x27;en&#x27;</div><input id='attrs-b92f97d5-31f6-4bde-b161-112802040efd' class='xr-var-attrs-in' type='checkbox' disabled><label for='attrs-b92f97d5-31f6-4bde-b161-112802040efd' title='Show/Hide attributes'><svg class='icon xr-icon-file-text2'><use xlink:href='#icon-file-text2'></use></svg></label><input id='data-f9837145-ca73-45ad-9fab-1f411bb7c6c9' class='xr-var-data-in' type='checkbox'><label for='data-f9837145-ca73-45ad-9fab-1f411bb7c6c9' title='Show/Hide data repr'><svg class='icon xr-icon-database'><use xlink:href='#icon-database'></use></svg></label><div class='xr-var-attrs'><dl class='xr-attrs'></dl></div><div class='xr-var-data'><pre>array([&#x27;en&#x27;, &#x27;en&#x27;, &#x27;en&#x27;, ..., &#x27;en&#x27;, &#x27;en&#x27;, &#x27;en&#x27;], dtype=object)</pre></div></li><li class='xr-var-item'><div class='xr-var-name'><span>reply_settings</span></div><div class='xr-var-dims'>(index)</div><div class='xr-var-dtype'>object</div><div class='xr-var-preview xr-preview'>&#x27;everyone&#x27; ... &#x27;everyone&#x27;</div><input id='attrs-b6b474fd-a712-4890-8f59-ecad335f04dc' class='xr-var-attrs-in' type='checkbox' disabled><label for='attrs-b6b474fd-a712-4890-8f59-ecad335f04dc' title='Show/Hide attributes'><svg class='icon xr-icon-file-text2'><use xlink:href='#icon-file-text2'></use></svg></label><input id='data-e65c6e15-8e5d-47d8-a675-808887fc87ab' class='xr-var-data-in' type='checkbox'><label for='data-e65c6e15-8e5d-47d8-a675-808887fc87ab' title='Show/Hide data repr'><svg class='icon xr-icon-database'><use xlink:href='#icon-database'></use></svg></label><div class='xr-var-attrs'><dl class='xr-attrs'></dl></div><div class='xr-var-data'><pre>array([&#x27;everyone&#x27;, &#x27;everyone&#x27;, &#x27;everyone&#x27;, ..., &#x27;everyone&#x27;, &#x27;everyone&#x27;,\n",
       "       &#x27;everyone&#x27;], dtype=object)</pre></div></li><li class='xr-var-item'><div class='xr-var-name'><span>source</span></div><div class='xr-var-dims'>(index)</div><div class='xr-var-dtype'>object</div><div class='xr-var-preview xr-preview'>&#x27;Instagram&#x27; ... &#x27;Twitter for iPh...</div><input id='attrs-b4f500cc-56a3-4a62-adfc-c553f088f359' class='xr-var-attrs-in' type='checkbox' disabled><label for='attrs-b4f500cc-56a3-4a62-adfc-c553f088f359' title='Show/Hide attributes'><svg class='icon xr-icon-file-text2'><use xlink:href='#icon-file-text2'></use></svg></label><input id='data-32697f22-e4e6-404c-843f-16b67cb6f7a0' class='xr-var-data-in' type='checkbox'><label for='data-32697f22-e4e6-404c-843f-16b67cb6f7a0' title='Show/Hide data repr'><svg class='icon xr-icon-database'><use xlink:href='#icon-database'></use></svg></label><div class='xr-var-attrs'><dl class='xr-attrs'></dl></div><div class='xr-var-data'><pre>array([&#x27;Instagram&#x27;, &#x27;Twitter for Android&#x27;, &#x27;Twitter for iPhone&#x27;, ...,\n",
       "       &#x27;Twitter for Android&#x27;, &#x27;Twitter for Android&#x27;, &#x27;Twitter for iPhone&#x27;],\n",
       "      dtype=object)</pre></div></li><li class='xr-var-item'><div class='xr-var-name'><span>author_id</span></div><div class='xr-var-dims'>(index)</div><div class='xr-var-dtype'>object</div><div class='xr-var-preview xr-preview'>&#x27;20773923&#x27; ... &#x27;210208254&#x27;</div><input id='attrs-67db1506-7cd1-446c-aca7-767628befa7d' class='xr-var-attrs-in' type='checkbox' disabled><label for='attrs-67db1506-7cd1-446c-aca7-767628befa7d' title='Show/Hide attributes'><svg class='icon xr-icon-file-text2'><use xlink:href='#icon-file-text2'></use></svg></label><input id='data-3e392a58-fd7a-4cca-ade6-daaa3fcf42be' class='xr-var-data-in' type='checkbox'><label for='data-3e392a58-fd7a-4cca-ade6-daaa3fcf42be' title='Show/Hide data repr'><svg class='icon xr-icon-database'><use xlink:href='#icon-database'></use></svg></label><div class='xr-var-attrs'><dl class='xr-attrs'></dl></div><div class='xr-var-data'><pre>array([&#x27;20773923&#x27;, &#x27;342272708&#x27;, &#x27;20630973&#x27;, ..., &#x27;252575891&#x27;, &#x27;41332576&#x27;,\n",
       "       &#x27;210208254&#x27;], dtype=object)</pre></div></li><li class='xr-var-item'><div class='xr-var-name'><span>created_at</span></div><div class='xr-var-dims'>(index)</div><div class='xr-var-dtype'>datetime64[ns]</div><div class='xr-var-preview xr-preview'>2018-04-18T18:23:11 ... 2017-01-...</div><input id='attrs-cf695406-004c-4b80-8536-66f5dd93135a' class='xr-var-attrs-in' type='checkbox' disabled><label for='attrs-cf695406-004c-4b80-8536-66f5dd93135a' title='Show/Hide attributes'><svg class='icon xr-icon-file-text2'><use xlink:href='#icon-file-text2'></use></svg></label><input id='data-2c610ae7-6877-4608-b577-4e79a52e6415' class='xr-var-data-in' type='checkbox'><label for='data-2c610ae7-6877-4608-b577-4e79a52e6415' title='Show/Hide data repr'><svg class='icon xr-icon-database'><use xlink:href='#icon-database'></use></svg></label><div class='xr-var-attrs'><dl class='xr-attrs'></dl></div><div class='xr-var-data'><pre>array([&#x27;2018-04-18T18:23:11.000000000&#x27;, &#x27;2017-04-23T21:33:05.000000000&#x27;,\n",
       "       &#x27;2018-10-14T09:01:09.000000000&#x27;, ...,\n",
       "       &#x27;2018-05-07T14:44:15.000000000&#x27;, &#x27;2019-12-08T14:47:14.000000000&#x27;,\n",
       "       &#x27;2017-01-12T17:05:05.000000000&#x27;], dtype=&#x27;datetime64[ns]&#x27;)</pre></div></li><li class='xr-var-item'><div class='xr-var-name'><span>id</span></div><div class='xr-var-dims'>(index)</div><div class='xr-var-dtype'>object</div><div class='xr-var-preview xr-preview'>&#x27;986671498382454790&#x27; ... &#x27;819591...</div><input id='attrs-e9f6a3ee-a3bb-4768-a828-310303181c23' class='xr-var-attrs-in' type='checkbox' disabled><label for='attrs-e9f6a3ee-a3bb-4768-a828-310303181c23' title='Show/Hide attributes'><svg class='icon xr-icon-file-text2'><use xlink:href='#icon-file-text2'></use></svg></label><input id='data-367900c4-e404-4967-b4e4-dc6a236397ae' class='xr-var-data-in' type='checkbox'><label for='data-367900c4-e404-4967-b4e4-dc6a236397ae' title='Show/Hide data repr'><svg class='icon xr-icon-database'><use xlink:href='#icon-database'></use></svg></label><div class='xr-var-attrs'><dl class='xr-attrs'></dl></div><div class='xr-var-data'><pre>array([&#x27;986671498382454790&#x27;, &#x27;856259656100007937&#x27;, &#x27;1051397487595069440&#x27;,\n",
       "       ..., &#x27;993501771157917696&#x27;, &#x27;1203687485412454400&#x27;,\n",
       "       &#x27;819591039208005634&#x27;], dtype=object)</pre></div></li><li class='xr-var-item'><div class='xr-var-name'><span>geo.place_id</span></div><div class='xr-var-dims'>(index)</div><div class='xr-var-dtype'>object</div><div class='xr-var-preview xr-preview'>&#x27;457b4814b4240d87&#x27; ... &#x27;01bef377...</div><input id='attrs-a5dc743f-4641-48c7-ba63-c578778e5778' class='xr-var-attrs-in' type='checkbox' disabled><label for='attrs-a5dc743f-4641-48c7-ba63-c578778e5778' title='Show/Hide attributes'><svg class='icon xr-icon-file-text2'><use xlink:href='#icon-file-text2'></use></svg></label><input id='data-9fc3c5b9-c4c9-43e5-911e-6f06763811ad' class='xr-var-data-in' type='checkbox'><label for='data-9fc3c5b9-c4c9-43e5-911e-6f06763811ad' title='Show/Hide data repr'><svg class='icon xr-icon-database'><use xlink:href='#icon-database'></use></svg></label><div class='xr-var-attrs'><dl class='xr-attrs'></dl></div><div class='xr-var-data'><pre>array([&#x27;457b4814b4240d87&#x27;, &#x27;5d8158aac6d0a0f6&#x27;, &#x27;6aa8c46838e769fb&#x27;, ...,\n",
       "       &#x27;71642a55b62cd78f&#x27;, &#x27;0fe2bebfd3942000&#x27;, &#x27;01bef377ac610380&#x27;],\n",
       "      dtype=object)</pre></div></li><li class='xr-var-item'><div class='xr-var-name'><span>geo.coordinates.type</span></div><div class='xr-var-dims'>(index)</div><div class='xr-var-dtype'>object</div><div class='xr-var-preview xr-preview'>&#x27;Point&#x27; &#x27;&#x27; &#x27;&#x27; &#x27;&#x27; &#x27;&#x27; ... &#x27;&#x27; &#x27;&#x27; &#x27;&#x27; &#x27;&#x27;</div><input id='attrs-41870491-242f-4107-87d2-3ce8b417a8bf' class='xr-var-attrs-in' type='checkbox' disabled><label for='attrs-41870491-242f-4107-87d2-3ce8b417a8bf' title='Show/Hide attributes'><svg class='icon xr-icon-file-text2'><use xlink:href='#icon-file-text2'></use></svg></label><input id='data-9f35ad54-8609-498b-baa9-c326d71fcb54' class='xr-var-data-in' type='checkbox'><label for='data-9f35ad54-8609-498b-baa9-c326d71fcb54' title='Show/Hide data repr'><svg class='icon xr-icon-database'><use xlink:href='#icon-database'></use></svg></label><div class='xr-var-attrs'><dl class='xr-attrs'></dl></div><div class='xr-var-data'><pre>array([&#x27;Point&#x27;, &#x27;&#x27;, &#x27;&#x27;, ..., &#x27;&#x27;, &#x27;&#x27;, &#x27;&#x27;], dtype=object)</pre></div></li><li class='xr-var-item'><div class='xr-var-name'><span>geo.coordinates.coordinates</span></div><div class='xr-var-dims'>(index)</div><div class='xr-var-dtype'>object</div><div class='xr-var-preview xr-preview'>&#x27;[-0.1443377, 51.5061521]&#x27; ... &#x27;...</div><input id='attrs-f6d79455-b56a-47c0-9f56-640b13a2124b' class='xr-var-attrs-in' type='checkbox' disabled><label for='attrs-f6d79455-b56a-47c0-9f56-640b13a2124b' title='Show/Hide attributes'><svg class='icon xr-icon-file-text2'><use xlink:href='#icon-file-text2'></use></svg></label><input id='data-0ec8df4f-a457-4727-a66d-e4f3bfc8c23c' class='xr-var-data-in' type='checkbox'><label for='data-0ec8df4f-a457-4727-a66d-e4f3bfc8c23c' title='Show/Hide data repr'><svg class='icon xr-icon-database'><use xlink:href='#icon-database'></use></svg></label><div class='xr-var-attrs'><dl class='xr-attrs'></dl></div><div class='xr-var-data'><pre>array([&#x27;[-0.1443377, 51.5061521]&#x27;, &#x27;nan&#x27;, &#x27;nan&#x27;, ..., &#x27;nan&#x27;, &#x27;nan&#x27;, &#x27;nan&#x27;],\n",
       "      dtype=object)</pre></div></li><li class='xr-var-item'><div class='xr-var-name'><span>public_metrics.retweet_count</span></div><div class='xr-var-dims'>(index)</div><div class='xr-var-dtype'>float64</div><div class='xr-var-preview xr-preview'>0.0 0.0 1.0 0.0 ... 21.0 0.0 0.0</div><input id='attrs-23c56948-d2df-4072-8fe4-27806fe6e144' class='xr-var-attrs-in' type='checkbox' disabled><label for='attrs-23c56948-d2df-4072-8fe4-27806fe6e144' title='Show/Hide attributes'><svg class='icon xr-icon-file-text2'><use xlink:href='#icon-file-text2'></use></svg></label><input id='data-2117f330-12c9-4de2-b5f5-391da9ecebc8' class='xr-var-data-in' type='checkbox'><label for='data-2117f330-12c9-4de2-b5f5-391da9ecebc8' title='Show/Hide data repr'><svg class='icon xr-icon-database'><use xlink:href='#icon-database'></use></svg></label><div class='xr-var-attrs'><dl class='xr-attrs'></dl></div><div class='xr-var-data'><pre>array([ 0.,  0.,  1., ..., 21.,  0.,  0.])</pre></div></li><li class='xr-var-item'><div class='xr-var-name'><span>public_metrics.reply_count</span></div><div class='xr-var-dims'>(index)</div><div class='xr-var-dtype'>float64</div><div class='xr-var-preview xr-preview'>0.0 0.0 0.0 0.0 ... 0.0 0.0 0.0 0.0</div><input id='attrs-24f61fb9-0969-480d-8118-8203124c7e9e' class='xr-var-attrs-in' type='checkbox' disabled><label for='attrs-24f61fb9-0969-480d-8118-8203124c7e9e' title='Show/Hide attributes'><svg class='icon xr-icon-file-text2'><use xlink:href='#icon-file-text2'></use></svg></label><input id='data-a3a1117a-9a41-4b13-a1ed-0bc07b7a8ecb' class='xr-var-data-in' type='checkbox'><label for='data-a3a1117a-9a41-4b13-a1ed-0bc07b7a8ecb' title='Show/Hide data repr'><svg class='icon xr-icon-database'><use xlink:href='#icon-database'></use></svg></label><div class='xr-var-attrs'><dl class='xr-attrs'></dl></div><div class='xr-var-data'><pre>array([0., 0., 0., ..., 0., 0., 0.])</pre></div></li><li class='xr-var-item'><div class='xr-var-name'><span>public_metrics.like_count</span></div><div class='xr-var-dims'>(index)</div><div class='xr-var-dtype'>float64</div><div class='xr-var-preview xr-preview'>6.0 0.0 4.0 2.0 ... 54.0 0.0 2.0</div><input id='attrs-665194eb-93f2-4729-8390-3a169590b21f' class='xr-var-attrs-in' type='checkbox' disabled><label for='attrs-665194eb-93f2-4729-8390-3a169590b21f' title='Show/Hide attributes'><svg class='icon xr-icon-file-text2'><use xlink:href='#icon-file-text2'></use></svg></label><input id='data-7ec83aa7-f7ee-42b5-820a-9daa2c80ca1f' class='xr-var-data-in' type='checkbox'><label for='data-7ec83aa7-f7ee-42b5-820a-9daa2c80ca1f' title='Show/Hide data repr'><svg class='icon xr-icon-database'><use xlink:href='#icon-database'></use></svg></label><div class='xr-var-attrs'><dl class='xr-attrs'></dl></div><div class='xr-var-data'><pre>array([ 6.,  0.,  4., ..., 54.,  0.,  2.])</pre></div></li><li class='xr-var-item'><div class='xr-var-name'><span>public_metrics.quote_count</span></div><div class='xr-var-dims'>(index)</div><div class='xr-var-dtype'>float64</div><div class='xr-var-preview xr-preview'>0.0 0.0 0.0 0.0 ... 2.0 0.0 0.0 0.0</div><input id='attrs-6ff92c23-1efe-49cd-9ea6-65ccb32fa436' class='xr-var-attrs-in' type='checkbox' disabled><label for='attrs-6ff92c23-1efe-49cd-9ea6-65ccb32fa436' title='Show/Hide attributes'><svg class='icon xr-icon-file-text2'><use xlink:href='#icon-file-text2'></use></svg></label><input id='data-63b33955-c884-4f83-8d3e-be51b3e4c337' class='xr-var-data-in' type='checkbox'><label for='data-63b33955-c884-4f83-8d3e-be51b3e4c337' title='Show/Hide data repr'><svg class='icon xr-icon-database'><use xlink:href='#icon-database'></use></svg></label><div class='xr-var-attrs'><dl class='xr-attrs'></dl></div><div class='xr-var-data'><pre>array([0., 0., 0., ..., 0., 0., 0.])</pre></div></li><li class='xr-var-item'><div class='xr-var-name'><span>referenced_tweets</span></div><div class='xr-var-dims'>(index)</div><div class='xr-var-dtype'>object</div><div class='xr-var-preview xr-preview'>&#x27;nan&#x27; &#x27;nan&#x27; ... &#x27;nan&#x27;</div><input id='attrs-72ac74ff-ba2a-43f6-bcc4-e00b36b7d003' class='xr-var-attrs-in' type='checkbox' disabled><label for='attrs-72ac74ff-ba2a-43f6-bcc4-e00b36b7d003' title='Show/Hide attributes'><svg class='icon xr-icon-file-text2'><use xlink:href='#icon-file-text2'></use></svg></label><input id='data-d7708a63-c93d-4267-a854-cd3aa3749ae0' class='xr-var-data-in' type='checkbox'><label for='data-d7708a63-c93d-4267-a854-cd3aa3749ae0' title='Show/Hide data repr'><svg class='icon xr-icon-database'><use xlink:href='#icon-database'></use></svg></label><div class='xr-var-attrs'><dl class='xr-attrs'></dl></div><div class='xr-var-data'><pre>array([&#x27;nan&#x27;, &#x27;nan&#x27;,\n",
       "       &quot;[{&#x27;type&#x27;: &#x27;replied_to&#x27;, &#x27;id&#x27;: &#x27;1051382096290373632&#x27;}]&quot;, ...,\n",
       "       &#x27;nan&#x27;, &quot;[{&#x27;type&#x27;: &#x27;replied_to&#x27;, &#x27;id&#x27;: &#x27;1203686031456784385&#x27;}]&quot;,\n",
       "       &#x27;nan&#x27;], dtype=object)</pre></div></li><li class='xr-var-item'><div class='xr-var-name'><span>in_reply_to_user_id</span></div><div class='xr-var-dims'>(index)</div><div class='xr-var-dtype'>object</div><div class='xr-var-preview xr-preview'>&#x27;&#x27; &#x27;&#x27; ... &#x27;25726206&#x27; &#x27;&#x27;</div><input id='attrs-5da511ce-9687-458c-a79a-8d4e2c308218' class='xr-var-attrs-in' type='checkbox' disabled><label for='attrs-5da511ce-9687-458c-a79a-8d4e2c308218' title='Show/Hide attributes'><svg class='icon xr-icon-file-text2'><use xlink:href='#icon-file-text2'></use></svg></label><input id='data-2c98e82c-031a-4f2b-a837-1f4afc1c2cfd' class='xr-var-data-in' type='checkbox'><label for='data-2c98e82c-031a-4f2b-a837-1f4afc1c2cfd' title='Show/Hide data repr'><svg class='icon xr-icon-database'><use xlink:href='#icon-database'></use></svg></label><div class='xr-var-attrs'><dl class='xr-attrs'></dl></div><div class='xr-var-data'><pre>array([&#x27;&#x27;, &#x27;&#x27;, &#x27;3431919213&#x27;, ..., &#x27;&#x27;, &#x27;25726206&#x27;, &#x27;&#x27;], dtype=object)</pre></div></li><li class='xr-var-item'><div class='xr-var-name'><span>withheld.copyright</span></div><div class='xr-var-dims'>(index)</div><div class='xr-var-dtype'>float64</div><div class='xr-var-preview xr-preview'>nan nan nan nan ... nan nan nan nan</div><input id='attrs-01e283cc-a151-4db0-96da-1547118c19ca' class='xr-var-attrs-in' type='checkbox' disabled><label for='attrs-01e283cc-a151-4db0-96da-1547118c19ca' title='Show/Hide attributes'><svg class='icon xr-icon-file-text2'><use xlink:href='#icon-file-text2'></use></svg></label><input id='data-11fe13c0-df0b-4a65-81c4-e66001327505' class='xr-var-data-in' type='checkbox'><label for='data-11fe13c0-df0b-4a65-81c4-e66001327505' title='Show/Hide data repr'><svg class='icon xr-icon-database'><use xlink:href='#icon-database'></use></svg></label><div class='xr-var-attrs'><dl class='xr-attrs'></dl></div><div class='xr-var-data'><pre>array([nan, nan, nan, ..., nan, nan, nan])</pre></div></li><li class='xr-var-item'><div class='xr-var-name'><span>withheld.country_codes</span></div><div class='xr-var-dims'>(index)</div><div class='xr-var-dtype'>object</div><div class='xr-var-preview xr-preview'>&#x27;nan&#x27; &#x27;nan&#x27; &#x27;nan&#x27; ... &#x27;nan&#x27; &#x27;nan&#x27;</div><input id='attrs-1c83b3fa-51e9-49fc-988d-d5790ac71d93' class='xr-var-attrs-in' type='checkbox' disabled><label for='attrs-1c83b3fa-51e9-49fc-988d-d5790ac71d93' title='Show/Hide attributes'><svg class='icon xr-icon-file-text2'><use xlink:href='#icon-file-text2'></use></svg></label><input id='data-7487c952-4bbc-4ee5-aeea-34554db89c17' class='xr-var-data-in' type='checkbox'><label for='data-7487c952-4bbc-4ee5-aeea-34554db89c17' title='Show/Hide data repr'><svg class='icon xr-icon-database'><use xlink:href='#icon-database'></use></svg></label><div class='xr-var-attrs'><dl class='xr-attrs'></dl></div><div class='xr-var-data'><pre>array([&#x27;nan&#x27;, &#x27;nan&#x27;, &#x27;nan&#x27;, ..., &#x27;nan&#x27;, &#x27;nan&#x27;, &#x27;nan&#x27;], dtype=object)</pre></div></li><li class='xr-var-item'><div class='xr-var-name'><span>withheld.scope</span></div><div class='xr-var-dims'>(index)</div><div class='xr-var-dtype'>object</div><div class='xr-var-preview xr-preview'>&#x27;&#x27; &#x27;&#x27; &#x27;&#x27; &#x27;&#x27; &#x27;&#x27; ... &#x27;&#x27; &#x27;&#x27; &#x27;&#x27; &#x27;&#x27; &#x27;&#x27;</div><input id='attrs-36eac779-6310-4216-81a4-271f7574cd6e' class='xr-var-attrs-in' type='checkbox' disabled><label for='attrs-36eac779-6310-4216-81a4-271f7574cd6e' title='Show/Hide attributes'><svg class='icon xr-icon-file-text2'><use xlink:href='#icon-file-text2'></use></svg></label><input id='data-eac5154a-b59a-4487-9a0b-b1a7ccdedeb3' class='xr-var-data-in' type='checkbox'><label for='data-eac5154a-b59a-4487-9a0b-b1a7ccdedeb3' title='Show/Hide data repr'><svg class='icon xr-icon-database'><use xlink:href='#icon-database'></use></svg></label><div class='xr-var-attrs'><dl class='xr-attrs'></dl></div><div class='xr-var-data'><pre>array([&#x27;&#x27;, &#x27;&#x27;, &#x27;&#x27;, ..., &#x27;&#x27;, &#x27;&#x27;, &#x27;&#x27;], dtype=object)</pre></div></li><li class='xr-var-item'><div class='xr-var-name'><span>coordinates_estimated</span></div><div class='xr-var-dims'>(index)</div><div class='xr-var-dtype'>float64</div><div class='xr-var-preview xr-preview'>0.0 1.0 1.0 1.0 ... 1.0 1.0 1.0 1.0</div><input id='attrs-22c15e51-a1ec-4078-91f7-74488e4d20d6' class='xr-var-attrs-in' type='checkbox' disabled><label for='attrs-22c15e51-a1ec-4078-91f7-74488e4d20d6' title='Show/Hide attributes'><svg class='icon xr-icon-file-text2'><use xlink:href='#icon-file-text2'></use></svg></label><input id='data-a5302e5b-76cc-4a32-a7ef-643362886a15' class='xr-var-data-in' type='checkbox'><label for='data-a5302e5b-76cc-4a32-a7ef-643362886a15' title='Show/Hide data repr'><svg class='icon xr-icon-database'><use xlink:href='#icon-database'></use></svg></label><div class='xr-var-attrs'><dl class='xr-attrs'></dl></div><div class='xr-var-data'><pre>array([0., 1., 1., ..., 1., 1., 1.])</pre></div></li><li class='xr-var-item'><div class='xr-var-name'><span>centroid</span></div><div class='xr-var-dims'>(index)</div><div class='xr-var-dtype'>object</div><div class='xr-var-preview xr-preview'>&#x27;&#x27; ... &#x27;[-4.633736911623814, 55....</div><input id='attrs-fe2a11a1-8639-400e-8cbf-4c9449871acd' class='xr-var-attrs-in' type='checkbox' disabled><label for='attrs-fe2a11a1-8639-400e-8cbf-4c9449871acd' title='Show/Hide attributes'><svg class='icon xr-icon-file-text2'><use xlink:href='#icon-file-text2'></use></svg></label><input id='data-7c7c3f7a-8914-4b11-8a4b-aec84418cec4' class='xr-var-data-in' type='checkbox'><label for='data-7c7c3f7a-8914-4b11-8a4b-aec84418cec4' title='Show/Hide data repr'><svg class='icon xr-icon-database'><use xlink:href='#icon-database'></use></svg></label><div class='xr-var-attrs'><dl class='xr-attrs'></dl></div><div class='xr-var-data'><pre>array([&#x27;&#x27;, &#x27;[-0.23426243801250102, 51.7540535]&#x27;,\n",
       "       &#x27;[-1.3736035784114051, 50.9736985]&#x27;, ...,\n",
       "       &#x27;[-2.240562583063155, 53.323619]&#x27;,\n",
       "       &#x27;[-5.93495374135, 54.59914455135673]&#x27;,\n",
       "       &#x27;[-4.633736911623814, 55.751466]&#x27;], dtype=object)</pre></div></li><li class='xr-var-item'><div class='xr-var-name'><span>place_type</span></div><div class='xr-var-dims'>(index)</div><div class='xr-var-dtype'>object</div><div class='xr-var-preview xr-preview'>&#x27;&#x27; &#x27;city&#x27; &#x27;city&#x27; ... &#x27;poi&#x27; &#x27;city&#x27;</div><input id='attrs-0ed1f205-1265-438a-bd86-5f8c527800f8' class='xr-var-attrs-in' type='checkbox' disabled><label for='attrs-0ed1f205-1265-438a-bd86-5f8c527800f8' title='Show/Hide attributes'><svg class='icon xr-icon-file-text2'><use xlink:href='#icon-file-text2'></use></svg></label><input id='data-68a1d5a3-4b86-47b4-8ad9-7b889e2af890' class='xr-var-data-in' type='checkbox'><label for='data-68a1d5a3-4b86-47b4-8ad9-7b889e2af890' title='Show/Hide data repr'><svg class='icon xr-icon-database'><use xlink:href='#icon-database'></use></svg></label><div class='xr-var-attrs'><dl class='xr-attrs'></dl></div><div class='xr-var-data'><pre>array([&#x27;&#x27;, &#x27;city&#x27;, &#x27;city&#x27;, ..., &#x27;city&#x27;, &#x27;poi&#x27;, &#x27;city&#x27;], dtype=object)</pre></div></li><li class='xr-var-item'><div class='xr-var-name'><span>bounding_box</span></div><div class='xr-var-dims'>(index)</div><div class='xr-var-dtype'>object</div><div class='xr-var-preview xr-preview'>&#x27;nan&#x27; ... &quot;{&#x27;type&#x27;: &#x27;Polygon&#x27;, &#x27;...</div><input id='attrs-4b54c5b4-c41a-4610-b52d-c58c7e3c5de3' class='xr-var-attrs-in' type='checkbox' disabled><label for='attrs-4b54c5b4-c41a-4610-b52d-c58c7e3c5de3' title='Show/Hide attributes'><svg class='icon xr-icon-file-text2'><use xlink:href='#icon-file-text2'></use></svg></label><input id='data-774fdc35-4079-4136-b73c-dd09d7ad3520' class='xr-var-data-in' type='checkbox'><label for='data-774fdc35-4079-4136-b73c-dd09d7ad3520' title='Show/Hide data repr'><svg class='icon xr-icon-database'><use xlink:href='#icon-database'></use></svg></label><div class='xr-var-attrs'><dl class='xr-attrs'></dl></div><div class='xr-var-data'><pre>array([&#x27;nan&#x27;,\n",
       "       &quot;{&#x27;type&#x27;: &#x27;Polygon&#x27;, &#x27;coordinates&#x27;: [[[-0.25981000000000004, 51.728695], [-0.25981000000000004, 51.7794228], [-0.2016673, 51.7794228], [-0.2016673, 51.728695], [-0.25981000000000004, 51.728695]]]}&quot;,\n",
       "       &quot;{&#x27;type&#x27;: &#x27;Polygon&#x27;, &#x27;coordinates&#x27;: [[[-1.4137315, 50.9429358], [-1.4137315, 51.004389], [-1.334973, 51.004389], [-1.334973, 50.9429358], [-1.4137315, 50.9429358]]]}&quot;,\n",
       "       ...,\n",
       "       &quot;{&#x27;type&#x27;: &#x27;Polygon&#x27;, &#x27;coordinates&#x27;: [[[-2.2716979999999998, 53.287785], [-2.2716979999999998, 53.3594343], [-2.195941, 53.3594343], [-2.195941, 53.287785], [-2.2716979999999998, 53.287785]]]}&quot;,\n",
       "       &quot;{&#x27;type&#x27;: &#x27;Polygon&#x27;, &#x27;coordinates&#x27;: [[[-5.93495374135, 54.59914455135673], [-5.93495374135, 54.59914455135673], [-5.93495374135, 54.59914455135673], [-5.93495374135, 54.59914455135673], [-5.93495374135, 54.59914455135673]]]}&quot;,\n",
       "       &quot;{&#x27;type&#x27;: &#x27;Polygon&#x27;, &#x27;coordinates&#x27;: [[[-4.646317, 55.742622], [-4.646317, 55.760309], [-4.624854, 55.760309], [-4.624854, 55.742622], [-4.646317, 55.742622]]]}&quot;],\n",
       "      dtype=object)</pre></div></li><li class='xr-var-item'><div class='xr-var-name'><span>full_name</span></div><div class='xr-var-dims'>(index)</div><div class='xr-var-dtype'>object</div><div class='xr-var-preview xr-preview'>&#x27;&#x27; ... &#x27;Beith, Scotland&#x27;</div><input id='attrs-1cfaef26-0a9c-4f5e-93e8-17458f583cf3' class='xr-var-attrs-in' type='checkbox' disabled><label for='attrs-1cfaef26-0a9c-4f5e-93e8-17458f583cf3' title='Show/Hide attributes'><svg class='icon xr-icon-file-text2'><use xlink:href='#icon-file-text2'></use></svg></label><input id='data-396a6926-df59-4838-b21e-3f32a671b6a6' class='xr-var-data-in' type='checkbox'><label for='data-396a6926-df59-4838-b21e-3f32a671b6a6' title='Show/Hide data repr'><svg class='icon xr-icon-database'><use xlink:href='#icon-database'></use></svg></label><div class='xr-var-attrs'><dl class='xr-attrs'></dl></div><div class='xr-var-data'><pre>array([&#x27;&#x27;, &#x27;Hatfield, East&#x27;, &#x27;Eastleigh, England&#x27;, ...,\n",
       "       &#x27;Wilmslow, England&#x27;, &#x27;Ibis Hotel Belfast City Centre&#x27;,\n",
       "       &#x27;Beith, Scotland&#x27;], dtype=object)</pre></div></li><li class='xr-var-item'><div class='xr-var-name'><span>bounding_box_area</span></div><div class='xr-var-dims'>(index)</div><div class='xr-var-dtype'>float64</div><div class='xr-var-preview xr-preview'>-1.0 22.66 37.82 ... 0.0 2.654</div><input id='attrs-d5205467-04ac-4d43-b3eb-adfb2ed883a8' class='xr-var-attrs-in' type='checkbox' disabled><label for='attrs-d5205467-04ac-4d43-b3eb-adfb2ed883a8' title='Show/Hide attributes'><svg class='icon xr-icon-file-text2'><use xlink:href='#icon-file-text2'></use></svg></label><input id='data-0c405f82-a3e7-483a-9c06-3108dfbe5b7b' class='xr-var-data-in' type='checkbox'><label for='data-0c405f82-a3e7-483a-9c06-3108dfbe5b7b' title='Show/Hide data repr'><svg class='icon xr-icon-database'><use xlink:href='#icon-database'></use></svg></label><div class='xr-var-attrs'><dl class='xr-attrs'></dl></div><div class='xr-var-data'><pre>array([-1.        , 22.66093727, 37.81827021, ..., 40.25287352,\n",
       "        0.        ,  2.65395533])</pre></div></li><li class='xr-var-item'><div class='xr-var-name'><span>centroid_longitude</span></div><div class='xr-var-dims'>(index)</div><div class='xr-var-dtype'>float64</div><div class='xr-var-preview xr-preview'>nan -0.2343 ... -5.935 -4.634</div><input id='attrs-867c9b3d-7eb3-44b3-9929-c584fb186726' class='xr-var-attrs-in' type='checkbox' disabled><label for='attrs-867c9b3d-7eb3-44b3-9929-c584fb186726' title='Show/Hide attributes'><svg class='icon xr-icon-file-text2'><use xlink:href='#icon-file-text2'></use></svg></label><input id='data-4820973e-016a-4c4e-883c-5d9c5a6abf0d' class='xr-var-data-in' type='checkbox'><label for='data-4820973e-016a-4c4e-883c-5d9c5a6abf0d' title='Show/Hide data repr'><svg class='icon xr-icon-database'><use xlink:href='#icon-database'></use></svg></label><div class='xr-var-attrs'><dl class='xr-attrs'></dl></div><div class='xr-var-data'><pre>array([        nan, -0.23426244, -1.37360358, ..., -2.24056258,\n",
       "       -5.93495374, -4.63373691])</pre></div></li><li class='xr-var-item'><div class='xr-var-name'><span>centroid_latitude</span></div><div class='xr-var-dims'>(index)</div><div class='xr-var-dtype'>float64</div><div class='xr-var-preview xr-preview'>nan 51.75 50.97 ... 54.6 55.75</div><input id='attrs-df3401eb-e74e-4040-874d-96d9662c59e1' class='xr-var-attrs-in' type='checkbox' disabled><label for='attrs-df3401eb-e74e-4040-874d-96d9662c59e1' title='Show/Hide attributes'><svg class='icon xr-icon-file-text2'><use xlink:href='#icon-file-text2'></use></svg></label><input id='data-18765830-8e72-4d57-8260-63cf5cc61eb1' class='xr-var-data-in' type='checkbox'><label for='data-18765830-8e72-4d57-8260-63cf5cc61eb1' title='Show/Hide data repr'><svg class='icon xr-icon-database'><use xlink:href='#icon-database'></use></svg></label><div class='xr-var-attrs'><dl class='xr-attrs'></dl></div><div class='xr-var-data'><pre>array([        nan, 51.7540535 , 50.9736985 , ..., 53.323619  ,\n",
       "       54.59914455, 55.751466  ])</pre></div></li><li class='xr-var-item'><div class='xr-var-name'><span>longitude</span></div><div class='xr-var-dims'>(index)</div><div class='xr-var-dtype'>float64</div><div class='xr-var-preview xr-preview'>-0.1443 -0.2343 ... -5.935 -4.634</div><input id='attrs-23f3baf1-eb0f-4d56-836a-77456a9199ce' class='xr-var-attrs-in' type='checkbox' disabled><label for='attrs-23f3baf1-eb0f-4d56-836a-77456a9199ce' title='Show/Hide attributes'><svg class='icon xr-icon-file-text2'><use xlink:href='#icon-file-text2'></use></svg></label><input id='data-3edccb5e-246b-430c-9d6d-855488a34ebe' class='xr-var-data-in' type='checkbox'><label for='data-3edccb5e-246b-430c-9d6d-855488a34ebe' title='Show/Hide data repr'><svg class='icon xr-icon-database'><use xlink:href='#icon-database'></use></svg></label><div class='xr-var-attrs'><dl class='xr-attrs'></dl></div><div class='xr-var-data'><pre>array([-0.1443377 , -0.23426244, -1.37360358, ..., -2.24056258,\n",
       "       -5.93495374, -4.63373691])</pre></div></li><li class='xr-var-item'><div class='xr-var-name'><span>latitude</span></div><div class='xr-var-dims'>(index)</div><div class='xr-var-dtype'>float64</div><div class='xr-var-preview xr-preview'>51.51 51.75 50.97 ... 54.6 55.75</div><input id='attrs-349e60f2-57ed-491a-bfa2-2b1fb64d8279' class='xr-var-attrs-in' type='checkbox' disabled><label for='attrs-349e60f2-57ed-491a-bfa2-2b1fb64d8279' title='Show/Hide attributes'><svg class='icon xr-icon-file-text2'><use xlink:href='#icon-file-text2'></use></svg></label><input id='data-c3ea198d-5394-4ab1-b7b8-63a0c439e4f7' class='xr-var-data-in' type='checkbox'><label for='data-c3ea198d-5394-4ab1-b7b8-63a0c439e4f7' title='Show/Hide data repr'><svg class='icon xr-icon-database'><use xlink:href='#icon-database'></use></svg></label><div class='xr-var-attrs'><dl class='xr-attrs'></dl></div><div class='xr-var-data'><pre>array([51.5061521 , 51.7540535 , 50.9736985 , ..., 53.323619  ,\n",
       "       54.59914455, 55.751466  ])</pre></div></li><li class='xr-var-item'><div class='xr-var-name'><span>latitude_rounded</span></div><div class='xr-var-dims'>(index)</div><div class='xr-var-dtype'>float64</div><div class='xr-var-preview xr-preview'>51.5 51.8 51.0 ... 53.3 54.6 55.8</div><input id='attrs-af398419-4888-42a5-bcc4-0f97f5e388e6' class='xr-var-attrs-in' type='checkbox' disabled><label for='attrs-af398419-4888-42a5-bcc4-0f97f5e388e6' title='Show/Hide attributes'><svg class='icon xr-icon-file-text2'><use xlink:href='#icon-file-text2'></use></svg></label><input id='data-b643b754-fa8e-4a27-afe6-64b0a101de5f' class='xr-var-data-in' type='checkbox'><label for='data-b643b754-fa8e-4a27-afe6-64b0a101de5f' title='Show/Hide data repr'><svg class='icon xr-icon-database'><use xlink:href='#icon-database'></use></svg></label><div class='xr-var-attrs'><dl class='xr-attrs'></dl></div><div class='xr-var-data'><pre>array([51.5, 51.8, 51. , ..., 53.3, 54.6, 55.8])</pre></div></li><li class='xr-var-item'><div class='xr-var-name'><span>longitude_rounded</span></div><div class='xr-var-dims'>(index)</div><div class='xr-var-dtype'>float64</div><div class='xr-var-preview xr-preview'>-0.1 -0.2 -1.4 ... -2.2 -5.9 -4.6</div><input id='attrs-1d618526-bbef-440d-a353-0d1a187afb6d' class='xr-var-attrs-in' type='checkbox' disabled><label for='attrs-1d618526-bbef-440d-a353-0d1a187afb6d' title='Show/Hide attributes'><svg class='icon xr-icon-file-text2'><use xlink:href='#icon-file-text2'></use></svg></label><input id='data-7dbb05a5-9e29-44fe-bd99-731f3f0a5832' class='xr-var-data-in' type='checkbox'><label for='data-7dbb05a5-9e29-44fe-bd99-731f3f0a5832' title='Show/Hide data repr'><svg class='icon xr-icon-database'><use xlink:href='#icon-database'></use></svg></label><div class='xr-var-attrs'><dl class='xr-attrs'></dl></div><div class='xr-var-data'><pre>array([-0.1, -0.2, -1.4, ..., -2.2, -5.9, -4.6])</pre></div></li><li class='xr-var-item'><div class='xr-var-name'><span>created_at_h</span></div><div class='xr-var-dims'>(index)</div><div class='xr-var-dtype'>datetime64[ns]</div><div class='xr-var-preview xr-preview'>2018-04-18T18:00:00 ... 2017-01-...</div><input id='attrs-eae5803d-5756-4d16-a159-0127329ba89c' class='xr-var-attrs-in' type='checkbox' disabled><label for='attrs-eae5803d-5756-4d16-a159-0127329ba89c' title='Show/Hide attributes'><svg class='icon xr-icon-file-text2'><use xlink:href='#icon-file-text2'></use></svg></label><input id='data-8f613c60-6594-4c74-93da-3cb589b733a0' class='xr-var-data-in' type='checkbox'><label for='data-8f613c60-6594-4c74-93da-3cb589b733a0' title='Show/Hide data repr'><svg class='icon xr-icon-database'><use xlink:href='#icon-database'></use></svg></label><div class='xr-var-attrs'><dl class='xr-attrs'></dl></div><div class='xr-var-data'><pre>array([&#x27;2018-04-18T18:00:00.000000000&#x27;, &#x27;2017-04-23T22:00:00.000000000&#x27;,\n",
       "       &#x27;2018-10-14T09:00:00.000000000&#x27;, ...,\n",
       "       &#x27;2018-05-07T15:00:00.000000000&#x27;, &#x27;2019-12-08T15:00:00.000000000&#x27;,\n",
       "       &#x27;2017-01-12T17:00:00.000000000&#x27;], dtype=&#x27;datetime64[ns]&#x27;)</pre></div></li><li class='xr-var-item'><div class='xr-var-name'><span>tp_h</span></div><div class='xr-var-dims'>(index)</div><div class='xr-var-dtype'>float64</div><div class='xr-var-preview xr-preview'>0.0 0.0 ... 9.406e-06 7.056e-06</div><input id='attrs-1320afb3-ff81-4b4a-a616-e227c8e74b7c' class='xr-var-attrs-in' type='checkbox' disabled><label for='attrs-1320afb3-ff81-4b4a-a616-e227c8e74b7c' title='Show/Hide attributes'><svg class='icon xr-icon-file-text2'><use xlink:href='#icon-file-text2'></use></svg></label><input id='data-a23d4726-530b-45ba-be29-8dcb4bf3e14b' class='xr-var-data-in' type='checkbox'><label for='data-a23d4726-530b-45ba-be29-8dcb4bf3e14b' title='Show/Hide data repr'><svg class='icon xr-icon-database'><use xlink:href='#icon-database'></use></svg></label><div class='xr-var-attrs'><dl class='xr-attrs'></dl></div><div class='xr-var-data'><pre>array([0.00000000e+00, 0.00000000e+00, 3.41322459e-03, ...,\n",
       "       0.00000000e+00, 9.40635800e-06, 7.05569983e-06])</pre></div></li><li class='xr-var-item'><div class='xr-var-name'><span>time</span></div><div class='xr-var-dims'>(index)</div><div class='xr-var-dtype'>datetime64[ns]</div><div class='xr-var-preview xr-preview'>2018-04-18T18:23:11 ... 2017-01-...</div><input id='attrs-15c87eed-7055-4c06-86af-9f46ffb3783c' class='xr-var-attrs-in' type='checkbox' disabled><label for='attrs-15c87eed-7055-4c06-86af-9f46ffb3783c' title='Show/Hide attributes'><svg class='icon xr-icon-file-text2'><use xlink:href='#icon-file-text2'></use></svg></label><input id='data-95884fe1-62b4-4917-acea-759f4a4e8a75' class='xr-var-data-in' type='checkbox'><label for='data-95884fe1-62b4-4917-acea-759f4a4e8a75' title='Show/Hide data repr'><svg class='icon xr-icon-database'><use xlink:href='#icon-database'></use></svg></label><div class='xr-var-attrs'><dl class='xr-attrs'></dl></div><div class='xr-var-data'><pre>array([&#x27;2018-04-18T18:23:11.000000000&#x27;, &#x27;2017-04-23T21:33:05.000000000&#x27;,\n",
       "       &#x27;2018-10-14T09:01:09.000000000&#x27;, ...,\n",
       "       &#x27;2018-05-07T14:44:15.000000000&#x27;, &#x27;2019-12-08T14:47:14.000000000&#x27;,\n",
       "       &#x27;2017-01-12T17:05:05.000000000&#x27;], dtype=&#x27;datetime64[ns]&#x27;)</pre></div></li><li class='xr-var-item'><div class='xr-var-name'><span>time_half</span></div><div class='xr-var-dims'>(index)</div><div class='xr-var-dtype'>datetime64[ns]</div><div class='xr-var-preview xr-preview'>2018-04-18T18:30:00 ... 2017-01-...</div><input id='attrs-1d6eaaee-2194-4d93-99f8-15615c7d2e06' class='xr-var-attrs-in' type='checkbox' disabled><label for='attrs-1d6eaaee-2194-4d93-99f8-15615c7d2e06' title='Show/Hide attributes'><svg class='icon xr-icon-file-text2'><use xlink:href='#icon-file-text2'></use></svg></label><input id='data-f42f0fd5-a943-4d80-bb88-8b8a40fabd5f' class='xr-var-data-in' type='checkbox'><label for='data-f42f0fd5-a943-4d80-bb88-8b8a40fabd5f' title='Show/Hide data repr'><svg class='icon xr-icon-database'><use xlink:href='#icon-database'></use></svg></label><div class='xr-var-attrs'><dl class='xr-attrs'></dl></div><div class='xr-var-data'><pre>array([&#x27;2018-04-18T18:30:00.000000000&#x27;, &#x27;2017-04-23T21:30:00.000000000&#x27;,\n",
       "       &#x27;2018-10-14T09:30:00.000000000&#x27;, ...,\n",
       "       &#x27;2018-05-07T14:30:00.000000000&#x27;, &#x27;2019-12-08T14:30:00.000000000&#x27;,\n",
       "       &#x27;2017-01-12T17:30:00.000000000&#x27;], dtype=&#x27;datetime64[ns]&#x27;)</pre></div></li><li class='xr-var-item'><div class='xr-var-name'><span>text_original</span></div><div class='xr-var-dims'>(index)</div><div class='xr-var-dtype'>object</div><div class='xr-var-preview xr-preview'>&#x27;As the sun goes down, the colou...</div><input id='attrs-dca62c41-3025-46ab-9658-b982d9ff81a6' class='xr-var-attrs-in' type='checkbox' disabled><label for='attrs-dca62c41-3025-46ab-9658-b982d9ff81a6' title='Show/Hide attributes'><svg class='icon xr-icon-file-text2'><use xlink:href='#icon-file-text2'></use></svg></label><input id='data-a8eb7d5c-9a50-4e9c-ac07-8bf40763a37c' class='xr-var-data-in' type='checkbox'><label for='data-a8eb7d5c-9a50-4e9c-ac07-8bf40763a37c' title='Show/Hide data repr'><svg class='icon xr-icon-database'><use xlink:href='#icon-database'></use></svg></label><div class='xr-var-attrs'><dl class='xr-attrs'></dl></div><div class='xr-var-data'><pre>array([&#x27;As the sun goes down, the colours and the views change hide_restaurant the_place_for_me_to_hide… https://t.co/jxLTHbgOlO&#x27;,\n",
       "       &quot;As soon as westbrook goes to the bench thunder can&#x27;t so anything&quot;,\n",
       "       &#x27;@NeilMoss7 @HampshireFA I love grassroots football. Where it all begins. Off to watch my son in the rain later this morning ⚽️☔️⚽️☔️@BaddesleyParkFC&#x27;,\n",
       "       ...,\n",
       "       &#x27;Our seal pups are out enjoying the bank holiday sun today but please ensure your pets are well looked after in this heat and that water is available for our wildlife friends @RSPCA_official @RachRSPCA @RSPCA_Frontline https://t.co/1WLnsFzLRY&#x27;,\n",
       "       &quot;@mr_plantgeek So jealous! Help me out: I bought this plant off @bloomboxclub and after three weeks with me it looks pained. I&#x27;ve been watering it twice a week, it&#x27;s in semi sun (as much as NI offers) and my apartment is heated between 15c and 21c. Trying to keep something alive for once. https://t.co/f9pIIJv8dQ&quot;,\n",
       "       &quot;Cannot wait to get my first full time wage, dreaming of what I&#x27;ll spend it on. Can&#x27;t come quick enough 🌸🌞✈️🛍💗&quot;],\n",
       "      dtype=object)</pre></div></li><li class='xr-var-item'><div class='xr-var-name'><span>text_normalized</span></div><div class='xr-var-dims'>(index)</div><div class='xr-var-dtype'>object</div><div class='xr-var-preview xr-preview'>&#x27;As the sun goes down, the colou...</div><input id='attrs-f69b74ea-90c9-412e-9b01-bd224cde585b' class='xr-var-attrs-in' type='checkbox' disabled><label for='attrs-f69b74ea-90c9-412e-9b01-bd224cde585b' title='Show/Hide attributes'><svg class='icon xr-icon-file-text2'><use xlink:href='#icon-file-text2'></use></svg></label><input id='data-88c3fdb1-5009-4e7e-a467-380bb81181cb' class='xr-var-data-in' type='checkbox'><label for='data-88c3fdb1-5009-4e7e-a467-380bb81181cb' title='Show/Hide data repr'><svg class='icon xr-icon-database'><use xlink:href='#icon-database'></use></svg></label><div class='xr-var-attrs'><dl class='xr-attrs'></dl></div><div class='xr-var-data'><pre>array([&#x27;As the sun goes down, the colours and the views change hide restaurant the place for me to hide&#x27;,\n",
       "       &#x27;As soon as westbrook goes to the bench thunder cannot so anything&#x27;,\n",
       "       &#x27;I love grassroots football. Where it all begins. Off to watch my son in the rain later this morning umbrella with rain drops umbrella with rain drops&#x27;,\n",
       "       ...,\n",
       "       &#x27;Our seal pups are out enjoying the bank holiday sun today but please ensure your pets are well looked after in this heat and that water is available for our wildlife friends&#x27;,\n",
       "       &#x27;So jealous Help me out I bought this plant off and after three weeks with me it looks pained. I have been watering it twice a week, it is in semi sun as much as NI offers and my apartment is heated between and Trying to keep something alive for once.&#x27;,\n",
       "       &#x27;Cannot wait to get my first full time wage, dreaming of what I will spend it on. Cannot come quick enough sun with face&#x27;],\n",
       "      dtype=object)</pre></div></li><li class='xr-var-item'><div class='xr-var-name'><span>raining</span></div><div class='xr-var-dims'>(index)</div><div class='xr-var-dtype'>int64</div><div class='xr-var-preview xr-preview'>0 0 1 0 1 0 1 1 ... 1 0 0 1 0 0 1 1</div><input id='attrs-f6786852-2493-40f8-9093-dcbc36b7a811' class='xr-var-attrs-in' type='checkbox' disabled><label for='attrs-f6786852-2493-40f8-9093-dcbc36b7a811' title='Show/Hide attributes'><svg class='icon xr-icon-file-text2'><use xlink:href='#icon-file-text2'></use></svg></label><input id='data-38332e67-6af9-48a1-9b68-d4d473eea11d' class='xr-var-data-in' type='checkbox'><label for='data-38332e67-6af9-48a1-9b68-d4d473eea11d' title='Show/Hide data repr'><svg class='icon xr-icon-database'><use xlink:href='#icon-database'></use></svg></label><div class='xr-var-attrs'><dl class='xr-attrs'></dl></div><div class='xr-var-data'><pre>array([0, 0, 1, ..., 0, 1, 1])</pre></div></li><li class='xr-var-item'><div class='xr-var-name'><span>station_latitude</span></div><div class='xr-var-dims'>(index)</div><div class='xr-var-dtype'>float64</div><div class='xr-var-preview xr-preview'>51.51 51.81 51.15 ... 54.66 55.91</div><input id='attrs-2bcafeec-5323-49fe-a5e1-22d0bc6b7d8d' class='xr-var-attrs-in' type='checkbox' disabled><label for='attrs-2bcafeec-5323-49fe-a5e1-22d0bc6b7d8d' title='Show/Hide attributes'><svg class='icon xr-icon-file-text2'><use xlink:href='#icon-file-text2'></use></svg></label><input id='data-b66d13b5-5190-4ac9-8189-c2679ec9a42b' class='xr-var-data-in' type='checkbox'><label for='data-b66d13b5-5190-4ac9-8189-c2679ec9a42b' title='Show/Hide data repr'><svg class='icon xr-icon-database'><use xlink:href='#icon-database'></use></svg></label><div class='xr-var-attrs'><dl class='xr-attrs'></dl></div><div class='xr-var-data'><pre>array([51.505, 51.807, 51.15 , ..., 53.36 , 54.664, 55.907])</pre></div></li><li class='xr-var-item'><div class='xr-var-name'><span>station_longitude</span></div><div class='xr-var-dims'>(index)</div><div class='xr-var-dtype'>float64</div><div class='xr-var-preview xr-preview'>-0.131 -0.36 ... -6.225 -4.532</div><input id='attrs-974e280d-dd3e-4611-8d77-c3b99bb341fc' class='xr-var-attrs-in' type='checkbox' disabled><label for='attrs-974e280d-dd3e-4611-8d77-c3b99bb341fc' title='Show/Hide attributes'><svg class='icon xr-icon-file-text2'><use xlink:href='#icon-file-text2'></use></svg></label><input id='data-29a48548-20e4-4516-9e2e-5da9559b1609' class='xr-var-data-in' type='checkbox'><label for='data-29a48548-20e4-4516-9e2e-5da9559b1609' title='Show/Hide data repr'><svg class='icon xr-icon-database'><use xlink:href='#icon-database'></use></svg></label><div class='xr-var-attrs'><dl class='xr-attrs'></dl></div><div class='xr-var-data'><pre>array([-0.131, -0.36 , -1.57 , ..., -2.382, -6.225, -4.532])</pre></div></li><li class='xr-var-item'><div class='xr-var-name'><span>station_distance_km</span></div><div class='xr-var-dims'>(index)</div><div class='xr-var-dtype'>float64</div><div class='xr-var-preview xr-preview'>0.9349 10.49 23.96 ... 20.07 18.45</div><input id='attrs-49d2fde4-5e06-4e68-8ac7-882421d80274' class='xr-var-attrs-in' type='checkbox' disabled><label for='attrs-49d2fde4-5e06-4e68-8ac7-882421d80274' title='Show/Hide attributes'><svg class='icon xr-icon-file-text2'><use xlink:href='#icon-file-text2'></use></svg></label><input id='data-1cbae022-f436-4fb7-8001-a5a94eb919cb' class='xr-var-data-in' type='checkbox'><label for='data-1cbae022-f436-4fb7-8001-a5a94eb919cb' title='Show/Hide data repr'><svg class='icon xr-icon-database'><use xlink:href='#icon-database'></use></svg></label><div class='xr-var-attrs'><dl class='xr-attrs'></dl></div><div class='xr-var-data'><pre>array([ 0.93489264, 10.48828143, 23.96352757, ..., 10.25381344,\n",
       "       20.07408111, 18.45332424])</pre></div></li><li class='xr-var-item'><div class='xr-var-name'><span>station_tp_mm</span></div><div class='xr-var-dims'>(index)</div><div class='xr-var-dtype'>float64</div><div class='xr-var-preview xr-preview'>0.0 0.0 4.0 0.0 ... 0.0 0.0 0.6 0.0</div><input id='attrs-a4f9566e-272a-4167-986d-821d9c217349' class='xr-var-attrs-in' type='checkbox' disabled><label for='attrs-a4f9566e-272a-4167-986d-821d9c217349' title='Show/Hide attributes'><svg class='icon xr-icon-file-text2'><use xlink:href='#icon-file-text2'></use></svg></label><input id='data-4ef3d99d-0d7d-44b1-9bd3-4297835b30fc' class='xr-var-data-in' type='checkbox'><label for='data-4ef3d99d-0d7d-44b1-9bd3-4297835b30fc' title='Show/Hide data repr'><svg class='icon xr-icon-database'><use xlink:href='#icon-database'></use></svg></label><div class='xr-var-attrs'><dl class='xr-attrs'></dl></div><div class='xr-var-data'><pre>array([0. , 0. , 4. , ..., 0. , 0.6, 0. ])</pre></div></li><li class='xr-var-item'><div class='xr-var-name'><span>tp_h_mm</span></div><div class='xr-var-dims'>(index)</div><div class='xr-var-dtype'>float64</div><div class='xr-var-preview xr-preview'>0.0 0.0 3.413 ... 0.009406 0.007056</div><input id='attrs-2aadd163-5947-474e-9a5a-a024f17c875c' class='xr-var-attrs-in' type='checkbox' disabled><label for='attrs-2aadd163-5947-474e-9a5a-a024f17c875c' title='Show/Hide attributes'><svg class='icon xr-icon-file-text2'><use xlink:href='#icon-file-text2'></use></svg></label><input id='data-ecbbd6f4-b506-4275-84ab-aa3d8f7fccf1' class='xr-var-data-in' type='checkbox'><label for='data-ecbbd6f4-b506-4275-84ab-aa3d8f7fccf1' title='Show/Hide data repr'><svg class='icon xr-icon-database'><use xlink:href='#icon-database'></use></svg></label><div class='xr-var-attrs'><dl class='xr-attrs'></dl></div><div class='xr-var-data'><pre>array([0.        , 0.        , 3.41322459, ..., 0.        , 0.00940636,\n",
       "       0.0070557 ])</pre></div></li><li class='xr-var-item'><div class='xr-var-name'><span>raining_station</span></div><div class='xr-var-dims'>(index)</div><div class='xr-var-dtype'>int64</div><div class='xr-var-preview xr-preview'>0 0 1 0 0 0 0 0 ... 0 0 0 0 0 0 0 0</div><input id='attrs-f2fff636-08c9-4902-bbd7-516da7c055a9' class='xr-var-attrs-in' type='checkbox' disabled><label for='attrs-f2fff636-08c9-4902-bbd7-516da7c055a9' title='Show/Hide attributes'><svg class='icon xr-icon-file-text2'><use xlink:href='#icon-file-text2'></use></svg></label><input id='data-cec7ae61-0b1e-4b62-81f0-74c7f8a8f7e4' class='xr-var-data-in' type='checkbox'><label for='data-cec7ae61-0b1e-4b62-81f0-74c7f8a8f7e4' title='Show/Hide data repr'><svg class='icon xr-icon-database'><use xlink:href='#icon-database'></use></svg></label><div class='xr-var-attrs'><dl class='xr-attrs'></dl></div><div class='xr-var-data'><pre>array([0, 0, 1, ..., 0, 0, 0])</pre></div></li><li class='xr-var-item'><div class='xr-var-name'><span>inconsistent_rain</span></div><div class='xr-var-dims'>(index)</div><div class='xr-var-dtype'>int64</div><div class='xr-var-preview xr-preview'>0 0 0 0 1 0 1 1 ... 1 0 0 1 0 0 1 1</div><input id='attrs-070d8766-cbb3-4f44-90e1-4261682f61ce' class='xr-var-attrs-in' type='checkbox' disabled><label for='attrs-070d8766-cbb3-4f44-90e1-4261682f61ce' title='Show/Hide attributes'><svg class='icon xr-icon-file-text2'><use xlink:href='#icon-file-text2'></use></svg></label><input id='data-d174debd-a018-4be6-8b82-f326de424eec' class='xr-var-data-in' type='checkbox'><label for='data-d174debd-a018-4be6-8b82-f326de424eec' title='Show/Hide data repr'><svg class='icon xr-icon-database'><use xlink:href='#icon-database'></use></svg></label><div class='xr-var-attrs'><dl class='xr-attrs'></dl></div><div class='xr-var-data'><pre>array([0, 0, 0, ..., 0, 1, 1])</pre></div></li><li class='xr-var-item'><div class='xr-var-name'><span>difference_tp</span></div><div class='xr-var-dims'>(index)</div><div class='xr-var-dtype'>float64</div><div class='xr-var-preview xr-preview'>0.0 0.0 ... 9.406e-06 7.056e-06</div><input id='attrs-d69e27bf-cb21-4979-bcd6-5fbafe839bc8' class='xr-var-attrs-in' type='checkbox' disabled><label for='attrs-d69e27bf-cb21-4979-bcd6-5fbafe839bc8' title='Show/Hide attributes'><svg class='icon xr-icon-file-text2'><use xlink:href='#icon-file-text2'></use></svg></label><input id='data-158548c9-bd48-43b6-b9f1-7866465781e1' class='xr-var-data-in' type='checkbox'><label for='data-158548c9-bd48-43b6-b9f1-7866465781e1' title='Show/Hide data repr'><svg class='icon xr-icon-database'><use xlink:href='#icon-database'></use></svg></label><div class='xr-var-attrs'><dl class='xr-attrs'></dl></div><div class='xr-var-data'><pre>array([0.00000000e+00, 0.00000000e+00, 4.79658678e+00, ...,\n",
       "       0.00000000e+00, 9.40635800e-06, 7.05569983e-06])</pre></div></li><li class='xr-var-item'><div class='xr-var-name'><span>prediction</span></div><div class='xr-var-dims'>(index)</div><div class='xr-var-dtype'>int64</div><div class='xr-var-preview xr-preview'>0 1 1 0 1 0 1 1 ... 1 1 0 1 1 0 0 1</div><input id='attrs-85ca532e-2b5f-4001-babd-548029ab58f9' class='xr-var-attrs-in' type='checkbox' disabled><label for='attrs-85ca532e-2b5f-4001-babd-548029ab58f9' title='Show/Hide attributes'><svg class='icon xr-icon-file-text2'><use xlink:href='#icon-file-text2'></use></svg></label><input id='data-7754fce7-b34d-4b02-b669-afd8547a7d65' class='xr-var-data-in' type='checkbox'><label for='data-7754fce7-b34d-4b02-b669-afd8547a7d65' title='Show/Hide data repr'><svg class='icon xr-icon-database'><use xlink:href='#icon-database'></use></svg></label><div class='xr-var-attrs'><dl class='xr-attrs'></dl></div><div class='xr-var-data'><pre>array([0, 1, 1, ..., 0, 0, 1])</pre></div></li><li class='xr-var-item'><div class='xr-var-name'><span>prediction_probability_not_raining</span></div><div class='xr-var-dims'>(index)</div><div class='xr-var-dtype'>float32</div><div class='xr-var-preview xr-preview'>0.713 0.1715 ... 0.5887 0.4235</div><input id='attrs-8a0e7d8d-200f-4354-8983-214c129fe639' class='xr-var-attrs-in' type='checkbox' disabled><label for='attrs-8a0e7d8d-200f-4354-8983-214c129fe639' title='Show/Hide attributes'><svg class='icon xr-icon-file-text2'><use xlink:href='#icon-file-text2'></use></svg></label><input id='data-c78f4f8b-92ef-464a-b67e-5451de21ea79' class='xr-var-data-in' type='checkbox'><label for='data-c78f4f8b-92ef-464a-b67e-5451de21ea79' title='Show/Hide data repr'><svg class='icon xr-icon-database'><use xlink:href='#icon-database'></use></svg></label><div class='xr-var-attrs'><dl class='xr-attrs'></dl></div><div class='xr-var-data'><pre>array([0.7130439 , 0.17146794, 0.03930322, ..., 0.862351  , 0.5886525 ,\n",
       "       0.4234995 ], dtype=float32)</pre></div></li><li class='xr-var-item'><div class='xr-var-name'><span>prediction_probability_raining</span></div><div class='xr-var-dims'>(index)</div><div class='xr-var-dtype'>float32</div><div class='xr-var-preview xr-preview'>0.287 0.8285 ... 0.4113 0.5765</div><input id='attrs-0fbd99bb-94be-4151-8140-fd628887dd30' class='xr-var-attrs-in' type='checkbox' disabled><label for='attrs-0fbd99bb-94be-4151-8140-fd628887dd30' title='Show/Hide attributes'><svg class='icon xr-icon-file-text2'><use xlink:href='#icon-file-text2'></use></svg></label><input id='data-f1ae51ad-6fc5-4f42-8833-cf2437b773cf' class='xr-var-data-in' type='checkbox'><label for='data-f1ae51ad-6fc5-4f42-8833-cf2437b773cf' title='Show/Hide data repr'><svg class='icon xr-icon-database'><use xlink:href='#icon-database'></use></svg></label><div class='xr-var-attrs'><dl class='xr-attrs'></dl></div><div class='xr-var-data'><pre>array([0.28695613, 0.8285321 , 0.96069676, ..., 0.13764906, 0.41134742,\n",
       "       0.5765005 ], dtype=float32)</pre></div></li><li class='xr-var-item'><div class='xr-var-name'><span>x_ngt</span></div><div class='xr-var-dims'>(index)</div><div class='xr-var-dtype'>float64</div><div class='xr-var-preview xr-preview'>5.294e+05 5.225e+05 ... 2.353e+05</div><input id='attrs-f2ecf27a-ff52-4afb-ab1a-1f48265dfae2' class='xr-var-attrs-in' type='checkbox' disabled><label for='attrs-f2ecf27a-ff52-4afb-ab1a-1f48265dfae2' title='Show/Hide attributes'><svg class='icon xr-icon-file-text2'><use xlink:href='#icon-file-text2'></use></svg></label><input id='data-f3711469-a8f0-4502-bee0-6d6392360055' class='xr-var-data-in' type='checkbox'><label for='data-f3711469-a8f0-4502-bee0-6d6392360055' title='Show/Hide data repr'><svg class='icon xr-icon-database'><use xlink:href='#icon-database'></use></svg></label><div class='xr-var-attrs'><dl class='xr-attrs'></dl></div><div class='xr-var-data'><pre>array([529384.62675137, 522477.85107374, 444576.35366463, ...,\n",
       "       384573.63638455, 146439.6261304 , 235301.80377743])</pre></div></li><li class='xr-var-item'><div class='xr-var-name'><span>y_ngt</span></div><div class='xr-var-dims'>(index)</div><div class='xr-var-dtype'>float64</div><div class='xr-var-preview xr-preview'>1.807e+05 2.081e+05 ... 6.545e+05</div><input id='attrs-86629f3c-87a6-4279-8ab0-d2cf079a8541' class='xr-var-attrs-in' type='checkbox' disabled><label for='attrs-86629f3c-87a6-4279-8ab0-d2cf079a8541' title='Show/Hide attributes'><svg class='icon xr-icon-file-text2'><use xlink:href='#icon-file-text2'></use></svg></label><input id='data-4edf7781-4e34-4e5c-af57-61f9ca0c02d3' class='xr-var-data-in' type='checkbox'><label for='data-4edf7781-4e34-4e5c-af57-61f9ca0c02d3' title='Show/Hide data repr'><svg class='icon xr-icon-database'><use xlink:href='#icon-database'></use></svg></label><div class='xr-var-attrs'><dl class='xr-attrs'></dl></div><div class='xr-var-data'><pre>array([180712.09584065, 208126.08407893, 120051.58517803, ...,\n",
       "       381271.10589348, 530282.52661764, 654541.52139293])</pre></div></li><li class='xr-var-item'><div class='xr-var-name'><span>x_ngt_rounded</span></div><div class='xr-var-dims'>(index)</div><div class='xr-var-dtype'>float64</div><div class='xr-var-preview xr-preview'>5.285e+05 5.215e+05 ... 2.345e+05</div><input id='attrs-7fde0b50-04e0-4fdc-af35-a186fff2dc07' class='xr-var-attrs-in' type='checkbox' disabled><label for='attrs-7fde0b50-04e0-4fdc-af35-a186fff2dc07' title='Show/Hide attributes'><svg class='icon xr-icon-file-text2'><use xlink:href='#icon-file-text2'></use></svg></label><input id='data-dea61e50-f2f6-43d9-b0bc-77c1a4925f73' class='xr-var-data-in' type='checkbox'><label for='data-dea61e50-f2f6-43d9-b0bc-77c1a4925f73' title='Show/Hide data repr'><svg class='icon xr-icon-database'><use xlink:href='#icon-database'></use></svg></label><div class='xr-var-attrs'><dl class='xr-attrs'></dl></div><div class='xr-var-data'><pre>array([528500., 521500., 444500., ..., 384500., 145500., 234500.])</pre></div></li><li class='xr-var-item'><div class='xr-var-name'><span>y_ngt_rounded</span></div><div class='xr-var-dims'>(index)</div><div class='xr-var-dtype'>float64</div><div class='xr-var-preview xr-preview'>1.805e+05 2.075e+05 ... 6.545e+05</div><input id='attrs-0394fd8f-020a-477c-89c7-beb8e4c1851f' class='xr-var-attrs-in' type='checkbox' disabled><label for='attrs-0394fd8f-020a-477c-89c7-beb8e4c1851f' title='Show/Hide attributes'><svg class='icon xr-icon-file-text2'><use xlink:href='#icon-file-text2'></use></svg></label><input id='data-25e4d9c6-ac67-45c5-9417-c2a264354669' class='xr-var-data-in' type='checkbox'><label for='data-25e4d9c6-ac67-45c5-9417-c2a264354669' title='Show/Hide data repr'><svg class='icon xr-icon-database'><use xlink:href='#icon-database'></use></svg></label><div class='xr-var-attrs'><dl class='xr-attrs'></dl></div><div class='xr-var-data'><pre>array([180500., 207500., 119500., ..., 380500., 529500., 654500.])</pre></div></li><li class='xr-var-item'><div class='xr-var-name'><span>time_radar</span></div><div class='xr-var-dims'>(index)</div><div class='xr-var-dtype'>datetime64[ns]</div><div class='xr-var-preview xr-preview'>2018-04-18T18:25:00 ... 2017-01-...</div><input id='attrs-6a54f07d-e3fc-4787-b07f-681a15d95412' class='xr-var-attrs-in' type='checkbox' disabled><label for='attrs-6a54f07d-e3fc-4787-b07f-681a15d95412' title='Show/Hide attributes'><svg class='icon xr-icon-file-text2'><use xlink:href='#icon-file-text2'></use></svg></label><input id='data-96ff81ea-9688-4961-89ab-2fe03fae85de' class='xr-var-data-in' type='checkbox'><label for='data-96ff81ea-9688-4961-89ab-2fe03fae85de' title='Show/Hide data repr'><svg class='icon xr-icon-database'><use xlink:href='#icon-database'></use></svg></label><div class='xr-var-attrs'><dl class='xr-attrs'></dl></div><div class='xr-var-data'><pre>array([&#x27;2018-04-18T18:25:00.000000000&#x27;, &#x27;2017-04-23T21:35:00.000000000&#x27;,\n",
       "       &#x27;2018-10-14T09:00:00.000000000&#x27;, ...,\n",
       "       &#x27;2018-05-07T14:45:00.000000000&#x27;, &#x27;2019-12-08T14:45:00.000000000&#x27;,\n",
       "       &#x27;2017-01-12T17:05:00.000000000&#x27;], dtype=&#x27;datetime64[ns]&#x27;)</pre></div></li><li class='xr-var-item'><div class='xr-var-name'><span>tp_mm_radar</span></div><div class='xr-var-dims'>(index)</div><div class='xr-var-dtype'>float64</div><div class='xr-var-preview xr-preview'>0.0 0.0 0.0 0.0 ... 0.0 0.0 0.0 0.0</div><input id='attrs-315d8c4d-7cb7-4a04-8b9b-2b2c84439b57' class='xr-var-attrs-in' type='checkbox' disabled><label for='attrs-315d8c4d-7cb7-4a04-8b9b-2b2c84439b57' title='Show/Hide attributes'><svg class='icon xr-icon-file-text2'><use xlink:href='#icon-file-text2'></use></svg></label><input id='data-0da67404-5d88-410e-bb7c-e66c5c1e4130' class='xr-var-data-in' type='checkbox'><label for='data-0da67404-5d88-410e-bb7c-e66c5c1e4130' title='Show/Hide data repr'><svg class='icon xr-icon-database'><use xlink:href='#icon-database'></use></svg></label><div class='xr-var-attrs'><dl class='xr-attrs'></dl></div><div class='xr-var-data'><pre>array([0., 0., 0., ..., 0., 0., 0.])</pre></div></li><li class='xr-var-item'><div class='xr-var-name'><span>time_radar_int</span></div><div class='xr-var-dims'>(index)</div><div class='xr-var-dtype'>int64</div><div class='xr-var-preview xr-preview'>1524075900000000000 ... 14842407...</div><input id='attrs-6010c443-459e-4e06-958a-dd5bfa37ae0c' class='xr-var-attrs-in' type='checkbox' disabled><label for='attrs-6010c443-459e-4e06-958a-dd5bfa37ae0c' title='Show/Hide attributes'><svg class='icon xr-icon-file-text2'><use xlink:href='#icon-file-text2'></use></svg></label><input id='data-000f9967-a9ef-437e-a727-bda64daf6e7b' class='xr-var-data-in' type='checkbox'><label for='data-000f9967-a9ef-437e-a727-bda64daf6e7b' title='Show/Hide data repr'><svg class='icon xr-icon-database'><use xlink:href='#icon-database'></use></svg></label><div class='xr-var-attrs'><dl class='xr-attrs'></dl></div><div class='xr-var-data'><pre>array([1524075900000000000, 1492983300000000000, 1539507600000000000, ...,\n",
       "       1525704300000000000, 1575816300000000000, 1484240700000000000])</pre></div></li><li class='xr-var-item'><div class='xr-var-name'><span>created_at_rounded_5</span></div><div class='xr-var-dims'>(index)</div><div class='xr-var-dtype'>datetime64[ns]</div><div class='xr-var-preview xr-preview'>2018-04-18T18:25:00 ... 2017-01-...</div><input id='attrs-c7aa8492-802f-4607-99af-e6d38b8445cf' class='xr-var-attrs-in' type='checkbox' disabled><label for='attrs-c7aa8492-802f-4607-99af-e6d38b8445cf' title='Show/Hide attributes'><svg class='icon xr-icon-file-text2'><use xlink:href='#icon-file-text2'></use></svg></label><input id='data-aa1c7103-6647-4e74-a39d-0f2210e891b4' class='xr-var-data-in' type='checkbox'><label for='data-aa1c7103-6647-4e74-a39d-0f2210e891b4' title='Show/Hide data repr'><svg class='icon xr-icon-database'><use xlink:href='#icon-database'></use></svg></label><div class='xr-var-attrs'><dl class='xr-attrs'></dl></div><div class='xr-var-data'><pre>array([&#x27;2018-04-18T18:25:00.000000000&#x27;, &#x27;2017-04-23T21:35:00.000000000&#x27;,\n",
       "       &#x27;2018-10-14T09:00:00.000000000&#x27;, ...,\n",
       "       &#x27;2018-05-07T14:45:00.000000000&#x27;, &#x27;2019-12-08T14:45:00.000000000&#x27;,\n",
       "       &#x27;2017-01-12T17:05:00.000000000&#x27;], dtype=&#x27;datetime64[ns]&#x27;)</pre></div></li></ul></div></li><li class='xr-section-item'><input id='section-153a2ab8-827a-4621-8d3e-b79f0aa017d5' class='xr-section-summary-in' type='checkbox'  ><label for='section-153a2ab8-827a-4621-8d3e-b79f0aa017d5' class='xr-section-summary' >Indexes: <span>(1)</span></label><div class='xr-section-inline-details'></div><div class='xr-section-details'><ul class='xr-var-list'><li class='xr-var-item'><div class='xr-index-name'><div>index</div></div><div class='xr-index-preview'>PandasIndex</div><div></div><input id='index-7c2ee3d3-577b-4c52-9ac6-0c6f2bb2feff' class='xr-index-data-in' type='checkbox'/><label for='index-7c2ee3d3-577b-4c52-9ac6-0c6f2bb2feff' title='Show/Hide index repr'><svg class='icon xr-icon-database'><use xlink:href='#icon-database'></use></svg></label><div class='xr-index-data'><pre>PandasIndex(Index([ 484051,  106155,  676020, 1051421,  693443, 1136837, 1218568,  319764,\n",
       "        992562,   93816,\n",
       "       ...\n",
       "        259471,   88051, 1095919,  717185,  288891,  360194,  328164,  519697,\n",
       "        968959,   10039],\n",
       "      dtype=&#x27;int64&#x27;, name=&#x27;index&#x27;, length=121860))</pre></div></li></ul></div></li><li class='xr-section-item'><input id='section-5504b16a-ed9c-4ae5-b2f5-9ad34f01a9c5' class='xr-section-summary-in' type='checkbox'  checked><label for='section-5504b16a-ed9c-4ae5-b2f5-9ad34f01a9c5' class='xr-section-summary' >Attributes: <span>(1)</span></label><div class='xr-section-inline-details'></div><div class='xr-section-details'><dl class='xr-attrs'><dt><span>description :</span></dt><dd>added locationsadded locationsadded locationsadded locations,computed bounding box area, prepared for combining with tp</dd></dl></div></li></ul></div></div>"
      ],
      "text/plain": [
       "<xarray.Dataset>\n",
       "Dimensions:                             (index: 121860)\n",
       "Coordinates:\n",
       "  * index                               (index) int64 484051 106155 ... 10039\n",
       "Data variables: (12/58)\n",
       "    text                                (index) object 'As the sun goes down,...\n",
       "    conversation_id                     (index) object '986671498382454790' ....\n",
       "    lang                                (index) object 'en' 'en' ... 'en' 'en'\n",
       "    reply_settings                      (index) object 'everyone' ... 'everyone'\n",
       "    source                              (index) object 'Instagram' ... 'Twitt...\n",
       "    author_id                           (index) object '20773923' ... '210208...\n",
       "    ...                                  ...\n",
       "    x_ngt_rounded                       (index) float64 5.285e+05 ... 2.345e+05\n",
       "    y_ngt_rounded                       (index) float64 1.805e+05 ... 6.545e+05\n",
       "    time_radar                          (index) datetime64[ns] 2018-04-18T18:...\n",
       "    tp_mm_radar                         (index) float64 0.0 0.0 0.0 ... 0.0 0.0\n",
       "    time_radar_int                      (index) int64 1524075900000000000 ......\n",
       "    created_at_rounded_5                (index) datetime64[ns] 2018-04-18T18:...\n",
       "Attributes:\n",
       "    description:  added locationsadded locationsadded locationsadded location..."
      ]
     },
     "execution_count": 16,
     "metadata": {},
     "output_type": "execute_result"
    }
   ],
   "source": [
    "ds"
   ]
  },
  {
   "cell_type": "markdown",
   "id": "f57e253d-7b4f-4369-81d3-7f5f3fdf557b",
   "metadata": {
    "tags": []
   },
   "source": [
    "## Exercise 1: Normalization (should already be done at this point)\n",
    "Depending on the state of the data we need to normalize it. It may also make sense to test different possibilities of normalizing the data. Our data is likely already normalized at this point. So, we skip it for now."
   ]
  },
  {
   "cell_type": "code",
   "execution_count": 10,
   "id": "044a33c2-3e28-4fd6-be89-809954bdce16",
   "metadata": {
    "tags": []
   },
   "outputs": [],
   "source": [
    "# ds_norm = normalize_text_bootcamp.normalize_filter_dataset(\n",
    "#     ds,\n",
    "#     keywords=None,\n",
    "#     reset_index=True,\n",
    "#     key_text_original=\"text_original\",\n",
    "#     key_text_normalized=\"text_normalized\",\n",
    "#     key_text_backup=None,\n",
    "#     ignore_non_ascii=True,\n",
    "#     replace_keyword_emojis=True,\n",
    "#     remove_punctuations=\"keep_basic_punctuations\",\n",
    "#     reduce_punctuations=True,\n",
    "#     use_lower_case=True,\n",
    "#     do_split_punctutation_text=False,\n",
    "#     remove_sun_confusing_terms=True,\n",
    "#     only_text_containing_keywords=True,\n",
    "#     maximum_bounding_box_area=100,\n",
    "# )"
   ]
  },
  {
   "cell_type": "markdown",
   "id": "6cfdf7c4-d2b0-446d-aebb-cbfe338fa01a",
   "metadata": {},
   "source": [
    "## Exercise 2: Preparation for training (probably not required)\n",
    "Prepare data for training\n",
    "Before we actually train our model, we need to\n",
    "\n",
    "* define our labels\n",
    "* encode our labels\n",
    "* encode our Tweets into \"numbers\" (vectors)\n",
    "* split our data into a training and test set\n",
    "* define the model"
   ]
  },
  {
   "cell_type": "markdown",
   "id": "e9e15ae2-35a5-4a4c-844f-f01efc3f6190",
   "metadata": {},
   "source": [
    "### Define labels\n",
    "We first define our labels, based on our total precipitation values. By default, we use a threshold of roughly machine precision of the underlying weather forecasting model. However, higher thresholds should be tested in the future to check what Twitter users consider to be \"rain\"."
   ]
  },
  {
   "cell_type": "code",
   "execution_count": 17,
   "id": "71e8b45d-8819-4d21-a16c-aa316ce90070",
   "metadata": {
    "tags": []
   },
   "outputs": [],
   "source": [
    "ds[\"raining\"] = ([\"index\"], ds[key_tp].values > 1e-8)"
   ]
  },
  {
   "cell_type": "markdown",
   "id": "da2362da-771e-4e59-8f5f-d1934c1ccf3a",
   "metadata": {
    "tags": []
   },
   "source": [
    "### Define our input and output variables as an array\n",
    "Following the tradition, we define our input variables to the model (normalized text of the Tweets) as `X` and our labels as `Y`."
   ]
  },
  {
   "cell_type": "code",
   "execution_count": 7,
   "id": "2dbfe5f1-051b-4ae2-a2ae-4d255599bff0",
   "metadata": {
    "tags": []
   },
   "outputs": [],
   "source": [
    "X = ds.text_normalized.values\n",
    "Y = ds.raining.values"
   ]
  },
  {
   "cell_type": "markdown",
   "id": "cff17a26-79bc-4434-b6f6-3b3cd1ad8f58",
   "metadata": {},
   "source": [
    "### Split training and test set\n",
    "We use `sklearn.model_selection.train_test_split` to split the model.\n",
    "\n",
    "### Task:\n",
    "* We would like to use 80% of the Tweets for training and 20% for testing.\n",
    "* Make sure that both labels are represented in the proportions both in the test and training set. The argument `stratify` of the function `sklearn.model_selection.train_test_split` may help. Check the [docs](https://scikit-learn.org/stable/modules/generated/sklearn.model_selection.train_test_split.html) for details."
   ]
  },
  {
   "cell_type": "code",
   "execution_count": 8,
   "id": "13f55a55-d68b-40ce-b201-df00fb2d6bf2",
   "metadata": {
    "tags": []
   },
   "outputs": [],
   "source": [
    "X_train, X_test, Y_train, Y_test = sklearn.model_selection.train_test_split(\n",
    "    X,\n",
    "    Y,\n",
    "    test_size=0.15,\n",
    "    # \"stratify= ...\",\n",
    ")"
   ]
  },
  {
   "cell_type": "markdown",
   "id": "3dd909ee-5957-41de-93f2-95c012fb5cbd",
   "metadata": {},
   "source": [
    "### Encode our labels \n",
    "This step is required if our label's are in text format (e.g., \"cat\", \"dog\"). This is not the case here, but it's included for completion. The format of encoded labels depends on the model, so you should check them as well."
   ]
  },
  {
   "cell_type": "code",
   "execution_count": 9,
   "id": "570fb224-df09-4a1d-a049-f7d1f9c9523e",
   "metadata": {
    "tags": []
   },
   "outputs": [],
   "source": [
    "le = sklearn.preprocessing.LabelEncoder()\n",
    "Y = le.fit_transform(Y)\n",
    "Y = Y.reshape(-1, 1)"
   ]
  },
  {
   "cell_type": "code",
   "execution_count": 10,
   "id": "ced5322d-d6ae-4592-bae8-d0631101cceb",
   "metadata": {
    "tags": []
   },
   "outputs": [
    {
     "data": {
      "text/plain": [
       "array(['still got my lightning ar that is it tho',\n",
       "       'Another lap around the sun. Good work people.',\n",
       "       'Happy sun with face sun with face sun with face', ...,\n",
       "       'It is the reverse of being draped over a sun lounger',\n",
       "       'A very picturesque light dusting of snow plus is creating a thrilling atmosphere. I am in bed, cozy under my duvet with dogs on top of the duvet.',\n",
       "       'This is the most surreal NYE that I have ever known. Not a car track in the snow at nearly'],\n",
       "      dtype=object)"
      ]
     },
     "execution_count": 10,
     "metadata": {},
     "output_type": "execute_result"
    }
   ],
   "source": [
    "X"
   ]
  },
  {
   "cell_type": "code",
   "execution_count": 11,
   "id": "9bbe97da-67c2-4b15-a643-63ed6b51ddd8",
   "metadata": {
    "tags": []
   },
   "outputs": [
    {
     "data": {
      "text/plain": [
       "array([[1],\n",
       "       [1],\n",
       "       [1],\n",
       "       ...,\n",
       "       [1],\n",
       "       [1],\n",
       "       [1]])"
      ]
     },
     "execution_count": 11,
     "metadata": {},
     "output_type": "execute_result"
    }
   ],
   "source": [
    "Y"
   ]
  },
  {
   "cell_type": "markdown",
   "id": "bf323d92-de66-41d0-aa59-04ed6e924487",
   "metadata": {},
   "source": [
    "### **Tokenization of the data**\n",
    "Texts have to be broken down into smaller chunks so called \"tokens\", which are then encoded as vectors in the next. Many implementations of tokenization exist. Here, we will use the default `keras` implementation. For a sentence like \"Today will be a sunny day!\", you can imagine just ascribing every individual word a token. However, for a sentence like \"I wouldn't enjoy a sunny day by programming in C++\". Here, tokenizing \"wouldn't\" is not as straightforward. You probably would like to retain the \"would\" and the \"not\" part, so maybe just replacing this word by the long form of the word would be an option. In addition, \"C++\" is by itself a weird combination of a letter and mathematical symbols that you would probably filter out when looking at text. However, the word itself is of course referring to a programming language, which means it should probably be used as a single token. In the next notebook, we will encounter a more complex tokenizer, which is called [sentence-piece](https://jacky2wong.medium.com/understanding-sentencepiece-under-standing-sentence-piece-ac8da59f6b08)."
   ]
  },
  {
   "cell_type": "code",
   "execution_count": 12,
   "id": "5f79030c-1268-46a4-b5c6-879770fcb175",
   "metadata": {
    "tags": []
   },
   "outputs": [],
   "source": [
    "max_words = 1000\n",
    "tokenizer = keras.preprocessing.text.Tokenizer(num_words=max_words)"
   ]
  },
  {
   "cell_type": "markdown",
   "id": "78e8f52a-e7b2-4ab7-b980-67e9ce61efcd",
   "metadata": {},
   "source": [
    "### **Encoding of the tokens**\n",
    "We now use\n",
    "* the method `fit_on_texts` to connect each token to a unique integer, which will be used for encoding\n",
    "* the method `texts_to_sequences` to encode every Tweet by tokenizing the Tweet and ascribing its unique integer (from the previous step) to the token\n",
    "* the method `pad_sequences` to \"pad\" our encoded Tweets such that they all have the same length (`max_len`), which is required by the model architecture."
   ]
  },
  {
   "cell_type": "code",
   "execution_count": 13,
   "id": "d7d94340-e5f3-4456-a1d7-59e1f0259a16",
   "metadata": {
    "tags": []
   },
   "outputs": [],
   "source": [
    "max_len = 100\n",
    "tokenizer.fit_on_texts(X_train)\n",
    "sequences = tokenizer.texts_to_sequences(X_train)\n",
    "sequences_matrix = pad_sequences(sequences, maxlen=max_len)"
   ]
  },
  {
   "cell_type": "markdown",
   "id": "13f15c11-cf80-4b0b-a578-dda9650e8306",
   "metadata": {
    "tags": []
   },
   "source": [
    "## Model definition\n",
    "The model is defined via different layers taken from Keras. [Keras](https://keras.io/getting_started/intro_to_keras_for_researchers/) is a high level API based on TensorFLow. It contains the following layers:\n",
    "\n",
    "* Input layer: accepts our encoded Tweets where each Tweet has the length `max_len`\n",
    "* Embedding layer: trained representation of our encoded Tweets. Currently, our Tweets are encoded as integer values, however neural networks operate with float values usually in the range around -1 to 1, so we would like to present each token as a vector with values in this range. An embedding layer is used for this. We set `output_dim=50`, which means that every token will be represented by a vector of length 50. In addition, its weights (so the representation of individual tokens) are trained when training the model. See [small intro](https://medium.com/analytics-vidhya/understanding-embedding-layer-in-keras-bbe3ff1327ce) or [on stack overflow](https://stats.stackexchange.com/questions/270546/how-does-keras-embedding-layer-work/305032#305032).\n",
    "* LSTM layer: The so called Long short-term memory is used in many reccurent neural networks. See links in the introduction to this notebook.\n",
    "* Dense layer: Most basic layer of NN, see [intro here](http://www2.cs.uregina.ca/~dbd/cs831/notes/neural-networks/neural-networks/) for more details.\n",
    "* Activation function: The rectified linear activation function or ReLU for short is a piecewise linear function that will output the input directly if it is positive, otherwise, it will output zero.\n",
    "* Dropout layer: The Dropout layer randomly removes neurons from the network with a frequency of rate at each step during training time, which helps prevent overfitting.\n",
    "* Dense layer: See above\n",
    "* Activation function: sigmoid function, which converts previous outputs to probabilities (add up to 1)"
   ]
  },
  {
   "cell_type": "code",
   "execution_count": 15,
   "id": "a5f6e620-e19c-488f-9578-aa7f17b41e93",
   "metadata": {
    "tags": []
   },
   "outputs": [],
   "source": [
    "def RNN():\n",
    "    inputs = Input(name=\"inputs\", shape=[max_len])\n",
    "    layer = Embedding(max_words, output_dim=50, input_length=max_len)(inputs)\n",
    "    layer = LSTM(64)(layer)\n",
    "    layer = Dense(256, name=\"FC1\")(layer)\n",
    "    layer = Activation(\"relu\")(layer)\n",
    "    layer = Dropout(0.5)(layer)\n",
    "    layer = Dense(1, name=\"out_layer\")(layer)\n",
    "    layer = Activation(\"sigmoid\")(layer)\n",
    "    model = Model(inputs=inputs, outputs=layer)\n",
    "    return model"
   ]
  },
  {
   "cell_type": "code",
   "execution_count": 16,
   "id": "fa9fc1b2-b9b9-4ede-a983-db37372b115d",
   "metadata": {
    "tags": []
   },
   "outputs": [
    {
     "name": "stderr",
     "output_type": "stream",
     "text": [
      "2023-11-01 12:06:43.838387: I tensorflow/core/common_runtime/gpu/gpu_device.cc:1639] Created device /job:localhost/replica:0/task:0/device:GPU:0 with 38553 MB memory:  -> device: 0, name: NVIDIA A100-SXM4-40GB, pci bus id: 0000:03:00.0, compute capability: 8.0\n",
      "2023-11-01 12:06:43.839118: I tensorflow/core/common_runtime/gpu/gpu_device.cc:1639] Created device /job:localhost/replica:0/task:0/device:GPU:1 with 38553 MB memory:  -> device: 1, name: NVIDIA A100-SXM4-40GB, pci bus id: 0000:44:00.0, compute capability: 8.0\n",
      "2023-11-01 12:06:43.839677: I tensorflow/core/common_runtime/gpu/gpu_device.cc:1639] Created device /job:localhost/replica:0/task:0/device:GPU:2 with 38553 MB memory:  -> device: 2, name: NVIDIA A100-SXM4-40GB, pci bus id: 0000:84:00.0, compute capability: 8.0\n",
      "2023-11-01 12:06:43.840177: I tensorflow/core/common_runtime/gpu/gpu_device.cc:1639] Created device /job:localhost/replica:0/task:0/device:GPU:3 with 38553 MB memory:  -> device: 3, name: NVIDIA A100-SXM4-40GB, pci bus id: 0000:c4:00.0, compute capability: 8.0\n"
     ]
    },
    {
     "name": "stdout",
     "output_type": "stream",
     "text": [
      "Model: \"model\"\n",
      "_________________________________________________________________\n",
      " Layer (type)                Output Shape              Param #   \n",
      "=================================================================\n",
      " inputs (InputLayer)         [(None, 100)]             0         \n",
      "                                                                 \n",
      " embedding (Embedding)       (None, 100, 50)           50000     \n",
      "                                                                 \n",
      " lstm (LSTM)                 (None, 64)                29440     \n",
      "                                                                 \n",
      " FC1 (Dense)                 (None, 256)               16640     \n",
      "                                                                 \n",
      " activation (Activation)     (None, 256)               0         \n",
      "                                                                 \n",
      " dropout (Dropout)           (None, 256)               0         \n",
      "                                                                 \n",
      " out_layer (Dense)           (None, 1)                 257       \n",
      "                                                                 \n",
      " activation_1 (Activation)   (None, 1)                 0         \n",
      "                                                                 \n",
      "=================================================================\n",
      "Total params: 96337 (376.32 KB)\n",
      "Trainable params: 96337 (376.32 KB)\n",
      "Non-trainable params: 0 (0.00 Byte)\n",
      "_________________________________________________________________\n"
     ]
    }
   ],
   "source": [
    "model = RNN()\n",
    "model.summary()\n",
    "model.compile(loss=\"binary_crossentropy\", optimizer=RMSprop(), metrics=[\"accuracy\"])"
   ]
  },
  {
   "cell_type": "markdown",
   "id": "4e331297-f037-472b-a882-6d983bad3bc1",
   "metadata": {},
   "source": [
    "## Exercise 3: Model training\n",
    "We train our model with a batch size of 128 (amount of data passed simultaneously through the network)."
   ]
  },
  {
   "cell_type": "code",
   "execution_count": 17,
   "id": "41f92192-aad1-42f3-b406-0ffc9daa1d4f",
   "metadata": {
    "tags": []
   },
   "outputs": [
    {
     "name": "stdout",
     "output_type": "stream",
     "text": [
      "Epoch 1/10\n"
     ]
    },
    {
     "name": "stderr",
     "output_type": "stream",
     "text": [
      "2023-11-01 12:06:53.278990: I tensorflow/compiler/xla/stream_executor/cuda/cuda_dnn.cc:432] Loaded cuDNN version 8900\n",
      "2023-11-01 12:06:53.796046: I tensorflow/compiler/xla/stream_executor/cuda/cuda_blas.cc:606] TensorFloat-32 will be used for the matrix multiplication. This will only be logged once.\n",
      "2023-11-01 12:06:54.630946: I tensorflow/compiler/xla/service/service.cc:168] XLA service 0x148e6ce545b0 initialized for platform CUDA (this does not guarantee that XLA will be used). Devices:\n",
      "2023-11-01 12:06:54.630982: I tensorflow/compiler/xla/service/service.cc:176]   StreamExecutor device (0): NVIDIA A100-SXM4-40GB, Compute Capability 8.0\n",
      "2023-11-01 12:06:54.630988: I tensorflow/compiler/xla/service/service.cc:176]   StreamExecutor device (1): NVIDIA A100-SXM4-40GB, Compute Capability 8.0\n",
      "2023-11-01 12:06:54.630993: I tensorflow/compiler/xla/service/service.cc:176]   StreamExecutor device (2): NVIDIA A100-SXM4-40GB, Compute Capability 8.0\n",
      "2023-11-01 12:06:54.630998: I tensorflow/compiler/xla/service/service.cc:176]   StreamExecutor device (3): NVIDIA A100-SXM4-40GB, Compute Capability 8.0\n",
      "2023-11-01 12:06:54.669633: I tensorflow/compiler/mlir/tensorflow/utils/dump_mlir_util.cc:255] disabling MLIR crash reproducer, set env var `MLIR_CRASH_REPRODUCER_DIRECTORY` to enable.\n",
      "2023-11-01 12:06:55.198406: I ./tensorflow/compiler/jit/device_compiler.h:186] Compiled cluster using XLA!  This line is logged at most once for the lifetime of the process.\n"
     ]
    },
    {
     "name": "stdout",
     "output_type": "stream",
     "text": [
      "8093/8093 [==============================] - 57s 6ms/step - loss: 0.6038 - accuracy: 0.6737\n",
      "Epoch 2/10\n",
      "8093/8093 [==============================] - 38s 5ms/step - loss: 0.5960 - accuracy: 0.6794\n",
      "Epoch 3/10\n",
      "8093/8093 [==============================] - 39s 5ms/step - loss: 0.5935 - accuracy: 0.6812\n",
      "Epoch 4/10\n",
      "8093/8093 [==============================] - 38s 5ms/step - loss: 0.5920 - accuracy: 0.6819\n",
      "Epoch 5/10\n",
      "8093/8093 [==============================] - 38s 5ms/step - loss: 0.5908 - accuracy: 0.6826\n",
      "Epoch 6/10\n",
      "8093/8093 [==============================] - 38s 5ms/step - loss: 0.5898 - accuracy: 0.6835\n",
      "Epoch 7/10\n",
      "8093/8093 [==============================] - 39s 5ms/step - loss: 0.5892 - accuracy: 0.6841\n",
      "Epoch 8/10\n",
      "8093/8093 [==============================] - 39s 5ms/step - loss: 0.5884 - accuracy: 0.6847\n",
      "Epoch 9/10\n",
      "8093/8093 [==============================] - 38s 5ms/step - loss: 0.5878 - accuracy: 0.6851\n",
      "Epoch 10/10\n",
      "8093/8093 [==============================] - 38s 5ms/step - loss: 0.5871 - accuracy: 0.6856\n"
     ]
    },
    {
     "data": {
      "text/plain": [
       "<keras.src.callbacks.History at 0x149290113340>"
      ]
     },
     "execution_count": 17,
     "metadata": {},
     "output_type": "execute_result"
    }
   ],
   "source": [
    "model.fit(\n",
    "    sequences_matrix,\n",
    "    Y_train,\n",
    "    batch_size=128,\n",
    "    epochs=10,\n",
    ")"
   ]
  },
  {
   "cell_type": "markdown",
   "id": "26a61bde-9973-41c5-a9e7-55be036be9b4",
   "metadata": {},
   "source": [
    "## Exercise 4: Testing the model"
   ]
  },
  {
   "cell_type": "code",
   "execution_count": 18,
   "id": "0b5892a5-979a-4413-99ea-09ab8cd44f7f",
   "metadata": {
    "tags": []
   },
   "outputs": [],
   "source": [
    "# build test dataset\n",
    "sequences_test = tokenizer.texts_to_sequences(X_test)\n",
    "sequences_matrix_test = pad_sequences(sequences_test, maxlen=max_len)"
   ]
  },
  {
   "cell_type": "code",
   "execution_count": 19,
   "id": "a11ab2f0-8c7f-4f90-bf36-3ce5cc7fbf00",
   "metadata": {
    "tags": []
   },
   "outputs": [
    {
     "name": "stdout",
     "output_type": "stream",
     "text": [
      "5713/5713 [==============================] - 13s 2ms/step - loss: 0.5912 - accuracy: 0.6800\n"
     ]
    },
    {
     "data": {
      "text/plain": [
       "[0.5912224650382996, 0.6799531579017639]"
      ]
     },
     "execution_count": 19,
     "metadata": {},
     "output_type": "execute_result"
    }
   ],
   "source": [
    "model.evaluate(sequences_matrix_test, Y_test)"
   ]
  },
  {
   "cell_type": "markdown",
   "id": "3ce1e3c6-529b-420b-ada1-275a9790340f",
   "metadata": {},
   "source": [
    "## Further analysis\n",
    "Let's now take a closer look at our results by looking at the so-called [f1-score](https://deepai.org/machine-learning-glossary-and-terms/f-score) and the AUC derived from the [ROC curve](https://developers.google.com/machine-learning/crash-course/classification/roc-and-auc)."
   ]
  },
  {
   "cell_type": "code",
   "execution_count": 20,
   "id": "a23c0500-2b0a-4331-a728-d22aef8d1ddc",
   "metadata": {
    "tags": []
   },
   "outputs": [
    {
     "name": "stdout",
     "output_type": "stream",
     "text": [
      "5713/5713 [==============================] - 10s 2ms/step\n"
     ]
    }
   ],
   "source": [
    "Y_predict = model.predict(sequences_matrix_test)"
   ]
  },
  {
   "cell_type": "code",
   "execution_count": 21,
   "id": "d2695737-8eb0-452c-873b-b3a55692fa84",
   "metadata": {
    "tags": []
   },
   "outputs": [
    {
     "data": {
      "text/plain": [
       "array([[0.40521544],\n",
       "       [0.556737  ],\n",
       "       [0.67329127],\n",
       "       ...,\n",
       "       [0.41657352],\n",
       "       [0.45783776],\n",
       "       [0.78196996]], dtype=float32)"
      ]
     },
     "execution_count": 21,
     "metadata": {},
     "output_type": "execute_result"
    }
   ],
   "source": [
    "Y_predict"
   ]
  },
  {
   "cell_type": "code",
   "execution_count": 22,
   "id": "26730a43-4b67-4c56-b26c-f68d2eda859d",
   "metadata": {
    "tags": []
   },
   "outputs": [
    {
     "name": "stderr",
     "output_type": "stream",
     "text": [
      "/usr/local/lib/python3.8/dist-packages/sklearn/metrics/_classification.py:1471: UndefinedMetricWarning: Recall and F-score are ill-defined and being set to 0.0 in labels with no true samples. Use `zero_division` parameter to control this behavior.\n",
      "  _warn_prf(average, modifier, msg_start, len(result))\n",
      "/usr/local/lib/python3.8/dist-packages/sklearn/metrics/_classification.py:1471: UndefinedMetricWarning: Recall and F-score are ill-defined and being set to 0.0 in labels with no true samples. Use `zero_division` parameter to control this behavior.\n",
      "  _warn_prf(average, modifier, msg_start, len(result))\n",
      "/usr/local/lib/python3.8/dist-packages/sklearn/metrics/_classification.py:1471: UndefinedMetricWarning: Recall and F-score are ill-defined and being set to 0.0 in labels with no true samples. Use `zero_division` parameter to control this behavior.\n",
      "  _warn_prf(average, modifier, msg_start, len(result))\n"
     ]
    },
    {
     "data": {
      "text/plain": [
       "'              precision    recall  f1-score   support\\n\\n not raining       1.00      0.44      0.61    182792\\n     raining       0.00      0.00      0.00         0\\n\\n    accuracy                           0.44    182792\\n   macro avg       0.50      0.22      0.30    182792\\nweighted avg       1.00      0.44      0.61    182792\\n'"
      ]
     },
     "execution_count": 22,
     "metadata": {},
     "output_type": "execute_result"
    },
    {
     "data": {
      "image/png": "[encoded data removed]",
      "text/plain": [
       "<Figure size 640x480 with 2 Axes>"
      ]
     },
     "metadata": {},
     "output_type": "display_data"
    }
   ],
   "source": [
    "plotting.analysis.check_prediction(Y_predict.argmax(-1), Y_test)"
   ]
  },
  {
   "cell_type": "code",
   "execution_count": 23,
   "id": "2c65313f-6715-4e52-8d1b-d7dca4c05820",
   "metadata": {
    "tags": []
   },
   "outputs": [
    {
     "name": "stderr",
     "output_type": "stream",
     "text": [
      "/usr/local/lib/python3.8/dist-packages/sklearn/metrics/_classification.py:1471: UndefinedMetricWarning: Recall and F-score are ill-defined and being set to 0.0 in labels with no true samples. Use `zero_division` parameter to control this behavior.\n",
      "  _warn_prf(average, modifier, msg_start, len(result))\n",
      "/usr/local/lib/python3.8/dist-packages/sklearn/metrics/_classification.py:1471: UndefinedMetricWarning: Recall and F-score are ill-defined and being set to 0.0 in labels with no true samples. Use `zero_division` parameter to control this behavior.\n",
      "  _warn_prf(average, modifier, msg_start, len(result))\n",
      "/usr/local/lib/python3.8/dist-packages/sklearn/metrics/_classification.py:1471: UndefinedMetricWarning: Recall and F-score are ill-defined and being set to 0.0 in labels with no true samples. Use `zero_division` parameter to control this behavior.\n",
      "  _warn_prf(average, modifier, msg_start, len(result))\n"
     ]
    },
    {
     "data": {
      "text/plain": [
       "{'not raining': {'precision': 1.0,\n",
       "  'recall': 0.4376723270164996,\n",
       "  'f1-score': 0.6088624212789436,\n",
       "  'support': 182792.0},\n",
       " 'raining': {'precision': 0.0, 'recall': 0.0, 'f1-score': 0.0, 'support': 0.0},\n",
       " 'accuracy': 0.4376723270164996,\n",
       " 'macro avg': {'precision': 0.5,\n",
       "  'recall': 0.2188361635082498,\n",
       "  'f1-score': 0.3044312106394718,\n",
       "  'support': 182792.0},\n",
       " 'weighted avg': {'precision': 1.0,\n",
       "  'recall': 0.4376723270164996,\n",
       "  'f1-score': 0.6088624212789436,\n",
       "  'support': 182792.0}}"
      ]
     },
     "execution_count": 23,
     "metadata": {},
     "output_type": "execute_result"
    }
   ],
   "source": [
    "plotting.analysis.classification_report(Y_predict.argmax(-1), Y_test)"
   ]
  },
  {
   "cell_type": "code",
   "execution_count": 24,
   "id": "c8ab9274-a87c-47cc-85ce-5f87aa5f93eb",
   "metadata": {
    "tags": []
   },
   "outputs": [
    {
     "data": {
      "image/png": "[encoded data removed]",
      "text/plain": [
       "<Figure size 640x480 with 1 Axes>"
      ]
     },
     "metadata": {},
     "output_type": "display_data"
    }
   ],
   "source": [
    "plotting.analysis.plot_roc(Y_test, Y_predict)"
   ]
  },
  {
   "cell_type": "markdown",
   "id": "2893dc02-3293-4b5c-9836-653501aa256a",
   "metadata": {},
   "source": [
    "### Task:\n",
    "* How come our accuracy on the test set is lower than the accuracy during training?\n",
    "* Overcome this issue by introducing an early stopping mechanisms that stops when our validation accuracy stops improving at the 0.01% level. Use a `callbacks=EarlyStopping(monitor=\"val_loss\", min_delta= ??? )` and `validation_split=0.2` for this.\n",
    "* Why is the precision of \"raining\" zero? Did the model learn something? What do you think is a good measurement of the \"quality\" of our model?\n",
    "* Vary the dropout rate? What happens?\n",
    "* Add more layers to the network. If you do not where to start take a look at alternative LSTMs like [here](https://www.analyticsvidhya.com/blog/2021/06/lstm-for-text-classification/). Can you manage to improve the results?"
   ]
  },
  {
   "cell_type": "code",
   "execution_count": null,
   "id": "90d57913-9b86-4330-aa35-fdfb8667a56d",
   "metadata": {},
   "outputs": [],
   "source": []
  }
 ],
 "metadata": {
  "kernelspec": {
   "display_name": "bootcamp2022",
   "language": "python",
   "name": "bootcamp2022"
  },
  "language_info": {
   "codemirror_mode": {
    "name": "ipython",
    "version": 3
   },
   "file_extension": ".py",
   "mimetype": "text/x-python",
   "name": "python",
   "nbconvert_exporter": "python",
   "pygments_lexer": "ipython3",
   "version": "3.8.10"
  }
 },
 "nbformat": 4,
 "nbformat_minor": 5
}
