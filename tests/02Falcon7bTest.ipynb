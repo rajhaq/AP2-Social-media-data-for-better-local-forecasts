{
 "cells": [
  {
   "cell_type": "markdown",
   "id": "513a204f",
   "metadata": {},
   "source": [
    "# Falcon 7B Model Test Notebook\n",
    "\n",
    "## Objective\n",
    "\n",
    "The objective of this notebook is to assess the compatibility of the [Falcon 7B](https://huggingface.co/tiiuae/falcon-7b) language model with our specific dataset. The primary motivation is to evaluate whether [Falcon 7B](https://huggingface.co/tiiuae/falcon-7b) can efficiently replace [Falcon 40B](https://huggingface.co/tiiuae/falcon-40b) for our tasks. The goal is to generate datasets quickly and run our scripts seamlessl##y.\n",
    "\n",
    "## Results\n",
    "Unfortunately, Falcon 7B did not perform as expected for our dataset. Unable to provide output as required ."
   ]
  },
  {
   "cell_type": "code",
   "execution_count": null,
   "id": "fc717478-af58-4389-ba42-27689ec2f88f",
   "metadata": {},
   "outputs": [],
   "source": [
    "from transformers import AutoTokenizer, AutoModelForCausalLM\n",
    "import transformers\n",
    "import torch\n",
    "\n",
    "model = \"tiiuae/falcon-7b\"\n",
    "\n",
    "tokenizer = AutoTokenizer.from_pretrained(model)\n",
    "pipeline = transformers.pipeline(\n",
    "    \"text-generation\",\n",
    "    model=model,\n",
    "    tokenizer=tokenizer,\n",
    "    torch_dtype=torch.bfloat16,\n",
    "    trust_remote_code=True,\n",
    "    device_map=\"auto\",\n",
    ")"
   ]
  },
  {
   "cell_type": "code",
   "execution_count": null,
   "id": "54a38498-b3a4-4176-9629-165c94bea130",
   "metadata": {
    "tags": []
   },
   "outputs": [],
   "source": [
    "prompt = r\"\"\"\n",
    "Read below Tweets and tell me if they say that it is raining or sunny.\n",
    "Format your answer in a human readable way,\n",
    "\n",
    "Tweets:\n",
    "Tweet 1: \"The sound of rain tapping on the window\" \n",
    "Tweet 2: \"Boris likes drinking water\". \n",
    "\"\"\"\n",
    "\n",
    "example_output = \"\"\"\n",
    "Return the results in a json file like: [ \n",
    "{ \"tweet\": 1, \"content\": \"The sound of rain tapping on the window\", \"explanation\": \"The sound of rain heard implies that is raining.\", \"score\": 0.9 },  \n",
    "...\n",
    "] \n",
    "\"\"\""
   ]
  },
  {
   "cell_type": "code",
   "execution_count": null,
   "id": "a9daa9af-c8f8-4acc-ad95-5ad0a52ad49c",
   "metadata": {
    "tags": []
   },
   "outputs": [],
   "source": [
    "sequences = pipeline(\n",
    "    prompt + example_output,\n",
    "    max_length=500,\n",
    "    do_sample=True,\n",
    "    top_k=10,\n",
    "    num_return_sequences=1,\n",
    "    eos_token_id=tokenizer.eos_token_id,\n",
    ")\n",
    "for seq in sequences:\n",
    "    print(f\"Result: {seq['generated_text']}\")"
   ]
  },
  {
   "cell_type": "code",
   "execution_count": null,
   "id": "71d184fe-83dc-48e4-8623-1c28d4ed9785",
   "metadata": {
    "tags": []
   },
   "outputs": [],
   "source": [
    "prompt = r\"\"\"\n",
    "Does the following sentence provide information on presence of rain? Explain your reasoning as yes or no.\n",
    "\n",
    "Sentence: It is raining in London.\n",
    "\"\"\""
   ]
  },
  {
   "cell_type": "code",
   "execution_count": null,
   "id": "1f8c9fd7-b8cb-45a9-87f1-0a5b77b3950a",
   "metadata": {
    "tags": []
   },
   "outputs": [],
   "source": [
    "sequences = pipeline(\n",
    "    prompt,\n",
    "    max_length=200,\n",
    "    do_sample=True,\n",
    "    top_k=10,\n",
    "    num_return_sequences=1,\n",
    "    eos_token_id=tokenizer.eos_token_id,\n",
    ")\n",
    "for seq in sequences:\n",
    "    print(f\"Result: {seq['generated_text']}\")"
   ]
  }
 ],
 "metadata": {
  "kernelspec": {
   "display_name": "ap2falcon",
   "language": "python",
   "name": "ap2falcon"
  },
  "language_info": {
   "codemirror_mode": {
    "name": "ipython",
    "version": 3
   },
   "file_extension": ".py",
   "mimetype": "text/x-python",
   "name": "python",
   "nbconvert_exporter": "python",
   "pygments_lexer": "ipython3",
   "version": "3.10.12"
  }
 },
 "nbformat": 4,
 "nbformat_minor": 5
}
